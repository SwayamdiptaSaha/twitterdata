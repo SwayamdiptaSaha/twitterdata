{
  "nbformat": 4,
  "nbformat_minor": 0,
  "metadata": {
    "colab": {
      "name": "TwitterDemonetization.ipynb",
      "provenance": [],
      "collapsed_sections": [],
      "authorship_tag": "ABX9TyNNxH5ncb6cY8/uE17jYxoM",
      "include_colab_link": true
    },
    "kernelspec": {
      "name": "python3",
      "display_name": "Python 3"
    }
  },
  "cells": [
    {
      "cell_type": "markdown",
      "metadata": {
        "id": "view-in-github",
        "colab_type": "text"
      },
      "source": [
        "<a href=\"https://colab.research.google.com/github/SwayamdiptaSaha/twitterdata/blob/master/TwitterDemonetization.ipynb\" target=\"_parent\"><img src=\"https://colab.research.google.com/assets/colab-badge.svg\" alt=\"Open In Colab\"/></a>"
      ]
    },
    {
      "cell_type": "code",
      "metadata": {
        "id": "j5P9kvYVUYAb",
        "colab_type": "code",
        "colab": {}
      },
      "source": [
        "import tweepy \n",
        "from textblob import TextBlob\n",
        "from wordcloud import WordCloud\n",
        "import pandas as pd\n",
        "import numpy as np\n",
        "import re \n",
        "import matplotlib.pyplot as plt\n",
        "\n"
      ],
      "execution_count": 0,
      "outputs": []
    },
    {
      "cell_type": "code",
      "metadata": {
        "id": "uAyHr3DKUcLm",
        "colab_type": "code",
        "colab": {}
      },
      "source": [
        "tweets=pd.read_csv('/content/demonetization-tweets.csv',encoding='ISO-8859-1')\n",
        "tweets.head(10)\n",
        "df=pd.DataFrame(tweets)"
      ],
      "execution_count": 0,
      "outputs": []
    },
    {
      "cell_type": "code",
      "metadata": {
        "id": "Fiw4ZTCd4JAe",
        "colab_type": "code",
        "colab": {
          "base_uri": "https://localhost:8080/",
          "height": 1000
        },
        "outputId": "6b42a136-6177-4359-9986-678349c0cc9b"
      },
      "source": [
        "def cleantext(text):\n",
        "  text=re.sub(r\"@[A-Za-z0-9]\",\"\",text)\n",
        "  text=re.sub(r\"00A0\",\" \",text)\n",
        "  text=re.sub(r\"00BD\",\" \",text)\n",
        "  text=re.sub(r\"00B8\",\" \",text)\n",
        "  text=re.sub(r\"ed\",\" \",text)\n",
        "  text=re.sub(r\"#\",\"\",text)\n",
        "  text=re.sub(r'RT[\\s]+',\"\",text)\n",
        "  text=re.sub(r\"https?:\\/\\/\\S+\",\" \",text)\n",
        "  return text\n",
        "\n",
        "df['text']=df['text'].apply(cleantext)\n",
        "df\n"
      ],
      "execution_count": 60,
      "outputs": [
        {
          "output_type": "execute_result",
          "data": {
            "text/html": [
              "<div>\n",
              "<style scoped>\n",
              "    .dataframe tbody tr th:only-of-type {\n",
              "        vertical-align: middle;\n",
              "    }\n",
              "\n",
              "    .dataframe tbody tr th {\n",
              "        vertical-align: top;\n",
              "    }\n",
              "\n",
              "    .dataframe thead th {\n",
              "        text-align: right;\n",
              "    }\n",
              "</style>\n",
              "<table border=\"1\" class=\"dataframe\">\n",
              "  <thead>\n",
              "    <tr style=\"text-align: right;\">\n",
              "      <th></th>\n",
              "      <th>Unnamed: 0</th>\n",
              "      <th>X</th>\n",
              "      <th>text</th>\n",
              "      <th>favorited</th>\n",
              "      <th>favoriteCount</th>\n",
              "      <th>replyToSN</th>\n",
              "      <th>created</th>\n",
              "      <th>truncated</th>\n",
              "      <th>replyToSID</th>\n",
              "      <th>id</th>\n",
              "      <th>replyToUID</th>\n",
              "      <th>statusSource</th>\n",
              "      <th>screenName</th>\n",
              "      <th>retweetCount</th>\n",
              "      <th>isRetweet</th>\n",
              "      <th>retweeted</th>\n",
              "    </tr>\n",
              "  </thead>\n",
              "  <tbody>\n",
              "    <tr>\n",
              "      <th>0</th>\n",
              "      <td>1</td>\n",
              "      <td>1</td>\n",
              "      <td>ssurjewala: Critical question: Was PayTM infor...</td>\n",
              "      <td>False</td>\n",
              "      <td>0</td>\n",
              "      <td>NaN</td>\n",
              "      <td>2016-11-23 18:40:30</td>\n",
              "      <td>False</td>\n",
              "      <td>NaN</td>\n",
              "      <td>8.014957e+17</td>\n",
              "      <td>NaN</td>\n",
              "      <td>&lt;a href=\"http://twitter.com/download/android\" ...</td>\n",
              "      <td>HASHTAGFARZIWAL</td>\n",
              "      <td>331</td>\n",
              "      <td>True</td>\n",
              "      <td>False</td>\n",
              "    </tr>\n",
              "    <tr>\n",
              "      <th>1</th>\n",
              "      <td>2</td>\n",
              "      <td>2</td>\n",
              "      <td>emant_80: Did you vote on Demonetization on Mo...</td>\n",
              "      <td>False</td>\n",
              "      <td>0</td>\n",
              "      <td>NaN</td>\n",
              "      <td>2016-11-23 18:40:29</td>\n",
              "      <td>False</td>\n",
              "      <td>NaN</td>\n",
              "      <td>8.014957e+17</td>\n",
              "      <td>NaN</td>\n",
              "      <td>&lt;a href=\"http://twitter.com/download/android\" ...</td>\n",
              "      <td>PRAMODKAUSHIK9</td>\n",
              "      <td>66</td>\n",
              "      <td>True</td>\n",
              "      <td>False</td>\n",
              "    </tr>\n",
              "    <tr>\n",
              "      <th>2</th>\n",
              "      <td>3</td>\n",
              "      <td>3</td>\n",
              "      <td>oshankar: Former FinSec, RBI Dy Governor, CBDT...</td>\n",
              "      <td>False</td>\n",
              "      <td>0</td>\n",
              "      <td>NaN</td>\n",
              "      <td>2016-11-23 18:40:03</td>\n",
              "      <td>False</td>\n",
              "      <td>NaN</td>\n",
              "      <td>8.014955e+17</td>\n",
              "      <td>NaN</td>\n",
              "      <td>&lt;a href=\"http://twitter.com/download/android\" ...</td>\n",
              "      <td>rahulja13034944</td>\n",
              "      <td>12</td>\n",
              "      <td>True</td>\n",
              "      <td>False</td>\n",
              "    </tr>\n",
              "    <tr>\n",
              "      <th>3</th>\n",
              "      <td>4</td>\n",
              "      <td>4</td>\n",
              "      <td>NI_news: Gurugram (Haryana): Post office emplo...</td>\n",
              "      <td>False</td>\n",
              "      <td>0</td>\n",
              "      <td>NaN</td>\n",
              "      <td>2016-11-23 18:39:59</td>\n",
              "      <td>False</td>\n",
              "      <td>NaN</td>\n",
              "      <td>8.014955e+17</td>\n",
              "      <td>NaN</td>\n",
              "      <td>&lt;a href=\"http://twitter.com/download/android\" ...</td>\n",
              "      <td>deeptiyvd</td>\n",
              "      <td>338</td>\n",
              "      <td>True</td>\n",
              "      <td>False</td>\n",
              "    </tr>\n",
              "    <tr>\n",
              "      <th>4</th>\n",
              "      <td>5</td>\n",
              "      <td>5</td>\n",
              "      <td>atishacharya: R dy W ding! ail_today cartoon d...</td>\n",
              "      <td>False</td>\n",
              "      <td>0</td>\n",
              "      <td>NaN</td>\n",
              "      <td>2016-11-23 18:39:39</td>\n",
              "      <td>False</td>\n",
              "      <td>NaN</td>\n",
              "      <td>8.014954e+17</td>\n",
              "      <td>NaN</td>\n",
              "      <td>&lt;a href=\"http://cpimharyana.com\" rel=\"nofollow...</td>\n",
              "      <td>CPIMBadli</td>\n",
              "      <td>120</td>\n",
              "      <td>True</td>\n",
              "      <td>False</td>\n",
              "    </tr>\n",
              "    <tr>\n",
              "      <th>...</th>\n",
              "      <td>...</td>\n",
              "      <td>...</td>\n",
              "      <td>...</td>\n",
              "      <td>...</td>\n",
              "      <td>...</td>\n",
              "      <td>...</td>\n",
              "      <td>...</td>\n",
              "      <td>...</td>\n",
              "      <td>...</td>\n",
              "      <td>...</td>\n",
              "      <td>...</td>\n",
              "      <td>...</td>\n",
              "      <td>...</td>\n",
              "      <td>...</td>\n",
              "      <td>...</td>\n",
              "      <td>...</td>\n",
              "    </tr>\n",
              "    <tr>\n",
              "      <th>14935</th>\n",
              "      <td>14936</td>\n",
              "      <td>14936</td>\n",
              "      <td>axenavishakha: Ghost of demonetization returns...</td>\n",
              "      <td>False</td>\n",
              "      <td>0</td>\n",
              "      <td>NaN</td>\n",
              "      <td>2017-04-11 14:26:38</td>\n",
              "      <td>False</td>\n",
              "      <td>NaN</td>\n",
              "      <td>8.518037e+17</td>\n",
              "      <td>NaN</td>\n",
              "      <td>&lt;a href=\"http://twitter.com/download/android\" ...</td>\n",
              "      <td>MuzzammilAap</td>\n",
              "      <td>4</td>\n",
              "      <td>True</td>\n",
              "      <td>False</td>\n",
              "    </tr>\n",
              "    <tr>\n",
              "      <th>14936</th>\n",
              "      <td>14937</td>\n",
              "      <td>14937</td>\n",
              "      <td>N d modi fans-d true nationalists of the count...</td>\n",
              "      <td>False</td>\n",
              "      <td>0</td>\n",
              "      <td>NaN</td>\n",
              "      <td>2017-04-11 14:19:51</td>\n",
              "      <td>True</td>\n",
              "      <td>NaN</td>\n",
              "      <td>8.518020e+17</td>\n",
              "      <td>NaN</td>\n",
              "      <td>&lt;a href=\"http://twitter.com/download/android\" ...</td>\n",
              "      <td>JusteyAlex</td>\n",
              "      <td>0</td>\n",
              "      <td>False</td>\n",
              "      <td>False</td>\n",
              "    </tr>\n",
              "    <tr>\n",
              "      <th>14937</th>\n",
              "      <td>14938</td>\n",
              "      <td>14938</td>\n",
              "      <td>harat_builder: Lol. Demonetization has fix  a ...</td>\n",
              "      <td>False</td>\n",
              "      <td>0</td>\n",
              "      <td>NaN</td>\n",
              "      <td>2017-04-11 14:19:14</td>\n",
              "      <td>False</td>\n",
              "      <td>NaN</td>\n",
              "      <td>8.518018e+17</td>\n",
              "      <td>NaN</td>\n",
              "      <td>&lt;a href=\"http://twitter.com/download/android\" ...</td>\n",
              "      <td>pavan_sethi</td>\n",
              "      <td>30</td>\n",
              "      <td>True</td>\n",
              "      <td>False</td>\n",
              "    </tr>\n",
              "    <tr>\n",
              "      <th>14938</th>\n",
              "      <td>14939</td>\n",
              "      <td>14939</td>\n",
              "      <td>tupidosaur: idyut B team of BJP. CIA baby. CCT...</td>\n",
              "      <td>False</td>\n",
              "      <td>0</td>\n",
              "      <td>NaN</td>\n",
              "      <td>2017-04-11 14:13:14</td>\n",
              "      <td>False</td>\n",
              "      <td>NaN</td>\n",
              "      <td>8.518003e+17</td>\n",
              "      <td>NaN</td>\n",
              "      <td>&lt;a href=\"http://twitter.com\" rel=\"nofollow\"&gt;Tw...</td>\n",
              "      <td>Stupidosaur</td>\n",
              "      <td>2</td>\n",
              "      <td>True</td>\n",
              "      <td>False</td>\n",
              "    </tr>\n",
              "    <tr>\n",
              "      <th>14939</th>\n",
              "      <td>14940</td>\n",
              "      <td>14940</td>\n",
              "      <td>idyut B team of BJP. CIA baby. CCTV, EVM but w...</td>\n",
              "      <td>False</td>\n",
              "      <td>1</td>\n",
              "      <td>Vidyut</td>\n",
              "      <td>2017-04-11 14:13:06</td>\n",
              "      <td>True</td>\n",
              "      <td>8.516909e+17</td>\n",
              "      <td>8.518003e+17</td>\n",
              "      <td>15199808.0</td>\n",
              "      <td>&lt;a href=\"http://twitter.com\" rel=\"nofollow\"&gt;Tw...</td>\n",
              "      <td>Stupidosaur</td>\n",
              "      <td>2</td>\n",
              "      <td>False</td>\n",
              "      <td>False</td>\n",
              "    </tr>\n",
              "  </tbody>\n",
              "</table>\n",
              "<p>14940 rows × 16 columns</p>\n",
              "</div>"
            ],
            "text/plain": [
              "       Unnamed: 0      X  ... isRetweet  retweeted\n",
              "0               1      1  ...      True      False\n",
              "1               2      2  ...      True      False\n",
              "2               3      3  ...      True      False\n",
              "3               4      4  ...      True      False\n",
              "4               5      5  ...      True      False\n",
              "...           ...    ...  ...       ...        ...\n",
              "14935       14936  14936  ...      True      False\n",
              "14936       14937  14937  ...     False      False\n",
              "14937       14938  14938  ...      True      False\n",
              "14938       14939  14939  ...      True      False\n",
              "14939       14940  14940  ...     False      False\n",
              "\n",
              "[14940 rows x 16 columns]"
            ]
          },
          "metadata": {
            "tags": []
          },
          "execution_count": 60
        }
      ]
    },
    {
      "cell_type": "code",
      "metadata": {
        "id": "ZjGCfXKI58ED",
        "colab_type": "code",
        "colab": {}
      },
      "source": [
        "def subject(text):\n",
        "  return TextBlob(text).sentiment.subjectivity\n",
        "\n",
        "def polarity(text):\n",
        "  return TextBlob(text).sentiment.polarity\n",
        "\n",
        "\n"
      ],
      "execution_count": 0,
      "outputs": []
    },
    {
      "cell_type": "code",
      "metadata": {
        "id": "y3KPmsBFsmIR",
        "colab_type": "code",
        "colab": {}
      },
      "source": [
        "df['subjectivity'] = df['text'].apply(subject)\n",
        "df['polarity'] = df['text'].apply(polarity)"
      ],
      "execution_count": 0,
      "outputs": []
    },
    {
      "cell_type": "code",
      "metadata": {
        "id": "HgOPJHMGQzMp",
        "colab_type": "code",
        "outputId": "e65343c7-b31a-45db-a6cd-7dc47d36443b",
        "colab": {
          "base_uri": "https://localhost:8080/",
          "height": 240
        }
      },
      "source": [
        "allwords=' '.join([twts for twts in df['text']])\n",
        "wordcloud=WordCloud(width=800,height=500,random_state=21,max_font_size=200).generate(allwords)\n",
        "plt.imshow(wordcloud,interpolation='bilinear')\n",
        "plt.axis('off')\n",
        "plt.show()"
      ],
      "execution_count": 63,
      "outputs": [
        {
          "output_type": "display_data",
          "data": {
            "image/png": "[encoded data removed]",
            "text/plain": [
              "<Figure size 432x288 with 1 Axes>"
            ]
          },
          "metadata": {
            "tags": []
          }
        }
      ]
    },
    {
      "cell_type": "code",
      "metadata": {
        "id": "RyvvfPwzS-39",
        "colab_type": "code",
        "outputId": "246b6f05-347c-42a4-c0e9-e3a69318fdc6",
        "colab": {
          "base_uri": "https://localhost:8080/",
          "height": 1000
        }
      },
      "source": [
        "def getanalysis(score):\n",
        "  if score<0:\n",
        "    return 'Negative'\n",
        "  elif score==0:\n",
        "    return 'Neutral'\n",
        "  else:\n",
        "    return 'Positive'\n",
        "\n",
        "df['Analysis']=df['polarity'].apply(getanalysis)   \n",
        "df.head(30)"
      ],
      "execution_count": 64,
      "outputs": [
        {
          "output_type": "execute_result",
          "data": {
            "text/html": [
              "<div>\n",
              "<style scoped>\n",
              "    .dataframe tbody tr th:only-of-type {\n",
              "        vertical-align: middle;\n",
              "    }\n",
              "\n",
              "    .dataframe tbody tr th {\n",
              "        vertical-align: top;\n",
              "    }\n",
              "\n",
              "    .dataframe thead th {\n",
              "        text-align: right;\n",
              "    }\n",
              "</style>\n",
              "<table border=\"1\" class=\"dataframe\">\n",
              "  <thead>\n",
              "    <tr style=\"text-align: right;\">\n",
              "      <th></th>\n",
              "      <th>Unnamed: 0</th>\n",
              "      <th>X</th>\n",
              "      <th>text</th>\n",
              "      <th>favorited</th>\n",
              "      <th>favoriteCount</th>\n",
              "      <th>replyToSN</th>\n",
              "      <th>created</th>\n",
              "      <th>truncated</th>\n",
              "      <th>replyToSID</th>\n",
              "      <th>id</th>\n",
              "      <th>replyToUID</th>\n",
              "      <th>statusSource</th>\n",
              "      <th>screenName</th>\n",
              "      <th>retweetCount</th>\n",
              "      <th>isRetweet</th>\n",
              "      <th>retweeted</th>\n",
              "      <th>subjectivity</th>\n",
              "      <th>polarity</th>\n",
              "      <th>Analysis</th>\n",
              "    </tr>\n",
              "  </thead>\n",
              "  <tbody>\n",
              "    <tr>\n",
              "      <th>0</th>\n",
              "      <td>1</td>\n",
              "      <td>1</td>\n",
              "      <td>ssurjewala: Critical question: Was PayTM infor...</td>\n",
              "      <td>False</td>\n",
              "      <td>0</td>\n",
              "      <td>NaN</td>\n",
              "      <td>2016-11-23 18:40:30</td>\n",
              "      <td>False</td>\n",
              "      <td>NaN</td>\n",
              "      <td>8.014957e+17</td>\n",
              "      <td>NaN</td>\n",
              "      <td>&lt;a href=\"http://twitter.com/download/android\" ...</td>\n",
              "      <td>HASHTAGFARZIWAL</td>\n",
              "      <td>331</td>\n",
              "      <td>True</td>\n",
              "      <td>False</td>\n",
              "      <td>0.577778</td>\n",
              "      <td>0.150000</td>\n",
              "      <td>Positive</td>\n",
              "    </tr>\n",
              "    <tr>\n",
              "      <th>1</th>\n",
              "      <td>2</td>\n",
              "      <td>2</td>\n",
              "      <td>emant_80: Did you vote on Demonetization on Mo...</td>\n",
              "      <td>False</td>\n",
              "      <td>0</td>\n",
              "      <td>NaN</td>\n",
              "      <td>2016-11-23 18:40:29</td>\n",
              "      <td>False</td>\n",
              "      <td>NaN</td>\n",
              "      <td>8.014957e+17</td>\n",
              "      <td>NaN</td>\n",
              "      <td>&lt;a href=\"http://twitter.com/download/android\" ...</td>\n",
              "      <td>PRAMODKAUSHIK9</td>\n",
              "      <td>66</td>\n",
              "      <td>True</td>\n",
              "      <td>False</td>\n",
              "      <td>0.000000</td>\n",
              "      <td>0.000000</td>\n",
              "      <td>Neutral</td>\n",
              "    </tr>\n",
              "    <tr>\n",
              "      <th>2</th>\n",
              "      <td>3</td>\n",
              "      <td>3</td>\n",
              "      <td>oshankar: Former FinSec, RBI Dy Governor, CBDT...</td>\n",
              "      <td>False</td>\n",
              "      <td>0</td>\n",
              "      <td>NaN</td>\n",
              "      <td>2016-11-23 18:40:03</td>\n",
              "      <td>False</td>\n",
              "      <td>NaN</td>\n",
              "      <td>8.014955e+17</td>\n",
              "      <td>NaN</td>\n",
              "      <td>&lt;a href=\"http://twitter.com/download/android\" ...</td>\n",
              "      <td>rahulja13034944</td>\n",
              "      <td>12</td>\n",
              "      <td>True</td>\n",
              "      <td>False</td>\n",
              "      <td>0.000000</td>\n",
              "      <td>0.000000</td>\n",
              "      <td>Neutral</td>\n",
              "    </tr>\n",
              "    <tr>\n",
              "      <th>3</th>\n",
              "      <td>4</td>\n",
              "      <td>4</td>\n",
              "      <td>NI_news: Gurugram (Haryana): Post office emplo...</td>\n",
              "      <td>False</td>\n",
              "      <td>0</td>\n",
              "      <td>NaN</td>\n",
              "      <td>2016-11-23 18:39:59</td>\n",
              "      <td>False</td>\n",
              "      <td>NaN</td>\n",
              "      <td>8.014955e+17</td>\n",
              "      <td>NaN</td>\n",
              "      <td>&lt;a href=\"http://twitter.com/download/android\" ...</td>\n",
              "      <td>deeptiyvd</td>\n",
              "      <td>338</td>\n",
              "      <td>True</td>\n",
              "      <td>False</td>\n",
              "      <td>0.000000</td>\n",
              "      <td>0.000000</td>\n",
              "      <td>Neutral</td>\n",
              "    </tr>\n",
              "    <tr>\n",
              "      <th>4</th>\n",
              "      <td>5</td>\n",
              "      <td>5</td>\n",
              "      <td>atishacharya: R dy W ding! ail_today cartoon d...</td>\n",
              "      <td>False</td>\n",
              "      <td>0</td>\n",
              "      <td>NaN</td>\n",
              "      <td>2016-11-23 18:39:39</td>\n",
              "      <td>False</td>\n",
              "      <td>NaN</td>\n",
              "      <td>8.014954e+17</td>\n",
              "      <td>NaN</td>\n",
              "      <td>&lt;a href=\"http://cpimharyana.com\" rel=\"nofollow...</td>\n",
              "      <td>CPIMBadli</td>\n",
              "      <td>120</td>\n",
              "      <td>True</td>\n",
              "      <td>False</td>\n",
              "      <td>0.000000</td>\n",
              "      <td>0.000000</td>\n",
              "      <td>Neutral</td>\n",
              "    </tr>\n",
              "    <tr>\n",
              "      <th>5</th>\n",
              "      <td>6</td>\n",
              "      <td>6</td>\n",
              "      <td>erekScissors1: Indias demonetization: Blackmo...</td>\n",
              "      <td>False</td>\n",
              "      <td>0</td>\n",
              "      <td>DerekScissors1</td>\n",
              "      <td>2016-11-23 18:39:11</td>\n",
              "      <td>False</td>\n",
              "      <td>NaN</td>\n",
              "      <td>8.014953e+17</td>\n",
              "      <td>2.586266e+09</td>\n",
              "      <td>&lt;a href=\"http://twitter.com\" rel=\"nofollow\"&gt;Tw...</td>\n",
              "      <td>ambazaarmag</td>\n",
              "      <td>0</td>\n",
              "      <td>False</td>\n",
              "      <td>False</td>\n",
              "      <td>0.000000</td>\n",
              "      <td>0.000000</td>\n",
              "      <td>Neutral</td>\n",
              "    </tr>\n",
              "    <tr>\n",
              "      <th>6</th>\n",
              "      <td>7</td>\n",
              "      <td>7</td>\n",
              "      <td>auravcsawant: Rs 40 lakh loot  from a bank in ...</td>\n",
              "      <td>False</td>\n",
              "      <td>0</td>\n",
              "      <td>NaN</td>\n",
              "      <td>2016-11-23 18:38:53</td>\n",
              "      <td>False</td>\n",
              "      <td>NaN</td>\n",
              "      <td>8.014952e+17</td>\n",
              "      <td>NaN</td>\n",
              "      <td>&lt;a href=\"http://twitter.com/download/android\" ...</td>\n",
              "      <td>bhodia1</td>\n",
              "      <td>637</td>\n",
              "      <td>True</td>\n",
              "      <td>False</td>\n",
              "      <td>0.250000</td>\n",
              "      <td>0.000000</td>\n",
              "      <td>Neutral</td>\n",
              "    </tr>\n",
              "    <tr>\n",
              "      <th>7</th>\n",
              "      <td>8</td>\n",
              "      <td>8</td>\n",
              "      <td>oydeep_911: Calling all Nationalists to join.....</td>\n",
              "      <td>False</td>\n",
              "      <td>0</td>\n",
              "      <td>NaN</td>\n",
              "      <td>2016-11-23 18:38:20</td>\n",
              "      <td>False</td>\n",
              "      <td>NaN</td>\n",
              "      <td>8.014951e+17</td>\n",
              "      <td>NaN</td>\n",
              "      <td>&lt;a href=\"http://twitter.com/download/android\" ...</td>\n",
              "      <td>KARUNASHANKEROJ</td>\n",
              "      <td>112</td>\n",
              "      <td>True</td>\n",
              "      <td>False</td>\n",
              "      <td>0.000000</td>\n",
              "      <td>0.000000</td>\n",
              "      <td>Neutral</td>\n",
              "    </tr>\n",
              "    <tr>\n",
              "      <th>8</th>\n",
              "      <td>9</td>\n",
              "      <td>9</td>\n",
              "      <td>umitbhati2002: Many opposition leaders are wit...</td>\n",
              "      <td>False</td>\n",
              "      <td>0</td>\n",
              "      <td>NaN</td>\n",
              "      <td>2016-11-23 18:38:09</td>\n",
              "      <td>False</td>\n",
              "      <td>NaN</td>\n",
              "      <td>8.014951e+17</td>\n",
              "      <td>NaN</td>\n",
              "      <td>&lt;a href=\"http://twitter.com/download/android\" ...</td>\n",
              "      <td>sumitbhati2002</td>\n",
              "      <td>1</td>\n",
              "      <td>True</td>\n",
              "      <td>False</td>\n",
              "      <td>0.500000</td>\n",
              "      <td>0.500000</td>\n",
              "      <td>Positive</td>\n",
              "    </tr>\n",
              "    <tr>\n",
              "      <th>9</th>\n",
              "      <td>10</td>\n",
              "      <td>10</td>\n",
              "      <td>National reform now destroy  even the essence ...</td>\n",
              "      <td>False</td>\n",
              "      <td>0</td>\n",
              "      <td>NaN</td>\n",
              "      <td>2016-11-23 18:38:00</td>\n",
              "      <td>True</td>\n",
              "      <td>NaN</td>\n",
              "      <td>8.014950e+17</td>\n",
              "      <td>NaN</td>\n",
              "      <td>&lt;a href=\"https://mobile.twitter.com\" rel=\"nofo...</td>\n",
              "      <td>HelpIndia2016</td>\n",
              "      <td>0</td>\n",
              "      <td>False</td>\n",
              "      <td>False</td>\n",
              "      <td>0.166667</td>\n",
              "      <td>-0.066667</td>\n",
              "      <td>Negative</td>\n",
              "    </tr>\n",
              "    <tr>\n",
              "      <th>10</th>\n",
              "      <td>11</td>\n",
              "      <td>11</td>\n",
              "      <td>Many opposition leaders are with arendramodi o...</td>\n",
              "      <td>False</td>\n",
              "      <td>1</td>\n",
              "      <td>NaN</td>\n",
              "      <td>2016-11-23 18:37:47</td>\n",
              "      <td>False</td>\n",
              "      <td>NaN</td>\n",
              "      <td>8.014950e+17</td>\n",
              "      <td>NaN</td>\n",
              "      <td>&lt;a href=\"http://twitter.com/download/android\" ...</td>\n",
              "      <td>sumitbhati2002</td>\n",
              "      <td>1</td>\n",
              "      <td>False</td>\n",
              "      <td>False</td>\n",
              "      <td>0.500000</td>\n",
              "      <td>0.500000</td>\n",
              "      <td>Positive</td>\n",
              "    </tr>\n",
              "    <tr>\n",
              "      <th>11</th>\n",
              "      <td>12</td>\n",
              "      <td>12</td>\n",
              "      <td>oydas: Question in Narendra Modi App where PM ...</td>\n",
              "      <td>False</td>\n",
              "      <td>0</td>\n",
              "      <td>NaN</td>\n",
              "      <td>2016-11-23 18:37:25</td>\n",
              "      <td>False</td>\n",
              "      <td>NaN</td>\n",
              "      <td>8.014949e+17</td>\n",
              "      <td>NaN</td>\n",
              "      <td>&lt;a href=\"http://twitter.com/download/android\" ...</td>\n",
              "      <td>MonishGavand</td>\n",
              "      <td>120</td>\n",
              "      <td>True</td>\n",
              "      <td>False</td>\n",
              "      <td>0.000000</td>\n",
              "      <td>0.000000</td>\n",
              "      <td>Neutral</td>\n",
              "    </tr>\n",
              "    <tr>\n",
              "      <th>12</th>\n",
              "      <td>13</td>\n",
              "      <td>13</td>\n",
              "      <td>aggesh2 Bharat band on 28??&lt; &gt;&lt;U+ &gt;&lt;U+ &gt;&lt; &gt;&lt;U+...</td>\n",
              "      <td>False</td>\n",
              "      <td>0</td>\n",
              "      <td>Jaggesh2</td>\n",
              "      <td>2016-11-23 18:37:15</td>\n",
              "      <td>False</td>\n",
              "      <td>8.014821e+17</td>\n",
              "      <td>8.014948e+17</td>\n",
              "      <td>1.225925e+09</td>\n",
              "      <td>&lt;a href=\"http://twitter.com/download/android\" ...</td>\n",
              "      <td>yuvaraj_karki</td>\n",
              "      <td>0</td>\n",
              "      <td>False</td>\n",
              "      <td>False</td>\n",
              "      <td>0.600000</td>\n",
              "      <td>0.000000</td>\n",
              "      <td>Neutral</td>\n",
              "    </tr>\n",
              "    <tr>\n",
              "      <th>13</th>\n",
              "      <td>14</td>\n",
              "      <td>14</td>\n",
              "      <td>theist_Krishna: The effect of Demonetization !...</td>\n",
              "      <td>False</td>\n",
              "      <td>0</td>\n",
              "      <td>NaN</td>\n",
              "      <td>2016-11-23 18:36:39</td>\n",
              "      <td>False</td>\n",
              "      <td>NaN</td>\n",
              "      <td>8.014947e+17</td>\n",
              "      <td>NaN</td>\n",
              "      <td>&lt;a href=\"http://twitter.com/download/android\" ...</td>\n",
              "      <td>PMKejri</td>\n",
              "      <td>45</td>\n",
              "      <td>True</td>\n",
              "      <td>False</td>\n",
              "      <td>0.000000</td>\n",
              "      <td>0.000000</td>\n",
              "      <td>Neutral</td>\n",
              "    </tr>\n",
              "    <tr>\n",
              "      <th>14</th>\n",
              "      <td>15</td>\n",
              "      <td>15</td>\n",
              "      <td>ona2905: When I explain  Demonetization to mys...</td>\n",
              "      <td>False</td>\n",
              "      <td>0</td>\n",
              "      <td>NaN</td>\n",
              "      <td>2016-11-23 18:36:37</td>\n",
              "      <td>False</td>\n",
              "      <td>NaN</td>\n",
              "      <td>8.014947e+17</td>\n",
              "      <td>NaN</td>\n",
              "      <td>&lt;a href=\"http://twitter.com/download/iphone\" r...</td>\n",
              "      <td>hkgupta16</td>\n",
              "      <td>50</td>\n",
              "      <td>True</td>\n",
              "      <td>False</td>\n",
              "      <td>0.296296</td>\n",
              "      <td>-0.118519</td>\n",
              "      <td>Negative</td>\n",
              "    </tr>\n",
              "    <tr>\n",
              "      <th>15</th>\n",
              "      <td>16</td>\n",
              "      <td>16</td>\n",
              "      <td>ipankar_cpiml: The Modi app on DeMonetization ...</td>\n",
              "      <td>False</td>\n",
              "      <td>0</td>\n",
              "      <td>NaN</td>\n",
              "      <td>2016-11-23 18:35:22</td>\n",
              "      <td>False</td>\n",
              "      <td>NaN</td>\n",
              "      <td>8.014944e+17</td>\n",
              "      <td>NaN</td>\n",
              "      <td>&lt;a href=\"http://twitter.com/download/android\" ...</td>\n",
              "      <td>aazaadparinda</td>\n",
              "      <td>45</td>\n",
              "      <td>True</td>\n",
              "      <td>False</td>\n",
              "      <td>0.375000</td>\n",
              "      <td>0.150000</td>\n",
              "      <td>Positive</td>\n",
              "    </tr>\n",
              "    <tr>\n",
              "      <th>16</th>\n",
              "      <td>17</td>\n",
              "      <td>17</td>\n",
              "      <td>oshankar: Former FinSec, RBI Dy Governor, CBDT...</td>\n",
              "      <td>False</td>\n",
              "      <td>0</td>\n",
              "      <td>NaN</td>\n",
              "      <td>2016-11-23 18:35:01</td>\n",
              "      <td>False</td>\n",
              "      <td>NaN</td>\n",
              "      <td>8.014943e+17</td>\n",
              "      <td>NaN</td>\n",
              "      <td>&lt;a href=\"http://twitter.com/download/android\" ...</td>\n",
              "      <td>darkdestinynme</td>\n",
              "      <td>12</td>\n",
              "      <td>True</td>\n",
              "      <td>False</td>\n",
              "      <td>0.000000</td>\n",
              "      <td>0.000000</td>\n",
              "      <td>Neutral</td>\n",
              "    </tr>\n",
              "    <tr>\n",
              "      <th>17</th>\n",
              "      <td>18</td>\n",
              "      <td>18</td>\n",
              "      <td>theist_Krishna: BEFORE and AFTER Gandhi ji hea...</td>\n",
              "      <td>False</td>\n",
              "      <td>0</td>\n",
              "      <td>NaN</td>\n",
              "      <td>2016-11-23 18:34:57</td>\n",
              "      <td>False</td>\n",
              "      <td>NaN</td>\n",
              "      <td>8.014943e+17</td>\n",
              "      <td>NaN</td>\n",
              "      <td>&lt;a href=\"http://twitter.com/download/iphone\" r...</td>\n",
              "      <td>snoovemehrotra</td>\n",
              "      <td>95</td>\n",
              "      <td>True</td>\n",
              "      <td>False</td>\n",
              "      <td>0.000000</td>\n",
              "      <td>0.000000</td>\n",
              "      <td>Neutral</td>\n",
              "    </tr>\n",
              "    <tr>\n",
              "      <th>18</th>\n",
              "      <td>19</td>\n",
              "      <td>19</td>\n",
              "      <td>Gurus1: Demonetization The co-operative bankin...</td>\n",
              "      <td>False</td>\n",
              "      <td>0</td>\n",
              "      <td>NaN</td>\n",
              "      <td>2016-11-23 18:34:17</td>\n",
              "      <td>False</td>\n",
              "      <td>NaN</td>\n",
              "      <td>8.014941e+17</td>\n",
              "      <td>NaN</td>\n",
              "      <td>&lt;a href=\"http://twitter.com/download/android\" ...</td>\n",
              "      <td>Vishwaamitra</td>\n",
              "      <td>76</td>\n",
              "      <td>True</td>\n",
              "      <td>False</td>\n",
              "      <td>0.516667</td>\n",
              "      <td>0.266667</td>\n",
              "      <td>Positive</td>\n",
              "    </tr>\n",
              "    <tr>\n",
              "      <th>19</th>\n",
              "      <td>20</td>\n",
              "      <td>20</td>\n",
              "      <td>oshankar: Former FinSec, RBI Dy Governor, CBDT...</td>\n",
              "      <td>False</td>\n",
              "      <td>0</td>\n",
              "      <td>NaN</td>\n",
              "      <td>2016-11-23 18:34:06</td>\n",
              "      <td>False</td>\n",
              "      <td>NaN</td>\n",
              "      <td>8.014940e+17</td>\n",
              "      <td>NaN</td>\n",
              "      <td>&lt;a href=\"http://twitter.com\" rel=\"nofollow\"&gt;Tw...</td>\n",
              "      <td>PoliticalCooper</td>\n",
              "      <td>12</td>\n",
              "      <td>True</td>\n",
              "      <td>False</td>\n",
              "      <td>0.000000</td>\n",
              "      <td>0.000000</td>\n",
              "      <td>Neutral</td>\n",
              "    </tr>\n",
              "    <tr>\n",
              "      <th>20</th>\n",
              "      <td>21</td>\n",
              "      <td>21</td>\n",
              "      <td>emant_80: Did you vote on Demonetization on Mo...</td>\n",
              "      <td>False</td>\n",
              "      <td>0</td>\n",
              "      <td>NaN</td>\n",
              "      <td>2016-11-23 18:34:02</td>\n",
              "      <td>False</td>\n",
              "      <td>NaN</td>\n",
              "      <td>8.014940e+17</td>\n",
              "      <td>NaN</td>\n",
              "      <td>&lt;a href=\"http://twitter.com/download/android\" ...</td>\n",
              "      <td>MdShuaib7</td>\n",
              "      <td>66</td>\n",
              "      <td>True</td>\n",
              "      <td>False</td>\n",
              "      <td>0.000000</td>\n",
              "      <td>0.000000</td>\n",
              "      <td>Neutral</td>\n",
              "    </tr>\n",
              "    <tr>\n",
              "      <th>21</th>\n",
              "      <td>22</td>\n",
              "      <td>22</td>\n",
              "      <td>oshankar: Former FinSec, RBI Dy Governor, CBDT...</td>\n",
              "      <td>False</td>\n",
              "      <td>0</td>\n",
              "      <td>NaN</td>\n",
              "      <td>2016-11-23 18:33:40</td>\n",
              "      <td>False</td>\n",
              "      <td>NaN</td>\n",
              "      <td>8.014939e+17</td>\n",
              "      <td>NaN</td>\n",
              "      <td>&lt;a href=\"http://twitter.com/download/android\" ...</td>\n",
              "      <td>BharatParivrtan</td>\n",
              "      <td>12</td>\n",
              "      <td>True</td>\n",
              "      <td>False</td>\n",
              "      <td>0.000000</td>\n",
              "      <td>0.000000</td>\n",
              "      <td>Neutral</td>\n",
              "    </tr>\n",
              "    <tr>\n",
              "      <th>22</th>\n",
              "      <td>23</td>\n",
              "      <td>23</td>\n",
              "      <td>theist_Krishna: BEFORE and AFTER Gandhi ji hea...</td>\n",
              "      <td>False</td>\n",
              "      <td>0</td>\n",
              "      <td>NaN</td>\n",
              "      <td>2016-11-23 18:33:35</td>\n",
              "      <td>False</td>\n",
              "      <td>NaN</td>\n",
              "      <td>8.014939e+17</td>\n",
              "      <td>NaN</td>\n",
              "      <td>&lt;a href=\"http://twitter.com/download/android\" ...</td>\n",
              "      <td>ihavnthandle</td>\n",
              "      <td>95</td>\n",
              "      <td>True</td>\n",
              "      <td>False</td>\n",
              "      <td>0.000000</td>\n",
              "      <td>0.000000</td>\n",
              "      <td>Neutral</td>\n",
              "    </tr>\n",
              "    <tr>\n",
              "      <th>23</th>\n",
              "      <td>24</td>\n",
              "      <td>24</td>\n",
              "      <td>ahikaInfra: arendramodi\\r\\nwamy39\\r\\nThe succe...</td>\n",
              "      <td>False</td>\n",
              "      <td>0</td>\n",
              "      <td>NaN</td>\n",
              "      <td>2016-11-23 18:33:28</td>\n",
              "      <td>False</td>\n",
              "      <td>NaN</td>\n",
              "      <td>8.014939e+17</td>\n",
              "      <td>NaN</td>\n",
              "      <td>&lt;a href=\"http://twitter.com/download/android\" ...</td>\n",
              "      <td>GajjarBharatc</td>\n",
              "      <td>53</td>\n",
              "      <td>True</td>\n",
              "      <td>False</td>\n",
              "      <td>0.000000</td>\n",
              "      <td>0.300000</td>\n",
              "      <td>Positive</td>\n",
              "    </tr>\n",
              "    <tr>\n",
              "      <th>24</th>\n",
              "      <td>25</td>\n",
              "      <td>25</td>\n",
              "      <td>emant_80: Did you vote on Demonetization on Mo...</td>\n",
              "      <td>False</td>\n",
              "      <td>0</td>\n",
              "      <td>NaN</td>\n",
              "      <td>2016-11-23 18:33:14</td>\n",
              "      <td>False</td>\n",
              "      <td>NaN</td>\n",
              "      <td>8.014938e+17</td>\n",
              "      <td>NaN</td>\n",
              "      <td>&lt;a href=\"http://twitter.com\" rel=\"nofollow\"&gt;Tw...</td>\n",
              "      <td>Rss_chaddi_waLL</td>\n",
              "      <td>66</td>\n",
              "      <td>True</td>\n",
              "      <td>False</td>\n",
              "      <td>0.000000</td>\n",
              "      <td>0.000000</td>\n",
              "      <td>Neutral</td>\n",
              "    </tr>\n",
              "    <tr>\n",
              "      <th>25</th>\n",
              "      <td>26</td>\n",
              "      <td>26</td>\n",
              "      <td>oshankar: Former FinSec, RBI Dy Governor, CBDT...</td>\n",
              "      <td>False</td>\n",
              "      <td>0</td>\n",
              "      <td>NaN</td>\n",
              "      <td>2016-11-23 18:33:03</td>\n",
              "      <td>False</td>\n",
              "      <td>NaN</td>\n",
              "      <td>8.014938e+17</td>\n",
              "      <td>NaN</td>\n",
              "      <td>&lt;a href=\"http://twitter.com/download/android\" ...</td>\n",
              "      <td>mukeshrai881</td>\n",
              "      <td>12</td>\n",
              "      <td>True</td>\n",
              "      <td>False</td>\n",
              "      <td>0.000000</td>\n",
              "      <td>0.000000</td>\n",
              "      <td>Neutral</td>\n",
              "    </tr>\n",
              "    <tr>\n",
              "      <th>26</th>\n",
              "      <td>27</td>\n",
              "      <td>27</td>\n",
              "      <td>apil_kausik: Doltiwal I mean JaiChandKejriwal ...</td>\n",
              "      <td>False</td>\n",
              "      <td>0</td>\n",
              "      <td>NaN</td>\n",
              "      <td>2016-11-23 18:32:41</td>\n",
              "      <td>False</td>\n",
              "      <td>NaN</td>\n",
              "      <td>8.014937e+17</td>\n",
              "      <td>NaN</td>\n",
              "      <td>&lt;a href=\"http://twitter.com/download/iphone\" r...</td>\n",
              "      <td>mrx565</td>\n",
              "      <td>20</td>\n",
              "      <td>True</td>\n",
              "      <td>False</td>\n",
              "      <td>0.337500</td>\n",
              "      <td>-0.270833</td>\n",
              "      <td>Negative</td>\n",
              "    </tr>\n",
              "    <tr>\n",
              "      <th>27</th>\n",
              "      <td>28</td>\n",
              "      <td>28</td>\n",
              "      <td>oshankar: Former FinSec, RBI Dy Governor, CBDT...</td>\n",
              "      <td>False</td>\n",
              "      <td>0</td>\n",
              "      <td>NaN</td>\n",
              "      <td>2016-11-23 18:32:13</td>\n",
              "      <td>False</td>\n",
              "      <td>NaN</td>\n",
              "      <td>8.014936e+17</td>\n",
              "      <td>NaN</td>\n",
              "      <td>&lt;a href=\"http://twitter.com\" rel=\"nofollow\"&gt;Tw...</td>\n",
              "      <td>iMirzaG</td>\n",
              "      <td>12</td>\n",
              "      <td>True</td>\n",
              "      <td>False</td>\n",
              "      <td>0.000000</td>\n",
              "      <td>0.000000</td>\n",
              "      <td>Neutral</td>\n",
              "    </tr>\n",
              "    <tr>\n",
              "      <th>28</th>\n",
              "      <td>29</td>\n",
              "      <td>29</td>\n",
              "      <td>apil_kausik: Doltiwal I mean JaiChandKejriwal ...</td>\n",
              "      <td>False</td>\n",
              "      <td>0</td>\n",
              "      <td>NaN</td>\n",
              "      <td>2016-11-23 18:32:09</td>\n",
              "      <td>False</td>\n",
              "      <td>NaN</td>\n",
              "      <td>8.014936e+17</td>\n",
              "      <td>NaN</td>\n",
              "      <td>&lt;a href=\"http://twitter.com/download/android\" ...</td>\n",
              "      <td>PontiFukEx</td>\n",
              "      <td>20</td>\n",
              "      <td>True</td>\n",
              "      <td>False</td>\n",
              "      <td>0.337500</td>\n",
              "      <td>-0.270833</td>\n",
              "      <td>Negative</td>\n",
              "    </tr>\n",
              "    <tr>\n",
              "      <th>29</th>\n",
              "      <td>30</td>\n",
              "      <td>30</td>\n",
              "      <td>APVind: Demonetization Is Disaster!  aam_pk</td>\n",
              "      <td>False</td>\n",
              "      <td>0</td>\n",
              "      <td>NaN</td>\n",
              "      <td>2016-11-23 18:31:54</td>\n",
              "      <td>False</td>\n",
              "      <td>NaN</td>\n",
              "      <td>8.014935e+17</td>\n",
              "      <td>NaN</td>\n",
              "      <td>&lt;a href=\"http://www.twitter.com\" rel=\"nofollow...</td>\n",
              "      <td>sehgal_indian</td>\n",
              "      <td>7</td>\n",
              "      <td>True</td>\n",
              "      <td>False</td>\n",
              "      <td>0.000000</td>\n",
              "      <td>0.000000</td>\n",
              "      <td>Neutral</td>\n",
              "    </tr>\n",
              "  </tbody>\n",
              "</table>\n",
              "</div>"
            ],
            "text/plain": [
              "    Unnamed: 0   X  ...  polarity  Analysis\n",
              "0            1   1  ...  0.150000  Positive\n",
              "1            2   2  ...  0.000000   Neutral\n",
              "2            3   3  ...  0.000000   Neutral\n",
              "3            4   4  ...  0.000000   Neutral\n",
              "4            5   5  ...  0.000000   Neutral\n",
              "5            6   6  ...  0.000000   Neutral\n",
              "6            7   7  ...  0.000000   Neutral\n",
              "7            8   8  ...  0.000000   Neutral\n",
              "8            9   9  ...  0.500000  Positive\n",
              "9           10  10  ... -0.066667  Negative\n",
              "10          11  11  ...  0.500000  Positive\n",
              "11          12  12  ...  0.000000   Neutral\n",
              "12          13  13  ...  0.000000   Neutral\n",
              "13          14  14  ...  0.000000   Neutral\n",
              "14          15  15  ... -0.118519  Negative\n",
              "15          16  16  ...  0.150000  Positive\n",
              "16          17  17  ...  0.000000   Neutral\n",
              "17          18  18  ...  0.000000   Neutral\n",
              "18          19  19  ...  0.266667  Positive\n",
              "19          20  20  ...  0.000000   Neutral\n",
              "20          21  21  ...  0.000000   Neutral\n",
              "21          22  22  ...  0.000000   Neutral\n",
              "22          23  23  ...  0.000000   Neutral\n",
              "23          24  24  ...  0.300000  Positive\n",
              "24          25  25  ...  0.000000   Neutral\n",
              "25          26  26  ...  0.000000   Neutral\n",
              "26          27  27  ... -0.270833  Negative\n",
              "27          28  28  ...  0.000000   Neutral\n",
              "28          29  29  ... -0.270833  Negative\n",
              "29          30  30  ...  0.000000   Neutral\n",
              "\n",
              "[30 rows x 19 columns]"
            ]
          },
          "metadata": {
            "tags": []
          },
          "execution_count": 64
        }
      ]
    },
    {
      "cell_type": "code",
      "metadata": {
        "id": "gwlzoZySXC3g",
        "colab_type": "code",
        "colab": {
          "base_uri": "https://localhost:8080/",
          "height": 1000
        },
        "outputId": "f27e0f43-32df-455f-8b88-4cf1c3ca0187"
      },
      "source": [
        "j=1\n",
        "sortedPF=df.sort_values(by=['polarity'])\n",
        "for i in range(0,sortedPF.shape[0]):\n",
        "  if(sortedPF['Analysis'][i]=='Positive'):\n",
        "    print(str(j)+')'+sortedPF['text'][i]+'\\n')\n",
        "    j=j+1\n"
      ],
      "execution_count": 65,
      "outputs": [
        {
          "output_type": "stream",
          "text": [
            "\u001b[1;30;43mStreaming output truncated to the last 5000 lines.\u001b[0m\n",
            "India is so rich that PM Narendra Modi had to implement demonetization to find out who is actually <U+200B>rich\n",
            "s\n",
            "\n",
            "3945)RautelaForever: Dear vanspiegel \n",
            "India is so rich that PM Narendra Modi had to implement demonetization to find out who is actually\n",
            "\n",
            "3946)RautelaForever: Dear vanspiegel \n",
            "India is so rich that PM Narendra Modi had to implement demonetization to find out who is actually\n",
            "\n",
            "3947)RautelaForever: Dear vanspiegel \n",
            "India is so rich that PM Narendra Modi had to implement demonetization to find out who is actually\n",
            "\n",
            "3948)RautelaForever: Dear vanspiegel \n",
            "India is so rich that PM Narendra Modi had to implement demonetization to find out who is actually\n",
            "\n",
            "3949)RautelaForever: Dear vanspiegel \n",
            "India is so rich that PM Narendra Modi had to implement demonetization to find out who is actually\n",
            "\n",
            "3950)RautelaForever: Dear vanspiegel \n",
            "India is so rich that PM Narendra Modi had to implement demonetization to find out who is actually\n",
            "\n",
            "3951)RautelaForever: Dear vanspiegel \n",
            "India is so rich that PM Narendra Modi had to implement demonetization to find out who is actually\n",
            "\n",
            "3952)RautelaForever: Dear vanspiegel \n",
            "India is so rich that PM Narendra Modi had to implement demonetization to find out who is actually\n",
            "\n",
            "3953)idhiMnidhi Will BJP tell how many transaction they made during demonetization?.Or they show up their bank details?\n",
            "\n",
            "3954)RautelaForever: Dear vanspiegel \n",
            "India is so rich that PM Narendra Modi had to implement demonetization to find out who is actually\n",
            "\n",
            "3955)RautelaForever: Dear vanspiegel \n",
            "India is so rich that PM Narendra Modi had to implement demonetization to find out who is actually\n",
            "\n",
            "3956)RautelaForever: Dear vanspiegel \n",
            "India is so rich that PM Narendra Modi had to implement demonetization to find out who is actually\n",
            "\n",
            "3957)RautelaForever: Dear vanspiegel \n",
            "India is so rich that PM Narendra Modi had to implement demonetization to find out who is actually\n",
            "\n",
            "3958)RautelaForever: Dear vanspiegel \n",
            "India is so rich that PM Narendra Modi had to implement demonetization to find out who is actually\n",
            "\n",
            "3959)RautelaForever: Dear vanspiegel \n",
            "India is so rich that PM Narendra Modi had to implement demonetization to find out who is actually\n",
            "\n",
            "3960)RautelaForever: Dear vanspiegel \n",
            "India is so rich that PM Narendra Modi had to implement demonetization to find out who is actually\n",
            "\n",
            "3961)RautelaForever: Dear vanspiegel \n",
            "India is so rich that PM Narendra Modi had to implement demonetization to find out who is actually\n",
            "\n",
            "3962)RautelaForever: Dear vanspiegel \n",
            "India is so rich that PM Narendra Modi had to implement demonetization to find out who is actually\n",
            "\n",
            "3963)RautelaForever: Dear vanspiegel \n",
            "India is so rich that PM Narendra Modi had to implement demonetization to find out who is actually\n",
            "\n",
            "3964)hesuniljain: I'm not saying we don't ne  cash, inde  I'm a critic of demonetization, but believe govt has done an amazing job in dig\n",
            "\n",
            "3965)RautelaForever: Dear vanspiegel \n",
            "India is so rich that PM Narendra Modi had to implement demonetization to find out who is actually\n",
            "\n",
            "3966)RautelaForever: Dear vanspiegel \n",
            "India is so rich that PM Narendra Modi had to implement demonetization to find out who is actually\n",
            "\n",
            "3967)RautelaForever: Dear vanspiegel \n",
            "India is so rich that PM Narendra Modi had to implement demonetization to find out who is actually\n",
            "\n",
            "3968)RautelaForever: Dear vanspiegel \n",
            "India is so rich that PM Narendra Modi had to implement demonetization to find out who is actually\n",
            "\n",
            "3969)RautelaForever: Dear vanspiegel \n",
            "India is so rich that PM Narendra Modi had to implement demonetization to find out who is actually\n",
            "\n",
            "3970)RautelaForever: Dear vanspiegel \n",
            "India is so rich that PM Narendra Modi had to implement demonetization to find out who is actually\n",
            "\n",
            "3971)RautelaForever: Dear vanspiegel \n",
            "India is so rich that PM Narendra Modi had to implement demonetization to find out who is actually\n",
            "\n",
            "3972)RautelaForever: Dear vanspiegel \n",
            "India is so rich that PM Narendra Modi had to implement demonetization to find out who is actually\n",
            "\n",
            "3973)RautelaForever: Dear vanspiegel \n",
            "India is so rich that PM Narendra Modi had to implement demonetization to find out who is actually\n",
            "\n",
            "3974)RautelaForever: Dear vanspiegel \n",
            "India is so rich that PM Narendra Modi had to implement demonetization to find out who is actually\n",
            "\n",
            "3975)RautelaForever: Dear vanspiegel \n",
            "India is so rich that PM Narendra Modi had to implement demonetization to find out who is actually\n",
            "\n",
            "3976)RautelaForever: Dear vanspiegel \n",
            "India is so rich that PM Narendra Modi had to implement demonetization to find out who is actually\n",
            "\n",
            "3977)RautelaForever: Dear vanspiegel \n",
            "India is so rich that PM Narendra Modi had to implement demonetization to find out who is actually\n",
            "\n",
            "3978)RautelaForever: Dear vanspiegel \n",
            "India is so rich that PM Narendra Modi had to implement demonetization to find out who is actually\n",
            "\n",
            "3979)RautelaForever: Dear vanspiegel \n",
            "India is so rich that PM Narendra Modi had to implement demonetization to find out who is actually\n",
            "\n",
            "3980)RautelaForever: Dear vanspiegel \n",
            "India is so rich that PM Narendra Modi had to implement demonetization to find out who is actually\n",
            "\n",
            "3981)RautelaForever: Dear vanspiegel \n",
            "India is so rich that PM Narendra Modi had to implement demonetization to find out who is actually\n",
            "\n",
            "3982)RautelaForever: Dear vanspiegel \n",
            "India is so rich that PM Narendra Modi had to implement demonetization to find out who is actually\n",
            "\n",
            "3983)RautelaForever: Dear vanspiegel \n",
            "India is so rich that PM Narendra Modi had to implement demonetization to find out who is actually\n",
            "\n",
            "3984)RautelaForever: Dear vanspiegel \n",
            "India is so rich that PM Narendra Modi had to implement demonetization to find out who is actually\n",
            "\n",
            "3985)RautelaForever: Dear vanspiegel \n",
            "India is so rich that PM Narendra Modi had to implement demonetization to find out who is actually\n",
            "\n",
            "3986)RautelaForever: Dear vanspiegel \n",
            "India is so rich that PM Narendra Modi had to implement demonetization to find out who is actually\n",
            "\n",
            "3987)Well, there were many economists too who \"explain \" the benefits of demonetization.  \n",
            "\n",
            "3988)RautelaForever: Dear vanspiegel \n",
            "India is so rich that PM Narendra Modi had to implement demonetization to find out who is actually\n",
            "\n",
            "3989)RautelaForever: Dear vanspiegel \n",
            "India is so rich that PM Narendra Modi had to implement demonetization to find out who is actually\n",
            "\n",
            "3990)RautelaForever: Dear vanspiegel \n",
            "India is so rich that PM Narendra Modi had to implement demonetization to find out who is actually\n",
            "\n",
            "3991)RautelaForever: Dear vanspiegel \n",
            "India is so rich that PM Narendra Modi had to implement demonetization to find out who is actually\n",
            "\n",
            "3992)RautelaForever: Dear evanspiegel \n",
            "India is so rich that PM Narendra Modi had to implement demonetization to find  \n",
            "\n",
            "3993)RautelaForever: Dear vanspiegel \n",
            "India is so rich that PM Narendra Modi had to implement demonetization to find out who is actually\n",
            "\n",
            "3994)RautelaForever: Dear vanspiegel \n",
            "India is so rich that PM Narendra Modi had to implement demonetization to find out who is actually\n",
            "\n",
            "3995)RautelaForever: Dear vanspiegel \n",
            "India is so rich that PM Narendra Modi had to implement demonetization to find out who is actually\n",
            "\n",
            "3996)RautelaForever: Dear vanspiegel \n",
            "India is so rich that PM Narendra Modi had to implement demonetization to find out who is actually\n",
            "\n",
            "3997)RautelaForever: Dear vanspiegel \n",
            "India is so rich that PM Narendra Modi had to implement demonetization to find out who is actually\n",
            "\n",
            "3998)RautelaForever: Dear vanspiegel \n",
            "India is so rich that PM Narendra Modi had to implement demonetization to find out who is actually\n",
            "\n",
            "3999)heman_theplan Whether it's a developing/develop  country..1 shud 1st learn to respect others< ><U+ ><U+ >< ><U+ ><U+0091>India is so rich da  \n",
            "\n",
            "4000)RautelaForever: Dear vanspiegel \n",
            "India is so rich that PM Narendra Modi had to implement demonetization to find out who is actually\n",
            "\n",
            "4001)RautelaForever: Dear vanspiegel \n",
            "India is so rich that PM Narendra Modi had to implement demonetization to find out who is actually\n",
            "\n",
            "4002)RautelaForever: Dear vanspiegel \n",
            "India is so rich that PM Narendra Modi had to implement demonetization to find out who is actually\n",
            "\n",
            "4003)NTata2000: The governments bold implementation of the demonetization programme ne s the nations support.  \n",
            "\n",
            "4004)RautelaForever: Dear vanspiegel \n",
            "India is so rich that PM Narendra Modi had to implement demonetization to find out who is actually\n",
            "\n",
            "4005)RautelaForever: Dear vanspiegel \n",
            "India is so rich that PM Narendra Modi had to implement demonetization to find out who is actually\n",
            "\n",
            "4006)aanupriyaaa: Dear vanspiegel \n",
            "India is so rich that PM Narendra Modi had to implement demonetization to find out who is actually poo\n",
            "\n",
            "4007)RautelaForever: Dear vanspiegel \n",
            "India is so rich that PM Narendra Modi had to implement demonetization to find out who is actually\n",
            "\n",
            "4008)RautelaForever: Dear vanspiegel \n",
            "India is so rich that PM Narendra Modi had to implement demonetization to find out who is actually\n",
            "\n",
            "4009)RautelaForever: Dear vanspiegel \n",
            "India is so rich that PM Narendra Modi had to implement demonetization to find out who is actually\n",
            "\n",
            "4010)RautelaForever: Dear vanspiegel \n",
            "India is so rich that PM Narendra Modi had to implement demonetization to find out who is actually\n",
            "\n",
            "4011)RautelaForever: Dear vanspiegel \n",
            "India is so rich that PM Narendra Modi had to implement demonetization to find out who is actually\n",
            "\n",
            "4012)RautelaForever: Dear vanspiegel \n",
            "India is so rich that PM Narendra Modi had to implement demonetization to find out who is actually\n",
            "\n",
            "4013)RautelaForever: Dear vanspiegel \n",
            "India is so rich that PM Narendra Modi had to implement demonetization to find out who is actually\n",
            "\n",
            "4014)RautelaForever: Dear vanspiegel \n",
            "India is so rich that PM Narendra Modi had to implement demonetization to find out who is actually\n",
            "\n",
            "4015)RautelaForever: Dear vanspiegel \n",
            "India is so rich that PM Narendra Modi had to implement demonetization to find out who is actually\n",
            "\n",
            "4016)RautelaForever: Dear vanspiegel \n",
            "India is so rich that PM Narendra Modi had to implement demonetization to find out who is actually\n",
            "\n",
            "4017)India is poor because they threw money worth 10 times more than Spanchat in Gutter during Demonetization   boycottsnapchat\n",
            "\n",
            "4018)RautelaForever: Dear vanspiegel \n",
            "India is so rich that PM Narendra Modi had to implement demonetization to find out who is actually\n",
            "\n",
            "4019)RautelaForever: Dear vanspiegel \n",
            "India is so rich that PM Narendra Modi had to implement demonetization to find out who is actually\n",
            "\n",
            "4020)RautelaForever: Dear vanspiegel \n",
            "India is so rich that PM Narendra Modi had to implement demonetization to find out who is actually\n",
            "\n",
            "4021)RautelaForever: Dear vanspiegel \n",
            "India is so rich that PM Narendra Modi had to implement demonetization to find out who is actually\n",
            "\n",
            "4022)RautelaForever: Dear vanspiegel \n",
            "India is so rich that PM Narendra Modi had to implement demonetization to find out who is actually\n",
            "\n",
            "4023)RautelaForever: Dear vanspiegel \n",
            "India is so rich that PM Narendra Modi had to implement demonetization to find out who is actually\n",
            "\n",
            "4024)RautelaForever: Dear vanspiegel \n",
            "India is so rich that PM Narendra Modi had to implement demonetization to find out who is actually\n",
            "\n",
            "4025)What's happening with ATMs. So much cash crunch even after 150 days of demonetization.Why the finance babus doesn't  \n",
            "\n",
            "4026)RautelaForever: Dear vanspiegel \n",
            "India is so rich that PM Narendra Modi had to implement demonetization to find out who is actually\n",
            "\n",
            "4027)RautelaForever: Dear vanspiegel \n",
            "India is so rich that PM Narendra Modi had to implement demonetization to find out who is actually\n",
            "\n",
            "4028)RautelaForever: Dear vanspiegel \n",
            "India is so rich that PM Narendra Modi had to implement demonetization to find out who is actually\n",
            "\n",
            "4029)RautelaForever: Dear vanspiegel \n",
            "India is so rich that PM Narendra Modi had to implement demonetization to find out who is actually\n",
            "\n",
            "4030)RautelaForever: Dear vanspiegel \n",
            "India is so rich that PM Narendra Modi had to implement demonetization to find out who is actually\n",
            "\n",
            "4031)RautelaForever: Dear vanspiegel \n",
            "India is so rich that PM Narendra Modi had to implement demonetization to find out who is actually\n",
            "\n",
            "4032)RautelaForever: Dear vanspiegel \n",
            "India is so rich that PM Narendra Modi had to implement demonetization to find out who is actually\n",
            "\n",
            "4033)RautelaForever: Dear vanspiegel \n",
            "India is so rich that PM Narendra Modi had to implement demonetization to find out who is actually\n",
            "\n",
            "4034)RautelaForever: Dear vanspiegel \n",
            "India is so rich that PM Narendra Modi had to implement demonetization to find out who is actually\n",
            "\n",
            "4035)RautelaForever: Dear vanspiegel \n",
            "India is so rich that PM Narendra Modi had to implement demonetization to find out who is actually\n",
            "\n",
            "4036)RautelaForever: Dear vanspiegel \n",
            "India is so rich that PM Narendra Modi had to implement demonetization to find out who is actually\n",
            "\n",
            "4037)RautelaForever: Dear vanspiegel \n",
            "India is so rich that PM Narendra Modi had to implement demonetization to find out who is actually\n",
            "\n",
            "4038)We are so gareeb that PM Modi had to implement demonetization to find out who is actually poor. :) :)\n",
            "\n",
            "4039)RautelaForever: Dear vanspiegel \n",
            "India is so rich that PM Narendra Modi had to implement demonetization to find out who is actually\n",
            "\n",
            "4040)RautelaForever: Dear vanspiegel \n",
            "India is so rich that PM Narendra Modi had to implement demonetization to find out who is actually\n",
            "\n",
            "4041)RautelaForever: Dear vanspiegel \n",
            "India is so rich that PM Narendra Modi had to implement demonetization to find out who is actually\n",
            "\n",
            "4042)RautelaForever: Dear vanspiegel \n",
            "India is so rich that PM Narendra Modi had to implement demonetization to find out who is actually\n",
            "\n",
            "4043)RautelaForever: Dear vanspiegel \n",
            "India is so rich that PM Narendra Modi had to implement demonetization to find out who is actually\n",
            "\n",
            "4044)RautelaForever: Dear vanspiegel \n",
            "India is so rich that PM Narendra Modi had to implement demonetization to find out who is actually\n",
            "\n",
            "4045)RautelaForever: Dear vanspiegel \n",
            "India is so rich that PM Narendra Modi had to implement demonetization to find out who is actually\n",
            "\n",
            "4046)RautelaForever: Dear vanspiegel \n",
            "India is so rich that PM Narendra Modi had to implement demonetization to find out who is actually\n",
            "\n",
            "4047)RautelaForever: Dear vanspiegel \n",
            "India is so rich that PM Narendra Modi had to implement demonetization to find out who is actually\n",
            "\n",
            "4048)As you have done the great job of demonetization hoping the same for this issue of RESERVED INDIA \n",
            "arendramodi\n",
            "\n",
            "4049)RautelaForever: Dear vanspiegel \n",
            "India is so rich that PM Narendra Modi had to implement demonetization to find out who is actually\n",
            "\n",
            "4050)RautelaForever: Dear vanspiegel \n",
            "India is so rich that PM Narendra Modi had to implement demonetization to find out who is actually\n",
            "\n",
            "4051)Stocks of a sector move in same direction because they act same. Now most banks want to do Spend Analysis. Trend. Demonetization Impact!\n",
            "\n",
            "4052)RautelaForever: Dear vanspiegel \n",
            "India is so rich that PM Narendra Modi had to implement demonetization to find out who is actually\n",
            "\n",
            "4053)RautelaForever: Dear vanspiegel \n",
            "India is so rich that PM Narendra Modi had to implement demonetization to find out who is actually\n",
            "\n",
            "4054)RautelaForever: Dear vanspiegel \n",
            "India is so rich that PM Narendra Modi had to implement demonetization to find out who is actually\n",
            "\n",
            "4055)RautelaForever: Dear vanspiegel \n",
            "India is so rich that PM Narendra Modi had to implement demonetization to find out who is actually\n",
            "\n",
            "4056)RautelaForever: Dear vanspiegel \n",
            "India is so rich that PM Narendra Modi had to implement demonetization to find out who is actually\n",
            "\n",
            "4057)RautelaForever: Dear vanspiegel \n",
            "India is so rich that PM Narendra Modi had to implement demonetization to find out who is actually\n",
            "\n",
            "4058)RautelaForever: Dear vanspiegel \n",
            "India is so rich that PM Narendra Modi had to implement demonetization to find out who is actually\n",
            "\n",
            "4059)RautelaForever: Dear vanspiegel \n",
            "India is so rich that PM Narendra Modi had to implement demonetization to find out who is actually\n",
            "\n",
            "4060)RautelaForever: Dear vanspiegel \n",
            "India is so rich that PM Narendra Modi had to implement demonetization to find out who is actually\n",
            "\n",
            "4061)aanupriyaaa: Dear vanspiegel \n",
            "India is so rich that PM Narendra Modi had to implement demonetization to find out who is actually poo\n",
            "\n",
            "4062)RautelaForever: Dear vanspiegel \n",
            "India is so rich that PM Narendra Modi had to implement demonetization to find out who is actually\n",
            "\n",
            "4063)RautelaForever: Dear vanspiegel \n",
            "India is so rich that PM Narendra Modi had to implement demonetization to find out who is actually\n",
            "\n",
            "4064)RautelaForever: Dear vanspiegel \n",
            "India is so rich that PM Narendra Modi had to implement demonetization to find out who is actually\n",
            "\n",
            "4065)RautelaForever: Dear vanspiegel \n",
            "India is so rich that PM Narendra Modi had to implement demonetization to find out who is actually\n",
            "\n",
            "4066)RautelaForever: Dear vanspiegel \n",
            "India is so rich that PM Narendra Modi had to implement demonetization to find out who is actually\n",
            "\n",
            "4067)RautelaForever: Dear vanspiegel \n",
            "India is so rich that PM Narendra Modi had to implement demonetization to find out who is actually\n",
            "\n",
            "4068)RautelaForever: Dear vanspiegel \n",
            "India is so rich that PM Narendra Modi had to implement demonetization to find out who is actually\n",
            "\n",
            "4069)icha_singh avri007 despite DeMonetization success.\n",
            "\n",
            "4070)RautelaForever: Dear vanspiegel \n",
            "India is so rich that PM Narendra Modi had to implement demonetization to find out who is actually\n",
            "\n",
            "4071)RautelaForever: Dear vanspiegel \n",
            "India is so rich that PM Narendra Modi had to implement demonetization to find out who is actually\n",
            "\n",
            "4072)aanupriyaaa: Dear vanspiegel \n",
            "India is so rich that PM Narendra Modi had to implement demonetization to find out who is actually poo\n",
            "\n",
            "4073)RautelaForever: Dear vanspiegel \n",
            "India is so rich that PM Narendra Modi had to implement demonetization to find out who is actually\n",
            "\n",
            "4074)RautelaForever: Dear vanspiegel \n",
            "India is so rich that PM Narendra Modi had to implement demonetization to find out who is actually\n",
            "\n",
            "4075)RautelaForever: Dear vanspiegel \n",
            "India is so rich that PM Narendra Modi had to implement demonetization to find out who is actually\n",
            "\n",
            "4076)admanweb It had definitely stopp . Even the liberal journo funds got dri  up, and they were clueless for many m  \n",
            "\n",
            "4077)RautelaForever: Dear vanspiegel \n",
            "India is so rich that PM Narendra Modi had to implement demonetization to find out who is actually\n",
            "\n",
            "4078)Remember guys, how the government after demonetization encourag  cashless transactions aiming for a significant...  \n",
            "\n",
            "4079)RautelaForever: Dear vanspiegel \n",
            "India is so rich that PM Narendra Modi had to implement demonetization to find out who is actually\n",
            "\n",
            "4080)RautelaForever: Dear vanspiegel \n",
            "India is so rich that PM Narendra Modi had to implement demonetization to find out who is actually\n",
            "\n",
            "4081)RautelaForever: Dear vanspiegel \n",
            "India is so rich that PM Narendra Modi had to implement demonetization to find out who is actually\n",
            "\n",
            "4082)RautelaForever: Dear vanspiegel \n",
            "India is so rich that PM Narendra Modi had to implement demonetization to find out who is actually\n",
            "\n",
            "4083)RautelaForever: Dear vanspiegel \n",
            "India is so rich that PM Narendra Modi had to implement demonetization to find out who is actually\n",
            "\n",
            "4084)RautelaForever: Dear vanspiegel \n",
            "India is so rich that PM Narendra Modi had to implement demonetization to find out who is actually\n",
            "\n",
            "4085)RautelaForever: Dear evanspiegel \n",
            "India is so rich that PM Narendra Modi had to implement demonetization to find  \n",
            "\n",
            "4086)RautelaForever: Dear vanspiegel \n",
            "India is so rich that PM Narendra Modi had to implement demonetization to find out who is actually\n",
            "\n",
            "4087)aanupriyaaa: Dear vanspiegel \n",
            "India is so rich that PM Narendra Modi had to implement demonetization to find out who is actually poo\n",
            "\n",
            "4088)RautelaForever: Dear vanspiegel \n",
            "India is so rich that PM Narendra Modi had to implement demonetization to find out who is actually\n",
            "\n",
            "4089)r_SarithaAR: AAP &amp; AK hv consistently voic  on national issues be it Farmer, CrossBorderTerrorism, Demonetization, EVM, Corruption\n",
            "Le\n",
            "\n",
            "4090)RautelaForever: Dear vanspiegel \n",
            "India is so rich that PM Narendra Modi had to implement demonetization to find out who is actually\n",
            "\n",
            "4091)RautelaForever: Dear vanspiegel \n",
            "India is so rich that PM Narendra Modi had to implement demonetization to find out who is actually\n",
            "\n",
            "4092)RautelaForever: Dear vanspiegel \n",
            "India is so rich that PM Narendra Modi had to implement demonetization to find out who is actually\n",
            "\n",
            "4093)RautelaForever: Dear vanspiegel \n",
            "India is so rich that PM Narendra Modi had to implement demonetization to find out who is actually\n",
            "\n",
            "4094)RautelaForever: Dear vanspiegel \n",
            "India is so rich that PM Narendra Modi had to implement demonetization to find out who is actually\n",
            "\n",
            "4095)RautelaForever: Dear vanspiegel \n",
            "India is so rich that PM Narendra Modi had to implement demonetization to find out who is actually\n",
            "\n",
            "4096)RautelaForever: Dear vanspiegel \n",
            "India is so rich that PM Narendra Modi had to implement demonetization to find out who is actually\n",
            "\n",
            "4097)RautelaForever: Dear vanspiegel \n",
            "India is so rich that PM Narendra Modi had to implement demonetization to find out who is actually\n",
            "\n",
            "4098)vanspiegel !! I think you don't know..Money thrown by Indians down the drain during DEMONETIZATION is more than your whole company budget.\n",
            "\n",
            "4099)vanspiegel money flush  by indians during demonetization was more than enough to buy your company along with You..\n",
            "\n",
            "4100)RautelaForever: Dear vanspiegel \n",
            "India is so rich that PM Narendra Modi had to implement demonetization to find out who is actually\n",
            "\n",
            "4101)RautelaForever: Dear vanspiegel \n",
            "India is so rich that PM Narendra Modi had to implement demonetization to find out who is actually\n",
            "\n",
            "4102)RautelaForever: Dear vanspiegel \n",
            "India is so rich that PM Narendra Modi had to implement demonetization to find out who is actually\n",
            "\n",
            "4103)RautelaForever: Dear vanspiegel \n",
            "India is so rich that PM Narendra Modi had to implement demonetization to find out who is actually\n",
            "\n",
            "4104)RautelaForever: Dear vanspiegel \n",
            "India is so rich that PM Narendra Modi had to implement demonetization to find out who is actually\n",
            "\n",
            "4105)RautelaForever: Dear vanspiegel \n",
            "India is so rich that PM Narendra Modi had to implement demonetization to find out who is actually\n",
            "\n",
            "4106)RautelaForever: Dear vanspiegel \n",
            "India is so rich that PM Narendra Modi had to implement demonetization to find out who is actually\n",
            "\n",
            "4107)RautelaForever: Dear evanspiegel \n",
            "India is so rich that PM Narendra Modi had to implement demonetization to find  \n",
            "\n",
            "4108)RautelaForever: Dear vanspiegel \n",
            "India is so rich that PM Narendra Modi had to implement demonetization to find out who is actually\n",
            "\n",
            "4109)RautelaForever: Dear evanspiegel \n",
            "India is so rich that PM Narendra Modi had to implement demonetization to find  \n",
            "\n",
            "4110)RautelaForever: Dear vanspiegel \n",
            "India is so rich that PM Narendra Modi had to implement demonetization to find out who is actually\n",
            "\n",
            "4111)RautelaForever: Dear vanspiegel \n",
            "India is so rich that PM Narendra Modi had to implement demonetization to find out who is actually\n",
            "\n",
            "4112)RautelaForever: Dear evanspiegel \n",
            "India is so rich that PM Narendra Modi had to implement demonetization to find  \n",
            "\n",
            "4113)RautelaForever: Dear vanspiegel \n",
            "India is so rich that PM Narendra Modi had to implement demonetization to find out who is actually\n",
            "\n",
            "4114)RautelaForever: Dear vanspiegel \n",
            "India is so rich that PM Narendra Modi had to implement demonetization to find out who is actually\n",
            "\n",
            "4115)RautelaForever: Dear vanspiegel \n",
            "India is so rich that PM Narendra Modi had to implement demonetization to find out who is actually\n",
            "\n",
            "4116)RautelaForever: Dear vanspiegel \n",
            "India is so rich that PM Narendra Modi had to implement demonetization to find out who is actually\n",
            "\n",
            "4117)RautelaForever: Dear vanspiegel \n",
            "India is so rich that PM Narendra Modi had to implement demonetization to find out who is actually\n",
            "\n",
            "4118)BoycottSnapchat The country where people drain  more money during demonetization than total worth of the company  \n",
            "\n",
            "4119)RautelaForever: Dear vanspiegel \n",
            "India is so rich that PM Narendra Modi had to implement demonetization to find out who is actually\n",
            "\n",
            "4120)RautelaForever: Dear vanspiegel \n",
            "India is so rich that PM Narendra Modi had to implement demonetization to find out who is actually\n",
            "\n",
            "4121)RautelaForever: Dear vanspiegel \n",
            "India is so rich that PM Narendra Modi had to implement demonetization to find out who is actually\n",
            "\n",
            "4122)RautelaForever: Dear vanspiegel \n",
            "India is so rich that PM Narendra Modi had to implement demonetization to find out who is actually\n",
            "\n",
            "4123)RautelaForever: Dear vanspiegel \n",
            "India is so rich that PM Narendra Modi had to implement demonetization to find out who is actually\n",
            "\n",
            "4124)RautelaForever: Dear vanspiegel \n",
            "India is so rich that PM Narendra Modi had to implement demonetization to find out who is actually\n",
            "\n",
            "4125)RautelaForever: Dear vanspiegel \n",
            "India is so rich that PM Narendra Modi had to implement demonetization to find out who is actually\n",
            "\n",
            "4126)RautelaForever: Dear vanspiegel \n",
            "India is so rich that PM Narendra Modi had to implement demonetization to find out who is actually\n",
            "\n",
            "4127)RautelaForever: Dear vanspiegel \n",
            "India is so rich that PM Narendra Modi had to implement demonetization to find out who is actually\n",
            "\n",
            "4128)RautelaForever: Dear vanspiegel \n",
            "India is so rich that PM Narendra Modi had to implement demonetization to find out who is actually\n",
            "\n",
            "4129)RautelaForever: Dear vanspiegel \n",
            "India is so rich that PM Narendra Modi had to implement demonetization to find out who is actually\n",
            "\n",
            "4130)RautelaForever: Dear vanspiegel \n",
            "India is so rich that PM Narendra Modi had to implement demonetization to find out who is actually\n",
            "\n",
            "4131)RautelaForever: Dear vanspiegel \n",
            "India is so rich that PM Narendra Modi had to implement demonetization to find out who is actually\n",
            "\n",
            "4132)RautelaForever: Dear vanspiegel \n",
            "India is so rich that PM Narendra Modi had to implement demonetization to find out who is actually\n",
            "\n",
            "4133)RautelaForever: Dear vanspiegel \n",
            "India is so rich that PM Narendra Modi had to implement demonetization to find out who is actually\n",
            "\n",
            "4134)RautelaForever: Dear vanspiegel \n",
            "India is so rich that PM Narendra Modi had to implement demonetization to find out who is actually\n",
            "\n",
            "4135)RautelaForever: Dear vanspiegel \n",
            "India is so rich that PM Narendra Modi had to implement demonetization to find out who is actually\n",
            "\n",
            "4136)RautelaForever: Dear vanspiegel \n",
            "India is so rich that PM Narendra Modi had to implement demonetization to find out who is actually\n",
            "\n",
            "4137)RautelaForever: Dear vanspiegel \n",
            "India is so rich that PM Narendra Modi had to implement demonetization to find out who is actually\n",
            "\n",
            "4138)RautelaForever: Dear vanspiegel \n",
            "India is so rich that PM Narendra Modi had to implement demonetization to find out who is actually\n",
            "\n",
            "4139)RautelaForever: Dear vanspiegel \n",
            "India is so rich that PM Narendra Modi had to implement demonetization to find out who is actually\n",
            "\n",
            "4140)RautelaForever: Dear vanspiegel \n",
            "India is so rich that PM Narendra Modi had to implement demonetization to find out who is actually\n",
            "\n",
            "4141)RautelaForever: Dear vanspiegel \n",
            "India is so rich that PM Narendra Modi had to implement demonetization to find out who is actually\n",
            "\n",
            "4142)RautelaForever: Dear vanspiegel \n",
            "India is so rich that PM Narendra Modi had to implement demonetization to find out who is actually\n",
            "\n",
            "4143)RautelaForever: Dear vanspiegel \n",
            "India is so rich that PM Narendra Modi had to implement demonetization to find out who is actually\n",
            "\n",
            "4144)RautelaForever: Dear vanspiegel \n",
            "India is so rich that PM Narendra Modi had to implement demonetization to find out who is actually\n",
            "\n",
            "4145)RautelaForever: Dear evanspiegel \n",
            "India is so rich that PM Narendra Modi had to implement demonetization to find  \n",
            "\n",
            "4146)RautelaForever: Dear vanspiegel \n",
            "India is so rich that PM Narendra Modi had to implement demonetization to find out who is actually\n",
            "\n",
            "4147)RautelaForever: Dear vanspiegel \n",
            "India is so rich that PM Narendra Modi had to implement demonetization to find out who is actually\n",
            "\n",
            "4148)RautelaForever: Dear vanspiegel \n",
            "India is so rich that PM Narendra Modi had to implement demonetization to find out who is actually\n",
            "\n",
            "4149)RautelaForever: Dear evanspiegel \n",
            "India is so rich that PM Narendra Modi had to implement demonetization to find  \n",
            "\n",
            "4150)RautelaForever: Dear vanspiegel \n",
            "India is so rich that PM Narendra Modi had to implement demonetization to find out who is actually\n",
            "\n",
            "4151)RautelaForever: Dear vanspiegel \n",
            "India is so rich that PM Narendra Modi had to implement demonetization to find out who is actually\n",
            "\n",
            "4152)RautelaForever: Dear vanspiegel \n",
            "India is so rich that PM Narendra Modi had to implement demonetization to find out who is actually\n",
            "\n",
            "4153)RautelaForever: Dear vanspiegel \n",
            "India is so rich that PM Narendra Modi had to implement demonetization to find out who is actually\n",
            "\n",
            "4154)RautelaForever: Dear vanspiegel \n",
            "India is so rich that PM Narendra Modi had to implement demonetization to find out who is actually\n",
            "\n",
            "4155)RautelaForever: Dear vanspiegel \n",
            "India is so rich that PM Narendra Modi had to implement demonetization to find out who is actually\n",
            "\n",
            "4156)RautelaForever: Dear vanspiegel \n",
            "India is so rich that PM Narendra Modi had to implement demonetization to find out who is actually\n",
            "\n",
            "4157)imcast: Youtube flags my videos for demonetization then after most people have already watch  them they will reinstate ads, thus I ge\n",
            "\n",
            "4158)ax70391931: I welcome ur decisions on demonetization but won't you look at other side where the common is suffering at a tender lifest\n",
            "\n",
            "4159)rbajithkumar avarkar5200 These are men who stand of their \"own will\".\n",
            "\n",
            "Demonetization \"forc \" people to stand  \n",
            "\n",
            "4160)RautelaForever: Dear vanspiegel \n",
            "India is so rich that PM Narendra Modi had to implement demonetization to find out who is actually\n",
            "\n",
            "4161)RautelaForever: Dear vanspiegel \n",
            "India is so rich that PM Narendra Modi had to implement demonetization to find out who is actually\n",
            "\n",
            "4162)RautelaForever: Dear vanspiegel \n",
            "India is so rich that PM Narendra Modi had to implement demonetization to find out who is actually\n",
            "\n",
            "4163)RautelaForever: Dear vanspiegel \n",
            "India is so rich that PM Narendra Modi had to implement demonetization to find out who is actually\n",
            "\n",
            "4164)RautelaForever: Dear vanspiegel \n",
            "India is so rich that PM Narendra Modi had to implement demonetization to find out who is actually\n",
            "\n",
            "4165)RautelaForever: Dear vanspiegel \n",
            "India is so rich that PM Narendra Modi had to implement demonetization to find out who is actually\n",
            "\n",
            "4166)RautelaForever: Dear vanspiegel \n",
            "India is so rich that PM Narendra Modi had to implement demonetization to find out who is actually\n",
            "\n",
            "4167)RautelaForever: Dear vanspiegel \n",
            "India is so rich that PM Narendra Modi had to implement demonetization to find out who is actually\n",
            "\n",
            "4168)RautelaForever: Dear vanspiegel \n",
            "India is so rich that PM Narendra Modi had to implement demonetization to find out who is actually\n",
            "\n",
            "4169)RautelaForever: Dear vanspiegel \n",
            "India is so rich that PM Narendra Modi had to implement demonetization to find out who is actually\n",
            "\n",
            "4170)rnabGoswamiTv: 'Notebandi achha hai': In UP's sugarcane belt, demonetization is a sweet word    \n",
            "\n",
            "4171)rnabGoswamiTv: 'Notebandi achha hai': In UP's sugarcane belt, demonetization is a sweet word    \n",
            "\n",
            "4172)RautelaForever: Dear vanspiegel \n",
            "India is so rich that PM Narendra Modi had to implement demonetization to find out who is actually\n",
            "\n",
            "4173)RautelaForever: Dear vanspiegel \n",
            "India is so rich that PM Narendra Modi had to implement demonetization to find out who is actually\n",
            "\n",
            "4174)RautelaForever: Dear vanspiegel \n",
            "India is so rich that PM Narendra Modi had to implement demonetization to find out who is actually\n",
            "\n",
            "4175)RautelaForever: Dear vanspiegel \n",
            "India is so rich that PM Narendra Modi had to implement demonetization to find out who is actually\n",
            "\n",
            "4176)RautelaForever: Dear vanspiegel \n",
            "India is so rich that PM Narendra Modi had to implement demonetization to find out who is actually\n",
            "\n",
            "4177)RautelaForever: Dear vanspiegel \n",
            "India is so rich that PM Narendra Modi had to implement demonetization to find out who is actually\n",
            "\n",
            "4178)RautelaForever: Dear vanspiegel \n",
            "India is so rich that PM Narendra Modi had to implement demonetization to find out who is actually\n",
            "\n",
            "4179)RautelaForever: Dear vanspiegel \n",
            "India is so rich that PM Narendra Modi had to implement demonetization to find out who is actually\n",
            "\n",
            "4180)RautelaForever: Dear vanspiegel \n",
            "India is so rich that PM Narendra Modi had to implement demonetization to find out who is actually\n",
            "\n",
            "4181)RautelaForever: Dear vanspiegel \n",
            "India is so rich that PM Narendra Modi had to implement demonetization to find out who is actually\n",
            "\n",
            "4182)RautelaForever: Dear vanspiegel \n",
            "India is so rich that PM Narendra Modi had to implement demonetization to find out who is actually\n",
            "\n",
            "4183)India is so rich that PM arendramodi had to implement demonetization to find out who is  \n",
            "\n",
            "4184)RautelaForever: Dear vanspiegel \n",
            "India is so rich that PM Narendra Modi had to implement demonetization to find out who is actually\n",
            "\n",
            "4185)RautelaForever: Dear evanspiegel \n",
            "India is so rich that PM Narendra Modi had to implement demonetization to find  \n",
            "\n",
            "4186)RautelaForever: Dear vanspiegel \n",
            "India is so rich that PM Narendra Modi had to implement demonetization to find out who is actually\n",
            "\n",
            "4187)RautelaForever: Dear vanspiegel \n",
            "India is so rich that PM Narendra Modi had to implement demonetization to find out who is actually\n",
            "\n",
            "4188)RautelaForever: Dear vanspiegel \n",
            "India is so rich that PM Narendra Modi had to implement demonetization to find out who is actually\n",
            "\n",
            "4189)RautelaForever: Dear evanspiegel \n",
            "India is so rich that PM Narendra Modi had to implement demonetization to find  \n",
            "\n",
            "4190)RautelaForever: Dear vanspiegel \n",
            "India is so rich that PM Narendra Modi had to implement demonetization to find out who is actually\n",
            "\n",
            "4191)RautelaForever: Dear vanspiegel \n",
            "India is so rich that PM Narendra Modi had to implement demonetization to find out who is actually\n",
            "\n",
            "4192)RautelaForever: Dear vanspiegel \n",
            "India is so rich that PM Narendra Modi had to implement demonetization to find out who is actually\n",
            "\n",
            "4193)RautelaForever: Dear vanspiegel \n",
            "India is so rich that PM Narendra Modi had to implement demonetization to find out who is actually\n",
            "\n",
            "4194)aanupriyaaa: Dear vanspiegel \n",
            "India is so rich that PM Narendra Modi had to implement demonetization to find out who is actually poo\n",
            "\n",
            "4195)RautelaForever: Dear vanspiegel \n",
            "India is so rich that PM Narendra Modi had to implement demonetization to find out who is actually\n",
            "\n",
            "4196)RautelaForever: Dear vanspiegel \n",
            "India is so rich that PM Narendra Modi had to implement demonetization to find out who is actually\n",
            "\n",
            "4197)RautelaForever: Dear vanspiegel \n",
            "India is so rich that PM Narendra Modi had to implement demonetization to find out who is actually\n",
            "\n",
            "4198)RautelaForever: Dear vanspiegel \n",
            "India is so rich that PM Narendra Modi had to implement demonetization to find out who is actually\n",
            "\n",
            "4199)RautelaForever: Dear vanspiegel \n",
            "India is so rich that PM Narendra Modi had to implement demonetization to find out who is actually\n",
            "\n",
            "4200)RautelaForever: Dear vanspiegel \n",
            "India is so rich that PM Narendra Modi had to implement demonetization to find out who is actually\n",
            "\n",
            "4201)RautelaForever: Dear vanspiegel \n",
            "India is so rich that PM Narendra Modi had to implement demonetization to find out who is actually\n",
            "\n",
            "4202)RautelaForever: Dear vanspiegel \n",
            "India is so rich that PM Narendra Modi had to implement demonetization to find out who is actually\n",
            "\n",
            "4203)RautelaForever: Dear vanspiegel \n",
            "India is so rich that PM Narendra Modi had to implement demonetization to find out who is actually\n",
            "\n",
            "4204)RautelaForever: Dear vanspiegel \n",
            "India is so rich that PM Narendra Modi had to implement demonetization to find out who is actually\n",
            "\n",
            "4205)RautelaForever: Dear vanspiegel \n",
            "India is so rich that PM Narendra Modi had to implement demonetization to find out who is actually\n",
            "\n",
            "4206)RautelaForever: Dear vanspiegel \n",
            "India is so rich that PM Narendra Modi had to implement demonetization to find out who is actually\n",
            "\n",
            "4207)RautelaForever: Dear evanspiegel \n",
            "India is so rich that PM Narendra Modi had to implement demonetization to find  \n",
            "\n",
            "4208)RautelaForever: Dear vanspiegel \n",
            "India is so rich that PM Narendra Modi had to implement demonetization to find out who is actually\n",
            "\n",
            "4209)RautelaForever: Dear vanspiegel \n",
            "India is so rich that PM Narendra Modi had to implement demonetization to find out who is actually\n",
            "\n",
            "4210)RautelaForever: Dear vanspiegel \n",
            "India is so rich that PM Narendra Modi had to implement demonetization to find out who is actually\n",
            "\n",
            "4211)RautelaForever: Dear vanspiegel \n",
            "India is so rich that PM Narendra Modi had to implement demonetization to find out who is actually\n",
            "\n",
            "4212)RautelaForever: Dear vanspiegel \n",
            "India is so rich that PM Narendra Modi had to implement demonetization to find out who is actually\n",
            "\n",
            "4213)RautelaForever: Dear vanspiegel \n",
            "India is so rich that PM Narendra Modi had to implement demonetization to find out who is actually\n",
            "\n",
            "4214)RautelaForever: Dear evanspiegel \n",
            "India is so rich that PM Narendra Modi had to implement demonetization to find  \n",
            "\n",
            "4215)RautelaForever: Dear vanspiegel \n",
            "India is so rich that PM Narendra Modi had to implement demonetization to find out who is actually\n",
            "\n",
            "4216)RautelaForever: Dear vanspiegel \n",
            "India is so rich that PM Narendra Modi had to implement demonetization to find out who is actually\n",
            "\n",
            "4217)RautelaForever: Dear vanspiegel \n",
            "India is so rich that PM Narendra Modi had to implement demonetization to find out who is actually\n",
            "\n",
            "4218)RautelaForever: Dear vanspiegel \n",
            "India is so rich that PM Narendra Modi had to implement demonetization to find out who is actually\n",
            "\n",
            "4219)I strongly believe that snapchatceo miss  the news of demonetization, we poor Indians threw currencies into the river < ><U+ ><U+ >< ><U+ ><U+0082>< ><U+ ><U+ >< ><U+ ><U+0082>\n",
            "boycottsnapchat\n",
            "\n",
            "4220)RautelaForever: Dear vanspiegel \n",
            "India is so rich that PM Narendra Modi had to implement demonetization to find out who is actually\n",
            "\n",
            "4221)RautelaForever: Dear vanspiegel \n",
            "India is so rich that PM Narendra Modi had to implement demonetization to find out who is actually\n",
            "\n",
            "4222)RautelaForever: Dear vanspiegel \n",
            "India is so rich that PM Narendra Modi had to implement demonetization to find out who is actually\n",
            "\n",
            "4223)RautelaForever: Dear vanspiegel \n",
            "India is so rich that PM Narendra Modi had to implement demonetization to find out who is actually\n",
            "\n",
            "4224)RautelaForever: Dear vanspiegel \n",
            "India is so rich that PM Narendra Modi had to implement demonetization to find out who is actually\n",
            "\n",
            "4225)RautelaForever: Dear vanspiegel \n",
            "India is so rich that PM Narendra Modi had to implement demonetization to find out who is actually\n",
            "\n",
            "4226)RautelaForever: Dear vanspiegel \n",
            "India is so rich that PM Narendra Modi had to implement demonetization to find out who is actually\n",
            "\n",
            "4227)RautelaForever: Dear vanspiegel \n",
            "India is so rich that PM Narendra Modi had to implement demonetization to find out who is actually\n",
            "\n",
            "4228)RautelaForever: Dear vanspiegel \n",
            "India is so rich that PM Narendra Modi had to implement demonetization to find out who is actually\n",
            "\n",
            "4229)RautelaForever: Dear vanspiegel \n",
            "India is so rich that PM Narendra Modi had to implement demonetization to find out who is actually\n",
            "\n",
            "4230)RautelaForever: Dear vanspiegel \n",
            "India is so rich that PM Narendra Modi had to implement demonetization to find out who is actually\n",
            "\n",
            "4231)RautelaForever: Dear vanspiegel \n",
            "India is so rich that PM Narendra Modi had to implement demonetization to find out who is actually\n",
            "\n",
            "4232)RautelaForever: Dear vanspiegel \n",
            "India is so rich that PM Narendra Modi had to implement demonetization to find out who is actually\n",
            "\n",
            "4233)RautelaForever: Dear vanspiegel \n",
            "India is so rich that PM Narendra Modi had to implement demonetization to find out who is actually\n",
            "\n",
            "4234)RautelaForever: Dear vanspiegel \n",
            "India is so rich that PM Narendra Modi had to implement demonetization to find out who is actually\n",
            "\n",
            "4235)RautelaForever: Dear vanspiegel \n",
            "India is so rich that PM Narendra Modi had to implement demonetization to find out who is actually\n",
            "\n",
            "4236)RautelaForever: Dear vanspiegel \n",
            "India is so rich that PM Narendra Modi had to implement demonetization to find out who is actually\n",
            "\n",
            "4237)RautelaForever: Dear vanspiegel \n",
            "India is so rich that PM Narendra Modi had to implement demonetization to find out who is actually\n",
            "\n",
            "4238)RautelaForever: Dear vanspiegel \n",
            "India is so rich that PM Narendra Modi had to implement demonetization to find out who is actually\n",
            "\n",
            "4239)RautelaForever: Dear vanspiegel \n",
            "India is so rich that PM Narendra Modi had to implement demonetization to find out who is actually\n",
            "\n",
            "4240)RautelaForever: Dear vanspiegel \n",
            "India is so rich that PM Narendra Modi had to implement demonetization to find out who is actually\n",
            "\n",
            "4241)RautelaForever: Dear vanspiegel \n",
            "India is so rich that PM Narendra Modi had to implement demonetization to find out who is actually\n",
            "\n",
            "4242)RautelaForever: Dear vanspiegel \n",
            "India is so rich that PM Narendra Modi had to implement demonetization to find out who is actually\n",
            "\n",
            "4243)RautelaForever: Dear vanspiegel \n",
            "India is so rich that PM Narendra Modi had to implement demonetization to find out who is actually\n",
            "\n",
            "4244)RautelaForever: Dear vanspiegel \n",
            "India is so rich that PM Narendra Modi had to implement demonetization to find out who is actually\n",
            "\n",
            "4245)RautelaForever: Dear vanspiegel \n",
            "India is so rich that PM Narendra Modi had to implement demonetization to find out who is actually\n",
            "\n",
            "4246)RautelaForever: Dear vanspiegel \n",
            "India is so rich that PM Narendra Modi had to implement demonetization to find out who is actually\n",
            "\n",
            "4247)RautelaForever: Dear vanspiegel \n",
            "India is so rich that PM Narendra Modi had to implement demonetization to find out who is actually\n",
            "\n",
            "4248)RautelaForever: Dear vanspiegel \n",
            "India is so rich that PM Narendra Modi had to implement demonetization to find out who is actually\n",
            "\n",
            "4249)RautelaForever: Dear vanspiegel \n",
            "India is so rich that PM Narendra Modi had to implement demonetization to find out who is actually\n",
            "\n",
            "4250)RautelaForever: Dear vanspiegel \n",
            "India is so rich that PM Narendra Modi had to implement demonetization to find out who is actually\n",
            "\n",
            "4251)RautelaForever: Dear vanspiegel \n",
            "India is so rich that PM Narendra Modi had to implement demonetization to find out who is actually\n",
            "\n",
            "4252)RautelaForever: Dear vanspiegel \n",
            "India is so rich that PM Narendra Modi had to implement demonetization to find out who is actually\n",
            "\n",
            "4253)RautelaForever: Dear evanspiegel \n",
            "India is so rich that PM Narendra Modi had to implement demonetization to find  \n",
            "\n",
            "4254)RautelaForever: Dear vanspiegel \n",
            "India is so rich that PM Narendra Modi had to implement demonetization to find out who is actually\n",
            "\n",
            "4255)RautelaForever: Dear vanspiegel \n",
            "India is so rich that PM Narendra Modi had to implement demonetization to find out who is actually\n",
            "\n",
            "4256)RautelaForever: Dear vanspiegel \n",
            "India is so rich that PM Narendra Modi had to implement demonetization to find out who is actually\n",
            "\n",
            "4257)RautelaForever: Dear vanspiegel \n",
            "India is so rich that PM Narendra Modi had to implement demonetization to find out who is actually\n",
            "\n",
            "4258)RautelaForever: Dear vanspiegel \n",
            "India is so rich that PM Narendra Modi had to implement demonetization to find out who is actually\n",
            "\n",
            "4259)RautelaForever: Dear vanspiegel \n",
            "India is so rich that PM Narendra Modi had to implement demonetization to find out who is actually\n",
            "\n",
            "4260)RautelaForever: Dear vanspiegel \n",
            "India is so rich that PM Narendra Modi had to implement demonetization to find out who is actually\n",
            "\n",
            "4261)RautelaForever: Dear vanspiegel \n",
            "India is so rich that PM Narendra Modi had to implement demonetization to find out who is actually\n",
            "\n",
            "4262)RautelaForever: Dear vanspiegel \n",
            "India is so rich that PM Narendra Modi had to implement demonetization to find out who is actually\n",
            "\n",
            "4263)RautelaForever: Dear vanspiegel \n",
            "India is so rich that PM Narendra Modi had to implement demonetization to find out who is actually\n",
            "\n",
            "4264)RautelaForever: Dear vanspiegel \n",
            "India is so rich that PM Narendra Modi had to implement demonetization to find out who is actually\n",
            "\n",
            "4265)RautelaForever: Dear vanspiegel \n",
            "India is so rich that PM Narendra Modi had to implement demonetization to find out who is actually\n",
            "\n",
            "4266)RautelaForever: Dear vanspiegel \n",
            "India is so rich that PM Narendra Modi had to implement demonetization to find out who is actually\n",
            "\n",
            "4267)RautelaForever: Dear vanspiegel \n",
            "India is so rich that PM Narendra Modi had to implement demonetization to find out who is actually\n",
            "\n",
            "4268)RautelaForever: Dear vanspiegel \n",
            "India is so rich that PM Narendra Modi had to implement demonetization to find out who is actually\n",
            "\n",
            "4269)RautelaForever: Dear vanspiegel \n",
            "India is so rich that PM Narendra Modi had to implement demonetization to find out who is actually\n",
            "\n",
            "4270)RautelaForever: Dear vanspiegel \n",
            "India is so rich that PM Narendra Modi had to implement demonetization to find out who is actually\n",
            "\n",
            "4271)RautelaForever: Dear vanspiegel \n",
            "India is so rich that PM Narendra Modi had to implement demonetization to find out who is actually\n",
            "\n",
            "4272)RautelaForever: Dear vanspiegel \n",
            "India is so rich that PM Narendra Modi had to implement demonetization to find out who is actually\n",
            "\n",
            "4273)RautelaForever: Dear vanspiegel \n",
            "India is so rich that PM Narendra Modi had to implement demonetization to find out who is actually\n",
            "\n",
            "4274)RautelaForever: Dear vanspiegel \n",
            "India is so rich that PM Narendra Modi had to implement demonetization to find out who is actually\n",
            "\n",
            "4275)RautelaForever: Dear vanspiegel \n",
            "India is so rich that PM Narendra Modi had to implement demonetization to find out who is actually\n",
            "\n",
            "4276)RautelaForever: Dear vanspiegel \n",
            "India is so rich that PM Narendra Modi had to implement demonetization to find out who is actually\n",
            "\n",
            "4277)RautelaForever: Dear vanspiegel \n",
            "India is so rich that PM Narendra Modi had to implement demonetization to find out who is actually\n",
            "\n",
            "4278)RautelaForever: Dear vanspiegel \n",
            "India is so rich that PM Narendra Modi had to implement demonetization to find out who is actually\n",
            "\n",
            "4279)RautelaForever: Dear vanspiegel \n",
            "India is so rich that PM Narendra Modi had to implement demonetization to find out who is actually\n",
            "\n",
            "4280)RautelaForever: Dear vanspiegel \n",
            "India is so rich that PM Narendra Modi had to implement demonetization to find out who is actually\n",
            "\n",
            "4281)RautelaForever: Dear vanspiegel \n",
            "India is so rich that PM Narendra Modi had to implement demonetization to find out who is actually\n",
            "\n",
            "4282)RautelaForever: Dear vanspiegel \n",
            "India is so rich that PM Narendra Modi had to implement demonetization to find out who is actually\n",
            "\n",
            "4283)RautelaForever: Dear vanspiegel \n",
            "India is so rich that PM Narendra Modi had to implement demonetization to find out who is actually\n",
            "\n",
            "4284)RautelaForever: Dear vanspiegel \n",
            "India is so rich that PM Narendra Modi had to implement demonetization to find out who is actually\n",
            "\n",
            "4285)RautelaForever: Dear vanspiegel \n",
            "India is so rich that PM Narendra Modi had to implement demonetization to find out who is actually\n",
            "\n",
            "4286)RautelaForever: Dear vanspiegel \n",
            "India is so rich that PM Narendra Modi had to implement demonetization to find out who is actually\n",
            "\n",
            "4287)RautelaForever: Dear vanspiegel \n",
            "India is so rich that PM Narendra Modi had to implement demonetization to find out who is actually\n",
            "\n",
            "4288)No cash in most of the atms from couple of weeks ...\n",
            "is it another demonetization ?emonEtizationn BI anarabanktweet\n",
            "\n",
            "4289)RautelaForever: Dear vanspiegel \n",
            "India is so rich that PM Narendra Modi had to implement demonetization to find out who is actually\n",
            "\n",
            "4290)RautelaForever: Dear vanspiegel \n",
            "India is so rich that PM Narendra Modi had to implement demonetization to find out who is actually\n",
            "\n",
            "4291)RautelaForever: Dear vanspiegel \n",
            "India is so rich that PM Narendra Modi had to implement demonetization to find out who is actually\n",
            "\n",
            "4292)RautelaForever: Dear vanspiegel \n",
            "India is so rich that PM Narendra Modi had to implement demonetization to find out who is actually\n",
            "\n",
            "4293)RautelaForever: Dear vanspiegel \n",
            "India is so rich that PM Narendra Modi had to implement demonetization to find out who is actually\n",
            "\n",
            "4294)RautelaForever: Dear vanspiegel \n",
            "India is so rich that PM Narendra Modi had to implement demonetization to find out who is actually\n",
            "\n",
            "4295)RautelaForever: Dear vanspiegel \n",
            "India is so rich that PM Narendra Modi had to implement demonetization to find out who is actually\n",
            "\n",
            "4296)RautelaForever: Dear vanspiegel \n",
            "India is so rich that PM Narendra Modi had to implement demonetization to find out who is actually\n",
            "\n",
            "4297)RautelaForever: Dear vanspiegel \n",
            "India is so rich that PM Narendra Modi had to implement demonetization to find out who is actually\n",
            "\n",
            "4298)RautelaForever: Dear vanspiegel \n",
            "India is so rich that PM Narendra Modi had to implement demonetization to find out who is actually\n",
            "\n",
            "4299)RautelaForever: Dear vanspiegel \n",
            "India is so rich that PM Narendra Modi had to implement demonetization to find out who is actually\n",
            "\n",
            "4300)RautelaForever: Dear vanspiegel \n",
            "India is so rich that PM Narendra Modi had to implement demonetization to find out who is actually\n",
            "\n",
            "4301)RautelaForever: Dear vanspiegel \n",
            "India is so rich that PM Narendra Modi had to implement demonetization to find out who is actually\n",
            "\n",
            "4302)RautelaForever: Dear vanspiegel \n",
            "India is so rich that PM Narendra Modi had to implement demonetization to find out who is actually\n",
            "\n",
            "4303)tevenSuptic Is the no ad thing on purpose or is it demonetization? I got an ad before taco trip 2017 for the first view but none since..\n",
            "\n",
            "4304)RautelaForever: Dear vanspiegel \n",
            "India is so rich that PM Narendra Modi had to implement demonetization to find out who is actually\n",
            "\n",
            "4305)RautelaForever: Dear vanspiegel \n",
            "India is so rich that PM Narendra Modi had to implement demonetization to find out who is actually\n",
            "\n",
            "4306)RautelaForever: Dear vanspiegel \n",
            "India is so rich that PM Narendra Modi had to implement demonetization to find out who is actually\n",
            "\n",
            "4307)RautelaForever: Dear vanspiegel \n",
            "India is so rich that PM Narendra Modi had to implement demonetization to find out who is actually\n",
            "\n",
            "4308)RautelaForever: Dear vanspiegel \n",
            "India is so rich that PM Narendra Modi had to implement demonetization to find out who is actually\n",
            "\n",
            "4309)RautelaForever: Dear vanspiegel \n",
            "India is so rich that PM Narendra Modi had to implement demonetization to find out who is actually\n",
            "\n",
            "4310)RautelaForever: Dear vanspiegel \n",
            "India is so rich that PM Narendra Modi had to implement demonetization to find out who is actually\n",
            "\n",
            "4311)RautelaForever: Dear vanspiegel \n",
            "India is so rich that PM Narendra Modi had to implement demonetization to find out who is actually\n",
            "\n",
            "4312)RautelaForever: Dear vanspiegel \n",
            "India is so rich that PM Narendra Modi had to implement demonetization to find out who is actually\n",
            "\n",
            "4313)RautelaForever: Dear vanspiegel \n",
            "India is so rich that PM Narendra Modi had to implement demonetization to find out who is actually\n",
            "\n",
            "4314)RautelaForever: Dear evanspiegel \n",
            "India is so rich that PM Narendra Modi had to implement demonetization to find  \n",
            "\n",
            "4315)RautelaForever: Dear vanspiegel \n",
            "India is so rich that PM Narendra Modi had to implement demonetization to find out who is actually\n",
            "\n",
            "4316)RautelaForever: Dear vanspiegel \n",
            "India is so rich that PM Narendra Modi had to implement demonetization to find out who is actually\n",
            "\n",
            "4317)RautelaForever: Dear vanspiegel \n",
            "India is so rich that PM Narendra Modi had to implement demonetization to find out who is actually\n",
            "\n",
            "4318)RautelaForever: Dear evanspiegel \n",
            "India is so rich that PM Narendra Modi had to implement demonetization to find  \n",
            "\n",
            "4319)RautelaForever: Dear vanspiegel \n",
            "India is so rich that PM Narendra Modi had to implement demonetization to find out who is actually\n",
            "\n",
            "4320)RautelaForever: Dear vanspiegel \n",
            "India is so rich that PM Narendra Modi had to implement demonetization to find out who is actually\n",
            "\n",
            "4321)RautelaForever: Dear vanspiegel \n",
            "India is so rich that PM Narendra Modi had to implement demonetization to find out who is actually\n",
            "\n",
            "4322)irenRijiju No no its exactly right BJP did tamper  EVM machine. Ok \n",
            "People never support bjp bcoz of demonetizat  \n",
            "\n",
            "4323)RautelaForever: Dear vanspiegel \n",
            "India is so rich that PM Narendra Modi had to implement demonetization to find out who is actually\n",
            "\n",
            "4324)RautelaForever: Dear vanspiegel \n",
            "India is so rich that PM Narendra Modi had to implement demonetization to find out who is actually\n",
            "\n",
            "Kashmir\n",
            "\n",
            "4326)RautelaForever: Dear vanspiegel \n",
            "India is so rich that PM Narendra Modi had to implement demonetization to find out who is actually\n",
            "\n",
            "4327)RautelaForever: Dear vanspiegel \n",
            "India is so rich that PM Narendra Modi had to implement demonetization to find out who is actually\n",
            "\n",
            "4328)RautelaForever: Dear vanspiegel \n",
            "India is so rich that PM Narendra Modi had to implement demonetization to find out who is actually\n",
            "\n",
            "4329)RautelaForever: Dear vanspiegel \n",
            "India is so rich that PM Narendra Modi had to implement demonetization to find out who is actually\n",
            "\n",
            "4330)RautelaForever: Dear evanspiegel \n",
            "India is so rich that PM Narendra Modi had to implement demonetization to find  \n",
            "\n",
            "4331)RautelaForever: Dear vanspiegel \n",
            "India is so rich that PM Narendra Modi had to implement demonetization to find out who is actually\n",
            "\n",
            "4332)RautelaForever: Dear vanspiegel \n",
            "India is so rich that PM Narendra Modi had to implement demonetization to find out who is actually\n",
            "\n",
            "4333)RautelaForever: Dear vanspiegel \n",
            "India is so rich that PM Narendra Modi had to implement demonetization to find out who is actually\n",
            "\n",
            "4334)RautelaForever: Dear vanspiegel \n",
            "India is so rich that PM Narendra Modi had to implement demonetization to find out who is actually\n",
            "\n",
            "4335)RautelaForever: Dear vanspiegel \n",
            "India is so rich that PM Narendra Modi had to implement demonetization to find out who is actually\n",
            "\n",
            "4336)RautelaForever: Dear evanspiegel \n",
            "India is so rich that PM Narendra Modi had to implement demonetization to find  \n",
            "\n",
            "4337)RautelaForever: Dear vanspiegel \n",
            "India is so rich that PM Narendra Modi had to implement demonetization to find out who is actually\n",
            "\n",
            "4338)RautelaForever: Dear vanspiegel \n",
            "India is so rich that PM Narendra Modi had to implement demonetization to find out who is actually\n",
            "\n",
            "4339)RautelaForever: Dear vanspiegel \n",
            "India is so rich that PM Narendra Modi had to implement demonetization to find out who is actually\n",
            "\n",
            "4340)hashiTharoor MOIndia v kn y BJP did demonetization. To safe guard ur sponsor's assets. Tell me hw many BJP big shots got raid . \n",
            "< ><U+ ><U+ >< ><U+00B9><U+0088>< ><U+ ><U+ >< ><U+00B9><U+0089>< ><U+ ><U+ >< ><U+00B9><U+008A>\n",
            "\n",
            "4341)RautelaForever: Dear vanspiegel \n",
            "India is so rich that PM Narendra Modi had to implement demonetization to find out who is actually\n",
            "\n",
            "4342)RautelaForever: Dear vanspiegel \n",
            "India is so rich that PM Narendra Modi had to implement demonetization to find out who is actually\n",
            "\n",
            "4343)RautelaForever: Dear vanspiegel \n",
            "India is so rich that PM Narendra Modi had to implement demonetization to find out who is actually\n",
            "\n",
            "4344)RautelaForever: Dear vanspiegel \n",
            "India is so rich that PM Narendra Modi had to implement demonetization to find out who is actually\n",
            "\n",
            "4345)RautelaForever: Dear vanspiegel \n",
            "India is so rich that PM Narendra Modi had to implement demonetization to find out who is actually\n",
            "\n",
            "4346)RautelaForever: Dear vanspiegel \n",
            "India is so rich that PM Narendra Modi had to implement demonetization to find out who is actually\n",
            "\n",
            "4347)RautelaForever: Dear evanspiegel \n",
            "India is so rich that PM Narendra Modi had to implement demonetization to find  \n",
            "\n",
            "4348)RautelaForever: Dear vanspiegel \n",
            "India is so rich that PM Narendra Modi had to implement demonetization to find out who is actually\n",
            "\n",
            "4349)RautelaForever: Dear vanspiegel \n",
            "India is so rich that PM Narendra Modi had to implement demonetization to find out who is actually\n",
            "\n",
            "4350)RautelaForever: Dear vanspiegel \n",
            "India is so rich that PM Narendra Modi had to implement demonetization to find out who is actually\n",
            "\n",
            "4351)RautelaForever: Dear vanspiegel \n",
            "India is so rich that PM Narendra Modi had to implement demonetization to find out who is actually\n",
            "\n",
            "4352)RautelaForever: Dear vanspiegel \n",
            "India is so rich that PM Narendra Modi had to implement demonetization to find out who is actually\n",
            "\n",
            "4353)RautelaForever: Dear vanspiegel \n",
            "India is so rich that PM Narendra Modi had to implement demonetization to find out who is actually\n",
            "\n",
            "4354)RautelaForever: Dear vanspiegel \n",
            "India is so rich that PM Narendra Modi had to implement demonetization to find out who is actually\n",
            "\n",
            "4355)RautelaForever: Dear vanspiegel \n",
            "India is so rich that PM Narendra Modi had to implement demonetization to find out who is actually\n",
            "\n",
            "4356)RautelaForever: Dear vanspiegel \n",
            "India is so rich that PM Narendra Modi had to implement demonetization to find out who is actually\n",
            "\n",
            "4357)RautelaForever: Dear vanspiegel \n",
            "India is so rich that PM Narendra Modi had to implement demonetization to find out who is actually\n",
            "\n",
            "4358)RautelaForever: Dear vanspiegel \n",
            "India is so rich that PM Narendra Modi had to implement demonetization to find out who is actually\n",
            "\n",
            "4359)RautelaForever: Dear vanspiegel \n",
            "India is so rich that PM Narendra Modi had to implement demonetization to find out who is actually\n",
            "\n",
            "4360)RautelaForever: Dear vanspiegel \n",
            "India is so rich that PM Narendra Modi had to implement demonetization to find out who is actually\n",
            "\n",
            "4361)RautelaForever: Dear vanspiegel \n",
            "India is so rich that PM Narendra Modi had to implement demonetization to find out who is actually\n",
            "\n",
            "4362)RautelaForever: Dear vanspiegel \n",
            "India is so rich that PM Narendra Modi had to implement demonetization to find out who is actually\n",
            "\n",
            "4363)RautelaForever: Dear vanspiegel \n",
            "India is so rich that PM Narendra Modi had to implement demonetization to find out who is actually\n",
            "\n",
            "4364)RautelaForever: Dear vanspiegel \n",
            "India is so rich that PM Narendra Modi had to implement demonetization to find out who is actually\n",
            "\n",
            "4365)RautelaForever: Dear evanspiegel \n",
            "India is so rich that PM Narendra Modi had to implement demonetization to find  \n",
            "\n",
            "4366)RautelaForever: Dear vanspiegel \n",
            "India is so rich that PM Narendra Modi had to implement demonetization to find out who is actually\n",
            "\n",
            "4367)RautelaForever: Dear vanspiegel \n",
            "India is so rich that PM Narendra Modi had to implement demonetization to find out who is actually\n",
            "\n",
            "4368)RautelaForever: Dear vanspiegel \n",
            "India is so rich that PM Narendra Modi had to implement demonetization to find out who is actually\n",
            "\n",
            "4369)RautelaForever: Dear vanspiegel \n",
            "India is so rich that PM Narendra Modi had to implement demonetization to find out who is actually\n",
            "\n",
            "4370)RautelaForever: Dear vanspiegel \n",
            "India is so rich that PM Narendra Modi had to implement demonetization to find out who is actually\n",
            "\n",
            "4371)RautelaForever: Dear vanspiegel \n",
            "India is so rich that PM Narendra Modi had to implement demonetization to find out who is actually\n",
            "\n",
            "4372)RautelaForever: Dear vanspiegel \n",
            "India is so rich that PM Narendra Modi had to implement demonetization to find out who is actually\n",
            "\n",
            "4373)RautelaForever: Dear vanspiegel \n",
            "India is so rich that PM Narendra Modi had to implement demonetization to find out who is actually\n",
            "\n",
            "4374)ailyonion: 60,000 only? In a Nation, where less than 2% pay their income tax, &amp; 1% are \"declar \" crorepatis, how much has demonetiza\n",
            "\n",
            "4375)RautelaForever: Dear vanspiegel \n",
            "India is so rich that PM Narendra Modi had to implement demonetization to find out who is actually\n",
            "\n",
            "4376)RautelaForever: Dear vanspiegel \n",
            "India is so rich that PM Narendra Modi had to implement demonetization to find out who is actually\n",
            "\n",
            "4377)RautelaForever: Dear vanspiegel \n",
            "India is so rich that PM Narendra Modi had to implement demonetization to find out who is actually\n",
            "\n",
            "4378)RautelaForever: Dear vanspiegel \n",
            "India is so rich that PM Narendra Modi had to implement demonetization to find out who is actually\n",
            "\n",
            "4379)RautelaForever: Dear vanspiegel \n",
            "India is so rich that PM Narendra Modi had to implement demonetization to find out who is actually\n",
            "\n",
            "4380)RautelaForever: Dear vanspiegel \n",
            "India is so rich that PM Narendra Modi had to implement demonetization to find out who is actually\n",
            "\n",
            "4381)RautelaForever: Dear vanspiegel \n",
            "India is so rich that PM Narendra Modi had to implement demonetization to find out who is actually\n",
            "\n",
            "4382)RautelaForever: Dear vanspiegel \n",
            "India is so rich that PM Narendra Modi had to implement demonetization to find out who is actually\n",
            "\n",
            "4383)RautelaForever: Dear vanspiegel \n",
            "India is so rich that PM Narendra Modi had to implement demonetization to find out who is actually\n",
            "\n",
            "4384)RautelaForever: Dear vanspiegel \n",
            "India is so rich that PM Narendra Modi had to implement demonetization to find out who is actually\n",
            "\n",
            "4385)RautelaForever: Dear vanspiegel \n",
            "India is so rich that PM Narendra Modi had to implement demonetization to find out who is actually\n",
            "\n",
            "4386)RautelaForever: Dear vanspiegel \n",
            "India is so rich that PM Narendra Modi had to implement demonetization to find out who is actually\n",
            "\n",
            "4387)aanupriyaaa: Dear vanspiegel \n",
            "India is so rich that PM Narendra Modi had to implement demonetization to find out who is actually poo\n",
            "\n",
            "4388)RautelaForever: Dear vanspiegel \n",
            "India is so rich that PM Narendra Modi had to implement demonetization to find out who is actually\n",
            "\n",
            "4389)RautelaForever: Dear vanspiegel \n",
            "India is so rich that PM Narendra Modi had to implement demonetization to find out who is actually\n",
            "\n",
            "4390)RautelaForever: Dear vanspiegel \n",
            "India is so rich that PM Narendra Modi had to implement demonetization to find out who is actually\n",
            "\n",
            "4391)RautelaForever: Dear evanspiegel \n",
            "India is so rich that PM Narendra Modi had to implement demonetization to find  \n",
            "\n",
            "4392)RautelaForever: Dear vanspiegel \n",
            "India is so rich that PM Narendra Modi had to implement demonetization to find out who is actually\n",
            "\n",
            "4393)RautelaForever: Dear vanspiegel \n",
            "India is so rich that PM Narendra Modi had to implement demonetization to find out who is actually\n",
            "\n",
            "4394)RautelaForever: Dear vanspiegel \n",
            "India is so rich that PM Narendra Modi had to implement demonetization to find out who is actually\n",
            "\n",
            "4395)RautelaForever: Dear vanspiegel \n",
            "India is so rich that PM Narendra Modi had to implement demonetization to find out who is actually\n",
            "\n",
            "4396)RautelaForever: Dear vanspiegel \n",
            "India is so rich that PM Narendra Modi had to implement demonetization to find out who is actually\n",
            "\n",
            "4397)RautelaForever: Dear vanspiegel \n",
            "India is so rich that PM Narendra Modi had to implement demonetization to find out who is actually\n",
            "\n",
            "4398)RautelaForever: Dear vanspiegel \n",
            "India is so rich that PM Narendra Modi had to implement demonetization to find out who is actually\n",
            "\n",
            "4399)RautelaForever: Dear vanspiegel \n",
            "India is so rich that PM Narendra Modi had to implement demonetization to find out who is actually\n",
            "\n",
            "4400)RautelaForever: Dear vanspiegel \n",
            "India is so rich that PM Narendra Modi had to implement demonetization to find out who is actually\n",
            "\n",
            "4401)RautelaForever: Dear vanspiegel \n",
            "India is so rich that PM Narendra Modi had to implement demonetization to find out who is actually\n",
            "\n",
            "4402)JPKarITCell ne  a soft copy of the demonetization analysis done during the month of January.\n",
            "\n",
            "4403)RautelaForever: Dear vanspiegel \n",
            "India is so rich that PM Narendra Modi had to implement demonetization to find out who is actually\n",
            "\n",
            "4404)RautelaForever: Dear vanspiegel \n",
            "India is so rich that PM Narendra Modi had to implement demonetization to find out who is actually\n",
            "\n",
            "4405)RautelaForever: Dear vanspiegel \n",
            "India is so rich that PM Narendra Modi had to implement demonetization to find out who is actually\n",
            "\n",
            "4406)RautelaForever: Dear vanspiegel \n",
            "India is so rich that PM Narendra Modi had to implement demonetization to find out who is actually\n",
            "\n",
            "4407)RautelaForever: Dear vanspiegel \n",
            "India is so rich that PM Narendra Modi had to implement demonetization to find out who is actually\n",
            "\n",
            "4408)RautelaForever: Dear vanspiegel \n",
            "India is so rich that PM Narendra Modi had to implement demonetization to find out who is actually\n",
            "\n",
            "4409)RautelaForever: Dear evanspiegel \n",
            "India is so rich that PM Narendra Modi had to implement demonetization to find  \n",
            "\n",
            "4410)RautelaForever: Dear vanspiegel \n",
            "India is so rich that PM Narendra Modi had to implement demonetization to find out who is actually\n",
            "\n",
            "4411)RautelaForever: Dear vanspiegel \n",
            "India is so rich that PM Narendra Modi had to implement demonetization to find out who is actually\n",
            "\n",
            "4412)RautelaForever: Dear vanspiegel \n",
            "India is so rich that PM Narendra Modi had to implement demonetization to find out who is actually\n",
            "\n",
            "4413)RautelaForever: Dear vanspiegel \n",
            "India is so rich that PM Narendra Modi had to implement demonetization to find out who is actually\n",
            "\n",
            "4414)RautelaForever: Dear vanspiegel \n",
            "India is so rich that PM Narendra Modi had to implement demonetization to find out who is actually\n",
            "\n",
            "4415)RautelaForever: Dear vanspiegel \n",
            "India is so rich that PM Narendra Modi had to implement demonetization to find out who is actually\n",
            "\n",
            "4416)RautelaForever: Dear vanspiegel \n",
            "India is so rich that PM Narendra Modi had to implement demonetization to find out who is actually\n",
            "\n",
            "4417)RautelaForever: Dear vanspiegel \n",
            "India is so rich that PM Narendra Modi had to implement demonetization to find out who is actually\n",
            "\n",
            "4418)RautelaForever: Dear vanspiegel \n",
            "India is so rich that PM Narendra Modi had to implement demonetization to find out who is actually\n",
            "\n",
            "4419)RautelaForever: Dear vanspiegel \n",
            "India is so rich that PM Narendra Modi had to implement demonetization to find out who is actually\n",
            "\n",
            "4420)RautelaForever: Dear evanspiegel \n",
            "India is so rich that PM Narendra Modi had to implement demonetization to find  \n",
            "\n",
            "4421)RautelaForever: Dear vanspiegel \n",
            "India is so rich that PM Narendra Modi had to implement demonetization to find out who is actually\n",
            "\n",
            "4422)rustIndian Dear vanspiegel\n",
            "India is so rich that PM arendramodi had to implement demonetization to find out w  \n",
            "\n",
            "4423)RautelaForever: Dear vanspiegel \n",
            "India is so rich that PM Narendra Modi had to implement demonetization to find out who is actually\n",
            "\n",
            "4424)RautelaForever: Dear vanspiegel \n",
            "India is so rich that PM Narendra Modi had to implement demonetization to find out who is actually\n",
            "\n",
            "4425)RautelaForever: Dear vanspiegel \n",
            "India is so rich that PM Narendra Modi had to implement demonetization to find out who is actually\n",
            "\n",
            "4426)RautelaForever: Dear vanspiegel \n",
            "India is so rich that PM Narendra Modi had to implement demonetization to find out who is actually\n",
            "\n",
            "4427)RautelaForever: Dear vanspiegel \n",
            "India is so rich that PM Narendra Modi had to implement demonetization to find out who is actually\n",
            "\n",
            "4428)RautelaForever: Dear vanspiegel \n",
            "India is so rich that PM Narendra Modi had to implement demonetization to find out who is actually\n",
            "\n",
            "4429)RautelaForever: Dear vanspiegel \n",
            "India is so rich that PM Narendra Modi had to implement demonetization to find out who is actually\n",
            "\n",
            "4430)RautelaForever: Dear vanspiegel \n",
            "India is so rich that PM Narendra Modi had to implement demonetization to find out who is actually\n",
            "\n",
            "4431)RautelaForever: Dear vanspiegel \n",
            "India is so rich that PM Narendra Modi had to implement demonetization to find out who is actually\n",
            "\n",
            "4432)RautelaForever: Dear vanspiegel \n",
            "India is so rich that PM Narendra Modi had to implement demonetization to find out who is actually\n",
            "\n",
            "4433)RautelaForever: Dear evanspiegel \n",
            "India is so rich that PM Narendra Modi had to implement demonetization to find  \n",
            "\n",
            "4434)RautelaForever: Dear vanspiegel \n",
            "India is so rich that PM Narendra Modi had to implement demonetization to find out who is actually\n",
            "\n",
            "4435)RautelaForever: Dear evanspiegel \n",
            "India is so rich that PM Narendra Modi had to implement demonetization to find  \n",
            "\n",
            "4436)RautelaForever: Dear vanspiegel \n",
            "India is so rich that PM Narendra Modi had to implement demonetization to find out who is actually\n",
            "\n",
            "4437)RautelaForever: Dear vanspiegel \n",
            "India is so rich that PM Narendra Modi had to implement demonetization to find out who is actually\n",
            "\n",
            "4438)RautelaForever: Dear vanspiegel \n",
            "India is so rich that PM Narendra Modi had to implement demonetization to find out who is actually\n",
            "\n",
            "4439)RautelaForever: Dear vanspiegel \n",
            "India is so rich that PM Narendra Modi had to implement demonetization to find out who is actually\n",
            "\n",
            "4440)RautelaForever: Dear vanspiegel \n",
            "India is so rich that PM Narendra Modi had to implement demonetization to find out who is actually\n",
            "\n",
            "4441)RautelaForever: Dear vanspiegel \n",
            "India is so rich that PM Narendra Modi had to implement demonetization to find out who is actually\n",
            "\n",
            "4442)RautelaForever: Dear vanspiegel \n",
            "India is so rich that PM Narendra Modi had to implement demonetization to find out who is actually\n",
            "\n",
            "4443)RautelaForever: Dear vanspiegel \n",
            "India is so rich that PM Narendra Modi had to implement demonetization to find out who is actually\n",
            "\n",
            "4444)RautelaForever: Dear vanspiegel \n",
            "India is so rich that PM Narendra Modi had to implement demonetization to find out who is actually\n",
            "\n",
            "4445)RautelaForever: Dear vanspiegel \n",
            "India is so rich that PM Narendra Modi had to implement demonetization to find out who is actually\n",
            "\n",
            "4446)RautelaForever: Dear vanspiegel \n",
            "India is so rich that PM Narendra Modi had to implement demonetization to find out who is actually\n",
            "\n",
            "4447)RautelaForever: Dear vanspiegel \n",
            "India is so rich that PM Narendra Modi had to implement demonetization to find out who is actually\n",
            "\n",
            "4448)RautelaForever: Dear vanspiegel \n",
            "India is so rich that PM Narendra Modi had to implement demonetization to find out who is actually\n",
            "\n",
            "4449)RautelaForever: Dear vanspiegel \n",
            "India is so rich that PM Narendra Modi had to implement demonetization to find out who is actually\n",
            "\n",
            "4450)RautelaForever: Dear vanspiegel \n",
            "India is so rich that PM Narendra Modi had to implement demonetization to find out who is actually\n",
            "\n",
            "4451)RautelaForever: Dear vanspiegel \n",
            "India is so rich that PM Narendra Modi had to implement demonetization to find out who is actually\n",
            "\n",
            "4452)RautelaForever: Dear vanspiegel \n",
            "India is so rich that PM Narendra Modi had to implement demonetization to find out who is actually\n",
            "\n",
            "4453)RautelaForever: Dear vanspiegel \n",
            "India is so rich that PM Narendra Modi had to implement demonetization to find out who is actually\n",
            "\n",
            "4454)RautelaForever: Dear vanspiegel \n",
            "India is so rich that PM Narendra Modi had to implement demonetization to find out who is actually\n",
            "\n",
            "4455)RautelaForever: Dear vanspiegel \n",
            "India is so rich that PM Narendra Modi had to implement demonetization to find out who is actually\n",
            "\n",
            "4456)vanspiegel snapchatceo  ,you think India is poor. We have thrown more than your company's worth in Ganges river after demonetization.\n",
            "\n",
            "4457)RautelaForever: Dear vanspiegel \n",
            "India is so rich that PM Narendra Modi had to implement demonetization to find out who is actually\n",
            "\n",
            "4458)RautelaForever: Dear vanspiegel \n",
            "India is so rich that PM Narendra Modi had to implement demonetization to find out who is actually\n",
            "\n",
            "4459)RautelaForever: Dear vanspiegel \n",
            "India is so rich that PM Narendra Modi had to implement demonetization to find out who is actually\n",
            "\n",
            "4460)RautelaForever: Dear vanspiegel \n",
            "India is so rich that PM Narendra Modi had to implement demonetization to find out who is actually\n",
            "\n",
            "4461)RautelaForever: Dear vanspiegel \n",
            "India is so rich that PM Narendra Modi had to implement demonetization to find out who is actually\n",
            "\n",
            "4462)RautelaForever: Dear vanspiegel \n",
            "India is so rich that PM Narendra Modi had to implement demonetization to find out who is actually\n",
            "\n",
            "4463)RautelaForever: Dear vanspiegel \n",
            "India is so rich that PM Narendra Modi had to implement demonetization to find out who is actually\n",
            "\n",
            "4464)RautelaForever: Dear vanspiegel \n",
            "India is so rich that PM Narendra Modi had to implement demonetization to find out who is actually\n",
            "\n",
            "4465)RautelaForever: Dear vanspiegel \n",
            "India is so rich that PM Narendra Modi had to implement demonetization to find out who is actually\n",
            "\n",
            "4466)RautelaForever: Dear vanspiegel \n",
            "India is so rich that PM Narendra Modi had to implement demonetization to find out who is actually\n",
            "\n",
            "4467)RautelaForever: Dear vanspiegel \n",
            "India is so rich that PM Narendra Modi had to implement demonetization to find out who is actually\n",
            "\n",
            "4468)RautelaForever: Dear evanspiegel \n",
            "India is so rich that PM Narendra Modi had to implement demonetization to find  \n",
            "\n",
            "4469)RautelaForever: Dear vanspiegel \n",
            "India is so rich that PM Narendra Modi had to implement demonetization to find out who is actually\n",
            "\n",
            "4470)RautelaForever: Dear vanspiegel \n",
            "India is so rich that PM Narendra Modi had to implement demonetization to find out who is actually\n",
            "\n",
            "4471)RautelaForever: Dear vanspiegel \n",
            "India is so rich that PM Narendra Modi had to implement demonetization to find out who is actually\n",
            "\n",
            "4472)RautelaForever: Dear vanspiegel \n",
            "India is so rich that PM Narendra Modi had to implement demonetization to find out who is actually\n",
            "\n",
            "4473)RautelaForever: Dear vanspiegel \n",
            "India is so rich that PM Narendra Modi had to implement demonetization to find out who is actually\n",
            "\n",
            "4474)RautelaForever: Dear vanspiegel \n",
            "India is so rich that PM Narendra Modi had to implement demonetization to find out who is actually\n",
            "\n",
            "4475)RautelaForever: Dear vanspiegel \n",
            "India is so rich that PM Narendra Modi had to implement demonetization to find out who is actually\n",
            "\n",
            "4476)RautelaForever: Dear vanspiegel \n",
            "India is so rich that PM Narendra Modi had to implement demonetization to find out who is actually\n",
            "\n",
            "4477)RautelaForever: Dear vanspiegel \n",
            "India is so rich that PM Narendra Modi had to implement demonetization to find out who is actually\n",
            "\n",
            "4478)RautelaForever: Dear vanspiegel \n",
            "India is so rich that PM Narendra Modi had to implement demonetization to find out who is actually\n",
            "\n",
            "4479)Dear vanspiegel \n",
            "India is so rich that PM Narendra Modi had to implement demonetization to find out who is actually poor!Snapchat\n",
            "\n",
            "4480)RautelaForever: Dear evanspiegel \n",
            "India is so rich that PM Narendra Modi had to implement demonetization to find  \n",
            "\n",
            "4481)RautelaForever: Dear vanspiegel \n",
            "India is so rich that PM Narendra Modi had to implement demonetization to find out who is actually\n",
            "\n",
            "4482)RautelaForever: Dear vanspiegel \n",
            "India is so rich that PM Narendra Modi had to implement demonetization to find out who is actually\n",
            "\n",
            "4483)RautelaForever: Dear vanspiegel \n",
            "India is so rich that PM Narendra Modi had to implement demonetization to find out who is actually\n",
            "\n",
            "4484)RautelaForever: Dear vanspiegel \n",
            "India is so rich that PM Narendra Modi had to implement demonetization to find out who is actually\n",
            "\n",
            "4485)RautelaForever: Dear vanspiegel \n",
            "India is so rich that PM Narendra Modi had to implement demonetization to find out who is actually\n",
            "\n",
            "4486)RautelaForever: Dear vanspiegel \n",
            "India is so rich that PM Narendra Modi had to implement demonetization to find out who is actually\n",
            "\n",
            "4487)RautelaForever: Dear vanspiegel \n",
            "India is so rich that PM Narendra Modi had to implement demonetization to find out who is actually\n",
            "\n",
            "4488)RautelaForever: Dear vanspiegel \n",
            "India is so rich that PM Narendra Modi had to implement demonetization to find out who is actually\n",
            "\n",
            "4489)RautelaForever: Dear vanspiegel \n",
            "India is so rich that PM Narendra Modi had to implement demonetization to find out who is actually\n",
            "\n",
            "4490)RautelaForever: Dear vanspiegel \n",
            "India is so rich that PM Narendra Modi had to implement demonetization to find out who is actually\n",
            "\n",
            "4491)RautelaForever: Dear vanspiegel \n",
            "India is so rich that PM Narendra Modi had to implement demonetization to find out who is actually\n",
            "\n",
            "4492)RautelaForever: Dear vanspiegel \n",
            "India is so rich that PM Narendra Modi had to implement demonetization to find out who is actually\n",
            "\n",
            "4493)RautelaForever: Dear vanspiegel \n",
            "India is so rich that PM Narendra Modi had to implement demonetization to find out who is actually\n",
            "\n",
            "4494)RautelaForever: Dear vanspiegel \n",
            "India is so rich that PM Narendra Modi had to implement demonetization to find out who is actually\n",
            "\n",
            "4495)RautelaForever: Dear vanspiegel \n",
            "India is so rich that PM Narendra Modi had to implement demonetization to find out who is actually\n",
            "\n",
            "4496)RautelaForever: Dear vanspiegel \n",
            "India is so rich that PM Narendra Modi had to implement demonetization to find out who is actually\n",
            "\n",
            "4497)emeghnad: 11) And then, rest is history unfolding before our eyes. Everyone is happy now people. Let us all rejoice!\n",
            " \n",
            "\n",
            "4498)RautelaForever: Dear vanspiegel \n",
            "India is so rich that PM Narendra Modi had to implement demonetization to find out who is actually\n",
            "\n",
            "4499)RautelaForever: Dear vanspiegel \n",
            "India is so rich that PM Narendra Modi had to implement demonetization to find out who is actually\n",
            "\n",
            "4500)RautelaForever: Dear vanspiegel \n",
            "India is so rich that PM Narendra Modi had to implement demonetization to find out who is actually\n",
            "\n",
            "4501)RautelaForever: Dear vanspiegel \n",
            "India is so rich that PM Narendra Modi had to implement demonetization to find out who is actually\n",
            "\n",
            "4502)RautelaForever: Dear vanspiegel \n",
            "India is so rich that PM Narendra Modi had to implement demonetization to find out who is actually\n",
            "\n",
            "4503)RautelaForever: Dear vanspiegel \n",
            "India is so rich that PM Narendra Modi had to implement demonetization to find out who is actually\n",
            "\n",
            "4504)RautelaForever: Dear vanspiegel \n",
            "India is so rich that PM Narendra Modi had to implement demonetization to find out who is actually\n",
            "\n",
            "4505)Dear Evan Spiegel Snapchat.\n",
            "India is so rich that PM Narendra Modi had to implement demonetization to find out...  \n",
            "\n",
            "4506)RautelaForever: Dear vanspiegel \n",
            "India is so rich that PM Narendra Modi had to implement demonetization to find out who is actually\n",
            "\n",
            "4507)RautelaForever: Dear vanspiegel \n",
            "India is so rich that PM Narendra Modi had to implement demonetization to find out who is actually\n",
            "\n",
            "4508)RDeshmukh Demonetization has kill  terrorism and naxalism. You are an anti nationalist, who wants to disregard benefits of NoteBandi.\n",
            "\n",
            "4509)The latest The Demonetization Daily!   Thanks to iripuramrk indian_Patriot ryptoMoney youtube\n",
            "\n",
            "4510)RautelaForever: Dear vanspiegel \n",
            "India is so rich that PM Narendra Modi had to implement demonetization to find out who is actually\n",
            "\n",
            "4511)RautelaForever: Dear vanspiegel \n",
            "India is so rich that PM Narendra Modi had to implement demonetization to find out who is actually\n",
            "\n",
            "4512)RautelaForever: Dear vanspiegel \n",
            "India is so rich that PM Narendra Modi had to implement demonetization to find out who is actually\n",
            "\n",
            "4513)RautelaForever: Dear vanspiegel \n",
            "India is so rich that PM Narendra Modi had to implement demonetization to find out who is actually\n",
            "\n",
            "4514)RautelaForever: Dear vanspiegel \n",
            "India is so rich that PM Narendra Modi had to implement demonetization to find out who is actually\n",
            "\n",
            "4515)RautelaForever: Dear vanspiegel \n",
            "India is so rich that PM Narendra Modi had to implement demonetization to find out who is actually\n",
            "\n",
            "4516)RautelaForever: Dear vanspiegel \n",
            "India is so rich that PM Narendra Modi had to implement demonetization to find out who is actually\n",
            "\n",
            "4517)RautelaForever: Dear vanspiegel \n",
            "India is so rich that PM Narendra Modi had to implement demonetization to find out who is actually\n",
            "\n",
            "4518)RautelaForever: Dear vanspiegel \n",
            "India is so rich that PM Narendra Modi had to implement demonetization to find out who is actually\n",
            "\n",
            "4519)RautelaForever: Dear vanspiegel \n",
            "India is so rich that PM Narendra Modi had to implement demonetization to find out who is actually\n",
            "\n",
            "4520)RautelaForever: Dear vanspiegel \n",
            "India is so rich that PM Narendra Modi had to implement demonetization to find out who is actually\n",
            "\n",
            "4521)RautelaForever: Dear vanspiegel \n",
            "India is so rich that PM Narendra Modi had to implement demonetization to find out who is actually\n",
            "\n",
            "4522)RautelaForever: Dear vanspiegel \n",
            "India is so rich that PM Narendra Modi had to implement demonetization to find out who is actually\n",
            "\n",
            "4523)RautelaForever: Dear vanspiegel \n",
            "India is so rich that PM Narendra Modi had to implement demonetization to find out who is actually\n",
            "\n",
            "4524)RautelaForever: Dear vanspiegel \n",
            "India is so rich that PM Narendra Modi had to implement demonetization to find out who is actually\n",
            "\n",
            "4525)RautelaForever: Dear vanspiegel \n",
            "India is so rich that PM Narendra Modi had to implement demonetization to find out who is actually\n",
            "\n",
            "4526)RautelaForever: Dear vanspiegel \n",
            "India is so rich that PM Narendra Modi had to implement demonetization to find out who is actually\n",
            "\n",
            "4527)RautelaForever: Dear vanspiegel \n",
            "India is so rich that PM Narendra Modi had to implement demonetization to find out who is actually\n",
            "\n",
            "4528)RautelaForever: Dear vanspiegel \n",
            "India is so rich that PM Narendra Modi had to implement demonetization to find out who is actually\n",
            "\n",
            "4529)RautelaForever: Dear vanspiegel \n",
            "India is so rich that PM Narendra Modi had to implement demonetization to find out who is actually\n",
            "\n",
            "4530)RautelaForever: Dear vanspiegel \n",
            "India is so rich that PM Narendra Modi had to implement demonetization to find out who is actually\n",
            "\n",
            "4531)RautelaForever: Dear vanspiegel \n",
            "India is so rich that PM Narendra Modi had to implement demonetization to find out who is actually\n",
            "\n",
            "4532)RautelaForever: Dear vanspiegel \n",
            "India is so rich that PM Narendra Modi had to implement demonetization to find out who is actually\n",
            "\n",
            "4533)RautelaForever: Dear vanspiegel \n",
            "India is so rich that PM Narendra Modi had to implement demonetization to find out who is actually\n",
            "\n",
            "4534)RautelaForever: Dear vanspiegel \n",
            "India is so rich that PM Narendra Modi had to implement demonetization to find out who is actually\n",
            "\n",
            "4535)RautelaForever: Dear vanspiegel \n",
            "India is so rich that PM Narendra Modi had to implement demonetization to find out who is actually\n",
            "\n",
            "4536)RautelaForever: Dear vanspiegel \n",
            "India is so rich that PM Narendra Modi had to implement demonetization to find out who is actually\n",
            "\n",
            "4537)RautelaForever: Dear vanspiegel \n",
            "India is so rich that PM Narendra Modi had to implement demonetization to find out who is actually\n",
            "\n",
            "4538)Dear Snapchat.\n",
            "India is so rich that PM Narendra Modi had to implement demonetization to find out who is actually poor!boycottsnapchat\n",
            "\n",
            "4539)RautelaForever: Dear vanspiegel \n",
            "India is so rich that PM Narendra Modi had to implement demonetization to find out who is actually\n",
            "\n",
            "4540)RautelaForever: Dear vanspiegel \n",
            "India is so rich that PM Narendra Modi had to implement demonetization to find out who is actually\n",
            "\n",
            "4541)RautelaForever: Dear vanspiegel \n",
            "India is so rich that PM Narendra Modi had to implement demonetization to find out who is actually\n",
            "\n",
            "4542)RautelaForever: Dear vanspiegel \n",
            "India is so rich that PM Narendra Modi had to implement demonetization to find out who is actually\n",
            "\n",
            "4543)RautelaForever: Dear vanspiegel \n",
            "India is so rich that PM Narendra Modi had to implement demonetization to find out who is actually\n",
            "\n",
            "4544)RautelaForever: Dear vanspiegel \n",
            "India is so rich that PM Narendra Modi had to implement demonetization to find out who is actually\n",
            "\n",
            "4545)RautelaForever: Dear vanspiegel \n",
            "India is so rich that PM Narendra Modi had to implement demonetization to find out who is actually\n",
            "\n",
            "4546)RautelaForever: Dear evanspiegel \n",
            "India is so rich that PM Narendra Modi had to implement demonetization to find  \n",
            "\n",
            "4547)adharaju18 ufailelif jab se illegal slaughter houses were clos  inka dimag bhi bandh hogaya .. Demonetization of a diff kind\n",
            "\n",
            "4548)RautelaForever: Dear vanspiegel \n",
            "India is so rich that PM Narendra Modi had to implement demonetization to find out who is actually\n",
            "\n",
            "4549)RautelaForever: Dear vanspiegel \n",
            "India is so rich that PM Narendra Modi had to implement demonetization to find out who is actually\n",
            "\n",
            "4550)60,000 only? In a Nation, where less than 2% pay their income tax, &amp; 1% are \"declar \" crorepatis, how much has demonetization *crack *?\n",
            "\n",
            "4551)RautelaForever: Dear vanspiegel \n",
            "India is so rich that PM Narendra Modi had to implement demonetization to find out who is actually\n",
            "\n",
            "4552)RautelaForever: Dear vanspiegel \n",
            "India is so rich that PM Narendra Modi had to implement demonetization to find out who is actually\n",
            "\n",
            "4553)RautelaForever: Dear vanspiegel \n",
            "India is so rich that PM Narendra Modi had to implement demonetization to find out who is actually\n",
            "\n",
            "4554)RautelaForever: Dear vanspiegel \n",
            "India is so rich that PM Narendra Modi had to implement demonetization to find out who is actually\n",
            "\n",
            "4555)RautelaForever: Dear vanspiegel \n",
            "India is so rich that PM Narendra Modi had to implement demonetization to find out who is actually\n",
            "\n",
            "4556)RautelaForever: Dear vanspiegel \n",
            "India is so rich that PM Narendra Modi had to implement demonetization to find out who is actually\n",
            "\n",
            "4557)RautelaForever: Dear vanspiegel \n",
            "India is so rich that PM Narendra Modi had to implement demonetization to find out who is actually\n",
            "\n",
            "4558)RautelaForever: Dear vanspiegel \n",
            "India is so rich that PM Narendra Modi had to implement demonetization to find out who is actually\n",
            "\n",
            "4559)RautelaForever: Dear evanspiegel \n",
            "India is so rich that PM Narendra Modi had to implement demonetization to find  \n",
            "\n",
            "4560)RautelaForever: Dear vanspiegel \n",
            "India is so rich that PM Narendra Modi had to implement demonetization to find out who is actually\n",
            "\n",
            "4561)RautelaForever: Dear evanspiegel \n",
            "India is so rich that PM Narendra Modi had to implement demonetization to find  \n",
            "\n",
            "4562)RautelaForever: Dear vanspiegel \n",
            "India is so rich that PM Narendra Modi had to implement demonetization to find out who is actually\n",
            "\n",
            "4563)RautelaForever: Dear vanspiegel \n",
            "India is so rich that PM Narendra Modi had to implement demonetization to find out who is actually\n",
            "\n",
            "4564)RautelaForever: Dear vanspiegel \n",
            "India is so rich that PM Narendra Modi had to implement demonetization to find out who is actually\n",
            "\n",
            "4565)RautelaForever: Dear vanspiegel \n",
            "India is so rich that PM Narendra Modi had to implement demonetization to find out who is actually\n",
            "\n",
            "4566)RautelaForever: Dear vanspiegel \n",
            "India is so rich that PM Narendra Modi had to implement demonetization to find out who is actually\n",
            "\n",
            "4567)aanupriyaaa: Dear vanspiegel \n",
            "India is so rich that PM Narendra Modi had to implement demonetization to find out who is actually poo\n",
            "\n",
            "4568)RautelaForever: Dear vanspiegel \n",
            "India is so rich that PM Narendra Modi had to implement demonetization to find out who is actually\n",
            "\n",
            "4569)RautelaForever: Dear vanspiegel \n",
            "India is so rich that PM Narendra Modi had to implement demonetization to find out who is actually\n",
            "\n",
            "4570)RautelaForever: Dear vanspiegel \n",
            "India is so rich that PM Narendra Modi had to implement demonetization to find out who is actually\n",
            "\n",
            "4571)RautelaForever: Dear vanspiegel \n",
            "India is so rich that PM Narendra Modi had to implement demonetization to find out who is actually\n",
            "\n",
            "4572)RautelaForever: Dear vanspiegel \n",
            "India is so rich that PM Narendra Modi had to implement demonetization to find out who is actually\n",
            "\n",
            "4573)RautelaForever: Dear vanspiegel \n",
            "India is so rich that PM Narendra Modi had to implement demonetization to find out who is actually\n",
            "\n",
            "4574)RautelaForever: Dear vanspiegel \n",
            "India is so rich that PM Narendra Modi had to implement demonetization to find out who is actually\n",
            "\n",
            "4575)RautelaForever: Dear vanspiegel \n",
            "India is so rich that PM Narendra Modi had to implement demonetization to find out who is actually\n",
            "\n",
            "4576)RautelaForever: Dear vanspiegel \n",
            "India is so rich that PM Narendra Modi had to implement demonetization to find out who is actually\n",
            "\n",
            "4577)RautelaForever: Dear vanspiegel \n",
            "India is so rich that PM Narendra Modi had to implement demonetization to find out who is actually\n",
            "\n",
            "4578)RautelaForever: Dear vanspiegel \n",
            "India is so rich that PM Narendra Modi had to implement demonetization to find out who is actually\n",
            "\n",
            "4579)RautelaForever: Dear vanspiegel \n",
            "India is so rich that PM Narendra Modi had to implement demonetization to find out who is actually\n",
            "\n",
            "4580)RautelaForever: Dear vanspiegel \n",
            "India is so rich that PM Narendra Modi had to implement demonetization to find out who is actually\n",
            "\n",
            "4581)yaKaise: 25 viewer Questions about YouTube Demonetization and the latest developments, answer . \n",
            "25 sawaal YouTube...  \n",
            "\n",
            "4582)RautelaForever: Dear vanspiegel \n",
            "India is so rich that PM Narendra Modi had to implement demonetization to find out who is actually\n",
            "\n",
            "4583)RautelaForever: Dear vanspiegel \n",
            "India is so rich that PM Narendra Modi had to implement demonetization to find out who is actually\n",
            "\n",
            "4584)RautelaForever: Dear vanspiegel \n",
            "India is so rich that PM Narendra Modi had to implement demonetization to find out who is actually\n",
            "\n",
            "4585)RautelaForever: Dear vanspiegel \n",
            "India is so rich that PM Narendra Modi had to implement demonetization to find out who is actually\n",
            "\n",
            "4586)RautelaForever: Dear vanspiegel \n",
            "India is so rich that PM Narendra Modi had to implement demonetization to find out who is actually\n",
            "\n",
            "4587)RautelaForever: Dear vanspiegel \n",
            "India is so rich that PM Narendra Modi had to implement demonetization to find out who is actually\n",
            "\n",
            "4588)RautelaForever: Dear vanspiegel \n",
            "India is so rich that PM Narendra Modi had to implement demonetization to find out who is actually\n",
            "\n",
            "4589)RautelaForever: Dear vanspiegel \n",
            "India is so rich that PM Narendra Modi had to implement demonetization to find out who is actually\n",
            "\n",
            "4590)RautelaForever: Dear evanspiegel \n",
            "India is so rich that PM Narendra Modi had to implement demonetization to find  \n",
            "\n",
            "4591)RautelaForever: Dear vanspiegel \n",
            "India is so rich that PM Narendra Modi had to implement demonetization to find out who is actually\n",
            "\n",
            "4592)RautelaForever: Dear vanspiegel \n",
            "India is so rich that PM Narendra Modi had to implement demonetization to find out who is actually\n",
            "\n",
            "4593)Handle Cash With Special Tax Care   TGI incometax blackmoney demonetization\n",
            "\n",
            "4594)RautelaForever: Dear vanspiegel \n",
            "India is so rich that PM Narendra Modi had to implement demonetization to find out who is actually\n",
            "\n",
            "4595)RautelaForever: Dear vanspiegel \n",
            "India is so rich that PM Narendra Modi had to implement demonetization to find out who is actually\n",
            "\n",
            "4596)RautelaForever: Dear vanspiegel \n",
            "India is so rich that PM Narendra Modi had to implement demonetization to find out who is actually\n",
            "\n",
            "4597)RautelaForever: Dear vanspiegel \n",
            "India is so rich that PM Narendra Modi had to implement demonetization to find out who is actually\n",
            "\n",
            "4598)RautelaForever: Dear vanspiegel \n",
            "India is so rich that PM Narendra Modi had to implement demonetization to find out who is actually\n",
            "\n",
            "4599)RautelaForever: Dear vanspiegel \n",
            "India is so rich that PM Narendra Modi had to implement demonetization to find out who is actually\n",
            "\n",
            "4600)RautelaForever: Dear vanspiegel \n",
            "India is so rich that PM Narendra Modi had to implement demonetization to find out who is actually\n",
            "\n",
            "4601)RautelaForever: Dear vanspiegel \n",
            "India is so rich that PM Narendra Modi had to implement demonetization to find out who is actually\n",
            "\n",
            "4602)RautelaForever: Dear vanspiegel \n",
            "India is so rich that PM Narendra Modi had to implement demonetization to find out who is actually\n",
            "\n",
            "4603)RautelaForever: Dear vanspiegel \n",
            "India is so rich that PM Narendra Modi had to implement demonetization to find out who is actually\n",
            "\n",
            "4604)RautelaForever: Dear vanspiegel \n",
            "India is so rich that PM Narendra Modi had to implement demonetization to find out who is actually\n",
            "\n",
            "4605)RautelaForever: Dear vanspiegel \n",
            "India is so rich that PM Narendra Modi had to implement demonetization to find out who is actually\n",
            "\n",
            "4606)RautelaForever: Dear vanspiegel \n",
            "India is so rich that PM Narendra Modi had to implement demonetization to find out who is actually\n",
            "\n",
            "4607)RautelaForever: Dear vanspiegel \n",
            "India is so rich that PM Narendra Modi had to implement demonetization to find out who is actually\n",
            "\n",
            "4608)RautelaForever: Dear vanspiegel \n",
            "India is so rich that PM Narendra Modi had to implement demonetization to find out who is actually\n",
            "\n",
            "4609)RautelaForever: Dear vanspiegel \n",
            "India is so rich that PM Narendra Modi had to implement demonetization to find out who is actually\n",
            "\n",
            "4610)RautelaForever: Dear vanspiegel \n",
            "India is so rich that PM Narendra Modi had to implement demonetization to find out who is actually\n",
            "\n",
            "4611)RautelaForever: Dear vanspiegel \n",
            "India is so rich that PM Narendra Modi had to implement demonetization to find out who is actually\n",
            "\n",
            "4612)RautelaForever: Dear vanspiegel \n",
            "India is so rich that PM Narendra Modi had to implement demonetization to find out who is actually\n",
            "\n",
            "4613)RautelaForever: Dear vanspiegel \n",
            "India is so rich that PM Narendra Modi had to implement demonetization to find out who is actually\n",
            "\n",
            "4614)RautelaForever: Dear vanspiegel \n",
            "India is so rich that PM Narendra Modi had to implement demonetization to find out who is actually\n",
            "\n",
            "4615)RautelaForever: Dear vanspiegel \n",
            "India is so rich that PM Narendra Modi had to implement demonetization to find out who is actually\n",
            "\n",
            "4616)RautelaForever: Dear vanspiegel \n",
            "India is so rich that PM Narendra Modi had to implement demonetization to find out who is actually\n",
            "\n",
            "4617)RautelaForever: Dear vanspiegel \n",
            "India is so rich that PM Narendra Modi had to implement demonetization to find out who is actually\n",
            "\n",
            "4618)RautelaForever: Dear vanspiegel \n",
            "India is so rich that PM Narendra Modi had to implement demonetization to find out who is actually\n",
            "\n",
            "4619)RautelaForever: Dear vanspiegel \n",
            "India is so rich that PM Narendra Modi had to implement demonetization to find out who is actually\n",
            "\n",
            "4620)RautelaForever: Dear vanspiegel \n",
            "India is so rich that PM Narendra Modi had to implement demonetization to find out who is actually\n",
            "\n",
            "4621)RautelaForever: Dear vanspiegel \n",
            "India is so rich that PM Narendra Modi had to implement demonetization to find out who is actually\n",
            "\n",
            "4622)RautelaForever: Dear vanspiegel \n",
            "India is so rich that PM Narendra Modi had to implement demonetization to find out who is actually\n",
            "\n",
            "4623)RautelaForever: Dear vanspiegel \n",
            "India is so rich that PM Narendra Modi had to implement demonetization to find out who is actually\n",
            "\n",
            "4624)RautelaForever: Dear vanspiegel \n",
            "India is so rich that PM Narendra Modi had to implement demonetization to find out who is actually\n",
            "\n",
            "4625)RautelaForever: Dear vanspiegel \n",
            "India is so rich that PM Narendra Modi had to implement demonetization to find out who is actually\n",
            "\n",
            "4626)RautelaForever: Dear vanspiegel \n",
            "India is so rich that PM Narendra Modi had to implement demonetization to find out who is actually\n",
            "\n",
            "4627)RautelaForever: Dear vanspiegel \n",
            "India is so rich that PM Narendra Modi had to implement demonetization to find out who is actually\n",
            "\n",
            "4628)RautelaForever: Dear vanspiegel \n",
            "India is so rich that PM Narendra Modi had to implement demonetization to find out who is actually\n",
            "\n",
            "4629)RautelaForever: Dear vanspiegel \n",
            "India is so rich that PM Narendra Modi had to implement demonetization to find out who is actually\n",
            "\n",
            "4630)RautelaForever: Dear vanspiegel \n",
            "India is so rich that PM Narendra Modi had to implement demonetization to find out who is actually\n",
            "\n",
            "4631)RautelaForever: Dear vanspiegel \n",
            "India is so rich that PM Narendra Modi had to implement demonetization to find out who is actually\n",
            "\n",
            "4632)rbajithkumar Karandikar yindmakers Demonetization was a huge risk, &amp; BJP could have done it after UP election  \n",
            "\n",
            "4633)RautelaForever: Dear vanspiegel \n",
            "India is so rich that PM Narendra Modi had to implement demonetization to find out who is actually\n",
            "\n",
            "4634)RautelaForever: Dear vanspiegel \n",
            "India is so rich that PM Narendra Modi had to implement demonetization to find out who is actually\n",
            "\n",
            "4635)rbajithkumar Karandikar yindmakers I think most crucial was UP.\n",
            "\n",
            "And I think demonetization was done with the  \n",
            "\n",
            "4636)RautelaForever: Dear vanspiegel \n",
            "India is so rich that PM Narendra Modi had to implement demonetization to find out who is actually\n",
            "\n",
            "4637)RautelaForever: Dear vanspiegel \n",
            "India is so rich that PM Narendra Modi had to implement demonetization to find out who is actually\n",
            "\n",
            "4638)aanupriyaaa: Dear vanspiegel \n",
            "India is so rich that PM Narendra Modi had to implement demonetization to find out who is actually poo\n",
            "\n",
            "4639)RautelaForever: Dear vanspiegel \n",
            "India is so rich that PM Narendra Modi had to implement demonetization to find out who is actually\n",
            "\n",
            "4640)RautelaForever: Dear vanspiegel \n",
            "India is so rich that PM Narendra Modi had to implement demonetization to find out who is actually\n",
            "\n",
            "4641)RautelaForever: Dear vanspiegel \n",
            "India is so rich that PM Narendra Modi had to implement demonetization to find out who is actually\n",
            "\n",
            "4642)RautelaForever: Dear vanspiegel \n",
            "India is so rich that PM Narendra Modi had to implement demonetization to find out who is actually\n",
            "\n",
            "4643)RautelaForever: Dear vanspiegel \n",
            "India is so rich that PM Narendra Modi had to implement demonetization to find out who is actually\n",
            "\n",
            "4644)RautelaForever: Dear vanspiegel \n",
            "India is so rich that PM Narendra Modi had to implement demonetization to find out who is actually\n",
            "\n",
            "4645)RautelaForever: Dear evanspiegel \n",
            "India is so rich that PM Narendra Modi had to implement demonetization to find  \n",
            "\n",
            "4646)RautelaForever: Dear vanspiegel \n",
            "India is so rich that PM Narendra Modi had to implement demonetization to find out who is actually\n",
            "\n",
            "4647)RautelaForever: Dear vanspiegel \n",
            "India is so rich that PM Narendra Modi had to implement demonetization to find out who is actually\n",
            "\n",
            "4648)RautelaForever: Dear vanspiegel \n",
            "India is so rich that PM Narendra Modi had to implement demonetization to find out who is actually\n",
            "\n",
            "4649)RautelaForever: Dear vanspiegel \n",
            "India is so rich that PM Narendra Modi had to implement demonetization to find out who is actually\n",
            "\n",
            "4650)ews7tamil arendramodi onnaarrBJP JP4TamilNadu MOIndia Bank has to be much flexible to the account holders  \n",
            "\n",
            "4651)RautelaForever: Dear vanspiegel \n",
            "India is so rich that PM Narendra Modi had to implement demonetization to find out who is actually\n",
            "\n",
            "4652)RautelaForever: Dear vanspiegel \n",
            "India is so rich that PM Narendra Modi had to implement demonetization to find out who is actually\n",
            "\n",
            "4653)RautelaForever: Dear vanspiegel \n",
            "India is so rich that PM Narendra Modi had to implement demonetization to find out who is actually\n",
            "\n",
            "4654)RautelaForever: Dear vanspiegel \n",
            "India is so rich that PM Narendra Modi had to implement demonetization to find out who is actually\n",
            "\n",
            "4655)RautelaForever: Dear vanspiegel \n",
            "India is so rich that PM Narendra Modi had to implement demonetization to find out who is actually\n",
            "\n",
            "4656)Dear Evan Spiegel Snapchat.\n",
            "India is so rich that PM Narendra Modi had to implement demonetization to find out...  \n",
            "\n",
            "4657)RautelaForever: Dear vanspiegel \n",
            "India is so rich that PM Narendra Modi had to implement demonetization to find out who is actually\n",
            "\n",
            "4658)RautelaForever: Dear vanspiegel \n",
            "India is so rich that PM Narendra Modi had to implement demonetization to find out who is actually\n",
            "\n",
            "4659)RautelaForever: Dear evanspiegel \n",
            "India is so rich that PM Narendra Modi had to implement demonetization to find  \n",
            "\n",
            "4660)RautelaForever: Dear vanspiegel \n",
            "India is so rich that PM Narendra Modi had to implement demonetization to find out who is actually\n",
            "\n",
            "4661)RautelaForever: Dear vanspiegel \n",
            "India is so rich that PM Narendra Modi had to implement demonetization to find out who is actually\n",
            "\n",
            "4662)RautelaForever: Dear vanspiegel \n",
            "India is so rich that PM Narendra Modi had to implement demonetization to find out who is actually\n",
            "\n",
            "4663)RautelaForever: Dear vanspiegel \n",
            "India is so rich that PM Narendra Modi had to implement demonetization to find out who is actually\n",
            "\n",
            "4664)RautelaForever: Dear vanspiegel \n",
            "India is so rich that PM Narendra Modi had to implement demonetization to find out who is actually\n",
            "\n",
            "4665)aanupriyaaa: Dear vanspiegel \n",
            "India is so rich that PM Narendra Modi had to implement demonetization to find out who is actually poo\n",
            "\n",
            "4666)RautelaForever: Dear vanspiegel \n",
            "India is so rich that PM Narendra Modi had to implement demonetization to find out who is actually\n",
            "\n",
            "4667)RautelaForever: Dear vanspiegel \n",
            "India is so rich that PM Narendra Modi had to implement demonetization to find out who is actually\n",
            "\n",
            "4668)RautelaForever: Dear vanspiegel \n",
            "India is so rich that PM Narendra Modi had to implement demonetization to find out who is actually\n",
            "\n",
            "4669)RautelaForever: Dear vanspiegel \n",
            "India is so rich that PM Narendra Modi had to implement demonetization to find out who is actually\n",
            "\n",
            "4670)RautelaForever: Dear vanspiegel \n",
            "India is so rich that PM Narendra Modi had to implement demonetization to find out who is actually\n",
            "\n",
            "4671)RautelaForever: Dear evanspiegel \n",
            "India is so rich that PM Narendra Modi had to implement demonetization to find  \n",
            "\n",
            "4672)RautelaForever: Dear evanspiegel \n",
            "India is so rich that PM Narendra Modi had to implement demonetization to find  \n",
            "\n",
            "4673)RautelaForever: Dear vanspiegel \n",
            "India is so rich that PM Narendra Modi had to implement demonetization to find out who is actually\n",
            "\n",
            "4674)aanupriyaaa: Dear vanspiegel \n",
            "India is so rich that PM Narendra Modi had to implement demonetization to find out who is actually poo\n",
            "\n",
            "4675)RautelaForever: Dear vanspiegel \n",
            "India is so rich that PM Narendra Modi had to implement demonetization to find out who is actually\n",
            "\n",
            "4676)RautelaForever: Dear vanspiegel \n",
            "India is so rich that PM Narendra Modi had to implement demonetization to find out who is actually\n",
            "\n",
            "4677)RautelaForever: Dear vanspiegel \n",
            "India is so rich that PM Narendra Modi had to implement demonetization to find out who is actually\n",
            "\n",
            "4678)RautelaForever: Dear vanspiegel \n",
            "India is so rich that PM Narendra Modi had to implement demonetization to find out who is actually\n",
            "\n",
            "4679)RautelaForever: Dear vanspiegel \n",
            "India is so rich that PM Narendra Modi had to implement demonetization to find out who is actually\n",
            "\n",
            "4680)RautelaForever: Dear vanspiegel \n",
            "India is so rich that PM Narendra Modi had to implement demonetization to find out who is actually\n",
            "\n",
            "4681)RautelaForever: Dear vanspiegel \n",
            "India is so rich that PM Narendra Modi had to implement demonetization to find out who is actually\n",
            "\n",
            "4682)RautelaForever: Dear vanspiegel \n",
            "India is so rich that PM Narendra Modi had to implement demonetization to find out who is actually\n",
            "\n",
            "4683)RautelaForever: Dear vanspiegel \n",
            "India is so rich that PM Narendra Modi had to implement demonetization to find out who is actually\n",
            "\n",
            "4684)RautelaForever: Dear vanspiegel \n",
            "India is so rich that PM Narendra Modi had to implement demonetization to find out who is actually\n",
            "\n",
            "4685)RautelaForever: Dear vanspiegel \n",
            "India is so rich that PM Narendra Modi had to implement demonetization to find out who is actually\n",
            "\n",
            "4686)RautelaForever: Dear evanspiegel \n",
            "India is so rich that PM Narendra Modi had to implement demonetization to find  \n",
            "\n",
            "4687)RautelaForever: Dear vanspiegel \n",
            "India is so rich that PM Narendra Modi had to implement demonetization to find out who is actually\n",
            "\n",
            "4688)RautelaForever: Dear vanspiegel \n",
            "India is so rich that PM Narendra Modi had to implement demonetization to find out who is actually\n",
            "\n",
            "4689)RautelaForever: Dear vanspiegel \n",
            "India is so rich that PM Narendra Modi had to implement demonetization to find out who is actually\n",
            "\n",
            "4690)RautelaForever: Dear evanspiegel \n",
            "India is so rich that PM Narendra Modi had to implement demonetization to find  \n",
            "\n",
            "4691)RautelaForever: Dear vanspiegel \n",
            "India is so rich that PM Narendra Modi had to implement demonetization to find out who is actually\n",
            "\n",
            "4692)RautelaForever: Dear vanspiegel \n",
            "India is so rich that PM Narendra Modi had to implement demonetization to find out who is actually\n",
            "\n",
            "4693)RautelaForever: Dear evanspiegel \n",
            "India is so rich that PM Narendra Modi had to implement demonetization to find  \n",
            "\n",
            "4694)RautelaForever: Dear evanspiegel \n",
            "India is so rich that PM Narendra Modi had to implement demonetization to find  \n",
            "\n",
            "4695)RautelaForever: Dear vanspiegel \n",
            "India is so rich that PM Narendra Modi had to implement demonetization to find out who is actually\n",
            "\n",
            "4696)RautelaForever: Dear vanspiegel \n",
            "India is so rich that PM Narendra Modi had to implement demonetization to find out who is actually\n",
            "\n",
            "4697)RautelaForever: Dear vanspiegel \n",
            "India is so rich that PM Narendra Modi had to implement demonetization to find out who is actually\n",
            "\n",
            "4698)I lik  a ouTube video   Kadar-2 | Happy Manila | Funny | Punjabi latest song 2016 | Demonetization 500 and\n",
            "\n",
            "4699)RautelaForever: Dear vanspiegel \n",
            "India is so rich that PM Narendra Modi had to implement demonetization to find out who is actually\n",
            "\n",
            "4700)Dear vanspiegel \n",
            "India is so rich that PM Narendra Modi had to implement demonetization to find out who is actually <U+200B>rich\n",
            "snapchatceo\n",
            "\n",
            "4701)RautelaForever: Dear vanspiegel \n",
            "India is so rich that PM Narendra Modi had to implement demonetization to find out who is actually\n",
            "\n",
            "4702)RautelaForever: Dear evanspiegel \n",
            "India is so rich that PM Narendra Modi had to implement demonetization to find  \n",
            "\n",
            "4703)RautelaForever: Dear vanspiegel \n",
            "India is so rich that PM Narendra Modi had to implement demonetization to find out who is actually\n",
            "\n",
            "4704)RautelaForever: Dear vanspiegel \n",
            "India is so rich that PM Narendra Modi had to implement demonetization to find out who is actually\n",
            "\n",
            "4705)RautelaForever: Dear vanspiegel \n",
            "India is so rich that PM Narendra Modi had to implement demonetization to find out who is actually\n",
            "\n",
            "4706)RautelaForever: Dear vanspiegel \n",
            "India is so rich that PM Narendra Modi had to implement demonetization to find out who is actually\n",
            "\n",
            "4707)RautelaForever: Dear vanspiegel \n",
            "India is so rich that PM Narendra Modi had to implement demonetization to find out who is actually\n",
            "\n",
            "4708)RautelaForever: Dear vanspiegel \n",
            "India is so rich that PM Narendra Modi had to implement demonetization to find out who is actually\n",
            "\n",
            "4709)RautelaForever: Dear vanspiegel \n",
            "India is so rich that PM Narendra Modi had to implement demonetization to find out who is actually\n",
            "\n",
            "4710)RautelaForever: Dear vanspiegel \n",
            "India is so rich that PM Narendra Modi had to implement demonetization to find out who is actually\n",
            "\n",
            "4711)RautelaForever: Dear vanspiegel \n",
            "India is so rich that PM Narendra Modi had to implement demonetization to find out who is actually\n",
            "\n",
            "4712)RautelaForever: Dear vanspiegel \n",
            "India is so rich that PM Narendra Modi had to implement demonetization to find out who is actually\n",
            "\n",
            "4713)RautelaForever: Dear vanspiegel \n",
            "India is so rich that PM Narendra Modi had to implement demonetization to find out who is actually\n",
            "\n",
            "4714)RautelaForever: Dear vanspiegel \n",
            "India is so rich that PM Narendra Modi had to implement demonetization to find out who is actually\n",
            "\n",
            "4715)RautelaForever: Dear vanspiegel \n",
            "India is so rich that PM Narendra Modi had to implement demonetization to find out who is actually\n",
            "\n",
            "4716)RautelaForever: Dear evanspiegel \n",
            "India is so rich that PM Narendra Modi had to implement demonetization to find  \n",
            "\n",
            "4717)RautelaForever: Dear vanspiegel \n",
            "India is so rich that PM Narendra Modi had to implement demonetization to find out who is actually\n",
            "\n",
            "4718)RautelaForever: Dear vanspiegel \n",
            "India is so rich that PM Narendra Modi had to implement demonetization to find out who is actually\n",
            "\n",
            "4719)RautelaForever: Dear vanspiegel \n",
            "India is so rich that PM Narendra Modi had to implement demonetization to find out who is actually\n",
            "\n",
            "4720)RautelaForever: Dear vanspiegel \n",
            "India is so rich that PM Narendra Modi had to implement demonetization to find out who is actually\n",
            "\n",
            "4721)RautelaForever: Dear vanspiegel \n",
            "India is so rich that PM Narendra Modi had to implement demonetization to find out who is actually\n",
            "\n",
            "4722)RautelaForever: Dear vanspiegel \n",
            "India is so rich that PM Narendra Modi had to implement demonetization to find out who is actually\n",
            "\n",
            "4723)RautelaForever: Dear vanspiegel \n",
            "India is so rich that PM Narendra Modi had to implement demonetization to find out who is actually\n",
            "\n",
            "4724)aanupriyaaa: Dear vanspiegel \n",
            "India is so rich that PM Narendra Modi had to implement demonetization to find out who is actually poo\n",
            "\n",
            "4725)RautelaForever: Dear vanspiegel \n",
            "India is so rich that PM Narendra Modi had to implement demonetization to find out who is actually\n",
            "\n",
            "4726)RautelaForever: Dear vanspiegel \n",
            "India is so rich that PM Narendra Modi had to implement demonetization to find out who is actually\n",
            "\n",
            "4727)RautelaForever: Dear vanspiegel \n",
            "India is so rich that PM Narendra Modi had to implement demonetization to find out who is actually\n",
            "\n",
            "4728)RautelaForever: Dear vanspiegel \n",
            "India is so rich that PM Narendra Modi had to implement demonetization to find out who is actually\n",
            "\n",
            "4729)RautelaForever: Dear evanspiegel \n",
            "India is so rich that PM Narendra Modi had to implement demonetization to find  \n",
            "\n",
            "4730)RautelaForever: Dear vanspiegel \n",
            "India is so rich that PM Narendra Modi had to implement demonetization to find out who is actually\n",
            "\n",
            "4731)RautelaForever: Dear vanspiegel \n",
            "India is so rich that PM Narendra Modi had to implement demonetization to find out who is actually\n",
            "\n",
            "4732)RautelaForever: Dear vanspiegel \n",
            "India is so rich that PM Narendra Modi had to implement demonetization to find out who is actually\n",
            "\n",
            "4733)\"Dear Evan Spiegel Snapchat.\n",
            "India is so rich that PM Narendra Modi had to implement demonetization to find out...  \n",
            "\n",
            "4734)RautelaForever: Dear vanspiegel \n",
            "India is so rich that PM Narendra Modi had to implement demonetization to find out who is actually\n",
            "\n",
            "4735)RautelaForever: Dear vanspiegel \n",
            "India is so rich that PM Narendra Modi had to implement demonetization to find out who is actually\n",
            "\n",
            "4736)RautelaForever: Dear vanspiegel \n",
            "India is so rich that PM Narendra Modi had to implement demonetization to find out who is actually\n",
            "\n",
            "4737)RautelaForever: Dear evanspiegel \n",
            "India is so rich that PM Narendra Modi had to implement demonetization to find  \n",
            "\n",
            "4738)RautelaForever: Dear vanspiegel \n",
            "India is so rich that PM Narendra Modi had to implement demonetization to find out who is actually\n",
            "\n",
            "4739)RautelaForever: Dear vanspiegel \n",
            "India is so rich that PM Narendra Modi had to implement demonetization to find out who is actually\n",
            "\n",
            "4740)RautelaForever: Dear vanspiegel \n",
            "India is so rich that PM Narendra Modi had to implement demonetization to find out who is actually\n",
            "\n",
            "4741)RautelaForever: Dear vanspiegel \n",
            "India is so rich that PM Narendra Modi had to implement demonetization to find out who is actually\n",
            "\n",
            "4742)RautelaForever: Dear vanspiegel \n",
            "India is so rich that PM Narendra Modi had to implement demonetization to find out who is actually\n",
            "\n",
            "4743)RautelaForever: Dear vanspiegel \n",
            "India is so rich that PM Narendra Modi had to implement demonetization to find out who is actually\n",
            "\n",
            "4744)RautelaForever: Dear vanspiegel \n",
            "India is so rich that PM Narendra Modi had to implement demonetization to find out who is actually\n",
            "\n",
            "4745)RautelaForever: Dear vanspiegel \n",
            "India is so rich that PM Narendra Modi had to implement demonetization to find out who is actually\n",
            "\n",
            "4746)RautelaForever: Dear vanspiegel \n",
            "India is so rich that PM Narendra Modi had to implement demonetization to find out who is actually\n",
            "\n",
            "4747)RautelaForever: Dear vanspiegel \n",
            "India is so rich that PM Narendra Modi had to implement demonetization to find out who is actually\n",
            "\n",
            "4748)RautelaForever: Dear vanspiegel \n",
            "India is so rich that PM Narendra Modi had to implement demonetization to find out who is actually\n",
            "\n",
            "4749)RautelaForever: Dear vanspiegel \n",
            "India is so rich that PM Narendra Modi had to implement demonetization to find out who is actually\n",
            "\n",
            "4750)RautelaForever: Dear vanspiegel \n",
            "India is so rich that PM Narendra Modi had to implement demonetization to find out who is actually\n",
            "\n",
            "4751)RautelaForever: Dear vanspiegel \n",
            "India is so rich that PM Narendra Modi had to implement demonetization to find out who is actually\n",
            "\n",
            "4752)RautelaForever: Dear vanspiegel \n",
            "India is so rich that PM Narendra Modi had to implement demonetization to find out who is actually\n",
            "\n",
            "4753)RautelaForever: Dear vanspiegel \n",
            "India is so rich that PM Narendra Modi had to implement demonetization to find out who is actually\n",
            "\n",
            "4754)RautelaForever: Dear vanspiegel \n",
            "India is so rich that PM Narendra Modi had to implement demonetization to find out who is actually\n",
            "\n",
            "4755)RautelaForever: Dear vanspiegel \n",
            "India is so rich that PM Narendra Modi had to implement demonetization to find out who is actually\n",
            "\n",
            "4756)RautelaForever: Dear evanspiegel \n",
            "India is so rich that PM Narendra Modi had to implement demonetization to find  \n",
            "\n",
            "4757)RautelaForever: Dear vanspiegel \n",
            "India is so rich that PM Narendra Modi had to implement demonetization to find out who is actually\n",
            "\n",
            "4758)RautelaForever: Dear vanspiegel \n",
            "India is so rich that PM Narendra Modi had to implement demonetization to find out who is actually\n",
            "\n",
            "4759)RautelaForever: Dear vanspiegel \n",
            "India is so rich that PM Narendra Modi had to implement demonetization to find out who is actually\n",
            "\n",
            "4760)RautelaForever: Dear vanspiegel \n",
            "India is so rich that PM Narendra Modi had to implement demonetization to find out who is actually\n",
            "\n",
            "4761)RautelaForever: Dear vanspiegel \n",
            "India is so rich that PM Narendra Modi had to implement demonetization to find out who is actually\n",
            "\n",
            "4762)RautelaForever: Dear vanspiegel \n",
            "India is so rich that PM Narendra Modi had to implement demonetization to find out who is actually\n",
            "\n",
            "4763)RautelaForever: Dear vanspiegel \n",
            "India is so rich that PM Narendra Modi had to implement demonetization to find out who is actually\n",
            "\n",
            "4764)RautelaForever: Dear evanspiegel \n",
            "India is so rich that PM Narendra Modi had to implement demonetization to find  \n",
            "\n",
            "4765)RautelaForever: Dear vanspiegel \n",
            "India is so rich that PM Narendra Modi had to implement demonetization to find out who is actually\n",
            "\n",
            "4766)RautelaForever: Dear vanspiegel \n",
            "India is so rich that PM Narendra Modi had to implement demonetization to find out who is actually\n",
            "\n",
            "4767)RautelaForever: Dear vanspiegel \n",
            "India is so rich that PM Narendra Modi had to implement demonetization to find out who is actually\n",
            "\n",
            "4768)RautelaForever: Dear vanspiegel \n",
            "India is so rich that PM Narendra Modi had to implement demonetization to find out who is actually\n",
            "\n",
            "4769)RautelaForever: Dear vanspiegel \n",
            "India is so rich that PM Narendra Modi had to implement demonetization to find out who is actually\n",
            "\n",
            "4770)RautelaForever: Dear vanspiegel \n",
            "India is so rich that PM Narendra Modi had to implement demonetization to find out who is actually\n",
            "\n",
            "4771)RautelaForever: Dear vanspiegel \n",
            "India is so rich that PM Narendra Modi had to implement demonetization to find out who is actually\n",
            "\n",
            "4772)RautelaForever: Dear vanspiegel \n",
            "India is so rich that PM Narendra Modi had to implement demonetization to find out who is actually\n",
            "\n",
            "4773)RautelaForever: Dear vanspiegel \n",
            "India is so rich that PM Narendra Modi had to implement demonetization to find out who is actually\n",
            "\n",
            "4774)RautelaForever: Dear vanspiegel \n",
            "India is so rich that PM Narendra Modi had to implement demonetization to find out who is actually\n",
            "\n",
            "4775)RautelaForever: Dear vanspiegel \n",
            "India is so rich that PM Narendra Modi had to implement demonetization to find out who is actually\n",
            "\n",
            "4776)RautelaForever: Dear evanspiegel \n",
            "India is so rich that PM Narendra Modi had to implement demonetization to find  \n",
            "\n",
            "4777)RautelaForever: Dear vanspiegel \n",
            "India is so rich that PM Narendra Modi had to implement demonetization to find out who is actually\n",
            "\n",
            "4778)RautelaForever: Dear vanspiegel \n",
            "India is so rich that PM Narendra Modi had to implement demonetization to find out who is actually\n",
            "\n",
            "4779)RautelaForever: Dear vanspiegel \n",
            "India is so rich that PM Narendra Modi had to implement demonetization to find out who is actually\n",
            "\n",
            "4780)RautelaForever: Dear vanspiegel \n",
            "India is so rich that PM Narendra Modi had to implement demonetization to find out who is actually\n",
            "\n",
            "4781)RautelaForever: Dear vanspiegel \n",
            "India is so rich that PM Narendra Modi had to implement demonetization to find out who is actually\n",
            "\n",
            "4782)RautelaForever: Dear vanspiegel \n",
            "India is so rich that PM Narendra Modi had to implement demonetization to find out who is actually\n",
            "\n",
            "4783)RautelaForever: Dear vanspiegel \n",
            "India is so rich that PM Narendra Modi had to implement demonetization to find out who is actually\n",
            "\n",
            "4784)RautelaForever: Dear vanspiegel \n",
            "India is so rich that PM Narendra Modi had to implement demonetization to find out who is actually\n",
            "\n",
            "4785)RautelaForever: Dear vanspiegel \n",
            "India is so rich that PM Narendra Modi had to implement demonetization to find out who is actually\n",
            "\n",
            "4786)RautelaForever: Dear vanspiegel \n",
            "India is so rich that PM Narendra Modi had to implement demonetization to find out who is actually\n",
            "\n",
            "4787)RautelaForever: Dear vanspiegel \n",
            "India is so rich that PM Narendra Modi had to implement demonetization to find out who is actually\n",
            "\n",
            "4788)RautelaForever: Dear vanspiegel \n",
            "India is so rich that PM Narendra Modi had to implement demonetization to find out who is actually\n",
            "\n",
            "4789)RautelaForever: Dear vanspiegel \n",
            "India is so rich that PM Narendra Modi had to implement demonetization to find out who is actually\n",
            "\n",
            "4790)RautelaForever: Dear vanspiegel \n",
            "India is so rich that PM Narendra Modi had to implement demonetization to find out who is actually\n",
            "\n",
            "4791)RautelaForever: Dear vanspiegel \n",
            "India is so rich that PM Narendra Modi had to implement demonetization to find out who is actually\n",
            "\n",
            "4792)RautelaForever: Dear vanspiegel \n",
            "India is so rich that PM Narendra Modi had to implement demonetization to find out who is actually\n",
            "\n",
            "4793)RautelaForever: Dear evanspiegel \n",
            "India is so rich that PM Narendra Modi had to implement demonetization to find  \n",
            "\n",
            "4794)RautelaForever: Dear vanspiegel \n",
            "India is so rich that PM Narendra Modi had to implement demonetization to find out who is actually\n",
            "\n",
            "4795)aanupriyaaa: Dear vanspiegel \n",
            "India is so rich that PM Narendra Modi had to implement demonetization to find out who is actually poo\n",
            "\n",
            "4796)RautelaForever: Dear vanspiegel \n",
            "India is so rich that PM Narendra Modi had to implement demonetization to find out who is actually\n",
            "\n",
            "4797)RautelaForever: Dear vanspiegel \n",
            "India is so rich that PM Narendra Modi had to implement demonetization to find out who is actually\n",
            "\n",
            "4798)RautelaForever: Dear vanspiegel \n",
            "India is so rich that PM Narendra Modi had to implement demonetization to find out who is actually\n",
            "\n",
            "4799)RautelaForever: Dear vanspiegel \n",
            "India is so rich that PM Narendra Modi had to implement demonetization to find out who is actually\n",
            "\n",
            "4800)RautelaForever: Dear vanspiegel \n",
            "India is so rich that PM Narendra Modi had to implement demonetization to find out who is actually\n",
            "\n",
            "4801)RautelaForever: Dear vanspiegel \n",
            "India is so rich that PM Narendra Modi had to implement demonetization to find out who is actually\n",
            "\n",
            "4802)RautelaForever: Dear evanspiegel \n",
            "India is so rich that PM Narendra Modi had to implement demonetization to find  \n",
            "\n",
            "4803)RautelaForever: Dear vanspiegel \n",
            "India is so rich that PM Narendra Modi had to implement demonetization to find out who is actually\n",
            "\n",
            "4804)RautelaForever: Dear vanspiegel \n",
            "India is so rich that PM Narendra Modi had to implement demonetization to find out who is actually\n",
            "\n",
            "4805)RautelaForever: Dear evanspiegel \n",
            "India is so rich that PM Narendra Modi had to implement demonetization to find  \n",
            "\n",
            "4806)RautelaForever: Dear vanspiegel \n",
            "India is so rich that PM Narendra Modi had to implement demonetization to find out who is actually\n",
            "\n",
            "4807)RautelaForever: Dear vanspiegel \n",
            "India is so rich that PM Narendra Modi had to implement demonetization to find out who is actually\n",
            "\n",
            "4808)RautelaForever: Dear vanspiegel \n",
            "India is so rich that PM Narendra Modi had to implement demonetization to find out who is actually\n",
            "\n",
            "4809)RautelaForever: Dear evanspiegel \n",
            "India is so rich that PM Narendra Modi had to implement demonetization to find  \n",
            "\n",
            "4810)RautelaForever: Dear vanspiegel \n",
            "India is so rich that PM Narendra Modi had to implement demonetization to find out who is actually\n",
            "\n",
            "4811)RautelaForever: Dear vanspiegel \n",
            "India is so rich that PM Narendra Modi had to implement demonetization to find out who is actually\n",
            "\n",
            "4812)RautelaForever: Dear vanspiegel \n",
            "India is so rich that PM Narendra Modi had to implement demonetization to find out who is actually\n",
            "\n",
            "4813)RautelaForever: Dear vanspiegel \n",
            "India is so rich that PM Narendra Modi had to implement demonetization to find out who is actually\n",
            "\n",
            "4814)RautelaForever: Dear vanspiegel \n",
            "India is so rich that PM Narendra Modi had to implement demonetization to find out who is actually\n",
            "\n",
            "4815)RautelaForever: Dear vanspiegel \n",
            "India is so rich that PM Narendra Modi had to implement demonetization to find out who is actually\n",
            "\n",
            "4816)vanspiegel \n",
            "India is so rich that our respect  PM arendramodi had to implement demonetization to find out who  \n",
            "\n",
            "4817)RautelaForever: Dear vanspiegel \n",
            "India is so rich that PM Narendra Modi had to implement demonetization to find out who is actually\n",
            "\n",
            "4818)RautelaForever: Dear vanspiegel \n",
            "India is so rich that PM Narendra Modi had to implement demonetization to find out who is actually\n",
            "\n",
            "4819)RautelaForever: Dear vanspiegel \n",
            "India is so rich that PM Narendra Modi had to implement demonetization to find out who is actually\n",
            "\n",
            "4820)anishTewari major effects of demonetization\n",
            "\n",
            "4821)RautelaForever: Dear vanspiegel \n",
            "India is so rich that PM Narendra Modi had to implement demonetization to find out who is actually\n",
            "\n",
            "4822)RautelaForever: Dear vanspiegel \n",
            "India is so rich that PM Narendra Modi had to implement demonetization to find out who is actually\n",
            "\n",
            "4823)RautelaForever: Dear vanspiegel \n",
            "India is so rich that PM Narendra Modi had to implement demonetization to find out who is actually\n",
            "\n",
            "4824)RautelaForever: Dear vanspiegel \n",
            "India is so rich that PM Narendra Modi had to implement demonetization to find out who is actually\n",
            "\n",
            "4825)RautelaForever: Dear vanspiegel \n",
            "India is so rich that PM Narendra Modi had to implement demonetization to find out who is actually\n",
            "\n",
            "4826)RautelaForever: Dear vanspiegel \n",
            "India is so rich that PM Narendra Modi had to implement demonetization to find out who is actually\n",
            "\n",
            "4827)RautelaForever: Dear evanspiegel \n",
            "India is so rich that PM Narendra Modi had to implement demonetization to find  \n",
            "\n",
            "4828)iranKS: Indian economy and trade getting back in order after a brief demonetization lull. This is very promising!  \n",
            "\n",
            "4829)RautelaForever: Dear vanspiegel \n",
            "India is so rich that PM Narendra Modi had to implement demonetization to find out who is actually\n",
            "\n",
            "4830)RautelaForever: Dear vanspiegel \n",
            "India is so rich that PM Narendra Modi had to implement demonetization to find out who is actually\n",
            "\n",
            "4831)RautelaForever: Dear vanspiegel \n",
            "India is so rich that PM Narendra Modi had to implement demonetization to find out who is actually\n",
            "\n",
            "4832)RautelaForever: Dear vanspiegel \n",
            "India is so rich that PM Narendra Modi had to implement demonetization to find out who is actually\n",
            "\n",
            "4833)RautelaForever: Dear vanspiegel \n",
            "India is so rich that PM Narendra Modi had to implement demonetization to find out who is actually\n",
            "\n",
            "4834)RautelaForever: Dear vanspiegel \n",
            "India is so rich that PM Narendra Modi had to implement demonetization to find out who is actually\n",
            "\n",
            "4835)RautelaForever: Dear vanspiegel \n",
            "India is so rich that PM Narendra Modi had to implement demonetization to find out who is actually\n",
            "\n",
            "4836)RautelaForever: Dear vanspiegel \n",
            "India is so rich that PM Narendra Modi had to implement demonetization to find out who is actually\n",
            "\n",
            "4837)RautelaForever: Dear vanspiegel \n",
            "India is so rich that PM Narendra Modi had to implement demonetization to find out who is actually\n",
            "\n",
            "4838)RautelaForever: Dear vanspiegel \n",
            "India is so rich that PM Narendra Modi had to implement demonetization to find out who is actually\n",
            "\n",
            "4839)RautelaForever: Dear vanspiegel \n",
            "India is so rich that PM Narendra Modi had to implement demonetization to find out who is actually\n",
            "\n",
            "4840)RautelaForever: Dear vanspiegel \n",
            "India is so rich that PM Narendra Modi had to implement demonetization to find out who is actually\n",
            "\n",
            "4841)RautelaForever: Dear vanspiegel \n",
            "India is so rich that PM Narendra Modi had to implement demonetization to find out who is actually\n",
            "\n",
            "4842)RautelaForever: Dear vanspiegel \n",
            "India is so rich that PM Narendra Modi had to implement demonetization to find out who is actually\n",
            "\n",
            "4843)RautelaForever: Dear vanspiegel \n",
            "India is so rich that PM Narendra Modi had to implement demonetization to find out who is actually\n",
            "\n",
            "4844)RautelaForever: Dear vanspiegel \n",
            "India is so rich that PM Narendra Modi had to implement demonetization to find out who is actually\n",
            "\n",
            "4845)RautelaForever: Dear evanspiegel \n",
            "India is so rich that PM Narendra Modi had to implement demonetization to find  \n",
            "\n",
            "4846)RautelaForever: Dear vanspiegel \n",
            "India is so rich that PM Narendra Modi had to implement demonetization to find out who is actually\n",
            "\n",
            "4847)RautelaForever: Dear vanspiegel \n",
            "India is so rich that PM Narendra Modi had to implement demonetization to find out who is actually\n",
            "\n",
            "4848)RautelaForever: Dear vanspiegel \n",
            "India is so rich that PM Narendra Modi had to implement demonetization to find out who is actually\n",
            "\n",
            "4849)RautelaForever: Dear evanspiegel \n",
            "India is so rich that PM Narendra Modi had to implement demonetization to find  \n",
            "\n",
            "4850)RautelaForever: Dear vanspiegel \n",
            "India is so rich that PM Narendra Modi had to implement demonetization to find out who is actually\n",
            "\n",
            "4851)RautelaForever: Dear vanspiegel \n",
            "India is so rich that PM Narendra Modi had to implement demonetization to find out who is actually\n",
            "\n",
            "4852)RautelaForever: Dear vanspiegel \n",
            "India is so rich that PM Narendra Modi had to implement demonetization to find out who is actually\n",
            "\n",
            "4853)RautelaForever: Dear vanspiegel \n",
            "India is so rich that PM Narendra Modi had to implement demonetization to find out who is actually\n",
            "\n",
            "4854)RautelaForever: Dear vanspiegel \n",
            "India is so rich that PM Narendra Modi had to implement demonetization to find out who is actually\n",
            "\n",
            "4855)RautelaForever: Dear vanspiegel \n",
            "India is so rich that PM Narendra Modi had to implement demonetization to find out who is actually\n",
            "\n",
            "4856)RautelaForever: Dear vanspiegel \n",
            "India is so rich that PM Narendra Modi had to implement demonetization to find out who is actually\n",
            "\n",
            "4857)RautelaForever: Dear evanspiegel \n",
            "India is so rich that PM Narendra Modi had to implement demonetization to find  \n",
            "\n",
            "4858)RautelaForever: Dear vanspiegel \n",
            "India is so rich that PM Narendra Modi had to implement demonetization to find out who is actually\n",
            "\n",
            "4859)RautelaForever: Dear vanspiegel \n",
            "India is so rich that PM Narendra Modi had to implement demonetization to find out who is actually\n",
            "\n",
            "4860)RautelaForever: Dear vanspiegel \n",
            "India is so rich that PM Narendra Modi had to implement demonetization to find out who is actually\n",
            "\n",
            "4861)RautelaForever: Dear vanspiegel \n",
            "India is so rich that PM Narendra Modi had to implement demonetization to find out who is actually\n",
            "\n",
            "4862)Dear vanspiegel \n",
            "India is so rich that PM Narendra Modi had to implement demonetization to find out who is actual  \n",
            "\n",
            "4863)RautelaForever: Dear evanspiegel \n",
            "India is so rich that PM Narendra Modi had to implement demonetization to find  \n",
            "\n",
            "4864)RautelaForever: Dear evanspiegel \n",
            "India is so rich that PM Narendra Modi had to implement demonetization to find  \n",
            "\n",
            "4865)RautelaForever: Dear evanspiegel \n",
            "India is so rich that PM Narendra Modi had to implement demonetization to find  \n",
            "\n",
            "4866)RautelaForever: Dear evanspiegel \n",
            "India is so rich that PM Narendra Modi had to implement demonetization to find  \n",
            "\n",
            "4867)RautelaForever: Dear evanspiegel \n",
            "India is so rich that PM Narendra Modi had to implement demonetization to find  \n",
            "\n",
            "4868)RautelaForever: Dear evanspiegel \n",
            "India is so rich that PM Narendra Modi had to implement demonetization to find  \n",
            "\n",
            "4869)Dear evanspiegel \n",
            "India is so rich that PM Narendra Modi had to implement demonetization to find  \n",
            "\n",
            "4870)BJP then: demonetization has stopp  stone pelters in their track\n",
            "BJP now: stone pelters a menace every day\n",
            "Which one is true ?\n",
            "\n",
            "4871)aanupriyaaa: Dear vanspiegel \n",
            "India is so rich that PM Narendra Modi had to implement demonetization to find out who is actually poo\n",
            "\n",
            "4872)Very Good, another milestone achiev  ! Once all Driving Licence should be De-register  &amp; Re-issu , like Demoneti  \n",
            "\n",
            "4873)ishwa_theking hashiTharoor MOIndia demonetization, hehe. Don't be a bias  man, justify each and everything with true justice only\n",
            "\n",
            "4874)aanupriyaaa: Dear vanspiegel \n",
            "India is so rich that PM Narendra Modi had to implement demonetization to find out who is actually poo\n",
            "\n",
            "4875)aanupriyaaa: Dear vanspiegel \n",
            "India is so rich that PM Narendra Modi had to implement demonetization to find out who is actually poo\n",
            "\n",
            "4876)miteshK01: 3 Years of BJP in Power, Demonetization still agarikaghose DUTT anaAyyub getting money from Pak...Still loopholes in\n",
            "\n",
            "4877)Same anchor was shouting few months back tat demonetization had kill  stone pelting busness effectively  \n",
            "\n",
            "4878)aanupriyaaa: Dear vanspiegel \n",
            "India is so rich that PM Narendra Modi had to implement demonetization to find out who is actually poo\n",
            "\n",
            "4879)admanweb igvijaya_28 Demonetization happen  in India not in Ur loving Pakistan\n",
            "\n",
            "4880)aanupriyaaa: Dear vanspiegel \n",
            "India is so rich that PM Narendra Modi had to implement demonetization to find out who is actually poo\n",
            "\n",
            "4881)aanupriyaaa: Dear vanspiegel \n",
            "India is so rich that PM Narendra Modi had to implement demonetization to find out who is actually poo\n",
            "\n",
            "4882)aanupriyaaa: Dear vanspiegel \n",
            "India is so rich that PM Narendra Modi had to implement demonetization to find out who is actually poo\n",
            "\n",
            "4883)aanupriyaaa: Dear vanspiegel \n",
            "India is so rich that PM Narendra Modi had to implement demonetization to find out who is actually poo\n",
            "\n",
            "4884)Snapchat CEO said India is poor\n",
            "  Pretty sure he has no idea about the post demonetization bank balances of drivers and chair walas.\n",
            "\n",
            "4885)aanupriyaaa: Dear vanspiegel \n",
            "India is so rich that PM Narendra Modi had to implement demonetization to find out who is actually poo\n",
            "\n",
            "4886)aanupriyaaa: Dear vanspiegel \n",
            "India is so rich that PM Narendra Modi had to implement demonetization to find out who is actually poo\n",
            "\n",
            "4887)aanupriyaaa: Dear vanspiegel \n",
            "India is so rich that PM Narendra Modi had to implement demonetization to find out who is actually poo\n",
            "\n",
            "4888)aanupriyaaa: Dear vanspiegel \n",
            "India is so rich that PM Narendra Modi had to implement demonetization to find out who is actually poo\n",
            "\n",
            "4889)aanupriyaaa: Dear vanspiegel \n",
            "India is so rich that PM Narendra Modi had to implement demonetization to find out who is actually poo\n",
            "\n",
            "4890)Delay in payment under IDS due to demonetization unacceptable- Bombay High Court dismisses writ Read More :  \n",
            "\n",
            "4891)aanupriyaaa: Dear vanspiegel \n",
            "India is so rich that PM Narendra Modi had to implement demonetization to find out who is actually poo\n",
            "\n",
            "4892)idonomics: Current best is Pichaikaran  .. Hope everyone remembers those Demonetization effect promos\n",
            "\n",
            "4893)aanupriyaaa: Dear vanspiegel \n",
            "India is so rich that PM Narendra Modi had to implement demonetization to find out who is actually poo\n",
            "\n",
            "4894)The latest The Demonetization Daily!   Thanks to jowen erpentinfinity illesCutaya ertc youtube\n",
            "\n",
            "4895)aanupriyaaa: Dear vanspiegel \n",
            "India is so rich that PM Narendra Modi had to implement demonetization to find out who is actually poo\n",
            "\n",
            "4896)aanupriyaaa: Dear vanspiegel \n",
            "India is so rich that PM Narendra Modi had to implement demonetization to find out who is actually poo\n",
            "\n",
            "4897)aanupriyaaa: Dear vanspiegel \n",
            "India is so rich that PM Narendra Modi had to implement demonetization to find out who is actually poo\n",
            "\n",
            "4898)aanupriyaaa: Dear vanspiegel \n",
            "India is so rich that PM Narendra Modi had to implement demonetization to find out who is actually poo\n",
            "\n",
            "4899)miteshK01: 3 Years of BJP in Power, Demonetization still agarikaghose DUTT anaAyyub getting money from Pak...Still loopholes in\n",
            "\n",
            "4900)imcast: Youtube flags my videos for demonetization then after most people have already watch  them they will reinstate ads, thus I ge\n",
            "\n",
            "4901)miteshK01: 3 Years of BJP in Power, Demonetization still agarikaghose DUTT anaAyyub getting money from Pak...Still loopholes in\n",
            "\n",
            "4902)miteshK01: 3 Years of BJP in Power, Demonetization still agarikaghose DUTT anaAyyub getting money from Pak...Still loopholes in\n",
            "\n",
            "4903)yaKaise: 25 viewer Questions about YouTube Demonetization and the latest developments, answer . \n",
            "25 sawaal YouTube demonetizhttps://\n",
            "\n",
            "4904)imcast: Youtube flags my videos for demonetization then after most people have already watch  them they will reinstate ads, thus I ge\n",
            "\n",
            "4905)imcast: Youtube flags my videos for demonetization then after most people have already watch  them they will reinstate ads, thus I ge\n",
            "\n",
            "4906)idonomics: Current best is Pichaikaran  .. Hope everyone remembers those Demonetization effect promos\n",
            "\n",
            "4907)aanupriyaaa: Dear vanspiegel \n",
            "India is so rich that PM Narendra Modi had to implement demonetization to find out who is actually poo\n",
            "\n",
            "4908)aanupriyaaa: Dear vanspiegel \n",
            "India is so rich that PM Narendra Modi had to implement demonetization to find out who is actually poo\n",
            "\n",
            "4909)aanupriyaaa: Dear vanspiegel \n",
            "India is so rich that PM Narendra Modi had to implement demonetization to find out who is actually poo\n",
            "\n",
            "4910)imcast: Youtube flags my videos for demonetization then after most people have already watch  them they will reinstate ads, thus I ge\n",
            "\n",
            "4911)aanupriyaaa: Dear vanspiegel \n",
            "India is so rich that PM Narendra Modi had to implement demonetization to find out who is actually poo\n",
            "\n",
            "4912)He is a youtuber as well. I'm sure he is suffering from demonetization like others in his field  \n",
            "\n",
            "4913)aanupriyaaa: Dear vanspiegel \n",
            "India is so rich that PM Narendra Modi had to implement demonetization to find out who is actually poo\n",
            "\n",
            "4914)aanupriyaaa: Dear vanspiegel \n",
            "India is so rich that PM Narendra Modi had to implement demonetization to find out who is actually poo\n",
            "\n",
            "4915)aanupriyaaa: Dear vanspiegel \n",
            "India is so rich that PM Narendra Modi had to implement demonetization to find out who is actually poo\n",
            "\n",
            "4916)aanupriyaaa: Dear vanspiegel \n",
            "India is so rich that PM Narendra Modi had to implement demonetization to find out who is actually poo\n",
            "\n",
            "4917)aanupriyaaa: Dear vanspiegel \n",
            "India is so rich that PM Narendra Modi had to implement demonetization to find out who is actually poo\n",
            "\n",
            "4918)miteshK01: 3 Years of BJP in Power, Demonetization still agarikaghose DUTT anaAyyub getting money from Pak...Still loopholes in\n",
            "\n",
            "4919)ameer_polonium arsh02251420 isssoniaahm  ardarsikh1 hribuddha Yes Endians with demonetization, 200 deaths, know economics better\n",
            "\n",
            "4920)aanupriyaaa: Dear vanspiegel \n",
            "India is so rich that PM Narendra Modi had to implement demonetization to find out who is actually poo\n",
            "\n",
            "4921)aanupriyaaa: Dear vanspiegel \n",
            "India is so rich that PM Narendra Modi had to implement demonetization to find out who is actually poo\n",
            "\n",
            "4922)aanupriyaaa: Dear vanspiegel \n",
            "India is so rich that PM Narendra Modi had to implement demonetization to find out who is actually poo\n",
            "\n",
            "4923)aanupriyaaa: Dear vanspiegel \n",
            "India is so rich that PM Narendra Modi had to implement demonetization to find out who is actually poo\n",
            "\n",
            "4924)miteshK01: 3 Years of BJP in Power, Demonetization still agarikaghose DUTT anaAyyub getting money from Pak...Still loopholes in\n",
            "\n",
            "4925)anjeetbisht: Dear vanspiegel \n",
            "India is so rich that PM Narendra Modi had to implement demonetization to find out who is actually poo\n",
            "\n",
            "4926)YouTube demonetization: Young Turks maintains silence and more people ar...  \n",
            "\n",
            "4927)miteshK01: 3 Years of BJP in Power, Demonetization still agarikaghose DUTT anaAyyub getting money from Pak...Still loopholes in\n",
            "\n",
            "4928)miteshK01: 3 Years of BJP in Power, Demonetization still agarikaghose DUTT anaAyyub getting money from Pak...Still loopholes in\n",
            "\n",
            "4929)Reason why most Govts do nothing:- After all that is being done like GST, demonetization, agri, power, rlws, this i  \n",
            "\n",
            "4930)aanupriyaaa: Dear vanspiegel \n",
            "India is so rich that PM Narendra Modi had to implement demonetization to find out who is actually poo\n",
            "\n",
            "4931)<U+0D26><U+0D40><U+0D2A> <U+0D16><U+0D3E><U+0D26><U+0D7C> on FB:\n",
            "Weren't we told that demonetization had 'solv ' all the trouble in Kashmir and 'tam ' the stone-pelters for good?\n",
            "\n",
            "4932)imcast: Youtube flags my videos for demonetization then after most people have already watch  them they will reinstate ads, thus I ge\n",
            "\n",
            "4933)ubinOfAkkad: Me, a skeptic youtuber who is upset about demonetization of my videos:\n",
            "\"Capitalism and deregulation are good\"\n",
            "\n",
            "4934)aanupriyaaa: Dear vanspiegel \n",
            "India is so rich that PM Narendra Modi had to implement demonetization to find out who is actually poo\n",
            "\n",
            "4935)anjeetbisht: Dear vanspiegel \n",
            "India is so rich that PM Narendra Modi had to implement demonetization to find out who is actually poo\n",
            "\n",
            "4936)imcast: Youtube flags my videos for demonetization then after most people have already watch  them they will reinstate ads, thus I ge\n",
            "\n",
            "4937)aanupriyaaa: Dear vanspiegel \n",
            "India is so rich that PM Narendra Modi had to implement demonetization to find out who is actually poo\n",
            "\n",
            "4938)aanupriyaaa: Dear vanspiegel \n",
            "India is so rich that PM Narendra Modi had to implement demonetization to find out who is actually poo\n",
            "\n",
            "4939)aanupriyaaa: Dear vanspiegel \n",
            "India is so rich that PM Narendra Modi had to implement demonetization to find out who is actually poo\n",
            "\n",
            "4940)aanupriyaaa: Dear vanspiegel \n",
            "India is so rich that PM Narendra Modi had to implement demonetization to find out who is actually poo\n",
            "\n",
            "4941)aanupriyaaa: Dear vanspiegel \n",
            "India is so rich that PM Narendra Modi had to implement demonetization to find out who is actually poo\n",
            "\n",
            "Get rich then t\n",
            "\n",
            "4943)aanupriyaaa: Dear vanspiegel \n",
            "India is so rich that PM Narendra Modi had to implement demonetization to find out who is actually poo\n",
            "\n",
            "4944)aanupriyaaa: Dear vanspiegel \n",
            "India is so rich that PM Narendra Modi had to implement demonetization to find out who is actually poo\n",
            "\n",
            "4945)aanupriyaaa: Dear vanspiegel \n",
            "India is so rich that PM Narendra Modi had to implement demonetization to find out who is actually poo\n",
            "\n",
            "Get rich then think abut IND market\n",
            "\n",
            "4947)aanupriyaaa: Dear vanspiegel \n",
            "India is so rich that PM Narendra Modi had to implement demonetization to find out who is actually poo\n",
            "\n",
            "4948)aanupriyaaa: Dear vanspiegel \n",
            "India is so rich that PM Narendra Modi had to implement demonetization to find out who is actually poo\n",
            "\n",
            "4949)imcast: Youtube flags my videos for demonetization then after most people have already watch  them they will reinstate ads, thus I ge\n",
            "\n",
            "4950)aanupriyaaa: Dear vanspiegel \n",
            "India is so rich that PM Narendra Modi had to implement demonetization to find out who is actually poo\n",
            "\n",
            "4951)aanupriyaaa: Dear vanspiegel \n",
            "India is so rich that PM Narendra Modi had to implement demonetization to find out who is actually poo\n",
            "\n",
            "4952)aanupriyaaa: Dear vanspiegel \n",
            "India is so rich that PM Narendra Modi had to implement demonetization to find out who is actually poo\n",
            "\n",
            "4953)miteshK01: 3 Years of BJP in Power, Demonetization still agarikaghose DUTT anaAyyub getting money from Pak...Still loopholes in\n",
            "\n",
            "4954)aanupriyaaa: Dear vanspiegel \n",
            "India is so rich that PM Narendra Modi had to implement demonetization to find out who is actually poo\n",
            "\n",
            "4955)aanupriyaaa: Dear vanspiegel \n",
            "India is so rich that PM Narendra Modi had to implement demonetization to find out who is actually poo\n",
            "\n",
            "4956)aanupriyaaa: Dear vanspiegel \n",
            "India is so rich that PM Narendra Modi had to implement demonetization to find out who is actually poo\n",
            "\n",
            "4957)aanupriyaaa: Dear vanspiegel \n",
            "India is so rich that PM Narendra Modi had to implement demonetization to find out who is actually poo\n",
            "\n",
            "4958)aanupriyaaa: Dear vanspiegel \n",
            "India is so rich that PM Narendra Modi had to implement demonetization to find out who is actually poo\n",
            "\n",
            "4959)imcast: Youtube flags my videos for demonetization then after most people have already watch  them they will reinstate ads, thus I ge\n",
            "\n",
            "4960)imcast: Youtube flags my videos for demonetization then after most people have already watch  them they will reinstate ads, thus I ge\n",
            "\n",
            "4961)imcast: Youtube flags my videos for demonetization then after most people have already watch  them they will reinstate ads, thus I ge\n",
            "\n",
            "4962)miteshK01: 3 Years of BJP in Power, Demonetization still agarikaghose DUTT anaAyyub getting money from Pak...Still loopholes in\n",
            "\n",
            "4963)imcast: Youtube flags my videos for demonetization then after most people have already watch  them they will reinstate ads, thus I ge\n",
            "\n",
            "4964)miteshK01: 3 Years of BJP in Power, Demonetization still agarikaghose DUTT anaAyyub getting money from Pak...Still loopholes in\n",
            "\n",
            "4965)miteshK01: 3 Years of BJP in Power, Demonetization still agarikaghose DUTT anaAyyub getting money from Pak...Still loopholes in\n",
            "\n",
            "4966)LadyDon rjatinanand wetaSinghAT video is real !! this comes very beginning of Demonetization she and Tihari c  \n",
            "\n",
            "4967)imcast: Youtube flags my videos for demonetization then after most people have already watch  them they will reinstate ads, thus I ge\n",
            "\n",
            "4968)tripps: rKumarVishwas This is really a concern. Like demonetization, a daring step taken on 8th Nov, would urge Hon PM to announce a\n",
            "\n",
            "4969)idonomics: Current best is Pichaikaran  .. Hope everyone remembers those Demonetization effect promos\n",
            "\n",
            "4970)imcast: Youtube flags my videos for demonetization then after most people have already watch  them they will reinstate ads, thus I ge\n",
            "\n",
            "4971)rKumarVishwas This is really a concern. Like demonetization, a daring step taken on 8th Nov, would urge Hon PM to  \n",
            "\n",
            "4972)And u expect me to be grateful for the restraint u have shown? Ok demonetization has demon in it , demon has omen in it... Ne  I say more?\n",
            "\n",
            "4973)igvijaya_28: Demonetization lingers as IIP contracts in February | Latest News &amp; Updates at Daily News &amp; Analysis  \n",
            "\n",
            "4974)Really arendramodi replying to everyone's tweet?!< ><U+ ><U+ >< ><U+ ><U+00B6> should I ask him about demonetization?! < ><U+ ><U+ >< ><U+00B9><U+0088>< ><U+ ><U+ >< ><U+00B9><U+008A>\n",
            "\n",
            "4975)CanadianGuyeh: Old man Thunderf00t doesn't get parody, claims to think demonetization of videos is b/c of KekistaniFlag when in actua\n",
            "\n",
            "4976)idonomics: Current best is Pichaikaran  .. Hope everyone remembers those Demonetization effect promos\n",
            "\n",
            "4977)GDEEPAK heOfficialSBI It's not due to demonetization. SBI has a tendency to don't facilitate customers.\n",
            "\n",
            "4978)  LIVE: DISCUSSION ON DEMONETIZATION IN RAJYA SABHA - PM MODI IN THE HOUSE (COURTEST RS TV) video live\n",
            "\n",
            "4979)idonomics: Current best is Pichaikaran  .. Hope everyone remembers those Demonetization effect promos\n",
            "\n",
            "4980)idonomics: Current best is Pichaikaran  .. Hope everyone remembers those Demonetization effect promos\n",
            "\n",
            "4981)idonomics: Current best is Pichaikaran  .. Hope everyone remembers those Demonetization effect promos\n",
            "\n",
            "4982)Current best is Pichaikaran  .. Hope everyone remembers those Demonetization effect promos\n",
            "\n",
            "4983)igvijaya_28: Demonetization lingers as IIP contracts in February | Latest News &amp; Updates at Daily News &amp; Analysis  \n",
            "\n",
            "4984)hunderf00t argon_of_Akkad Good point.  What advertiser wants exposure on Talk Islam and their BS yet they avoid demonetization\n",
            "\n",
            "4985)Just saw Demonetization queue outside Glocal. Amazing! indiranagar bengaluru\n",
            "\n",
            "4986)imcast: Youtube flags my videos for demonetization then after most people have already watch  them they will reinstate ads, thus I ge\n",
            "\n",
            "4987)Snapchat CEO trigger  more people than Modi trigger  with demonetization.\n",
            "\n",
            "4988)oddleoddle With the recent demonetization of popular YT channels, do you still think there can be honesty when $'s are involv ?\n",
            "\n",
            "4989)The Millennials whining about YouTube demonetization is so damn delicious. These entitl  leftist asses act like they invent  streaming.\n",
            "\n",
            "4990)imcast: Youtube flags my videos for demonetization then after most people have already watch  them they will reinstate ads, thus I ge\n",
            "\n",
            "4991)na: True story: Yogi Adityanath says PM Modi's demonetization idea was inspir  by BR Amb kar    \n",
            "\n",
            "4992)r_SarithaAR: AAP &amp; AK hv consistently voic  on national issues be it Farmer, CrossBorderTerrorism, Demonetization, EVM, Corruption\n",
            "Le\n",
            "\n",
            "4993)r_SarithaAR: AAP &amp; AK hv consistently voic  on national issues be it Farmer, CrossBorderTerrorism, Demonetization, EVM, Corruption\n",
            "Le\n",
            "\n",
            "4994)25 viewer Questions about YouTube Demonetization and the latest developments, answer . \n",
            "25 sawaal YouTube demonetiz \n",
            "\n",
            "4995)r_SarithaAR: AAP &amp; AK hv consistently voic  on national issues be it Farmer, CrossBorderTerrorism, Demonetization, EVM, Corruption\n",
            "Le\n",
            "\n",
            "4996)oamingMil at first I didn't care about YouTube demonetization. Like get a real job. But this is real censorship w  \n",
            "\n",
            "4997)25 viewer Questions about YouTube Demonetization and the latest developments, answer . \n",
            "25 sawaal YouTube...  \n",
            "\n",
            "4998)ubinOfAkkad: Me, a skeptic youtuber who is upset about demonetization of my videos:\n",
            "\"Capitalism and deregulation are good\"\n",
            "\n",
            "4999)imcast: Youtube flags my videos for demonetization then after most people have already watch  them they will reinstate ads, thus I ge\n",
            "\n",
            "5000)imcast: Youtube flags my videos for demonetization then after most people have already watch  them they will reinstate ads, thus I ge\n",
            "\n",
            "5001)anicidiot hunderf00t Tbf, this start  with Sargon's tweet about demonetization of one video. But apparently it  \n",
            "\n",
            "5002)ubinOfAkkad: Me, a skeptic youtuber who is upset about demonetization of my videos:\n",
            "\"Capitalism and deregulation are good\"\n",
            "\n",
            "5003)CanadianGuyeh: Old man Thunderf00t doesn't get parody, claims to think demonetization of videos is b/c of KekistaniFlag when in actua\n",
            "\n",
            "5004)the youtube demonetization event didn't affect me. I was already effectively demonetiz  years ago.\n",
            "\n",
            "5005)Old man Thunderf00t doesn't get parody, claims to think demonetization of videos is b/c of KekistaniFlag when in actuality it isn't.\n",
            "\n",
            "5006)imcast: Youtube flags my videos for demonetization then after most people have already watch  them they will reinstate ads, thus I ge\n",
            "\n",
            "5007)imcast: Youtube flags my videos for demonetization then after most people have already watch  them they will reinstate ads, thus I ge\n",
            "\n",
            "5008)imcast: Youtube flags my videos for demonetization then after most people have already watch  them they will reinstate ads, thus I ge\n",
            "\n",
            "5009)ubinOfAkkad: Me, a skeptic youtuber who is upset about demonetization of my videos:\n",
            "\"Capitalism and deregulation are good\"\n",
            "\n",
            "5010)Me, a skeptic youtuber who is upset about demonetization of my videos:\n",
            "\"Capitalism and deregulation are good\"\n",
            "\n",
            "5011)imcast: Youtube flags my videos for demonetization then after most people have already watch  them they will reinstate ads, thus I ge\n",
            "\n",
            "5012)imcast: Youtube flags my videos for demonetization then after most people have already watch  them they will reinstate ads, thus I ge\n",
            "\n",
            "5013)esenag: _aashish All these snarky tweets are fine but can you switch between Demonetization, EVMs, Aadhar and Tunday Kebabs with non\n",
            "\n",
            "5014)hailesh_0501: arendramodi Modi ji, thanks for taking bold decision of demonetization . Make the India completely cashless.\n",
            "It will r\n",
            "\n",
            "5015).ouTube ne s to pay a steep price for this demonetization BS. Customers have the real power. Your eyeballs are worth a LOT of money.\n",
            "\n",
            "5016)hitesquall_87: ageAfterStorm Well that's quite relevant to my comment. Demonetization is like the gateway drug to deletion lol. Hope\n",
            "\n",
            "5017)ageAfterStorm Well that's quite relevant to my comment. Demonetization is like the gateway drug to deletion lol.  \n",
            "\n",
            "5018)PAL_Global: Banerjee: After demonetization, GDP growth fell slightly - but this isn't the best measure of real impacts.  \n",
            "\n",
            "5019)imcast: Youtube flags my videos for demonetization then after most people have already watch  them they will reinstate ads, thus I ge\n",
            "\n",
            "5020)imcast: Youtube flags my videos for demonetization then after most people have already watch  them they will reinstate ads, thus I ge\n",
            "\n",
            "5021)imcast: Youtube flags my videos for demonetization then after most people have already watch  them they will reinstate ads, thus I ge\n",
            "\n",
            "5022)iranKS: Indian economy and trade getting back in order after a brief demonetization lull. This is very promising!  \n",
            "\n",
            "5023)DUTT Modi should do demonetization every six months to stop this stone pelting. DeMonetisation stops pelting . :)\n",
            "\n",
            "5024)unilgoinghigh alviyamit I paid cash so does many .... Online ab shuru hua hain specially jabse digital India an  \n",
            "\n",
            "5025)adhaGiri: 811 is the day when india chang  with demonetization - kotak has launch  an innovative product with the same name! Smart m\n",
            "\n",
            "5026)Discover top 5 advantages of Demonetization an article from Motilal Oswal Financial Services    \n",
            "\n",
            "5027)imcast: Youtube flags my videos for demonetization then after most people have already watch  them they will reinstate ads, thus I ge\n",
            "\n",
            "5028)addadaari ikHasya True. It's not the absolute unfairness that rankles, it's the inconsistency of it. Explains w  \n",
            "\n",
            "5029)ngellicAribam Reply me honestly\n",
            "Yours how much Money wast  during Demonetization in form of 500 &amp; 1000 rupee notes\n",
            "\n",
            "5030)rabhuRam26 I support  demonetization for first three days. Then < ><U+ ><U+ >< ><U+00B1><U+008E>Also I support  while preparing for competitiv  \n",
            "\n",
            "5031)ardesairajdeep Demonetization done for this only.\n",
            "Currency chori\n",
            "Currency shortage\n",
            "Surplus New cash with BJP is highly suspicious.\n",
            "\n",
            "5032)imcast: Youtube flags my videos for demonetization then after most people have already watch  them they will reinstate ads, thus I ge\n",
            "\n",
            "5033)imcast: Youtube flags my videos for demonetization then after most people have already watch  them they will reinstate ads, thus I ge\n",
            "\n",
            "5034)imcast: Youtube flags my videos for demonetization then after most people have already watch  them they will reinstate ads, thus I ge\n",
            "\n",
            "5035)imcast: Youtube flags my videos for demonetization then after most people have already watch  them they will reinstate ads, thus I ge\n",
            "\n",
            "5036)tupidosaur: nterceptor4h agg tag Basically entire IAC gang supports everything CIA wants. Aadhaar, EVMs, demonetization, etc ;)\n",
            "\n",
            "5037)nterceptor4h agg tag Basically entire IAC gang supports everything CIA wants. Aadhaar, EVMs, demonetization, etc ;)\n",
            "\n",
            "5038)imcast: Youtube flags my videos for demonetization then after most people have already watch  them they will reinstate ads, thus I ge\n",
            "\n",
            "5039)A glance on successful implementation of a decision that reveal  corrupt elements.\n",
            "DeMonetisation GoT \n",
            "  xgLb\n",
            "\n",
            "5040)imcast: Youtube flags my videos for demonetization then after most people have already watch  them they will reinstate ads, thus I ge\n",
            "\n",
            "5041)asirbadoo imesofindia How long will you live in denial? Demonetization prov  that these jokers are working ONL  \n",
            "\n",
            "5042)imcast: Youtube flags my videos for demonetization then after most people have already watch  them they will reinstate ads, thus I ge\n",
            "\n",
            "5043)hesuniljain: I'm not saying we don't ne  cash, inde  I'm a critic of demonetization, but believe govt has done an amazing job in dig\n",
            "\n",
            "5044)meerage: Record global harvest of cereals, India too heads for a new high  \n",
            "No effect of Demonetization or Cash crunch\n",
            "\n",
            " \n",
            "\n",
            "5045)imcast: Youtube flags my videos for demonetization then after most people have already watch  them they will reinstate ads, thus I ge\n",
            "\n",
            "5046)imcast: Youtube flags my videos for demonetization then after most people have already watch  them they will reinstate ads, thus I ge\n",
            "\n",
            "5047)hesuniljain: I'm not saying we don't ne  cash, inde  I'm a critic of demonetization, but believe govt has done an amazing job in dig\n",
            "\n",
            "5048)RadhaGiri: 811 is the day when india chang  with demonetization - kotak has launch  an innovative product with the same name! Smart mo\n",
            "\n",
            "5049)adhaGiri: 811 is the day when india chang  with demonetization - kotak has launch  an innovative product with the same name! Smart m\n",
            "\n",
            "5050)811 is the day when india chang  with demonetization - kotak has launch  an innovative product with the same name! Smart move! TieConPune\n",
            "\n",
            "5051)imcast: Youtube flags my videos for demonetization then after most people have already watch  them they will reinstate ads, thus I ge\n",
            "\n",
            "5052)The latest The Demonetization Daily!   news\n",
            "\n",
            "5053)Anyone wants to guess how they got the loans and why they can't be recover ? Demonetization was one way to shore u  \n",
            "\n",
            "5054)henewshour BanWhatNext ? \n",
            "Whole nation knew about the scam that happen  in the name of demonetization but nobody could do nothing!\n",
            "\n",
            "5055)MOIndia arendramodi The hypothesis on demonetization turn out to be true,Bhim-Aadhaar will give new hope of opp  \n",
            "\n",
            "5056)imcast: Youtube flags my videos for demonetization then after most people have already watch  them they will reinstate ads, thus I ge\n",
            "\n",
            "5057)ationalistAge Till date RBI and gov has nor declar  how much money has been deposit  in banks after demonetization, sb black money he ya\n",
            "\n",
            "5058)imcast: Youtube flags my videos for demonetization then after most people have already watch  them they will reinstate ads, thus I ge\n",
            "\n",
            "5059)arendramodi INDIAN CURRENY IS LOOSING FAITH FROM UR MORE THAN HUNDRED OF U TURNS DURING DEMONETIZATION.\n",
            "WE'RE EARNING, WE ARE FREE TO DO.\n",
            "\n",
            "5060)iranKS: Operation Clean Money: 60,000 people been identifi  for investigation into claims of excessive cash sales during demonetizat\n",
            "\n",
            "5061)azarumi anjayuvacha uhammadZiauddi TOpEd Wasn't the primary objective of demonetization was suppos  to rem  \n",
            "\n",
            "5062)I lik  a ouTube video   Youtube Demonetization and Soft Censorship\n",
            "\n",
            "5063)drenna9 imesNow You seem to be stuck like a old gramophone ne le on demonetization when the whole word has sin  \n",
            "\n",
            "5064)imcast: Youtube flags my videos for demonetization then after most people have already watch  them they will reinstate ads, thus I ge\n",
            "\n",
            "5065)imcast: Youtube flags my videos for demonetization then after most people have already watch  them they will reinstate ads, thus I ge\n",
            "\n",
            "5066)I accept only one fact i can clean that toilet and thats not a big deal at all when you just stop demonetization from those buyers.\n",
            "\n",
            "5067)imcast: Youtube flags my videos for demonetization then after most people have already watch  them they will reinstate ads, thus I ge\n",
            "\n",
            "5068)rsrini: These graphs show that the points reach  in Feb would have been more or less same if there was no demonetization..  \n",
            "\n",
            "5069)imcast: Youtube flags my videos for demonetization then after most people have already watch  them they will reinstate ads, thus I ge\n",
            "\n",
            "5070)imcast: Youtube flags my videos for demonetization then after most people have already watch  them they will reinstate ads, thus I ge\n",
            "\n",
            "5071)imcast: Youtube flags my videos for demonetization then after most people have already watch  them they will reinstate ads, thus I ge\n",
            "\n",
            "5072)imcast: Youtube flags my videos for demonetization then after most people have already watch  them they will reinstate ads, thus I ge\n",
            "\n",
            "5073)ubeDwellerz: This shirt is d icat  to some of our favorite YouTubers demonetization demonetiz  DeMonetisation demonetiz  http\n",
            "\n",
            "5074)ubeDwellerz: This shirt is d icat  to some of our favorite YouTubers demonetization demonetiz  DeMonetisation demonetiz  http\n",
            "\n",
            "5075)ubeDwellerz: This shirt is d icat  to some of our favorite YouTubers demonetization demonetiz  DeMonetisation demonetiz  http\n",
            "\n",
            "5076)imcast: Youtube flags my videos for demonetization then after most people have already watch  them they will reinstate ads, thus I ge\n",
            "\n",
            "5077)imcast: Youtube flags my videos for demonetization then after most people have already watch  them they will reinstate ads, thus I ge\n",
            "\n",
            "5078)holericCleric Whats the connection wih demonetization? Increas  production of cereals is probably good. But rice  \n",
            "\n",
            "5079)imcast: Youtube flags my videos for demonetization then after most people have already watch  them they will reinstate ads, thus I ge\n",
            "\n",
            "5080)iranKS: Operation Clean Money: 60,000 people been identifi  for investigation into claims of excessive cash sales during demonetizat\n",
            "\n",
            "5081)I'm not saying we don't ne  cash, inde  I'm a critic of demonetization, but believe govt has done an amazing job  \n",
            "\n",
            "5082)imcast: Youtube flags my videos for demonetization then after most people have already watch  them they will reinstate ads, thus I ge\n",
            "\n",
            "5083)imcast: Youtube flags my videos for demonetization then after most people have already watch  them they will reinstate ads, thus I ge\n",
            "\n",
            "5084)imcast: Youtube flags my videos for demonetization then after most people have already watch  them they will reinstate ads, thus I ge\n",
            "\n",
            "5085)The latest The Demonetization Daily!   Thanks to atihaH_CPS etansavaj ursimranmand narendramodi news\n",
            "\n",
            "5086)more than 60,000 people identifi  for investigation into claims of excessive cash sales during  demonetization \n",
            "  \n",
            "\n",
            "5087)imcast: Youtube flags my videos for demonetization then after most people have already watch  them they will reinstate ads, thus I ge\n",
            "\n",
            "Support FREE SPEECH!\n",
            "\n",
            "5089)Record global harvest of cereals, India too heads for a new high  \n",
            "No effect of Demonetization or Cash crunch\n",
            "\n",
            " \n",
            "\n",
            "5090)imesofindia A good example, how demonetization has wreck  corruption. The corporator is not poor by 14.8 Cr.\n",
            "\n",
            "5091)imcast: Youtube flags my videos for demonetization then after most people have already watch  them they will reinstate ads, thus I ge\n",
            "\n",
            "5092)Demonetization has only increas  prices of fruits,vegetables &amp; other day-to -day essential commodities spiralling higher &amp; higher!!!!\n",
            "\n",
            "5093)imcast: Youtube flags my videos for demonetization then after most people have already watch  them they will reinstate ads, thus I ge\n",
            "\n",
            "5094)imcast: Youtube flags my videos for demonetization then after most people have already watch  them they will reinstate ads, thus I ge\n",
            "\n",
            "5095)imcast: Youtube flags my videos for demonetization then after most people have already watch  them they will reinstate ads, thus I ge\n",
            "\n",
            "5096)This shirt is d icat  to some of our favorite YouTubers demonetization demonetiz  DeMonetisation  \n",
            "\n",
            "5097)imcast: Youtube flags my videos for demonetization then after most people have already watch  them they will reinstate ads, thus I ge\n",
            "\n",
            "5098)imcast: Youtube flags my videos for demonetization then after most people have already watch  them they will reinstate ads, thus I ge\n",
            "\n",
            "5099)imcast: Youtube flags my videos for demonetization then after most people have already watch  them they will reinstate ads, thus I ge\n",
            "\n",
            "5100)Youtube Demonetization is the first step towards freeing ourselves from the yoke of Capitalism.\n",
            "\n",
            "5101)imcast: Youtube flags my videos for demonetization then after most people have already watch  them they will reinstate ads, thus I ge\n",
            "\n",
            "5102)imcast: Youtube flags my videos for demonetization then after most people have already watch  them they will reinstate ads, thus I ge\n",
            "\n",
            "5103)imcast: Youtube flags my videos for demonetization then after most people have already watch  them they will reinstate ads, thus I ge\n",
            "\n",
            "5104)imcast: Youtube flags my videos for demonetization then after most people have already watch  them they will reinstate ads, thus I ge\n",
            "\n",
            "5105)imcast: Youtube flags my videos for demonetization then after most people have already watch  them they will reinstate ads, thus I ge\n",
            "\n",
            "5106)PAL_Global: Banerjee: Most people we survey  thought demonetization was bad for them, but good for the country.  \n",
            "\n",
            "5107)imcast: Youtube flags my videos for demonetization then after most people have already watch  them they will reinstate ads, thus I ge\n",
            "\n",
            "5108)imcast: Youtube flags my videos for demonetization then after most people have already watch  them they will reinstate ads, thus I ge\n",
            "\n",
            "5109)imcast: Youtube flags my videos for demonetization then after most people have already watch  them they will reinstate ads, thus I ge\n",
            "\n",
            "5110)imcast: Youtube flags my videos for demonetization then after most people have already watch  them they will reinstate ads, thus I ge\n",
            "\n",
            "5111)imcast: Youtube flags my videos for demonetization then after most people have already watch  them they will reinstate ads, thus I ge\n",
            "\n",
            "5112)imcast: Youtube flags my videos for demonetization then after most people have already watch  them they will reinstate ads, thus I ge\n",
            "\n",
            "5113)YouTube demonetization: Young Turks maintains silence and more people ar...   via ouTube\n",
            "\n",
            "5114)\" Isnt it time for the demonetization of spirituality and the renaissance of lovingly and freely sharing...  \n",
            "\n",
            "5115)imcast: Youtube flags my videos for demonetization then after most people have already watch  them they will reinstate ads, thus I ge\n",
            "\n",
            "5116)imcast: Youtube flags my videos for demonetization then after most people have already watch  them they will reinstate ads, thus I ge\n",
            "\n",
            "5117)imcast: Youtube flags my videos for demonetization then after most people have already watch  them they will reinstate ads, thus I ge\n",
            "\n",
            "5118)imcast: Youtube flags my videos for demonetization then after most people have already watch  them they will reinstate ads, thus I ge\n",
            "\n",
            "5119)imcast: Youtube flags my videos for demonetization then after most people have already watch  them they will reinstate ads, thus I ge\n",
            "\n",
            "5120)imcast: Youtube flags my videos for demonetization then after most people have already watch  them they will reinstate ads, thus I ge\n",
            "\n",
            "5121)imcast: Youtube flags my videos for demonetization then after most people have already watch  them they will reinstate ads, thus I ge\n",
            "\n",
            "5122)imcast: Youtube flags my videos for demonetization then after most people have already watch  them they will reinstate ads, thus I ge\n",
            "\n",
            "5123)imcast: Youtube flags my videos for demonetization then after most people have already watch  them they will reinstate ads, thus I ge\n",
            "\n",
            "5124)imcast: Youtube flags my videos for demonetization then after most people have already watch  them they will reinstate ads, thus I ge\n",
            "\n",
            "5125)imcast: Youtube flags my videos for demonetization then after most people have already watch  them they will reinstate ads, thus I ge\n",
            "\n",
            "5126)imcast: Youtube flags my videos for demonetization then after most people have already watch  them they will reinstate ads, thus I ge\n",
            "\n",
            "5127)imcast Demonetization is just a money grab by YouTube.  They know exactly when to demonetize and for how long for  \n",
            "\n",
            "5128)imcast: Youtube flags my videos for demonetization then after most people have already watch  them they will reinstate ads, thus I ge\n",
            "\n",
            "5129)imcast: Youtube flags my videos for demonetization then after most people have already watch  them they will reinstate ads, thus I ge\n",
            "\n",
            "5130)imcast: Youtube flags my videos for demonetization then after most people have already watch  them they will reinstate ads, thus I ge\n",
            "\n",
            "5131)imcast: Youtube flags my videos for demonetization then after most people have already watch  them they will reinstate ads, thus I ge\n",
            "\n",
            "5132)imcast: Youtube flags my videos for demonetization then after most people have already watch  them they will reinstate ads, thus I ge\n",
            "\n",
            "5133)imcast: Youtube flags my videos for demonetization then after most people have already watch  them they will reinstate ads, thus I ge\n",
            "\n",
            "5134)imcast: Youtube flags my videos for demonetization then after most people have already watch  them they will reinstate ads, thus I ge\n",
            "\n",
            "5135)imcast: Youtube flags my videos for demonetization then after most people have already watch  them they will reinstate ads, thus I ge\n",
            "\n",
            "5136)imcast: Youtube flags my videos for demonetization then after most people have already watch  them they will reinstate ads, thus I ge\n",
            "\n",
            "5137)imcast: Youtube flags my videos for demonetization then after most people have already watch  them they will reinstate ads, thus I ge\n",
            "\n",
            "5138)imcast: Youtube flags my videos for demonetization then after most people have already watch  them they will reinstate ads, thus I ge\n",
            "\n",
            "5139)imcast: Youtube flags my videos for demonetization then after most people have already watch  them they will reinstate ads, thus I ge\n",
            "\n",
            "5140)imcast: Youtube flags my videos for demonetization then after most people have already watch  them they will reinstate ads, thus I ge\n",
            "\n",
            "5141)imcast: Youtube flags my videos for demonetization then after most people have already watch  them they will reinstate ads, thus I ge\n",
            "\n",
            "5142)imcast: Youtube flags my videos for demonetization then after most people have already watch  them they will reinstate ads, thus I ge\n",
            "\n",
            "5143)imcast: Youtube flags my videos for demonetization then after most people have already watch  them they will reinstate ads, thus I ge\n",
            "\n",
            "5144)imcast: Youtube flags my videos for demonetization then after most people have already watch  them they will reinstate ads, thus I ge\n",
            "\n",
            "5145)imcast: Youtube flags my videos for demonetization then after most people have already watch  them they will reinstate ads, thus I ge\n",
            "\n",
            "5146)imcast: Youtube flags my videos for demonetization then after most people have already watch  them they will reinstate ads, thus I ge\n",
            "\n",
            "5147)imcast: Youtube flags my videos for demonetization then after most people have already watch  them they will reinstate ads, thus I ge\n",
            "\n",
            "5148)imcast: Youtube flags my videos for demonetization then after most people have already watch  them they will reinstate ads, thus I ge\n",
            "\n",
            "5149)imcast: Youtube flags my videos for demonetization then after most people have already watch  them they will reinstate ads, thus I ge\n",
            "\n",
            "5150)imcast: Youtube flags my videos for demonetization then after most people have already watch  them they will reinstate ads, thus I ge\n",
            "\n",
            "Support FREE SPEECH!\n",
            "\n",
            "5152)imcast: Youtube flags my videos for demonetization then after most people have already watch  them they will reinstate ads, thus I ge\n",
            "\n",
            "5153)imcast: Youtube flags my videos for demonetization then after most people have already watch  them they will reinstate ads, thus I ge\n",
            "\n",
            "5154)imcast: Youtube flags my videos for demonetization then after most people have already watch  them they will reinstate ads, thus I ge\n",
            "\n",
            "5155)imcast: Youtube flags my videos for demonetization then after most people have already watch  them they will reinstate ads, thus I ge\n",
            "\n",
            "5156)imcast: Youtube flags my videos for demonetization then after most people have already watch  them they will reinstate ads, thus I ge\n",
            "\n",
            "5157)imcast: Youtube flags my videos for demonetization then after most people have already watch  them they will reinstate ads, thus I ge\n",
            "\n",
            "5158)imcast: Youtube flags my videos for demonetization then after most people have already watch  them they will reinstate ads, thus I ge\n",
            "\n",
            "5159)imcast: Youtube flags my videos for demonetization then after most people have already watch  them they will reinstate ads, thus I ge\n",
            "\n",
            "5160)imcast: Youtube flags my videos for demonetization then after most people have already watch  them they will reinstate ads, thus I ge\n",
            "\n",
            "5161)imcast: Youtube flags my videos for demonetization then after most people have already watch  them they will reinstate ads, thus I ge\n",
            "\n",
            "5162)imcast: Youtube flags my videos for demonetization then after most people have already watch  them they will reinstate ads, thus I ge\n",
            "\n",
            "5163)imcast: Youtube flags my videos for demonetization then after most people have already watch  them they will reinstate ads, thus I ge\n",
            "\n",
            "5164)imcast: Youtube flags my videos for demonetization then after most people have already watch  them they will reinstate ads, thus I ge\n",
            "\n",
            "5165)imcast: Youtube flags my videos for demonetization then after most people have already watch  them they will reinstate ads, thus I ge\n",
            "\n",
            "5166)imcast: Youtube flags my videos for demonetization then after most people have already watch  them they will reinstate ads, thus I ge\n",
            "\n",
            "5167)imcast: Youtube flags my videos for demonetization then after most people have already watch  them they will reinstate ads, thus I ge\n",
            "\n",
            "5168)imcast: Youtube flags my videos for demonetization then after most people have already watch  them they will reinstate ads, thus I ge\n",
            "\n",
            "5169)imcast: Youtube flags my videos for demonetization then after most people have already watch  them they will reinstate ads, thus I ge\n",
            "\n",
            "5170)imcast: Youtube flags my videos for demonetization then after most people have already watch  them they will reinstate ads, thus I ge\n",
            "\n",
            "5171)imcast: Youtube flags my videos for demonetization then after most people have already watch  them they will reinstate ads, thus I ge\n",
            "\n",
            "5172)imcast: Youtube flags my videos for demonetization then after most people have already watch  them they will reinstate ads, thus I ge\n",
            "\n",
            "5173)imcast: Youtube flags my videos for demonetization then after most people have already watch  them they will reinstate ads, thus I ge\n",
            "\n",
            "5174)imcast: Youtube flags my videos for demonetization then after most people have already watch  them they will reinstate ads, thus I ge\n",
            "\n",
            "5175)imcast: Youtube flags my videos for demonetization then after most people have already watch  them they will reinstate ads, thus I ge\n",
            "\n",
            "5176)imcast: Youtube flags my videos for demonetization then after most people have already watch  them they will reinstate ads, thus I ge\n",
            "\n",
            "5177)imcast: Youtube flags my videos for demonetization then after most people have already watch  them they will reinstate ads, thus I ge\n",
            "\n",
            "5178)imcast: Youtube flags my videos for demonetization then after most people have already watch  them they will reinstate ads, thus I ge\n",
            "\n",
            "5179)imcast: Youtube flags my videos for demonetization then after most people have already watch  them they will reinstate ads, thus I ge\n",
            "\n",
            "5180)imcast: Youtube flags my videos for demonetization then after most people have already watch  them they will reinstate ads, thus I ge\n",
            "\n",
            "5181)Youtube flags my videos for demonetization then after most people have already watch  them they will reinstate ads, thus I get no money.\n",
            "\n",
            "5182)NRI In Delhi Witness  A Grand Welcome From Corrupt Babus.   demonetization MindTheNews\n",
            "\n",
            "5183)ickularLibtard: Left: Modis unplann  DeMonetization killing Innocents.\n",
            "\n",
            "Partition was plann  very well by BharatRatna Gandhi/Nehru n\n",
            "\n",
            "5184)True story: Yogi Adityanath says PM Modi's demonetization idea was inspir  by BR Amb kar   UPCM\n",
            "\n",
            "5185)iranKS: Operation Clean Money: 60,000 people been identifi  for investigation into claims of excessive cash sales during demonetizat\n",
            "\n",
            "5186)imkunzum: NI_news black money sure, and some said demonetization will have no effect\n",
            "\n",
            "5187)na: True story: Yogi Adityanath says PM Modi's demonetization idea was inspir  by BR Amb kar    \n",
            "\n",
            "5188)Great step taken by our MOIndia on 8/11(Demonetization) is finally successful<U+270C>\n",
            "India got Remonetiz  finally < ><U+ ><U+ >< ><U+00B2><U+00B0>\n",
            "Remonetiz _India\n",
            "atGeo\n",
            "\n",
            "5189)iranKS: Operation Clean Money: 60,000 people been identifi  for investigation into claims of excessive cash sales during demonetizat\n",
            "\n",
            "5190)iranKS: Operation Clean Money: 60,000 people been identifi  for investigation into claims of excessive cash sales during demonetizat\n",
            "\n",
            "5191)These graphs show that the points reach  in Feb would have been more or less same if there was no demonetization..  \n",
            "\n",
            "5192)iranKS: Operation Clean Money: 60,000 people been identifi  for investigation into claims of excessive cash sales during demonetizat\n",
            "\n",
            "5193)igvijaya_28: Demonetization lingers as IIP contracts in February | Latest News &amp; Updates at Daily News &amp; Analysis  \n",
            "\n",
            "5194)iranKS: Indian economy and trade getting back in order after a brief demonetization lull. This is very promising!  \n",
            "\n",
            "5195)arendramodi Modi ji, thanks for taking bold decision of demonetization . Make the India completely cashless.\n",
            "It w  \n",
            "\n",
            "5196)iranKS: Operation Clean Money: 60,000 people been identifi  for investigation into claims of excessive cash sales during demonetizat\n",
            "\n",
            "5197)Operation Clean Money: 60,000 people been identifi  for investigation into claims of excessive cash sales during demonetization period.\n",
            "\n",
            "5198)iranKS: Indian economy and trade getting back in order after a brief demonetization lull. This is very promising!  \n",
            "\n",
            "5199)iranKS: Indian economy and trade getting back in order after a brief demonetization lull. This is very promising!  \n",
            "\n",
            "5200)iranKS: Indian economy and trade getting back in order after a brief demonetization lull. This is very promising!  \n",
            "\n",
            "5201)iranKS: Indian economy and trade getting back in order after a brief demonetization lull. This is very promising!  \n",
            "\n",
            "5202)Indian economy and trade getting back in order after a brief demonetization lull. This is very promising!  \n",
            "\n",
            "5203)True story: Yogi Adityanath says PM Modi's demonetization idea was inspir  by BR Amb kar - Daily News &amp; Analysis  \n",
            "\n",
            "5204)tupidosaur: Never vote for AAP after we banEVM. Saaley ullu banate hain har mamle main, demonetization ho ya EVM.\n",
            "\n",
            "5205)ansala_amit: MOIndia arendramodi just now dtv income tax officer rais  concern will not be able to investigate cases post demon\n",
            "\n",
            "5206)ayantakrdas It's not the first time.its mostly the fruits of MM Singh's economic liberalisation.Mayb Modi's contri is demonetization!\n",
            "\n",
            "5207)imkunzum: NI_news black money sure, and some said demonetization will have no effect\n",
            "\n",
            "5208)tupidosaur: Never vote for AAP after we banEVM. Saaley ullu banate hain har mamle main, demonetization ho ya EVM.\n",
            "\n",
            "5209)Never vote for AAP after we banEVM. Saaley ullu banate hain har mamle main, demonetization ho ya EVM.\n",
            "\n",
            "5210)na: True story: Yogi Adityanath says PM Modi's demonetization idea was inspir  by BR Amb kar    \n",
            "\n",
            "5211)bhisingh0003 bhimay Direct taxes colln aftr demonetization upto Jan 2017 ,whooping Rs. 5.82 lakh crore./1\n",
            "\n",
            "5212)na: True story: Yogi Adityanath says PM Modi's demonetization idea was inspir  by BR Amb kar    \n",
            "\n",
            "5213)na: True story: Yogi Adityanath says PM Modi's demonetization idea was inspir  by BR Amb kar    \n",
            "\n",
            "5214)na: True story: Yogi Adityanath says PM Modi's demonetization idea was inspir  by BR Amb kar    \n",
            "\n",
            "5215)na: True story: Yogi Adityanath says PM Modi's demonetization idea was inspir  by BR Amb kar    \n",
            "\n",
            "5216)na: True story: Yogi Adityanath says PM Modi's demonetization idea was inspir  by BR Amb kar    \n",
            "\n",
            "5217)na: True story: Yogi Adityanath says PM Modi's demonetization idea was inspir  by BR Amb kar    \n",
            "\n",
            "5218)na: True story: Yogi Adityanath says PM Modi's demonetization idea was inspir  by BR Amb kar    \n",
            "\n",
            "5219)na: True story: Yogi Adityanath says PM Modi's demonetization idea was inspir  by BR Amb kar    \n",
            "\n",
            "5220)na: True story: Yogi Adityanath says PM Modi's demonetization idea was inspir  by BR Amb kar    \n",
            "\n",
            "5221)na: True story: Yogi Adityanath says PM Modi's demonetization idea was inspir  by BR Amb kar    \n",
            "\n",
            "5222)na: True story: Yogi Adityanath says PM Modi's demonetization idea was inspir  by BR Amb kar    \n",
            "\n",
            "5223)True story: Yogi Adityanath says PM Modi's demonetization idea was inspir  by BR Amb kar    \n",
            "\n",
            "5224)na: True story: Yogi Adityanath says PM Modi's demonetization idea was inspir  by BR Amb kar    \n",
            "\n",
            "5225)na: True story: Yogi Adityanath says PM Modi's demonetization idea was inspir  by BR Amb kar    \n",
            "\n",
            "5226)True story: Yogi Adityanath says PM Modi's demonetization idea was inspir  by BR Amb kar    \n",
            "\n",
            "5227)Thanks to arendramodi for demonetization. just this case is enough to justify demonetization.            \n",
            "\n",
            "5228)ahouraxo She is worthy of our demonetization and scoffing.\n",
            "\n",
            "5229)ashlessChronic: \"Most (economists) question  the logic behind each of the (shifting) arguments (for demonetization)\"  \n",
            "\n",
            "5230)NI_news black money sure, and some said demonetization will have no effect\n",
            "\n",
            "5231)Paytm helps india adopt mobile payments post demonetization _ business standard news Back  by a strong payment ecosystem of customers ...\n",
            "\n",
            "5232)MOIndia Your demonetization plan was a masterstroke but still lots of crisis for money in silvassa, no cash available at ATM's\n",
            "\n",
            "5233)emeghnad: 11) And then, rest is history unfolding before our eyes. Everyone is happy now people. Let us all rejoice!\n",
            " \n",
            "\n",
            "5234)First Demonetization,Now EVM. opposition parties are falling pray to their own game.BYPOLL results shows this. CongratulationsJP4India\n",
            "\n",
            "5235)arendramodi Pls take some strict action to stop increasing population in our country as you did demonetization very well.\n",
            "\n",
            "5236)mishra77: Contrary to doomsday pr ictions after demonetization, the Indian Economy is doing very well. For example exports is doing v\n",
            "\n",
            "5237)henewsminute Demonetization was a success in many ways. A wee bit of we ing.< ><U+ ><U+00BE>< ><U+00B4><U+0094>\n",
            "\n",
            "5238)Wow... This fellow incurr  such a huge loss due to |Demonetization  \n",
            "\n",
            "5239)Operation Clean Money Part 2: 60,000 individuals on I-T's radar\n",
            " \n",
            "\n",
            "5240)YouTube demonetization: Young Turks maintains silence and more people ar...  \n",
            "\n",
            "5241)ubenewsen: YouTube demonetization: Young Turks maintains silence and more people are wondering why  TomoNews NEWS &gt;&gt;  \n",
            "\n",
            "5242)YouTube demonetization: Young Turks maintains silence and more people are wondering why  TomoNews NEWS &gt;&gt;  \n",
            "\n",
            "5243)arendramodi PM Sir, This will demoraliz  people like us those more believe in digital transactions and well supp  \n",
            "\n",
            "5244)igvijaya_28: Demonetization lingers as IIP contracts in February | Latest News &amp; Updates at Daily News &amp; Analysis  \n",
            "\n",
            "5245)igvijaya_28: Demonetization lingers as IIP contracts in February | Latest News &amp; Updates at Daily News &amp; Analysis  \n",
            "\n",
            "5246)igvijaya_28: Demonetization lingers as IIP contracts in February | Latest News &amp; Updates at Daily News &amp; Analysis  \n",
            "\n",
            "5247)tupidosaur: ita_Banerji dvocategeeta emeghnad It is the same exact CIA plot. Vnezuela has Aadhaar (first voluntary, with incenti\n",
            "\n",
            "5248)New BHIM-Aadhaar platform for merchants\n",
            " \n",
            "\n",
            "5249)More people curious about heYoungTurks silence on demonetization fiasco enkuygur naKasparian  \n",
            "\n",
            "5250)YouTube demonetization: Young Turks maintains silence and more people ar...   via ouTube\n",
            "\n",
            "5251)I lik  a ouTube video   YouTube demonetization: Young Turks maintains silence and more people are wondering\n",
            "\n",
            "5252)naMyID: My local kirana store wala support  demonetization for a 'greater cause'. His biz took a hit and still no recovery. Not a Mod\n",
            "\n",
            "5253)tupidosaur: ita_Banerji dvocategeeta emeghnad It is the same exact CIA plot. Vnezuela has Aadhaar (first voluntary, with incenti\n",
            "\n",
            "5254)tupidosaur: ita_Banerji dvocategeeta emeghnad It is the same exact CIA plot. Vnezuela has Aadhaar (first voluntary, with incenti\n",
            "\n",
            "5255)ita_Banerji dvocategeeta emeghnad It is the same exact CIA plot. Vnezuela has Aadhaar (first voluntary, with  \n",
            "\n",
            "5256)arendramodi Sir waiting for your new action against black money and frauds just like demonetization..\n",
            "\n",
            "5257)I lik  a ouTube video   YouTube demonetization: Young Turks maintains silence and more people are wondering\n",
            "\n",
            "5258)igvijaya_28 Prior to Demonetization, Have you seriously never encounter  an ATM that has run out of cash? How di  \n",
            "\n",
            "5259)More people curious about heYoungTurks silence on demonetization fiasco enkuygur naKasparian  \n",
            "\n",
            "5260)svenu247: ath2shah rameshjain12 ddlCPEast cpeastbcp ineshgrao rshadRizwan  Atleast know now how demonetization has many a\n",
            "\n",
            "5261)ncomeTaxIndia: IT Deptt. launch \"Operation Clean Moneyon 31.01.2017 to leverage technology for e-verification of cash deposits made\n",
            "\n",
            "5262)odiAnoli omg! What a quote... Doubt regarding maanve though< ><U+ ><U+ >< ><U+ ><U+0082>< ><U+ ><U+ >< ><U+ ><U+0082>< ><U+ ><U+ >< ><U+ ><U+0082>\n",
            "Regarding petrol rates I guess good move by me before demonetization< ><U+ ><U+ >< ><U+ ><U+008E>< ><U+ ><U+ >< ><U+ ><U+0081>\n",
            "\n",
            "5263)arendramodi  ji. Thank u 4 implementing demonetization. I m ready 2 stand again in queue, if that helps to make  \n",
            "\n",
            "5264)CBDT will Verify Large Cash Deposits by Businessman and Govt. Employees During Demonetization  \n",
            "\n",
            "5265)na If inquiry post Demonetization moves on fast track,many joining hands today, may not be eligible to contest in 2019.\n",
            "\n",
            "5266)naMyID: My local kirana store wala support  demonetization for a 'greater cause'. His biz took a hit and still no recovery. Not a Mod\n",
            "\n",
            "5267)naMyID: My local kirana store wala support  demonetization for a 'greater cause'. His biz took a hit and still no recovery. Not a Mod\n",
            "\n",
            "5268)naMyID: My local kirana store wala support  demonetization for a 'greater cause'. His biz took a hit and still no recovery. Not a Mod\n",
            "\n",
            "5269)My local kirana store wala support  demonetization for a 'greater cause'. His biz took a hit and still no recovery. Not a Modi fan anymore.\n",
            "\n",
            "5270)ncomeTaxIndia: IT Deptt. launch \"Operation Clean Moneyon 31.01.2017 to leverage technology for e-verification of cash deposits made\n",
            "\n",
            "5271)ahulroushan: By-polls result today will prove if there's any Modi wave, whether demonetization was successful, whether Yogi Adityanath\n",
            "\n",
            "5272)ncomeTaxIndia: IT Deptt. launch \"Operation Clean Moneyon 31.01.2017 to leverage technology for e-verification of cash deposits made\n",
            "\n",
            "5273)igvijaya_28: Demonetization lingers as IIP contracts in February | Latest News &amp; Updates at Daily News &amp; Analysis  \n",
            "\n",
            "5274)High cash sales during demonetization-more than 60000 persons identifi  for investigation  CBDT  \n",
            "\n",
            "5275)milliff: Banerjee PAL_Global: Demonetization + upelections2017 shows that bad economics can  make good politics.  \n",
            "\n",
            "5276)The EXACT AADHAAR SLAVE SCAM CARD THAT YOU EXPOSED AGES BACK WHICH THE IGNORANT< ><U+ ><U+ >< ><U+00B0><U+0091> LAPPED UP! DEMONETIZATION SCAM UNDER 30 SECS THREAD REMOVED\n",
            "\n",
            "5277)What is your take on the whole Demonetisation episode?\n",
            "   .iranjandtweets  \n",
            "\n",
            "5278)Looks like demonetization was more about (pushing?) cashless transaction  \n",
            "\n",
            "5279)agg tag One good thing from demonetization is the crisp new notes and absolutely clean ones. No staple pins, scribbling.\n",
            "\n",
            "5280)ncomeTaxIndia: IT Deptt. launch \"Operation Clean Moneyon 31.01.2017 to leverage technology for e-verification of cash deposits made\n",
            "\n",
            "5281)atishkumarm2: For what??? BI ...to make aware how you are torturing the citizenry with your great ideas of demonetization and new ba\n",
            "\n",
            "5282)ahulroushan: By-polls result today will prove if there's any Modi wave, whether demonetization was successful, whether Yogi Adityanath\n",
            "\n",
            "5283)ncomeTaxIndia: IT Deptt. launch \"Operation Clean Moneyon 31.01.2017 to leverage technology for e-verification of cash deposits made\n",
            "\n",
            "5284)tupidosaur: reespeechin illyindia IDAI Modi more suit  for genocide.Hence CIA introduc  through EVM rigg  UPA2, now push  th\n",
            "\n",
            "5285)reespeechin illyindia IDAI Modi more suit  for genocide.Hence CIA introduc  through EVM rigg  UPA2, now pu  \n",
            "\n",
            "5286)ncomeTaxIndia: IT Deptt. launch \"Operation Clean Moneyon 31.01.2017 to leverage technology for e-verification of cash deposits made\n",
            "\n",
            "5287)The latest The Demonetization Daily!   Thanks to PAL_SEA yinlathomas fintech\n",
            "\n",
            "5288)ncomeTaxIndia: IT Deptt. launch \"Operation Clean Moneyon 31.01.2017 to leverage technology for e-verification of cash deposits made\n",
            "\n",
            "5289)ncomeTaxIndia: IT Deptt. launch \"Operation Clean Moneyon 31.01.2017 to leverage technology for e-verification of cash deposits made\n",
            "\n",
            "5290)ncomeTaxIndia: IT Deptt. launch \"Operation Clean Moneyon 31.01.2017 to leverage technology for e-verification of cash deposits made\n",
            "\n",
            "5291)ncomeTaxIndia: IT Deptt. launch \"Operation Clean Moneyon 31.01.2017 to leverage technology for e-verification of cash deposits made\n",
            "\n",
            "5292)ncomeTaxIndia: IT Deptt. launch \"Operation Clean Moneyon 31.01.2017 to leverage technology for e-verification of cash deposits made\n",
            "\n",
            "5293)IT Deptt. launch \"Operation Clean Moneyon 31.01.2017 to leverage technology for e-verification of cash deposits made during demonetization\n",
            "\n",
            "5294)emeghnad: 11) And then, rest is history unfolding before our eyes. Everyone is happy now people. Let us all rejoice!\n",
            " \n",
            "\n",
            "5295)handrajitCM: Money is not evil, gre  is !\n",
            "Demonetization strikes here deep to flush out gre  ! Support vimudrikaran ashtrapatiBhv\n",
            "\n",
            "5296)igvijaya_28: Demonetization lingers as IIP contracts in February | Latest News &amp; Updates at Daily News &amp; Analysis  \n",
            "\n",
            "5297)igvijaya_28: Demonetization lingers as IIP contracts in February | Latest News &amp; Updates at Daily News &amp; Analysis  \n",
            "\n",
            "5298)most powerful part of all of this will, I think, result in demonetization via d uplication...\n",
            "\n",
            "5299)hunegaar: I feel that this plan of Modi isn't entirely right. Remember, there's a Demon in Demonetization.\n",
            "\n",
            "5300)ahulroushan: By-polls result today will prove if there's any Modi wave, whether demonetization was successful, whether Yogi Adityanath\n",
            "\n",
            "5301)bhimay wat a great scheme paytm hahaha totally chang  the reasn f demonetization where is black money. i ws usin  \n",
            "\n",
            "5302)igvijaya_28: Demonetization lingers as IIP contracts in February | Latest News &amp; Updates at Daily News &amp; Analysis  \n",
            "\n",
            "5303)shutosh83B That's right! You are indirectly forcing BJP to be responsible. You guid  them towards demonetization  \n",
            "\n",
            "5304)A relief 4 all those who toil  demonetization?\n",
            "BFSI sector  ges out information technology to become top paymaster\n",
            " \n",
            "\n",
            "5305)igvijaya_28: Demonetization lingers as IIP contracts in February | Latest News &amp; Updates at Daily News &amp; Analysis  \n",
            "\n",
            "5306)igvijaya_28 Please go out from your AC ofc and ask janta if they are supporting demonetization or not u will get answer of our qstn .....\n",
            "\n",
            "5307)Has support  demonetization also it's a fact that in many rural part people don't understand digitalization but so  \n",
            "\n",
            "5308)Govt is still mum on what exactly we gain  out of the demonetization rigmarole the only visible outcome is the...  \n",
            "\n",
            "5309)PAL_Global: Banerjee: Most people we survey  thought demonetization was bad for them, but good for the country.  \n",
            "\n",
            "5310)\"Real estate in India post demonetization - A reality check !\"   on ink In\n",
            "\n",
            "5311)ahulroushan: By-polls result today will prove if there's any Modi wave, whether demonetization was successful, whether Yogi Adityanath\n",
            "\n",
            "5312)igvijaya_28: Demonetization lingers as IIP contracts in February | Latest News &amp; Updates at Daily News &amp; Analysis  \n",
            "\n",
            "5313)igvijaya_28: Demonetization lingers as IIP contracts in February | Latest News &amp; Updates at Daily News &amp; Analysis  \n",
            "\n",
            "5314)igvijaya_28: Demonetization lingers as IIP contracts in February | Latest News &amp; Updates at Daily News &amp; Analysis  \n",
            "\n",
            "5315)igvijaya_28: Demonetization lingers as IIP contracts in February | Latest News &amp; Updates at Daily News &amp; Analysis  \n",
            "\n",
            "5316)igvijaya_28: Demonetization lingers as IIP contracts in February | Latest News &amp; Updates at Daily News &amp; Analysis  \n",
            "\n",
            "5317)igvijaya_28: Demonetization lingers as IIP contracts in February | Latest News &amp; Updates at Daily News &amp; Analysis  \n",
            "\n",
            "5318)igvijaya_28: Demonetization lingers as IIP contracts in February | Latest News &amp; Updates at Daily News &amp; Analysis  \n",
            "\n",
            "5319)igvijaya_28: Demonetization lingers as IIP contracts in February | Latest News &amp; Updates at Daily News &amp; Analysis  \n",
            "\n",
            "5320)Demonetization lingers as IIP contracts in February | Latest News &amp; Updates at Daily News &amp; Analysis  \n",
            "\n",
            "5321)The latest The Demonetization Daily!   Thanks to rincemanoj_MMR itizensPoV onovan_Pfaff news fintech\n",
            "\n",
            "5322)Pm modi should have analyz  that historically demonetization has in most cases backfir !  Focus The only ones in support of ...\n",
            "\n",
            "5323)yogiadityanath Demonetization has deep impact on poor and honest people all over India.\n",
            "Black money holders are n  \n",
            "\n",
            "5324)ahulroushan: By-polls result today will prove if there's any Modi wave, whether demonetization was successful, whether Yogi Adityanath\n",
            "\n",
            "5325)one_mubashir: This what Happens When action are taken without keeping in view the Consequences \n",
            "Demonetization Cash-crisis StandUp\n",
            "\n",
            "5326)17 Mental Stage Most MMM Participant Will Go Through\n",
            "  &lt; Pinfoltd MentalHealth MMM MMMNigeria Demonetization\n",
            "\n",
            "5327)NDTV: BREAKING: BJP leader's grandson's friend came 2nd in class monitor elections. A clear referendum that India is not accepting De\n",
            "\n",
            "5328)ahulroushan: By-polls result today will prove if there's any Modi wave, whether demonetization was successful, whether Yogi Adityanath\n",
            "\n",
            "5329)nicornisland11: I know I know, I probably dont make sense but imma blame demonetization for everything. I see no acche din ok. rMitr\n",
            "\n",
            "5330)I know I know, I probably dont make sense but imma blame demonetization for everything. I see no acche din ok. rMitron\n",
            "\n",
            "5331)ahulroushan: By-polls result today will prove if there's any Modi wave, whether demonetization was successful, whether Yogi Adityanath\n",
            "\n",
            "5332)NES Classic gone, laud  fan games have been ax , demonetization of youtubers, still no western Mother 3... what the hell, Nintendo???\n",
            "\n",
            "5333)milliff: Banerjee PAL_Global: Demonetization + upelections2017 shows that bad economics can  make good politics.  \n",
            "\n",
            "5334)Banerjee PAL_Global: Demonetization + upelections2017 shows that bad economics can  make good politics.  \n",
            "\n",
            "5335)And that it hurt politicians more! demonetization  \n",
            "\n",
            "5336)Interpretation of the evidence: bad economics was probably good politics - demonetization in India PAL_Global ITEcon IT_SHASS\n",
            "\n",
            "5337)Banerjee: Most people we survey  thought demonetization was bad for them, but good for the country.   d2p2\n",
            "\n",
            "5338)In some sense people want  to believe it (demonetization in India) was good for them, even BJP supporters most a  \n",
            "\n",
            "5339)PAL_Global: Abhijit Banerjee on demonetization in India: \"Do bad economics make good politics?\" Watch live:  \n",
            "\n",
            "5340)Banerjee: After demonetization, GDP growth fell slightly - but this isn't the best measure of real impacts.   d2p2\n",
            "\n",
            "5341)PAL_Global: Abhijit Banerjee on demonetization in India: \"Do bad economics make good politics?\" Watch live:  \n",
            "\n",
            "5342)\"Most (economists) question  the logic behind each of the (shifting) arguments (for demonetization)\"  \n",
            "\n",
            "5343)When you oppose every good move of Modi Govt ( Digital India, Demonetization, Surgical strike &amp; many more...)\n",
            "\n",
            "Then AapKaDepositGaya\n",
            "\n",
            "5344)PAL_Global: Abhijit Banerjee on demonetization in India: \"Do bad economics make good politics?\" Watch live:  \n",
            "\n",
            "5345)PAL_Global: Abhijit Banerjee on demonetization in India: \"Do bad economics make good politics?\" Watch live:  \n",
            "\n",
            "5346)PAL_Global: Abhijit Banerjee on demonetization in India: \"Do bad economics make good politics?\" Watch live:  \n",
            "\n",
            "5347)Abhijit Banerjee on demonetization in India: \"Do bad economics make good politics?\" Watch live:  \n",
            "\n",
            "5348)ahulroushan: By-polls result today will prove if there's any Modi wave, whether demonetization was successful, whether Yogi Adityanath\n",
            "\n",
            "5349)ahulroushan: By-polls result today will prove if there's any Modi wave, whether demonetization was successful, whether Yogi Adityanath\n",
            "\n",
            "5350)ahulroushan: By-polls result today will prove if there's any Modi wave, whether demonetization was successful, whether Yogi Adityanath\n",
            "\n",
            "5351)Demonetization Impact was Short-liv : Tata Sponge MD\n",
            "Read full story in Steel 360 Apr'17 issue subscribe now  \n",
            "\n",
            "5352)ahulroushan: By-polls result today will prove if there's any Modi wave, whether demonetization was successful, whether Yogi Adityanath\n",
            "\n",
            "5353)loombergQuint: Indias oil consumption fell for a third straight month.\n",
            "aketsundria hwaniPandya find out why\n",
            " \n",
            "\n",
            "5354)ahulroushan: By-polls result today will prove if there's any Modi wave, whether demonetization was successful, whether Yogi Adityanath\n",
            "\n",
            "5355)QInvstTraining Keep making things up. When did I say demonetization is bad? It's good for India. However, growth overstat  during quarter\n",
            "\n",
            "5356)ahulroushan: By-polls result today will prove if there's any Modi wave, whether demonetization was successful, whether Yogi Adityanath\n",
            "\n",
            "5357)mishra77: Contrary to doomsday pr ictions after demonetization, the Indian Economy is doing very well. For example exports is doing v\n",
            "\n",
            "5358)Woff, thats HUGE. Trump's Demonetization move < ><U+ ><U+ >< ><U+00B1><U+008C>< ><U+ ><U+ >< ><U+00B2><U+00AA>  \n",
            "\n",
            "5359)rickydonor: Dear Liberals cum economic experts; verdict on demonetization is out.! ElectionResults\n",
            "\n",
            "5360)tupidosaur: If you feel all is well, Aadhaar is fine, destruction of democracy by EVMs is fine, recollect if you felt same 1 day befor\n",
            "\n",
            "5361)iyushGoyalOffc: We believe good economics makes good politics.It's reflect  in all our actions, from demonetization to transparent e-\n",
            "\n",
            "5362)ahulroushan: By-polls result today will prove if there's any Modi wave, whether demonetization was successful, whether Yogi Adityanath\n",
            "\n",
            "5363)By-polls result today will prove if there's any Modi wave, whether demonetization was successful, whether Yogi Adityanath was right choice.\n",
            "\n",
            "5364)mishra77: Contrary to doomsday pr ictions after demonetization, the Indian Economy is doing very well. For example exports is doing v\n",
            "\n",
            "5365)ahulroushan: By-polls result today will prove if there's any Modi wave, whether demonetization was successful, whether Yogi Adityanath\n",
            "\n",
            "5366)Demonetization put pressure on cash flow. Cisco partner oftcell_Tech help  legal orgs manage increas  business  \n",
            "\n",
            "5367)Demonetization effect! My owner who insist  rent 2 b given in cash for last 4 years, now wants to declare as income tax Kudos arendramodi\n",
            "\n",
            "5368)ahulroushan: By-polls result today will prove if there's any Modi wave, whether demonetization was successful, whether Yogi Adityanath\n",
            "\n",
            "5369)ahulroushan: By-polls result today will prove if there's any Modi wave, whether demonetization was successful, whether Yogi Adityanath\n",
            "\n",
            "5370)What happens when demonetization or an equivalent of that happens in North Korea?\n",
            "\n",
            "This article was fascinating...  \n",
            "\n",
            "5371)ahulroushan: By-polls result today will prove if there's any Modi wave, whether demonetization was successful, whether Yogi Adityanath\n",
            "\n",
            "5372)hoDaMerch demonetization. you make plans bc things seem better. but then everything goes south. < ><U+ ><U+00BC>< ><U+00BC><U+009A>\n",
            "\n",
            "5373)@_icze4r A lot of channels are being hit with the demonetization thing lol. Even if the videos aren't technically unmonetiz .\n",
            "\n",
            "5374)Contrary to doomsday pr ictions after demonetization, the Indian Economy is doing very well. For example exports is doing very well.\n",
            "\n",
            "5375)reatGameIndia: Special issue on DeMonetisation featuring our exclusive research on global WarOnCash from an Indian perspective https\n",
            "\n",
            "5376)mishra77: Contrary to doomsday pr ictions after demonetization, the Indian Economy is doing very well. For example exports is doing v\n",
            "\n",
            "5377)p_koning: During WWII Hawaiian banknotes were print . If Japan invad  Hawaii, a quick demonetization would render them unusable by o\n",
            "\n",
            "5378)arendramodi \n",
            "Dear PM,\n",
            "I am thankful to all Indians who support  Rs.500 &amp; Rs.1000 demonetization, \n",
            "Also thanks to you for Cashless India.\n",
            "\n",
            "5379)mishra77: Contrary to doomsday pr ictions after demonetization, the Indian Economy is doing very well. For example exports is doing v\n",
            "\n",
            "5380)mishra77: Contrary to doomsday pr ictions after demonetization, the Indian Economy is doing very well. For example exports is doing v\n",
            "\n",
            "5381)mishra77: Contrary to doomsday pr ictions after demonetization, the Indian Economy is doing very well. For example exports is doing v\n",
            "\n",
            "5382)yleKn y True, but with all the ad sponsorship pulls and demonetization of videos, isn't it better to possibly mi  \n",
            "\n",
            "5383)mishra77: Contrary to doomsday pr ictions after demonetization, the Indian Economy is doing very well. For example exports is doing v\n",
            "\n",
            "5384)mishra77: Contrary to doomsday pr ictions after demonetization, the Indian Economy is doing very well. For example exports is doing v\n",
            "\n",
            "5385)p_koning: During WWII Hawaiian banknotes were print . If Japan invad  Hawaii, a quick demonetization would render them unusable by o\n",
            "\n",
            "5386)I think pm should take action against pakistan ur nxt move after demonetization KulbhushanJadhav\n",
            "\n",
            "5387)mishra77: Contrary to doomsday pr ictions after demonetization, the Indian Economy is doing very well. For example exports is doing v\n",
            "\n",
            "5388)mishra77: Contrary to doomsday pr ictions after demonetization, the Indian Economy is doing very well. For example exports is doing v\n",
            "\n",
            "5389)mishra77: Contrary to doomsday pr ictions after demonetization, the Indian Economy is doing very well. For example exports is doing v\n",
            "\n",
            "5390)Only few in Lutyen zone understand d ground level politics, while many call  demonetization a disaster, ihirssharma said Modi going ahead\n",
            "\n",
            "5391)Contrary to doomsday pr ictions after demonetization, the Indian Economy is doing very well. For example exports is doing very well. 1/3\n",
            "\n",
            "5392)ahulroushan: Prohibition is Demonetization 2.0: You kept quiet when poor men's tobacco-gutkha was bann , now they'll love your Englis\n",
            "\n",
            "5393)The success of demonetization can be judg  only if more individuals and Cos turn tax compliant next year. ACJLive\n",
            "\n",
            "5394)ahulroushan: By-polls result today will prove if there's any Modi wave, whether demonetization was successful, whether Yogi Adityanath\n",
            "\n",
            "5395)oham17: Debate on Demonetization: Was it the right way to make India go cashless? ajeshdhuddu andarKagade at MLUniv\n",
            " \n",
            "\n",
            "5396)oham17: Debate on Demonetization: Was it the right way to make India go cashless? ajeshdhuddu andarKagade at MLUniv\n",
            " \n",
            "\n",
            "5397)\"It is interesting that there were no public protests or political rallies during demonetisation\" demonetization thehinducentre\n",
            "\n",
            "5398)mtripathi rsegun This right?\n",
            "Funny how during demonetization the rules for declaration of donation was differen  \n",
            "\n",
            "5399)imesNow amAadmiParty rvindKejriwal \n",
            "\n",
            "He told popular PM a Psychopath &amp; Coward.\n",
            "He doubts Army, ECI &amp; EVM \n",
            "&amp;\n",
            "Demonetization.\n",
            "Shame AK.\n",
            "\n",
            "5400)ahulroushan: By-polls result today will prove if there's any Modi wave, whether demonetization was successful, whether Yogi Adityanath\n",
            "\n",
            "5401)daygour: inMinIndia rjunrammeghwal \n",
            "Demonetization will certainly bear fruits, ppl shd not rush in for instant benefits. It's not\n",
            "\n",
            "5402)amewils skiyer You will tweet far more slyly &amp; with more hatr  if demonetization not done....\n",
            "\n",
            "5403)ahulroushan: By-polls result today will prove if there's any Modi wave, whether demonetization was successful, whether Yogi Adityanath\n",
            "\n",
            "5404)ahulroushan: By-polls result today will prove if there's any Modi wave, whether demonetization was successful, whether Yogi Adityanath\n",
            "\n",
            "5405)ikhaSunam: Mr. Demonetization, Please hover your eyes on train pantries collecting in cash contributing to a major cash GDP.\n",
            "DeMoneti\n",
            "\n",
            "5406)Demonetization has been dress  in many garbs by a defiant administration, unwilling to stand trial for an economic miscalculation. ACJLive\n",
            "\n",
            "5407)ahulroushan: By-polls result today will prove if there's any Modi wave, whether demonetization was successful, whether Yogi Adityanath\n",
            "\n",
            "5408)The Union budget does not reflect the success of the intend  aim of demonetization. The underground economy is still thriving. ACJLive\n",
            "\n",
            "5409)anishonline Destruction already began very officially with demonetization.\n",
            "\n",
            "5410)ahulroushan: By-polls result today will prove if there's any Modi wave, whether demonetization was successful, whether Yogi Adityanath\n",
            "\n",
            "5411)tupidosaur: If you feel all is well, Aadhaar is fine, destruction of democracy by EVMs is fine, recollect if you felt same 1 day befor\n",
            "\n",
            "5412)NI_news MOIndia runjaitley \n",
            "Kudos for keeping up your commitment.\n",
            "Ppl  support  Demonetization whole heat   \n",
            "\n",
            "5413)iyushGoyalOffc: We believe good economics makes good politics.It's reflect  in all our actions, from demonetization to transparent e-\n",
            "\n",
            "5414)ahulroushan: By-polls result today will prove if there's any Modi wave, whether demonetization was successful, whether Yogi Adityanath\n",
            "\n",
            "5415)50 Crazy stock sirjee. Found it to be cheap during the demonetization week and bought. 58% up. only wish  I bought even more lol\n",
            "\n",
            "5416)ahulroushan: By-polls result today will prove if there's any Modi wave, whether demonetization was successful, whether Yogi Adityanath\n",
            "\n",
            "5417)ahulroushan: By-polls result today will prove if there's any Modi wave, whether demonetization was successful, whether Yogi Adityanath\n",
            "\n",
            "5418)Biggest move since Demonetization, if it is true !!  \n",
            "\n",
            "5419)ahulroushan: By-polls result today will prove if there's any Modi wave, whether demonetization was successful, whether Yogi Adityanath\n",
            "\n",
            "5420)tupidosaur: If you feel all is well, Aadhaar is fine, destruction of democracy by EVMs is fine, recollect if you felt same 1 day befor\n",
            "\n",
            "5421)tupidosaur: If you feel all is well, Aadhaar is fine, destruction of democracy by EVMs is fine, recollect if you felt same 1 day befor\n",
            "\n",
            "5422)dtv Even after demonetization, he had so much cash < ><U+ ><U+ >< ><U+ ><U+00B1>< ><U+ ><U+ >< ><U+ ><U+00B1> Jai ho\n",
            "\n",
            "5423)ahulroushan: By-polls result today will prove if there's any Modi wave, whether demonetization was successful, whether Yogi Adityanath\n",
            "\n",
            "5424)tupidosaur: If you feel all is well, Aadhaar is fine, destruction of democracy by EVMs is fine, recollect if you felt same 1 day befor\n",
            "\n",
            "5425)tupidosaur: If you feel all is well, Aadhaar is fine, destruction of democracy by EVMs is fine, recollect if you felt same 1 day befor\n",
            "\n",
            "5426)If you feel all is well, Aadhaar is fine, destruction of democracy by EVMs is fine, recollect if you felt same 1 day before demonetization.\n",
            "\n",
            "5427)ahulroushan: By-polls result today will prove if there's any Modi wave, whether demonetization was successful, whether Yogi Adityanath\n",
            "\n",
            "5428)ahulroushan: By-polls result today will prove if there's any Modi wave, whether demonetization was successful, whether Yogi Adityanath\n",
            "\n",
            "5429)ahulroushan: By-polls result today will prove if there's any Modi wave, whether demonetization was successful, whether Yogi Adityanath\n",
            "\n",
            "5430)ahulroushan: By-polls result today will prove if there's any Modi wave, whether demonetization was successful, whether Yogi Adityanath\n",
            "\n",
            "5431)ahulroushan: By-polls result today will prove if there's any Modi wave, whether demonetization was successful, whether Yogi Adityanath\n",
            "\n",
            "5432)ahulroushan: By-polls result today will prove if there's any Modi wave, whether demonetization was successful, whether Yogi Adityanath\n",
            "\n",
            "5433)ahulroushan: By-polls result today will prove if there's any Modi wave, whether demonetization was successful, whether Yogi Adityanath\n",
            "\n",
            "5434)ahulroushan: By-polls result today will prove if there's any Modi wave, whether demonetization was successful, whether Yogi Adityanath\n",
            "\n",
            "5435)ahulroushan: By-polls result today will prove if there's any Modi wave, whether demonetization was successful, whether Yogi Adityanath\n",
            "\n",
            "5436)ahulroushan: By-polls result today will prove if there's any Modi wave, whether demonetization was successful, whether Yogi Adityanath\n",
            "\n",
            "5437)NTata2000: The governments bold implementation of the demonetization programme ne s the nations support.  \n",
            "\n",
            "5438)ahulroushan: By-polls result today will prove if there's any Modi wave, whether demonetization was successful, whether Yogi Adityanath\n",
            "\n",
            "5439)avidfrawleyv  Since demonetization it has been clearly  notic  that a section of the M ia has gang  up with m  \n",
            "\n",
            "5440)ahulroushan: By-polls result today will prove if there's any Modi wave, whether demonetization was successful, whether Yogi Adityanath\n",
            "\n",
            "5441)ahulroushan: By-polls result today will prove if there's any Modi wave, whether demonetization was successful, whether Yogi Adityanath\n",
            "\n",
            "5442)ahulroushan: By-polls result today will prove if there's any Modi wave, whether demonetization was successful, whether Yogi Adityanath\n",
            "\n",
            "5443)ahulroushan: By-polls result today will prove if there's any Modi wave, whether demonetization was successful, whether Yogi Adityanath\n",
            "\n",
            "5444)ahulroushan: By-polls result today will prove if there's any Modi wave, whether demonetization was successful, whether Yogi Adityanath\n",
            "\n",
            "5445)ahulroushan: By-polls result today will prove if there's any Modi wave, whether demonetization was successful, whether Yogi Adityanath\n",
            "\n",
            "5446)ahulroushan: By-polls result today will prove if there's any Modi wave, whether demonetization was successful, whether Yogi Adityanath\n",
            "\n",
            "5447)ahulroushan: By-polls result today will prove if there's any Modi wave, whether demonetization was successful, whether Yogi Adityanath\n",
            "\n",
            "5448)ahulroushan: By-polls result today will prove if there's any Modi wave, whether demonetization was successful, whether Yogi Adityanath\n",
            "\n",
            "5449)ahulroushan: By-polls result today will prove if there's any Modi wave, whether demonetization was successful, whether Yogi Adityanath\n",
            "\n",
            "5450)ahulroushan: By-polls result today will prove if there's any Modi wave, whether demonetization was successful, whether Yogi Adityanath\n",
            "\n",
            "5451)ahulroushan: By-polls result today will prove if there's any Modi wave, whether demonetization was successful, whether Yogi Adityanath\n",
            "\n",
            "5452)ahulroushan: By-polls result today will prove if there's any Modi wave, whether demonetization was successful, whether Yogi Adityanath\n",
            "\n",
            "5453)ahulroushan: By-polls result today will prove if there's any Modi wave, whether demonetization was successful, whether Yogi Adityanath\n",
            "\n",
            "5454)ahulroushan: By-polls result today will prove if there's any Modi wave, whether demonetization was successful, whether Yogi Adityanath\n",
            "\n",
            "5455)ahulroushan: By-polls result today will prove if there's any Modi wave, whether demonetization was successful, whether Yogi Adityanath\n",
            "\n",
            "5456)ahulroushan: By-polls result today will prove if there's any Modi wave, whether demonetization was successful, whether Yogi Adityanath\n",
            "\n",
            "5457)ahulroushan: By-polls result today will prove if there's any Modi wave, whether demonetization was successful, whether Yogi Adityanath\n",
            "\n",
            "5458)ahulroushan: By-polls result today will prove if there's any Modi wave, whether demonetization was successful, whether Yogi Adityanath\n",
            "\n",
            "5459)ahulroushan: By-polls result today will prove if there's any Modi wave, whether demonetization was successful, whether Yogi Adityanath\n",
            "\n",
            "5460)rsegun The problem is Indian general public loves schadenfreude and the biggest reason why shitfest like demoneti  \n",
            "\n",
            "5461)ahulroushan: By-polls result today will prove if there's any Modi wave, whether demonetization was successful, whether Yogi Adityanath\n",
            "\n",
            "5462)arendramodi demonetization has prov  to be a success dhia03 asShaktikanta critics must apologize \n",
            " \n",
            "\n",
            "5463)tupidosaur: amewils Indian VVPAT is like demonetization.Voter is completely helpless if it is being print  for a different party th\n",
            "\n",
            "5464)ahulroushan: By-polls result today will prove if there's any Modi wave, whether demonetization was successful, whether Yogi Adityanath\n",
            "\n",
            "5465)p_koning: During WWII Hawaiian banknotes were print . If Japan invad  Hawaii, a quick demonetization would render them unusable by o\n",
            "\n",
            "5466)iyushGoyalOffc: We believe good economics makes good politics.It's reflect  in all our actions, from demonetization to transparent e-\n",
            "\n",
            "5467)ahulroushan: By-polls result today will prove if there's any Modi wave, whether demonetization was successful, whether Yogi Adityanath\n",
            "\n",
            "5468)ahulroushan: By-polls result today will prove if there's any Modi wave, whether demonetization was successful, whether Yogi Adityanath\n",
            "\n",
            "5469)tupidosaur: amewils Indian VVPAT is like demonetization.Voter is completely helpless if it is being print  for a different party th\n",
            "\n",
            "5470)iyushGoyalOffc: We believe good economics makes good politics.It's reflect  in all our actions, from demonetization to transparent e-\n",
            "\n",
            "5471)tupidosaur: amewils Indian VVPAT is like demonetization.Voter is completely helpless if it is being print  for a different party th\n",
            "\n",
            "5472)ndiaToday Thanks to the BJP Govt for the demonetization,the parallel economy of black money consuming the nation'  \n",
            "\n",
            "5473)tupidosaur: amewils Indian VVPAT is like demonetization.Voter is completely helpless if it is being print  for a different party th\n",
            "\n",
            "5474)tupidosaur: amewils Indian VVPAT is like demonetization.Voter is completely helpless if it is being print  for a different party th\n",
            "\n",
            "5475)amewils Indian VVPAT is like demonetization.Voter is completely helpless if it is being print  for a different p  \n",
            "\n",
            "5476)ahulroushan: By-polls result today will prove if there's any Modi wave, whether demonetization was successful, whether Yogi Adityanath\n",
            "\n",
            "5477)ewIndianXpress Demonetization finish  Indian free spending.People find more careful about cash.It is problem 4 p  \n",
            "\n",
            "5478)ahulroushan: By-polls result today will prove if there's any Modi wave, whether demonetization was successful, whether Yogi Adityanath\n",
            "\n",
            "5479)artic02 denial-acceptance \n",
            "demonetization \n",
            "EVM issue\n",
            "ur own mistakes but still blame others for punjab failuirs \n",
            "GOA - not a single seat\n",
            "\n",
            "5480)iyushGoyalOffc: We believe good economics makes good politics.It's reflect  in all our actions, from demonetization to transparent e-\n",
            "\n",
            "5481)During the peak of demonetization had met with a man who had spent most of his career working with the financially exclud .\n",
            "\n",
            "5482)Shree Modi is very successful in Demonetization and it was the toughest in the world. Nothing succe s like success  \n",
            "\n",
            "5483)Factory output shrinks and high inflation reflect impact of demonetization  \n",
            "\n",
            "5484)ahulroushan: By-polls result today will prove if there's any Modi wave, whether demonetization was successful, whether Yogi Adityanath\n",
            "\n",
            "5485)demonetization like someone who own a debit card\n",
            "\n",
            "5486)agChennai: ala217 arikadaiBoy post demonetization he has gone to diff zone.. :)\n",
            "\n",
            "5487)ala217 arikadaiBoy post demonetization he has gone to diff zone.. :)\n",
            "\n",
            "5488)No Modi wave, demonetization also not helping BJP to win by polls.  \n",
            "\n",
            "5489)ahulroushan: By-polls result today will prove if there's any Modi wave, whether demonetization was successful, whether Yogi Adityanath\n",
            "\n",
            "5490)ahulroushan: By-polls result today will prove if there's any Modi wave, whether demonetization was successful, whether Yogi Adityanath\n",
            "\n",
            "5491)ahulroushan: By-polls result today will prove if there's any Modi wave, whether demonetization was successful, whether Yogi Adityanath\n",
            "\n",
            "5492)Demonetization indicates a favourable change for the real estate sector  \n",
            "\n",
            "5493)ahulroushan: By-polls result today will prove if there's any Modi wave, whether demonetization was successful, whether Yogi Adityanath\n",
            "\n",
            "5494)demonetization has kill  many opposition parties, era of swatch politics....to a great extent.\n",
            "\n",
            "5495)ndianExpress Karnataka is dead against for Demonetization problems,Banks successfully work  against Modi.Cong &amp;J  \n",
            "\n",
            "5496)Demonetization matter: Counsel seeks time to file more documents to the satisfaction of the court\n",
            "\n",
            "5497)The latest The Demonetization Daily!   Thanks to PAL_LAC aliens\n",
            "\n",
            "5498)ahulroushan: By-polls result today will prove if there's any Modi wave, whether demonetization was successful, whether Yogi Adityanath\n",
            "\n",
            "5499)Demonetization matter\n",
            "\n",
            "Counsel -  i am ready to give 50 % tax.\n",
            "\n",
            "SC- We find no merits in petition\n",
            "\n",
            "5500)ahulroushan: By-polls result today will prove if there's any Modi wave, whether demonetization was successful, whether Yogi Adityanath\n",
            "\n",
            "5501)Demonetization matter\n",
            "\n",
            "SC- Yu have demonstrat  that u have gone to the bank. You are talking about 31 lacs of rupees.Were u not serious\n",
            "\n",
            "5502)If congress wins they will say karnataka EVMs are fine, mandate against demonetization &amp; if they lose then EVMs are  \n",
            "\n",
            "5503)enakadoshi umant_sinha Ppl ready to do big business in losses, as its a good place to park black money, mkt. ra  \n",
            "\n",
            "5504)Lot of new adopters of digital payments have return  to cash |   | As expect  by me:  \n",
            "\n",
            "5505)ahulroushan: By-polls result today will prove if there's any Modi wave, whether demonetization was successful, whether Yogi Adityanath\n",
            "\n",
            "5506)ahulroushan: By-polls result today will prove if there's any Modi wave, whether demonetization was successful, whether Yogi Adityanath\n",
            "\n",
            "5507)ahulroushan: By-polls result today will prove if there's any Modi wave, whether demonetization was successful, whether Yogi Adityanath\n",
            "\n",
            "5508)ahulroushan: By-polls result today will prove if there's any Modi wave, whether demonetization was successful, whether Yogi Adityanath\n",
            "\n",
            "5509)ahulroushan: By-polls result today will prove if there's any Modi wave, whether demonetization was successful, whether Yogi Adityanath\n",
            "\n",
            "5510)ahulroushan: By-polls result today will prove if there's any Modi wave, whether demonetization was successful, whether Yogi Adityanath\n",
            "\n",
            "5511)ahulroushan: By-polls result today will prove if there's any Modi wave, whether demonetization was successful, whether Yogi Adityanath\n",
            "\n",
            "5512)ahulroushan: By-polls result today will prove if there's any Modi wave, whether demonetization was successful, whether Yogi Adityanath\n",
            "\n",
            "5513)ahulroushan: By-polls result today will prove if there's any Modi wave, whether demonetization was successful, whether Yogi Adityanath\n",
            "\n",
            "5514)It is a statement as were given for demonetization without RBI and it was alter  for so many times.  \n",
            "\n",
            "5515)ahulroushan: By-polls result today will prove if there's any Modi wave, whether demonetization was successful, whether Yogi Adityanath\n",
            "\n",
            "5516)ahulroushan: By-polls result today will prove if there's any Modi wave, whether demonetization was successful, whether Yogi Adityanath\n",
            "\n",
            "5517)ahulroushan: By-polls result today will prove if there's any Modi wave, whether demonetization was successful, whether Yogi Adityanath\n",
            "\n",
            "5518)ahulroushan: By-polls result today will prove if there's any Modi wave, whether demonetization was successful, whether Yogi Adityanath\n",
            "\n",
            "5519)ahulroushan: By-polls result today will prove if there's any Modi wave, whether demonetization was successful, whether Yogi Adityanath\n",
            "\n",
            "5520)ahulroushan: By-polls result today will prove if there's any Modi wave, whether demonetization was successful, whether Yogi Adityanath\n",
            "\n",
            "5521)ahulroushan: By-polls result today will prove if there's any Modi wave, whether demonetization was successful, whether Yogi Adityanath\n",
            "\n",
            "5522)ahulroushan: By-polls result today will prove if there's any Modi wave, whether demonetization was successful, whether Yogi Adityanath\n",
            "\n",
            "5523)ahulroushan: By-polls result today will prove if there's any Modi wave, whether demonetization was successful, whether Yogi Adityanath\n",
            "\n",
            "5524)ahulroushan: By-polls result today will prove if there's any Modi wave, whether demonetization was successful, whether Yogi Adityanath\n",
            "\n",
            "5525)ahulroushan: By-polls result today will prove if there's any Modi wave, whether demonetization was successful, whether Yogi Adityanath\n",
            "\n",
            "5526)ahulroushan: By-polls result today will prove if there's any Modi wave, whether demonetization was successful, whether Yogi Adityanath\n",
            "\n",
            "5527)ahulroushan: By-polls result today will prove if there's any Modi wave, whether demonetization was successful, whether Yogi Adityanath\n",
            "\n",
            "5528)ahulroushan: By-polls result today will prove if there's any Modi wave, whether demonetization was successful, whether Yogi Adityanath\n",
            "\n",
            "5529)ahulroushan: By-polls result today will prove if there's any Modi wave, whether demonetization was successful, whether Yogi Adityanath\n",
            "\n",
            "5530)ahulroushan: By-polls result today will prove if there's any Modi wave, whether demonetization was successful, whether Yogi Adityanath\n",
            "\n",
            "5531)ahulroushan: By-polls result today will prove if there's any Modi wave, whether demonetization was successful, whether Yogi Adityanath\n",
            "\n",
            "5532)ahulroushan: By-polls result today will prove if there's any Modi wave, whether demonetization was successful, whether Yogi Adityanath\n",
            "\n",
            "5533)ahulroushan: By-polls result today will prove if there's any Modi wave, whether demonetization was successful, whether Yogi Adityanath\n",
            "\n",
            "5534)inclickhomes: Discussion with Ms Sharon on impact of demonetization, how RERA will bring transparency &amp; a lot more ortiusInfra - htt\n",
            "\n",
            "5535)ahulroushan: By-polls result today will prove if there's any Modi wave, whether demonetization was successful, whether Yogi Adityanath\n",
            "\n",
            "5536)ahulroushan: By-polls result today will prove if there's any Modi wave, whether demonetization was successful, whether Yogi Adityanath\n",
            "\n",
            "5537)ahulroushan: By-polls result today will prove if there's any Modi wave, whether demonetization was successful, whether Yogi Adityanath\n",
            "\n",
            "5538)ahulroushan: By-polls result today will prove if there's any Modi wave, whether demonetization was successful, whether Yogi Adityanath\n",
            "\n",
            "5539)ahulroushan: By-polls result today will prove if there's any Modi wave, whether demonetization was successful, whether Yogi Adityanath\n",
            "\n",
            "5540)ahulroushan: By-polls result today will prove if there's any Modi wave, whether demonetization was successful, whether Yogi Adityanath\n",
            "\n",
            "5541)ahulroushan: By-polls result today will prove if there's any Modi wave, whether demonetization was successful, whether Yogi Adityanath\n",
            "\n",
            "5542)ahulroushan: By-polls result today will prove if there's any Modi wave, whether demonetization was successful, whether Yogi Adityanath\n",
            "\n",
            "5543)iyushGoyalOffc: We believe good economics makes good politics.It's reflect  in all our actions, from demonetization to transparent e-\n",
            "\n",
            "5544)ahulroushan: By-polls result today will prove if there's any Modi wave, whether demonetization was successful, whether Yogi Adityanath\n",
            "\n",
            "5545)ahulroushan: By-polls result today will prove if there's any Modi wave, whether demonetization was successful, whether Yogi Adityanath\n",
            "\n",
            "5546)iyushGoyalOffc: We believe good economics makes good politics.It's reflect  in all our actions, from demonetization to transparent e-\n",
            "\n",
            "5547)ahulroushan: By-polls result today will prove if there's any Modi wave, whether demonetization was successful, whether Yogi Adityanath\n",
            "\n",
            "5548)ahulroushan: By-polls result today will prove if there's any Modi wave, whether demonetization was successful, whether Yogi Adityanath\n",
            "\n",
            "5549)Gurus1: 30-min talk, crisp &amp; informative on how Demonetization has taken the cash component out of Real Estate transactions  \n",
            "\n",
            "5550)ahulroushan: By-polls result today will prove if there's any Modi wave, whether demonetization was successful, whether Yogi Adityanath\n",
            "\n",
            "5551)ahulroushan: By-polls result today will prove if there's any Modi wave, whether demonetization was successful, whether Yogi Adityanath\n",
            "\n",
            "5552)ahulroushan: By-polls result today will prove if there's any Modi wave, whether demonetization was successful, whether Yogi Adityanath\n",
            "\n",
            "5553)ahulroushan: By-polls result today will prove if there's any Modi wave, whether demonetization was successful, whether Yogi Adityanath\n",
            "\n",
            "5554)ahulroushan: By-polls result today will prove if there's any Modi wave, whether demonetization was successful, whether Yogi Adityanath\n",
            "\n",
            "5555)ahulroushan: By-polls result today will prove if there's any Modi wave, whether demonetization was successful, whether Yogi Adityanath\n",
            "\n",
            "5556)ahulroushan: By-polls result today will prove if there's any Modi wave, whether demonetization was successful, whether Yogi Adityanath\n",
            "\n",
            "5557)ahulroushan: By-polls result today will prove if there's any Modi wave, whether demonetization was successful, whether Yogi Adityanath\n",
            "\n",
            "5558)ahulroushan: By-polls result today will prove if there's any Modi wave, whether demonetization was successful, whether Yogi Adityanath\n",
            "\n",
            "5559)ahulroushan: By-polls result today will prove if there's any Modi wave, whether demonetization was successful, whether Yogi Adityanath\n",
            "\n",
            "5560)ahulroushan: By-polls result today will prove if there's any Modi wave, whether demonetization was successful, whether Yogi Adityanath\n",
            "\n",
            "5561)ahulroushan: By-polls result today will prove if there's any Modi wave, whether demonetization was successful, whether Yogi Adityanath\n",
            "\n",
            "5562)ahulroushan: By-polls result today will prove if there's any Modi wave, whether demonetization was successful, whether Yogi Adityanath\n",
            "\n",
            "5563)ahulroushan: By-polls result today will prove if there's any Modi wave, whether demonetization was successful, whether Yogi Adityanath\n",
            "\n",
            "5564)ahulroushan: By-polls result today will prove if there's any Modi wave, whether demonetization was successful, whether Yogi Adityanath\n",
            "\n",
            "5565)ahulroushan: By-polls result today will prove if there's any Modi wave, whether demonetization was successful, whether Yogi Adityanath\n",
            "\n",
            "5566)ahulroushan: By-polls result today will prove if there's any Modi wave, whether demonetization was successful, whether Yogi Adityanath\n",
            "\n",
            "5567)ahulroushan: By-polls result today will prove if there's any Modi wave, whether demonetization was successful, whether Yogi Adityanath\n",
            "\n",
            "5568)ahulroushan: By-polls result today will prove if there's any Modi wave, whether demonetization was successful, whether Yogi Adityanath\n",
            "\n",
            "5569)@_YogendraYadav: Good news: Mr RBI Gov can speak!\n",
            "Did anyone hear him speak on loan waiver for corporates? \n",
            "Or on demonetization?\n",
            "https:\n",
            "\n",
            "5570)ahulroushan: By-polls result today will prove if there's any Modi wave, whether demonetization was successful, whether Yogi Adityanath\n",
            "\n",
            "5571)ahulroushan: By-polls result today will prove if there's any Modi wave, whether demonetization was successful, whether Yogi Adityanath\n",
            "\n",
            "5572)ahulroushan: By-polls result today will prove if there's any Modi wave, whether demonetization was successful, whether Yogi Adityanath\n",
            "\n",
            "5573)ahulroushan: By-polls result today will prove if there's any Modi wave, whether demonetization was successful, whether Yogi Adityanath\n",
            "\n",
            "5574)ahulroushan: By-polls result today will prove if there's any Modi wave, whether demonetization was successful, whether Yogi Adityanath\n",
            "\n",
            "5575)ahulroushan: By-polls result today will prove if there's any Modi wave, whether demonetization was successful, whether Yogi Adityanath\n",
            "\n",
            "5576)ahulroushan: By-polls result today will prove if there's any Modi wave, whether demonetization was successful, whether Yogi Adityanath\n",
            "\n",
            "5577)ahulroushan: By-polls result today will prove if there's any Modi wave, whether demonetization was successful, whether Yogi Adityanath\n",
            "\n",
            "5578)ahulroushan: By-polls result today will prove if there's any Modi wave, whether demonetization was successful, whether Yogi Adityanath\n",
            "\n",
            "5579)ahulroushan: By-polls result today will prove if there's any Modi wave, whether demonetization was successful, whether Yogi Adityanath\n",
            "\n",
            "5580)ahulroushan: By-polls result today will prove if there's any Modi wave, whether demonetization was successful, whether Yogi Adityanath\n",
            "\n",
            "5581)ahulroushan: By-polls result today will prove if there's any Modi wave, whether demonetization was successful, whether Yogi Adityanath\n",
            "\n",
            "5582)ahulroushan: By-polls result today will prove if there's any Modi wave, whether demonetization was successful, whether Yogi Adityanath\n",
            "\n",
            "5583)ahulroushan: By-polls result today will prove if there's any Modi wave, whether demonetization was successful, whether Yogi Adityanath\n",
            "\n",
            "5584)ahulroushan: By-polls result today will prove if there's any Modi wave, whether demonetization was successful, whether Yogi Adityanath\n",
            "\n",
            "5585)ahulroushan: By-polls result today will prove if there's any Modi wave, whether demonetization was successful, whether Yogi Adityanath\n",
            "\n",
            "5586)ahulroushan: By-polls result today will prove if there's any Modi wave, whether demonetization was successful, whether Yogi Adityanath\n",
            "\n",
            "5587)ahulroushan: By-polls result today will prove if there's any Modi wave, whether demonetization was successful, whether Yogi Adityanath\n",
            "\n",
            "5588)ahulroushan: By-polls result today will prove if there's any Modi wave, whether demonetization was successful, whether Yogi Adityanath\n",
            "\n",
            "5589)arendramodi Take a test of temporary full demonetization in J&amp;K. For three months ban physical currency in Jammu and Kashmir. (1/2)\n",
            "\n",
            "5590)ahulroushan: By-polls result today will prove if there's any Modi wave, whether demonetization was successful, whether Yogi Adityanath\n",
            "\n",
            "5591)ahulroushan: By-polls result today will prove if there's any Modi wave, whether demonetization was successful, whether Yogi Adityanath\n",
            "\n",
            "5592)ahulroushan: By-polls result today will prove if there's any Modi wave, whether demonetization was successful, whether Yogi Adityanath\n",
            "\n",
            "5593)Take a test of temporary full demonetization in J&amp;K. For three months ban physical currency in Jammu and Kashmir.\n",
            "\n",
            "5594)ahulroushan: By-polls result today will prove if there's any Modi wave, whether demonetization was successful, whether Yogi Adityanath\n",
            "\n",
            "5595)ahulroushan: By-polls result today will prove if there's any Modi wave, whether demonetization was successful, whether Yogi Adityanath\n",
            "\n",
            "5596)ahulroushan: By-polls result today will prove if there's any Modi wave, whether demonetization was successful, whether Yogi Adityanath\n",
            "\n",
            "5597)ahulroushan: By-polls result today will prove if there's any Modi wave, whether demonetization was successful, whether Yogi Adityanath\n",
            "\n",
            "5598)By-polls result today will prove if there's any Modi wave, whether demonetization was successful, whether Yogi Adityanath was right choice.\n",
            "\n",
            "5599)iyushGoyalOffc: We believe good economics makes good politics.It's reflect  in all our actions, from demonetization to transparent e-\n",
            "\n",
            "5600)iyushGoyalOffc: We believe good economics makes good politics.It's reflect  in all our actions, from demonetization to transparent e-\n",
            "\n",
            "5601)iyushGoyalOffc: We believe good economics makes good politics.It's reflect  in all our actions, from demonetization to transparent e-\n",
            "\n",
            "5602)iyushGoyalOffc: We believe good economics makes good politics.It's reflect  in all our actions, from demonetization to transparent e-\n",
            "\n",
            "5603)World Bank CEO PM Modis demonetization to stamp out corruption will have positive impact on Indias economy,  \n",
            "\n",
            "5604)Gun channels report YouTube has r uc  their ability to run ads. Your USLS channel should be safe, but still...   \n",
            "\n",
            "5605)rvindKejriwal The top 4 teams in the current IPL are from those places that have non-NDA gvrnmts.This is a verdic  \n",
            "\n",
            "5606)iyushGoyalOffc: We believe good economics makes good politics.It's reflect  in all our actions, from demonetization to transparent e-\n",
            "\n",
            "5607)iyushGoyalOffc: We believe good economics makes good politics.It's reflect  in all our actions, from demonetization to transparent e-\n",
            "\n",
            "5608)oldTrendsNet: The F  can do what it wants when it wants\n",
            "during WWII Hawaiian banknotes were print \n",
            "if Japan invad  a demonetization\n",
            "\n",
            "5609)The latest The Demonetization Daily!   Thanks to orvieri ichaelsbrooks erebrawl80 india aliens\n",
            "\n",
            "5610)Gun channels report YouTube has r uc  their ability to run ads. Your TXLS channel should be safe, but still...  \n",
            "\n",
            "5611)iyushGoyalOffc: We believe good economics makes good politics.It's reflect  in all our actions, from demonetization to transparent e-\n",
            "\n",
            "5612)utnfancy will you address what's going on w/ the demonetization of youtube videos? I know it affects you and many channels. Long live TNP\n",
            "\n",
            "5613)etongab: The Demonetization of YouTube is Fast Underway; Dissidents Will Be Silenc  | Zero H ge  \n",
            "\n",
            "5614)p_koning: During WWII Hawaiian banknotes were print . If Japan invad  Hawaii, a quick demonetization would render them unusable by o\n",
            "\n",
            "5615)reatGameIndia: Special issue on DeMonetisation featuring our exclusive research on global WarOnCash from an Indian perspective https\n",
            "\n",
            "5616)iyushGoyalOffc: We believe good economics makes good politics.It's reflect  in all our actions, from demonetization to transparent e-\n",
            "\n",
            "5617)ahulroushan: Prohibition is Demonetization 2.0: You kept quiet when poor men's tobacco-gutkha was bann , now they'll love your Englis\n",
            "\n",
            "5618)reatGameIndia: Special issue on DeMonetisation featuring our exclusive research on global WarOnCash from an Indian perspective https\n",
            "\n",
            "5619)iyushGoyalOffc: We believe good economics makes good politics.It's reflect  in all our actions, from demonetization to transparent e-\n",
            "\n",
            "5620)This youtube demonetization is sad, only the people lose. YouTube was a great exchange of ideas.\n",
            "\n",
            "5621)mazingatheist ouTube Is the demonetization getting close enough for you to just bail on YouTube completely? Or  \n",
            "\n",
            "5622)The great YouTube demonetization issue seems to be much less YouTube itself's fault, and much more adverts leaving.\n",
            "\n",
            "5623)iyushGoyalOffc: We believe good economics makes good politics.It's reflect  in all our actions, from demonetization to transparent e-\n",
            "\n",
            "5624)Yes no reason for BJP to win UP after Demonetization disaster,UP rigging to save Modi,Punjab rigging to protect sta  \n",
            "\n",
            "5625)ardesairajdeep Modi has genuine fans who see his good work, LPG, electrification, demonetization, yemen rescue, toilets, hackathon etc\n",
            "\n",
            "5626)iyushGoyalOffc: We believe good economics makes good politics.It's reflect  in all our actions, from demonetization to transparent e-\n",
            "\n",
            "5627)iyushGoyalOffc: We believe good economics makes good politics.It's reflect  in all our actions, from demonetization to transparent e-\n",
            "\n",
            "5628)iyushGoyalOffc: We believe good economics makes good politics.It's reflect  in all our actions, from demonetization to transparent e-\n",
            "\n",
            "5629)hushiS23111861 lueToothBites government has a very successful initiative for this,child trafficking biz broken post demonetization..\n",
            "\n",
            "5630)utor2uGeoff: Tonight's free webinar (7pm) is on the Indian economy and will focus on supply-side reforms including demonetization http\n",
            "\n",
            "5631)iyushGoyalOffc: We believe good economics makes good politics.It's reflect  in all our actions, from demonetization to transparent e-\n",
            "\n",
            "5632)hantanu_Kasta imesofindia VenkaiahNaidu Jewellery sector became super rich on demonetization in jst 2 hr by a  \n",
            "\n",
            "5633)iyushGoyalOffc: We believe good economics makes good politics.It's reflect  in all our actions, from demonetization to transparent e-\n",
            "\n",
            "5634)MegaUpload 2  Bitcache Kim Dotcom goes after YT    - outube demonetization just in time - PERFECT STORM btc eth\n",
            "\n",
            "5635)iyushGoyalOffc: We believe good economics makes good politics.It's reflect  in all our actions, from demonetization to transparent e-\n",
            "\n",
            "5636)iyushGoyalOffc: We believe good economics makes good politics.It's reflect  in all our actions, from demonetization to transparent e-\n",
            "\n",
            "5637)iyushGoyalOffc: We believe good economics makes good politics.It's reflect  in all our actions, from demonetization to transparent e-\n",
            "\n",
            "5638)iyushGoyalOffc: We believe good economics makes good politics.It's reflect  in all our actions, from demonetization to transparent e-\n",
            "\n",
            "5639)iyushGoyalOffc: We believe good economics makes good politics.It's reflect  in all our actions, from demonetization to transparent e-\n",
            "\n",
            "5640)ivekbadkur3 I would still say GoI should sanction the 3850 crore for VVPAT without any delay. A whole lot more wa  \n",
            "\n",
            "5641)iyushGoyalOffc: We believe good economics makes good politics.It's reflect  in all our actions, from demonetization to transparent e-\n",
            "\n",
            "5642)iyushGoyalOffc: We believe good economics makes good politics.It's reflect  in all our actions, from demonetization to transparent e-\n",
            "\n",
            "5643)iyushGoyalOffc: We believe good economics makes good politics.It's reflect  in all our actions, from demonetization to transparent e-\n",
            "\n",
            "5644)iyushGoyalOffc: We believe good economics makes good politics.It's reflect  in all our actions, from demonetization to transparent e-\n",
            "\n",
            "5645)iyushGoyalOffc: We believe good economics makes good politics.It's reflect  in all our actions, from demonetization to transparent e-\n",
            "\n",
            "5646)iyushGoyalOffc: We believe good economics makes good politics.It's reflect  in all our actions, from demonetization to transparent e-\n",
            "\n",
            "5647)iyushGoyalOffc: We believe good economics makes good politics.It's reflect  in all our actions, from demonetization to transparent e-\n",
            "\n",
            "5648)ifatJawaid antaKaReporter \n",
            "nothing has chang  much. Link of my column depicting state of affairs in J&amp;K\n",
            " \n",
            "\n",
            "5649)iyushGoyalOffc: We believe good economics makes good politics.It's reflect  in all our actions, from demonetization to transparent e-\n",
            "\n",
            "5650)ahulroushan: Prohibition is Demonetization 2.0: You kept quiet when poor men's tobacco-gutkha was bann , now they'll love your Englis\n",
            "\n",
            "5651)iyushGoyalOffc: We believe good economics makes good politics.It's reflect  in all our actions, from demonetization to transparent e-\n",
            "\n",
            "5652)iyushGoyalOffc: We believe good economics makes good politics.It's reflect  in all our actions, from demonetization to transparent e-\n",
            "\n",
            "5653)iyushGoyalOffc: We believe good economics makes good politics.It's reflect  in all our actions, from demonetization to transparent e-\n",
            "\n",
            "5654)iyushGoyalOffc: We believe good economics makes good politics.It's reflect  in all our actions, from demonetization to transparent e-\n",
            "\n",
            "5655)iyushGoyalOffc: We believe good economics makes good politics.It's reflect  in all our actions, from demonetization to transparent e-\n",
            "\n",
            "5656)iyushGoyalOffc: We believe good economics makes good politics.It's reflect  in all our actions, from demonetization to transparent e-\n",
            "\n",
            "5657)iyushGoyalOffc: We believe good economics makes good politics.It's reflect  in all our actions, from demonetization to transparent e-\n",
            "\n",
            "5658)iyushGoyalOffc: We believe good economics makes good politics.It's reflect  in all our actions, from demonetization to transparent e-\n",
            "\n",
            "5659)iyushGoyalOffc: We believe good economics makes good politics.It's reflect  in all our actions, from demonetization to transparent e-\n",
            "\n",
            "5660)ahulroushan: Prohibition is Demonetization 2.0: You kept quiet when poor men's tobacco-gutkha was bann , now they'll love your Englis\n",
            "\n",
            "5661)iyushGoyalOffc: We believe good economics makes good politics.It's reflect  in all our actions, from demonetization to transparent e-\n",
            "\n",
            "5662)ahulroushan: Prohibition is Demonetization 2.0: You kept quiet when poor men's tobacco-gutkha was bann , now they'll love your Englis\n",
            "\n",
            "5663)iyushGoyalOffc: We believe good economics makes good politics.It's reflect  in all our actions, from demonetization to transparent e-\n",
            "\n",
            "5664)ahulroushan: Prohibition is Demonetization 2.0: You kept quiet when poor men's tobacco-gutkha was bann , now they'll love your Englis\n",
            "\n",
            "5665)iyushGoyalOffc: We believe good economics makes good politics.It's reflect  in all our actions, from demonetization to transparent e-\n",
            "\n",
            "5666)iyushGoyalOffc: We believe good economics makes good politics.It's reflect  in all our actions, from demonetization to transparent e-\n",
            "\n",
            "5667)iyushGoyalOffc: We believe good economics makes good politics.It's reflect  in all our actions, from demonetization to transparent e-\n",
            "\n",
            "5668)iyushGoyalOffc: We believe good economics makes good politics.It's reflect  in all our actions, from demonetization to transparent e-\n",
            "\n",
            "5669)iyushGoyalOffc: We believe good economics makes good politics.It's reflect  in all our actions, from demonetization to transparent e-\n",
            "\n",
            "5670)iyushGoyalOffc: We believe good economics makes good politics.It's reflect  in all our actions, from demonetization to transparent e-\n",
            "\n",
            "5671)iyushGoyalOffc: We believe good economics makes good politics.It's reflect  in all our actions, from demonetization to transparent e-\n",
            "\n",
            "5672)iyushGoyalOffc: We believe good economics makes good politics.It's reflect  in all our actions, from demonetization to transparent e-\n",
            "\n",
            "5673)iyushGoyalOffc: We believe good economics makes good politics.It's reflect  in all our actions, from demonetization to transparent e-\n",
            "\n",
            "5674)iyushGoyalOffc: We believe good economics makes good politics.It's reflect  in all our actions, from demonetization to transparent e-\n",
            "\n",
            "5675)iyushGoyalOffc: We believe good economics makes good politics.It's reflect  in all our actions, from demonetization to transparent e-\n",
            "\n",
            "5676)ahulroushan: Prohibition is Demonetization 2.0: You kept quiet when poor men's tobacco-gutkha was bann , now they'll love your Englis\n",
            "\n",
            "5677)iyushGoyalOffc: We believe good economics makes good politics.It's reflect  in all our actions, from demonetization to transparent e-\n",
            "\n",
            "5678)iyushGoyalOffc: We believe good economics makes good politics.It's reflect  in all our actions, from demonetization to transparent e-\n",
            "\n",
            "5679)iyushGoyalOffc: We believe good economics makes good politics.It's reflect  in all our actions, from demonetization to transparent e-\n",
            "\n",
            "5680)iyushGoyalOffc: We believe good economics makes good politics.It's reflect  in all our actions, from demonetization to transparent e-\n",
            "\n",
            "5681)iyushGoyalOffc: We believe good economics makes good politics.It's reflect  in all our actions, from demonetization to transparent e-\n",
            "\n",
            "5682)iyushGoyalOffc: We believe good economics makes good politics.It's reflect  in all our actions, from demonetization to transparent e-\n",
            "\n",
            "5683)iyushGoyalOffc: We believe good economics makes good politics.It's reflect  in all our actions, from demonetization to transparent e-\n",
            "\n",
            "5684)iyushGoyalOffc: We believe good economics makes good politics.It's reflect  in all our actions, from demonetization to transparent e-\n",
            "\n",
            "5685)iyushGoyalOffc: We believe good economics makes good politics.It's reflect  in all our actions, from demonetization to transparent e-\n",
            "\n",
            "5686)iyushGoyalOffc: We believe good economics makes good politics.It's reflect  in all our actions, from demonetization to transparent e-\n",
            "\n",
            "5687)iyushGoyalOffc: We believe good economics makes good politics.It's reflect  in all our actions, from demonetization to transparent e-\n",
            "\n",
            "5688)iyushGoyalOffc: We believe good economics makes good politics.It's reflect  in all our actions, from demonetization to transparent e-\n",
            "\n",
            "5689)iyushGoyalOffc: We believe good economics makes good politics.It's reflect  in all our actions, from demonetization to transparent e-\n",
            "\n",
            "5690)iyushGoyalOffc: We believe good economics makes good politics.It's reflect  in all our actions, from demonetization to transparent e-\n",
            "\n",
            "5691)iyushGoyalOffc: We believe good economics makes good politics.It's reflect  in all our actions, from demonetization to transparent e-\n",
            "\n",
            "5692)iyushGoyalOffc: We believe good economics makes good politics.It's reflect  in all our actions, from demonetization to transparent e-\n",
            "\n",
            "5693)iyushGoyalOffc: We believe good economics makes good politics.It's reflect  in all our actions, from demonetization to transparent e-\n",
            "\n",
            "5694)iyushGoyalOffc: We believe good economics makes good politics.It's reflect  in all our actions, from demonetization to transparent e-\n",
            "\n",
            "5695)iyushGoyalOffc: We believe good economics makes good politics.It's reflect  in all our actions, from demonetization to transparent e-\n",
            "\n",
            "5696)iyushGoyalOffc: We believe good economics makes good politics.It's reflect  in all our actions, from demonetization to transparent e-\n",
            "\n",
            "5697)iyushGoyalOffc: We believe good economics makes good politics.It's reflect  in all our actions, from demonetization to transparent e-\n",
            "\n",
            "5698)iyushGoyalOffc: We believe good economics makes good politics.It's reflect  in all our actions, from demonetization to transparent e-\n",
            "\n",
            "5699)iyushGoyalOffc: We believe good economics makes good politics.It's reflect  in all our actions, from demonetization to transparent e-\n",
            "\n",
            "5700)iyushGoyalOffc: We believe good economics makes good politics.It's reflect  in all our actions, from demonetization to transparent e-\n",
            "\n",
            "5701)iyushGoyalOffc: We believe good economics makes good politics.It's reflect  in all our actions, from demonetization to transparent e-\n",
            "\n",
            "5702)iyushGoyalOffc: We believe good economics makes good politics.It's reflect  in all our actions, from demonetization to transparent e-\n",
            "\n",
            "5703)iyushGoyalOffc: We believe good economics makes good politics.It's reflect  in all our actions, from demonetization to transparent e-\n",
            "\n",
            "5704)iyushGoyalOffc: We believe good economics makes good politics.It's reflect  in all our actions, from demonetization to transparent e-\n",
            "\n",
            "5705)iyushGoyalOffc: We believe good economics makes good politics.It's reflect  in all our actions, from demonetization to transparent e-\n",
            "\n",
            "5706)iyushGoyalOffc: We believe good economics makes good politics.It's reflect  in all our actions, from demonetization to transparent e-\n",
            "\n",
            "5707)iyushGoyalOffc: We believe good economics makes good politics.It's reflect  in all our actions, from demonetization to transparent e-\n",
            "\n",
            "5708)iyushGoyalOffc: We believe good economics makes good politics.It's reflect  in all our actions, from demonetization to transparent e-\n",
            "\n",
            "5709)iyushGoyalOffc: We believe good economics makes good politics.It's reflect  in all our actions, from demonetization to transparent e-\n",
            "\n",
            "5710)iyushGoyalOffc: We believe good economics makes good politics.It's reflect  in all our actions, from demonetization to transparent e-\n",
            "\n",
            "5711)iyushGoyalOffc: We believe good economics makes good politics.It's reflect  in all our actions, from demonetization to transparent e-\n",
            "\n",
            "5712)iyushGoyalOffc: We believe good economics makes good politics.It's reflect  in all our actions, from demonetization to transparent e-\n",
            "\n",
            "5713)PiyushGoyalOffc: We believe good economics makes good politics.It's reflect  in all our actions, from demonetization to transparent e-auct\n",
            "\n",
            "5714)iyushGoyalOffc: We believe good economics makes good politics.It's reflect  in all our actions, from demonetization to transparent e-\n",
            "\n",
            "5715)iyushGoyalOffc: We believe good economics makes good politics.It's reflect  in all our actions, from demonetization to transparent e-\n",
            "\n",
            "5716)We believe good economics makes good politics.It's reflect  in all our actions, from demonetization to transparent e-auctions: iyushGoyal\n",
            "\n",
            "5717)ahulroushan: Prohibition is Demonetization 2.0: You kept quiet when poor men's tobacco-gutkha was bann , now they'll love your Englis\n",
            "\n",
            "5718)ahulroushan: Prohibition is Demonetization 2.0: You kept quiet when poor men's tobacco-gutkha was bann , now they'll love your Englis\n",
            "\n",
            "5719)bpnewstv Surely the liquidity crunch during demonetization is catching up...\n",
            "\n",
            "5720)ishal98865 ukeshrai881 After demonetization ,to save their Image, they have start  EVM tempering at large scal  \n",
            "\n",
            "5721)oldTrendsNet: The F  can do what it wants when it wants\n",
            "during WWII Hawaiian banknotes were print \n",
            "if Japan invad  a demonetization\n",
            "\n",
            "5722)enkuygurI love TYT but your silence on YouTube demonetization of news makes me worry TYT now part of the approv  establishment??\n",
            "\n",
            "5723)arendramodi I am a banker in UCO bank.sir we work  very hard in demonetization.so will hope the wage revision will be good for us.\n",
            "\n",
            "5724)The F  can do what it wants when it wants\n",
            "during WWII Hawaiian banknotes were print \n",
            "if Japan invad  a demonetiz  \n",
            "\n",
            "5725)ahulroushan: Prohibition is Demonetization 2.0: You kept quiet when poor men's tobacco-gutkha was bann , now they'll love your Englis\n",
            "\n",
            "5726)YT demonetization burst hammers home that the user really is the product, and that product can be EOL'  at a whim - like so many before it.\n",
            "\n",
            "5727)I got some demonetization emails but we never made the videos for $$ so in all honesty I haven't really check  to  \n",
            "\n",
            "5728)utor2uGeoff: Tonight's free webinar (7pm) is on the Indian economy and will focus on supply-side reforms including demonetization http\n",
            "\n",
            "5729)YouTube attack on IndependentM ia by Demonetization of videos?! BadChoice Followers will simply DONATE DIRECTLY &amp; YOUTUBE won't profit!\n",
            "\n",
            "5730)amyudhvir: More I know about Demonetization Scheme, more I hate it. <U+091C><U+0928><U+0924><U+093E>_<U+0924><U+094D><U+0930><U+0938><U+094D><U+0924>_<U+092D><U+094D><U+0930><U+0937><U+094D><U+091F><U+093E><U+091A><U+093E><U+0930><U+0940>_<U+092E><U+0938><U+094D><U+0924>\n",
            "\n",
            "5731)ahulroushan: Prohibition is Demonetization 2.0: You kept quiet when poor men's tobacco-gutkha was bann , now they'll love your Englis\n",
            "\n",
            "5732)Who will benefit the most from demonetization and cashless economy\n",
            "\n",
            "5733)ksharPathak: Me, today: \"Demonetization will impact our economic growth and bring down inflation\"\n",
            "\n",
            "Me, last week: \"18+6? phone pe calc\n",
            "\n",
            "5734)ahulroushan: Prohibition is Demonetization 2.0: You kept quiet when poor men's tobacco-gutkha was bann , now they'll love your Englis\n",
            "\n",
            "5735)p_koning: During WWII Hawaiian banknotes were print . If Japan invad  Hawaii, a quick demonetization would render them unusable by o\n",
            "\n",
            "5736)ahulroushan: Prohibition is Demonetization 2.0: You kept quiet when poor men's tobacco-gutkha was bann , now they'll love your Englis\n",
            "\n",
            "5737)ahulroushan: Prohibition is Demonetization 2.0: You kept quiet when poor men's tobacco-gutkha was bann , now they'll love your Englis\n",
            "\n",
            "5738)Demonetization has made home buying more affordable and accessible for a common man. Read to know more:  \n",
            "\n",
            "5739)ahulroushan: Prohibition is Demonetization 2.0: You kept quiet when poor men's tobacco-gutkha was bann , now they'll love your Englis\n",
            "\n",
            "5740)inMinIndia Sir why all ATMs are Dry no cash at all ?? What happen ? Most of ATms are dry..Is it again sign of demonetization\n",
            "\n",
            "5741)reatGameIndia: Special issue on DeMonetisation featuring our exclusive research on global WarOnCash from an Indian perspective https\n",
            "\n",
            "5742)reatGameIndia: Special issue on DeMonetisation featuring our exclusive research on global WarOnCash from an Indian perspective https\n",
            "\n",
            "5743)Special issue on DeMonetisation featuring our exclusive research on global WarOnCash from an Indian perspective  \n",
            "\n",
            "5744)harat_builder: Lol. Demonetization has fix  a lot, like stone pelters, corruption, black money, join crunch, global warming, racism,\n",
            "\n",
            "5745)harat_builder: Lol. Demonetization has fix  a lot, like stone pelters, corruption, black money, join crunch, global warming, racism,\n",
            "\n",
            "5746)harat_builder: Lol. Demonetization has fix  a lot, like stone pelters, corruption, black money, join crunch, global warming, racism,\n",
            "\n",
            "5747)ahulroushan: Prohibition is Demonetization 2.0: You kept quiet when poor men's tobacco-gutkha was bann , now they'll love your Englis\n",
            "\n",
            "5748)ahulroushan: Prohibition is Demonetization 2.0: You kept quiet when poor men's tobacco-gutkha was bann , now they'll love your Englis\n",
            "\n",
            "5749)utor2uGeoff: Tonight's free webinar (7pm) is on the Indian economy and will focus on supply-side reforms including demonetization http\n",
            "\n",
            "5750)utor2uGeoff: Tonight's free webinar (7pm) is on the Indian economy and will focus on supply-side reforms including demonetization http\n",
            "\n",
            "5751)siaSociety: Arundhati Bhattacharya discusses India's economic direction in 2017 and the implications of demonetization.  \n",
            "\n",
            "5752)Arundhati Bhattacharya discusses India's economic direction in 2017 and the implications of demonetization.  \n",
            "\n",
            "5753)First Sheela Dikshit and then kejriwal loot  Delhi.  Congress and AAP oppos  Surgical Strike, demonetization  <U+0915><U+0947><U+091C><U+0930><U+0940><U+0935><U+093E><U+0932>_<U+0915><U+093E><U+0902><U+0917><U+094D><U+0930><U+0947><U+0938>_<U+0938><U+093E><U+0925>_<U+0938><U+093E><U+0925>\n",
            "\n",
            "5754)Tonight's free webinar (7pm) is on the Indian economy and will focus on supply-side reforms including demonetizatio  \n",
            "\n",
            "5755)rkgalt The Demonetization in India was purely about taxation &amp; revenue, NOT about targeting criminals\n",
            "\n",
            "5756)p_koning: During WWII Hawaiian banknotes were print . If Japan invad  Hawaii, a quick demonetization would render them unusable by o\n",
            "\n",
            "5757)ahulroushan: Prohibition is Demonetization 2.0: You kept quiet when poor men's tobacco-gutkha was bann , now they'll love your Englis\n",
            "\n",
            "5758)ostlyeconomics: Did India get the idea for its recent demonetization by watching old episodes of M*A*S*H?  \n",
            "\n",
            "5759)ahulroushan: Prohibition is Demonetization 2.0: You kept quiet when poor men's tobacco-gutkha was bann , now they'll love your Englis\n",
            "\n",
            "5760)Economist S Gurumurthy on how Demonetization has impact  Real Estate, Jobs   via atyaVijayi eliancegroup dtv\n",
            "\n",
            "5761)What proof do we ne  to confirm demonetization has not work , other than these ITRaids ?how did they get so much money,that too in cash?\n",
            "\n",
            "5762)mSatnam_: ominos_india A10. Because this is what brings happiness on our faces after Demonetization. DominosEverydayValue\n",
            "\n",
            "5763)Did Indian PM Modi get the idea for the recently-execut  demonetization by watching old episodes of M*A*S*H  \n",
            "\n",
            "5764)Quick easy solution to all mobile,prepaid data card &amp; DTH recharges lies at Our B2B &amp; B2C online portal. \n",
            "\n",
            "5765)ahulroushan: Prohibition is Demonetization 2.0: You kept quiet when poor men's tobacco-gutkha was bann , now they'll love your Englis\n",
            "\n",
            "5766)ahulroushan: Prohibition is Demonetization 2.0: You kept quiet when poor men's tobacco-gutkha was bann , now they'll love your Englis\n",
            "\n",
            "5767)ahulroushan: Prohibition is Demonetization 2.0: You kept quiet when poor men's tobacco-gutkha was bann , now they'll love your Englis\n",
            "\n",
            "5768)ishabhkulkul: appoojapandey rvindKejriwal this is what happens after demonetization , new ways to make the lost money ehh\n",
            "\n",
            "5769)umbai_pyc: The lines are Back in ATMs. Most of them running Dry. M ia houses hav shut tere mouth.Y arnt they taking abt it? ATMsDRY\n",
            "\n",
            "5770)ahulroushan: Prohibition is Demonetization 2.0: You kept quiet when poor men's tobacco-gutkha was bann , now they'll love your Englis\n",
            "\n",
            "5771)ahulroushan: Prohibition is Demonetization 2.0: You kept quiet when poor men's tobacco-gutkha was bann , now they'll love your Englis\n",
            "\n",
            "5772)ahulroushan: Prohibition is Demonetization 2.0: You kept quiet when poor men's tobacco-gutkha was bann , now they'll love your Englis\n",
            "\n",
            "5773)India's proposal to give every citizen a cash transfer using the digital platform Aadhar could r uce absolute...  \n",
            "\n",
            "5774)alonishuklaET \n",
            "What will have been gain  from [demonetization], and at what cost, and mostly borne by whom?\n",
            "\n",
            "5775)Q: What is demonetization?\n",
            "A : Demonetization is the act of stripping a currency unit of its status as legal...  \n",
            "\n",
            "5776)ahulroushan: Prohibition is Demonetization 2.0: You kept quiet when poor men's tobacco-gutkha was bann , now they'll love your Englis\n",
            "\n",
            "5777)ahulroushan: Prohibition is Demonetization 2.0: You kept quiet when poor men's tobacco-gutkha was bann , now they'll love your Englis\n",
            "\n",
            "5778)heIshaAmbani Jio Daily tariff scheme changes are more complex than the post demonetization rule book.\n",
            "\n",
            "5779)ahulroushan: Prohibition is Demonetization 2.0: You kept quiet when poor men's tobacco-gutkha was bann , now they'll love your Englis\n",
            "\n",
            "5780)ahulroushan: Prohibition is Demonetization 2.0: You kept quiet when poor men's tobacco-gutkha was bann , now they'll love your Englis\n",
            "\n",
            "5781)ahulroushan: Prohibition is Demonetization 2.0: You kept quiet when poor men's tobacco-gutkha was bann , now they'll love your Englis\n",
            "\n",
            "5782)radip1951 artic02 No corruption charges really ? waht about Sahara Birla Diary ? FEMA/FERA violation? Demonetiz  \n",
            "\n",
            "5783)Demonetization? Keep Calm and Carry On! The internet is a free place now. What if it wasn't?  \n",
            "\n",
            "5784)pencerKarter: To End AdSenseGate PRnightmare at YouTube.\n",
            "1.)Fire Susan Wojcicki\n",
            "2.)Eliminate Advertiser Friendly\n",
            "3.)End Demonetizat\n",
            "\n",
            "5785)ahulroushan: Prohibition is Demonetization 2.0: You kept quiet when poor men's tobacco-gutkha was bann , now they'll love your Englis\n",
            "\n",
            "5786)The latest The Demonetization Daily!   Thanks to mor_y_Rabia news\n",
            "\n",
            "5787)Saving his life as important as you let them 150+ die in demonetization scheme. Difference is only, this will give  \n",
            "\n",
            "5788)Gurus1: 30-min talk, crisp &amp; informative on how Demonetization has taken the cash component out of Real Estate transactions  \n",
            "\n",
            "5789)To End AdSenseGate PRnightmare at YouTube.\n",
            "1.)Fire Susan Wojcicki\n",
            "2.)Eliminate Advertiser Friendly\n",
            "3.)End Demonetization SaveYouTube\n",
            "\n",
            "5790)ahulroushan: Prohibition is Demonetization 2.0: You kept quiet when poor men's tobacco-gutkha was bann , now they'll love your Englis\n",
            "\n",
            "5791)harat_builder: Lol. Demonetization has fix  a lot, like stone pelters, corruption, black money, join crunch, global warming, racism,\n",
            "\n",
            "5792)imaagkoshot: Rules more complicat  than demonetization  \n",
            "\n",
            "5793)ahulroushan: Prohibition is Demonetization 2.0: You kept quiet when poor men's tobacco-gutkha was bann , now they'll love your Englis\n",
            "\n",
            "5794)Rules more complicat  than demonetization  \n",
            "\n",
            "5795)Please give a chance that persons who support  demonetization.\n",
            "I am sure you take a quick action on that issue.\n",
            "arendramodi\n",
            "moindia\n",
            "\n",
            "5796)ahulroushan: Prohibition is Demonetization 2.0: You kept quiet when poor men's tobacco-gutkha was bann , now they'll love your Englis\n",
            "\n",
            "5797)reeIyer1: 30-min talk, crisp &amp; informative on how Demonetization has taken the cash component out of Real Estate transactions https://\n",
            "\n",
            "5798)ahulroushan: Prohibition is Demonetization 2.0: You kept quiet when poor men's tobacco-gutkha was bann , now they'll love your Englis\n",
            "\n",
            "5799)ahulroushan: Prohibition is Demonetization 2.0: You kept quiet when poor men's tobacco-gutkha was bann , now they'll love your Englis\n",
            "\n",
            "5800)ahulroushan: Prohibition is Demonetization 2.0: You kept quiet when poor men's tobacco-gutkha was bann , now they'll love your Englis\n",
            "\n",
            "5801)ahulroushan: Prohibition is Demonetization 2.0: You kept quiet when poor men's tobacco-gutkha was bann , now they'll love your Englis\n",
            "\n",
            "5802)ahulroushan: Prohibition is Demonetization 2.0: You kept quiet when poor men's tobacco-gutkha was bann , now they'll love your Englis\n",
            "\n",
            "5803)aritray2001: Easy solution? Call it anti-national to do cash transactions demonetization  \n",
            "\n",
            "5804)ahulroushan: Prohibition is Demonetization 2.0: You kept quiet when poor men's tobacco-gutkha was bann , now they'll love your Englis\n",
            "\n",
            "5805)ahulroushan: Prohibition is Demonetization 2.0: You kept quiet when poor men's tobacco-gutkha was bann , now they'll love your Englis\n",
            "\n",
            "5806)ahulroushan: Prohibition is Demonetization 2.0: You kept quiet when poor men's tobacco-gutkha was bann , now they'll love your Englis\n",
            "\n",
            "5807)India oil demand shrinks for third month amid demonetization drag. Read more:   \n",
            "idyarthee\n",
            "\n",
            "5808)Funny how demonetize includes the word demonize.\n",
            "\n",
            " \n",
            "\n",
            "\n",
            "5809)ahulroushan: Prohibition is Demonetization 2.0: You kept quiet when poor men's tobacco-gutkha was bann , now they'll love your Englis\n",
            "\n",
            "5810)ahulroushan: Prohibition is Demonetization 2.0: You kept quiet when poor men's tobacco-gutkha was bann , now they'll love your Englis\n",
            "\n",
            "5811)rumbyOz: How else do you think he comes up with such brilliant ideas like demonetization  petrol pump holiday etc etc  \n",
            "\n",
            "5812)How else do you think he comes up with such brilliant ideas like demonetization  petrol pump holiday etc etc  \n",
            "\n",
            "5813)As ATMs dry up despite 5 months post Demonetization, bankers hopefully the normalcy will return soon &amp; cash will be made available in ATMs.\n",
            "\n",
            "5814)Wonder if Govt receiv  more money than RBI issu . SC non-committal on exchange of old notes   Demonetization\n",
            "\n",
            "5815)ayeshb did you join bzfd after demonetization and real estate crash?  \n",
            "\n",
            "5816)ahulroushan: Prohibition is Demonetization 2.0: You kept quiet when poor men's tobacco-gutkha was bann , now they'll love your Englis\n",
            "\n",
            "5817)ahulroushan: Prohibition is Demonetization 2.0: You kept quiet when poor men's tobacco-gutkha was bann , now they'll love your Englis\n",
            "\n",
            "5818)ahulroushan: Prohibition is Demonetization 2.0: You kept quiet when poor men's tobacco-gutkha was bann , now they'll love your Englis\n",
            "\n",
            "5819)ahulroushan: Prohibition is Demonetization 2.0: You kept quiet when poor men's tobacco-gutkha was bann , now they'll love your Englis\n",
            "\n",
            "5820)Demonetization? Keep Calm and Carry On!   via ouTube\n",
            "\n",
            "5821)ahulroushan: Prohibition is Demonetization 2.0: You kept quiet when poor men's tobacco-gutkha was bann , now they'll love your Englis\n",
            "\n",
            "5822)ahulroushan: Prohibition is Demonetization 2.0: You kept quiet when poor men's tobacco-gutkha was bann , now they'll love your Englis\n",
            "\n",
            "5823)ahulroushan: Prohibition is Demonetization 2.0: You kept quiet when poor men's tobacco-gutkha was bann , now they'll love your Englis\n",
            "\n",
            "5824)ahulroushan: Prohibition is Demonetization 2.0: You kept quiet when poor men's tobacco-gutkha was bann , now they'll love your Englis\n",
            "\n",
            "5825)BI runjaitley  sir, are you going to release old notes data as it is almost 3 mnths post demonetization.Is reconciliation still nt over?\n",
            "\n",
            "5826)nalyseasia: Hear avkendar_IDC describe how the mobile wallets grabb  significant traction after demonetization in India  https://\n",
            "\n",
            "5827)enukaJain6 rjunrammeghwal Hypothetical, if Demonetization adjust it will too adjust for good. Goons and others  \n",
            "\n",
            "5828)ahulroushan: Prohibition is Demonetization 2.0: You kept quiet when poor men's tobacco-gutkha was bann , now they'll love your Englis\n",
            "\n",
            "5829)ongViewer $TSLA? You're kidding right? What next, you'll go to Mars and settle there? You have zero understanding  \n",
            "\n",
            "5830)ahulroushan: Prohibition is Demonetization 2.0: You kept quiet when poor men's tobacco-gutkha was bann , now they'll love your Englis\n",
            "\n",
            "5831)ahulroushan: Prohibition is Demonetization 2.0: You kept quiet when poor men's tobacco-gutkha was bann , now they'll love your Englis\n",
            "\n",
            "5832)@_N33R4J_ azdanNidhi Tweet  in a way as if buying so many flats is a crime. And how the hell demonetization came into picture?< ><U+ ><U+ >< ><U+ ><U+008F>\n",
            "\n",
            "5833)ahulroushan: Prohibition is Demonetization 2.0: You kept quiet when poor men's tobacco-gutkha was bann , now they'll love your Englis\n",
            "\n",
            "5834)ahulroushan: Prohibition is Demonetization 2.0: You kept quiet when poor men's tobacco-gutkha was bann , now they'll love your Englis\n",
            "\n",
            "5835)Easy solution? Call it anti-national to do cash transactions demonetization  \n",
            "\n",
            "5836)Hear avkendar_IDC describe how the mobile wallets grabb  significant traction after demonetization in India   \n",
            "\n",
            "5837)ahulroushan: Prohibition is Demonetization 2.0: You kept quiet when poor men's tobacco-gutkha was bann , now they'll love your Englis\n",
            "\n",
            "5838)ahulroushan: Prohibition is Demonetization 2.0: You kept quiet when poor men's tobacco-gutkha was bann , now they'll love your Englis\n",
            "\n",
            "5839)YouTube Demonetization Baseless As Young Turks Get Off Scot Free   orlando\n",
            "\n",
            "5840)ahulroushan: Prohibition is Demonetization 2.0: You kept quiet when poor men's tobacco-gutkha was bann , now they'll love your Englis\n",
            "\n",
            "5841)ahulroushan: Prohibition is Demonetization 2.0: You kept quiet when poor men's tobacco-gutkha was bann , now they'll love your Englis\n",
            "\n",
            "5842)ahulroushan: Prohibition is Demonetization 2.0: You kept quiet when poor men's tobacco-gutkha was bann , now they'll love your Englis\n",
            "\n",
            "5843)ahulroushan: Prohibition is Demonetization 2.0: You kept quiet when poor men's tobacco-gutkha was bann , now they'll love your Englis\n",
            "\n",
            "5844)attaamit11Amit: Savita Gupta mam our Soldiers are fighting day n night for our safety n u r only concern  about exchanging old notes\n",
            "\n",
            "5845)The latest The Demonetization Daily!   Thanks to allumConnect oastOilSpill tsOnlyRawman india news\n",
            "\n",
            "5846)attaamit11Amit: Savita Gupta mam our Soldiers are fighting day n night for our safety n u r only concern  about exchanging old notes\n",
            "\n",
            "5847)attaamit11Amit: Savita Gupta mam our Soldiers are fighting day n night for our safety n u r only concern  about exchanging old notes\n",
            "\n",
            "5848)ahulroushan: Prohibition is Demonetization 2.0: You kept quiet when poor men's tobacco-gutkha was bann , now they'll love your Englis\n",
            "\n",
            "5849)attaamit11Amit: Savita Gupta mam our Soldiers are fighting day n night for our safety n u r only concern  about exchanging old notes\n",
            "\n",
            "5850)attaamit11Amit: Savita Gupta mam our Soldiers are fighting day n night for our safety n u r only concern  about exchanging old notes\n",
            "\n",
            "5851)attaamit11Amit: Savita Gupta mam our Soldiers are fighting day n night for our safety n u r only concern  about exchanging old notes\n",
            "\n",
            "5852)ahulroushan: Prohibition is Demonetization 2.0: You kept quiet when poor men's tobacco-gutkha was bann , now they'll love your Englis\n",
            "\n",
            "5853)3.5*/5 PuthanPanam Excellent PuthanPanamReview demonetization plot, kasaragode accent, different getup < ><U+ ><U+ >< ><U+00B1><U+008C>< ><U+ ><U+ >< ><U+00B1><U+008C>< ><U+ ><U+ >< ><U+00B1><U+008C>  \n",
            "\n",
            "5854)Savita Gupta mam our Soldiers are fighting day n night for our safety n u r only concern  about exchanging old no  \n",
            "\n",
            "5855)ahulroushan: Prohibition is Demonetization 2.0: You kept quiet when poor men's tobacco-gutkha was bann , now they'll love your Englis\n",
            "\n",
            "5856)ahulroushan: Prohibition is Demonetization 2.0: You kept quiet when poor men's tobacco-gutkha was bann , now they'll love your Englis\n",
            "\n",
            "5857)harat_builder: Lol. Demonetization has fix  a lot, like stone pelters, corruption, black money, join crunch, global warming, racism,\n",
            "\n",
            "5858)ahulroushan: Prohibition is Demonetization 2.0: You kept quiet when poor men's tobacco-gutkha was bann , now they'll love your Englis\n",
            "\n",
            "5859)ahulroushan: Prohibition is Demonetization 2.0: You kept quiet when poor men's tobacco-gutkha was bann , now they'll love your Englis\n",
            "\n",
            "5860)YouTube Demonetization Baseless As Young Turks Get Off Scot Free   Chicago\n",
            "\n",
            "5861)ahulroushan: Prohibition is Demonetization 2.0: You kept quiet when poor men's tobacco-gutkha was bann , now they'll love your Englis\n",
            "\n",
            "5862)OIIndiaNews This is what call  development.Neither demonetization nor digitalization bring anything better than  \n",
            "\n",
            "5863)ahulroushan: Prohibition is Demonetization 2.0: You kept quiet when poor men's tobacco-gutkha was bann , now they'll love your Englis\n",
            "\n",
            "5864)harat_builder: Lol. Demonetization has fix  a lot, like stone pelters, corruption, black money, join crunch, global warming, racism,\n",
            "\n",
            "5865)YouTube Demonetization Baseless As Young Turks Get Off Scot Free  \n",
            "\n",
            "5866)YouTube Demonetization Baseless As Young Turks Get Off Scot Free     SF\n",
            "\n",
            "5867)ahulroushan: Prohibition is Demonetization 2.0: You kept quiet when poor men's tobacco-gutkha was bann , now they'll love your Englis\n",
            "\n",
            "5868)ennie62: YouTube Demonetization Baseless As Young Turks Get Off Scot Free  \n",
            "\n",
            "5869)YouTube Demonetization Baseless As Young Turks Get Off Scot Free   \n",
            "\n",
            "5870)ennie62: YouTube Demonetization Baseless As Young Turks Get Off Scot Free  Vlog  \n",
            "\n",
            "5871)YouTube Demonetization Baseless As Young Turks Get Off Scot Free   Oakland\n",
            "\n",
            "5872)YouTube Demonetization Baseless As Young Turks Get Off Scot Free   Oakland\n",
            "\n",
            "5873)YouTube Demonetization Baseless As Young Turks Get Off Scot Free  \n",
            "\n",
            "5874)YouTube Demonetization Baseless As Young Turks Get Off Scot Free  \n",
            "\n",
            "5875)YouTube Demonetization Baseless As Young Turks Get Off Scot Free   vlog\n",
            "\n",
            "5876)YouTube Demonetization Baseless As Young Turks Get Off Scot Free  \n",
            "\n",
            "5877)YouTube Demonetization Baseless As Young Turks Get Off Scot Free   video\n",
            "\n",
            "5878)ahulroushan: Prohibition is Demonetization 2.0: You kept quiet when poor men's tobacco-gutkha was bann , now they'll love your Englis\n",
            "\n",
            "5879)arkDice And, to be honest, I couldn't even use the word molestation (talking about Milo) w/o instant demonetization. Yet \"n-word\" slips?\n",
            "\n",
            "5880)ahulroushan: Prohibition is Demonetization 2.0: You kept quiet when poor men's tobacco-gutkha was bann , now they'll love your Englis\n",
            "\n",
            "5881)ahulroushan: Prohibition is Demonetization 2.0: You kept quiet when poor men's tobacco-gutkha was bann , now they'll love your Englis\n",
            "\n",
            "5882)ahulroushan: Prohibition is Demonetization 2.0: You kept quiet when poor men's tobacco-gutkha was bann , now they'll love your Englis\n",
            "\n",
            "5883)ahulroushan: Prohibition is Demonetization 2.0: You kept quiet when poor men's tobacco-gutkha was bann , now they'll love your Englis\n",
            "\n",
            "5884)ahulroushan: Prohibition is Demonetization 2.0: You kept quiet when poor men's tobacco-gutkha was bann , now they'll love your Englis\n",
            "\n",
            "5885)ahulroushan: Prohibition is Demonetization 2.0: You kept quiet when poor men's tobacco-gutkha was bann , now they'll love your Englis\n",
            "\n",
            "5886)ahulroushan: Prohibition is Demonetization 2.0: You kept quiet when poor men's tobacco-gutkha was bann , now they'll love your Englis\n",
            "\n",
            "5887)ahulroushan: Prohibition is Demonetization 2.0: You kept quiet when poor men's tobacco-gutkha was bann , now they'll love your Englis\n",
            "\n",
            "5888)ahulroushan: Prohibition is Demonetization 2.0: You kept quiet when poor men's tobacco-gutkha was bann , now they'll love your Englis\n",
            "\n",
            "5889)ahulroushan: Prohibition is Demonetization 2.0: You kept quiet when poor men's tobacco-gutkha was bann , now they'll love your Englis\n",
            "\n",
            "5890)ahulroushan: Prohibition is Demonetization 2.0: You kept quiet when poor men's tobacco-gutkha was bann , now they'll love your Englis\n",
            "\n",
            "5891)ahulroushan: Prohibition is Demonetization 2.0: You kept quiet when poor men's tobacco-gutkha was bann , now they'll love your Englis\n",
            "\n",
            "5892)ahulroushan: Prohibition is Demonetization 2.0: You kept quiet when poor men's tobacco-gutkha was bann , now they'll love your Englis\n",
            "\n",
            "5893)ahulroushan: Prohibition is Demonetization 2.0: You kept quiet when poor men's tobacco-gutkha was bann , now they'll love your Englis\n",
            "\n",
            "5894)ahulroushan: Prohibition is Demonetization 2.0: You kept quiet when poor men's tobacco-gutkha was bann , now they'll love your Englis\n",
            "\n",
            "5895)ahulroushan: Prohibition is Demonetization 2.0: You kept quiet when poor men's tobacco-gutkha was bann , now they'll love your Englis\n",
            "\n",
            "5896)ahulroushan: Prohibition is Demonetization 2.0: You kept quiet when poor men's tobacco-gutkha was bann , now they'll love your Englis\n",
            "\n",
            "5897)harat_builder: Lol. Demonetization has fix  a lot, like stone pelters, corruption, black money, join crunch, global warming, racism,\n",
            "\n",
            "5898)ahulroushan: Prohibition is Demonetization 2.0: You kept quiet when poor men's tobacco-gutkha was bann , now they'll love your Englis\n",
            "\n",
            "5899)ahulroushan: Prohibition is Demonetization 2.0: You kept quiet when poor men's tobacco-gutkha was bann , now they'll love your Englis\n",
            "\n",
            "5900)ahulroushan: Prohibition is Demonetization 2.0: You kept quiet when poor men's tobacco-gutkha was bann , now they'll love your Englis\n",
            "\n",
            "5901)ahulroushan: Prohibition is Demonetization 2.0: You kept quiet when poor men's tobacco-gutkha was bann , now they'll love your Englis\n",
            "\n",
            "5902)ahulroushan: Prohibition is Demonetization 2.0: You kept quiet when poor men's tobacco-gutkha was bann , now they'll love your Englis\n",
            "\n",
            "5903)ahulroushan: Prohibition is Demonetization 2.0: You kept quiet when poor men's tobacco-gutkha was bann , now they'll love your Englis\n",
            "\n",
            "5904)ahulroushan: Prohibition is Demonetization 2.0: You kept quiet when poor men's tobacco-gutkha was bann , now they'll love your Englis\n",
            "\n",
            "5905)ahulroushan: Prohibition is Demonetization 2.0: You kept quiet when poor men's tobacco-gutkha was bann , now they'll love your Englis\n",
            "\n",
            "5906)ahulroushan: Prohibition is Demonetization 2.0: You kept quiet when poor men's tobacco-gutkha was bann , now they'll love your Englis\n",
            "\n",
            "5907)ahulroushan: Prohibition is Demonetization 2.0: You kept quiet when poor men's tobacco-gutkha was bann , now they'll love your Englis\n",
            "\n",
            "5908)ahulroushan: Prohibition is Demonetization 2.0: You kept quiet when poor men's tobacco-gutkha was bann , now they'll love your Englis\n",
            "\n",
            "5909)ahulroushan: Prohibition is Demonetization 2.0: You kept quiet when poor men's tobacco-gutkha was bann , now they'll love your Englis\n",
            "\n",
            "5910)harat_builder: Lol. Demonetization has fix  a lot, like stone pelters, corruption, black money, join crunch, global warming, racism,\n",
            "\n",
            "5911)hehill To The Hill. Shame on you for your antisemitic demonetization of a good woman.  \n",
            "\n",
            "5912)idyut: How India became Bill Gates' guinea pig: A conspiracy as recount  by the main actors   biometrick \n",
            "\n",
            "5913)harat_builder: Lol. Demonetization has fix  a lot, like stone pelters, corruption, black money, join crunch, global warming, racism,\n",
            "\n"
          ],
          "name": "stdout"
        }
      ]
    },
    {
      "cell_type": "code",
      "metadata": {
        "id": "uxiLk0c8YTiw",
        "colab_type": "code",
        "colab": {
          "base_uri": "https://localhost:8080/",
          "height": 1000
        },
        "outputId": "3e0f9f64-6557-42bf-ffe3-d521ea88628f"
      },
      "source": [
        "j=1\n",
        "sortedNF= df.sort_values(by=['polarity'],ascending='False')\n",
        "for i in range(0,sortedNF.shape[0]):\n",
        "  if (sortedNF['Analysis'][i]=='Negative'):\n",
        "    print(str(j)+')'+sortedNF['text'][i]+'\\n')\n",
        "    j=j+1\n"
      ],
      "execution_count": 66,
      "outputs": [
        {
          "output_type": "stream",
          "text": [
            "\u001b[1;30;43mStreaming output truncated to the last 5000 lines.\u001b[0m\n",
            "Demonetization\n",
            "\n",
            "42)apil_kausik: Doltiwal I mean JaiChandKejriwal is \"hurt\" by Demonetization as the same has render  USELESS < ><U+ ><U+ >< ><U+00B1><U+0089> \"acquir  funds\" No wo\n",
            "\n",
            "43)apil_kausik: Doltiwal I mean JaiChandKejriwal is \"hurt\" by Demonetization as the same has render  USELESS < ><U+ ><U+ >< ><U+00B1><U+0089> \"acquir  funds\" No wo\n",
            "\n",
            "44)avitri4Ever: Wow! Demonetization Survey Response: 5 Lakh citizens in little over 24 hrs!\r\n",
            "Participate now!\r\n",
            " \r\n",
            "via\n",
            "\n",
            "45)apil_kausik: Doltiwal I mean JaiChandKejriwal is \"hurt\" by Demonetization as the same has render  USELESS < ><U+ ><U+ >< ><U+00B1><U+0089> \"acquir  funds\" No wo\n",
            "\n",
            "46)apil_kausik: Doltiwal I mean JaiChandKejriwal is \"hurt\" by Demonetization as the same has render  USELESS < ><U+ ><U+ >< ><U+00B1><U+0089> \"acquir  funds\" No wo\n",
            "\n",
            "47)Post the Indian currency Demonetization move, BJP or Modi has garner  a huge base of Foes and Psychopaths...  \n",
            "\n",
            "48)apil_kausik: Doltiwal I mean JaiChandKejriwal is \"hurt\" by Demonetization as the same has render  USELESS < ><U+ ><U+ >< ><U+00B1><U+0089> \"acquir  funds\" No wo\n",
            "\n",
            "49)apil_kausik: Doltiwal I mean JaiChandKejriwal is \"hurt\" by Demonetization as the same has render  USELESS < ><U+ ><U+ >< ><U+00B1><U+0089> \"acquir  funds\" No wo\n",
            "\n",
            "50)apil_kausik: Doltiwal I mean JaiChandKejriwal is \"hurt\" by Demonetization as the same has render  USELESS < ><U+ ><U+ >< ><U+00B1><U+0089> \"acquir  funds\" No wo\n",
            "\n",
            "51)apil_kausik: Doltiwal I mean JaiChandKejriwal is \"hurt\" by Demonetization as the same has render  USELESS < ><U+ ><U+ >< ><U+00B1><U+0089> \"acquir  funds\" No wo\n",
            "\n",
            "52)apil_kausik: Doltiwal I mean JaiChandKejriwal is \"hurt\" by Demonetization as the same has render  USELESS < ><U+ ><U+ >< ><U+00B1><U+0089> \"acquir  funds\" No wo\n",
            "\n",
            "53)apil_kausik: Doltiwal I mean JaiChandKejriwal is \"hurt\" by Demonetization as the same has render  USELESS < ><U+ ><U+ >< ><U+00B1><U+0089> \"acquir  funds\" No wo\n",
            "\n",
            "54)Doltiwal I mean JaiChandKejriwal is \"hurt\" by Demonetization as the same has render  USELESS < ><U+ ><U+ >< ><U+00B1><U+0089> \"acquir  funds\"  \n",
            "\n",
            "55)_raghuraj: Today I saw 200 black money hoarders out of 125 crore\r\n",
            "standing in ques outside Parliament against\r\n",
            "Demonetization  \n",
            "\n",
            "56)Heard someone saying Home loans will go down soon. Demonetization may work there.\n",
            "\n",
            "57)fficeOfRG u sayin inconvenience due to demonetization but ur govt destroying Karnataka by constructing steelbridge  NetaVilla\n",
            "\n",
            "58)Today I saw 200 black money hoarders out of 125 crore\r\n",
            "standing in ques outside Parliament against\r\n",
            "Demonetization  \n",
            "\n",
            "59)Delete! Pathetic PM who conducts false poll and self praises himself. demonetization BogusPoll  \n",
            "\n",
            "60)aIna0806:  \r\n",
            "Hell yeah Demonetization has broken all class barriers rich poor  everyone is equal !\n",
            "\n",
            "61)Demonetization side-effect: \r\n",
            " WTF Philosophers\r\n",
            " (Whatsapp, Facebook, Twitter)\n",
            "\n",
            "62)Demonetization will be due from a thousand cuts - each loophole that legalizes the old currency. This is 1 of them  \n",
            "\n",
            "63)till 2014 it was people Vs corrupt NCIndia l  UPA etc;now after demonetization it is people Vs tax terrorist Govt of arendramodi\n",
            "\n",
            "64)BQasmi: This is a simple survey at my Facebook page. This too shows mood of the nation on demonetization Modi has ask  wrong questio\n",
            "\n",
            "65)How to convert all your black money into white following the DeMonetization: How to  \n",
            "\n",
            "66)Any move against demonetization should b compar  2 treason! This move may hv creat  little trouble but it's gonna save India\r\n",
            "netascashin\n",
            "\n",
            "67)then the result will be Demonetization regrets. Will rural economy turn cashless. Remains to be seen.\n",
            "\n",
            "68)Demonetization India EconomicsBehind\r\n",
            "Economics behind demonetization of Rs 1000 &amp; 500 notes.\r\n",
            " \n",
            "\n",
            "69)TIIndia: Demonetization  How does it impact the common man? \r\n",
            "Read our views here -    \n",
            "\n",
            "70)India's capacity utilization rate on neg. trend - won't be help  in short term by investment and consumption shock due to demonetization\n",
            "\n",
            "71)ajid_Yousuf_: Police men beats industrialists, Ambani groups, Black Money holders for standing in queue Demonetization. This cop des\n",
            "\n",
            "72)yvotetoday: So CJIThakur says there will be riots due to DeMonetization Qs\r\n",
            ".\r\n",
            "No SpicesNSecrets \r\n",
            ".\r\n",
            "No riots due to citizens Waiting\n",
            "\n",
            "73)How to convert all your black money into white following the DeMonetization: How to  \n",
            "\n",
            "74)yvotetoday: So CJIThakur says there will be riots due to DeMonetization Qs\r\n",
            ".\r\n",
            "No SpicesNSecrets \r\n",
            ".\r\n",
            "No riots due to citizens Waiting\n",
            "\n",
            "75)sprasad bcoz they only have black money and they dont have facts or points to talk abt demonetization .\n",
            "\n",
            "76)GST Council got postpon  today. Pakistan has consecutively breach  LOC the last week. \r\n",
            "Bad state of Railways.\r\n",
            "Demonetization effect\n",
            "\n",
            "77)The ratio of people inconvenienc  by demonetization to those taking the survey on the NaMo app would be 10:1 or perhaps worse.\n",
            "\n",
            "78)Now country is divid  into two religion Modi &amp;AntiModi , whose riot potentially can way bigger than other riots.\r\n",
            "Demonetization\n",
            "\n",
            "79)With due respect to the modi govt &amp; not meaning to offend any of his supporters,  demonetization might be good or bad or whatever. .. tbc\n",
            "\n",
            "80)aveeshbhalla: I reserve the right to seriously judge anyone who uses these stats to justify demonetization knowing how the survey is\n",
            "\n",
            "81)aveeshbhalla: I reserve the right to seriously judge anyone who uses these stats to justify demonetization knowing how the survey is\n",
            "\n",
            "82)Before I wish  someone or company deposit extra money to my account by mistake.but scary now. demonetization modi\n",
            "\n",
            "83)Dear NCIndia amAadmiParty  pls don't worry abt COMMON  PPL.U nvr did it in D past We're okay with demonetization\r\n",
            " DeModitisation_March\n",
            "\n",
            "84)if u cn be in Q for Long hours just to get 1 min glance of God in Tirupati/Shirdi..have same patience and faith for Country demonetization\n",
            "\n",
            "85)arendramodi help  bank to come out of NPA mess through Demonetization  \n",
            "\n",
            "86)Demonetization a hollow move  \n",
            "\n",
            "87)What's the takeaway from arendramodi poll on demonetization? That 7% of indian population is corrupt who think gov's move was bad. < ><U+ ><U+ >< ><U+ ><U+00A2>< ><U+ ><U+ >< ><U+ ><U+00A2>< ><U+ ><U+ >< ><U+ ><U+00A2>< ><U+ ><U+ >< ><U+ ><U+00A2>\n",
            "\n",
            "88)ewley: Indian online payment firm Paytm says it has add  8 million new users in the two weeks since demonetization  \n",
            "\n",
            "89)Be the Change you want to see... Sorry pink Mahatma Gandhi, no change!!!demonetization\n",
            "\n",
            "90)IndiaStrikesBack\r\n",
            "If Only opposition leaders also taking note of that Demonetization has hit pak sponspor  terror badly\n",
            "\n",
            "91)In Cash Crunch, RBI Chief Urjit Patel 'Missing'\r\n",
            "Demonetization miss fire in arranging new Currency by BI \r\n",
            "  \n",
            "\n",
            "92)Listening to Zaka Jacob berating and trying to prove demonetization  is working. Ha! Laughable attempt.\n",
            "\n",
            "93)ush091979: Look how TOI is misleading people &amp; spreading false statement against demonetization !!\r\n",
            "M ia and oppositionXpos  https:\n",
            "\n",
            "94)sindia: Unable to withdraw money for exam fees, teen hangs himself Demonetization\r\n",
            "   \n",
            "\n",
            "95)rGPradhan: No Flag Large Enough\r\n",
            "\r\n",
            "What do u mean anaAyyub ? Seems ur bundles are raddi now or a message?\r\n",
            "\r\n",
            "demonetization  \n",
            "\n",
            "96)nSubtleDesi: Kejriwal posts pic of dead robber and claims it's demonetization relat  death? How shameless has this man become? https\n",
            "\n",
            "97)arekFatah: ~ rvindKejriwal loses his temper at BBC reporter who questions AAP ldr's link between suicides &amp; demonetization.  https:\n",
            "\n",
            "98)ocreighton: Waiting in line is only one way poor people will be hurt by Demonetization. To know full impact we ne  to answers to man\n",
            "\n",
            "99)15th days &amp; main headlines still on Demonetization. Other serious issues inc. the Pak army crossfire being neglect . Not good for country.\n",
            "\n",
            "100)animozhi: Why rvindKejriwal &amp; amataOfficial trying to instigate Indians 4 a Civil war in India against demonetization Arrest them\n",
            "\n",
            "101)al_Kukdi: Pathetic journalism  when m ia thought you can get STDs from ATMs. Another attempt to malign Demonetization\r\n",
            " \n",
            "\n",
            "102)When Airtel d ucts ur Rs.30 u go mad at them!\r\n",
            "\r\n",
            "Kejri &amp; Mamta has lost thousands of crores and u want then to keep calm? < ><U+ ><U+ >< ><U+ ><U+008B>< ><U+ ><U+ >< ><U+ ><U+0082>< ><U+ ><U+ >< ><U+ ><U+008B>\r\n",
            "Demonetization\n",
            "\n",
            "103)aheshJagga: After Demonetization, Centre to bring in a Mental Bankruptcy bill in Parliament: Sources\r\n",
            "<U+0906><U+092A>_<U+092A><U+093E><U+0917><U+0932>_<U+0939><U+0948><U+0902>  \n",
            "\n",
            "104)aheshJagga: After Demonetization, Centre to bring in a Mental Bankruptcy bill in Parliament: Sources\r\n",
            "<U+0906><U+092A>_<U+092A><U+093E><U+0917><U+0932>_<U+0939><U+0948><U+0902>  \n",
            "\n",
            "105)aheshJagga: After Demonetization, Centre to bring in a Mental Bankruptcy bill in Parliament: Sources\r\n",
            "<U+0906><U+092A>_<U+092A><U+093E><U+0917><U+0932>_<U+0939><U+0948><U+0902>  \n",
            "\n",
            "106)aheshJagga: After Demonetization, Centre to bring in a Mental Bankruptcy bill in Parliament: Sources\r\n",
            "<U+0906><U+092A>_<U+092A><U+093E><U+0917><U+0932>_<U+0939><U+0948><U+0902>  \n",
            "\n",
            "107)enu_18: Bad thing is\r\n",
            "The position of Worthless Unpaid Hubbies surviving on wife's money remains same aftr demonetization &amp; r free to\n",
            "\n",
            "108)WBusinessworld: A Round Table on \"Long &amp; Short Term Impact of Demonetization on Indian Economy &amp; GDP\" organiz  by WBusinessworld @\n",
            "\n",
            "109)WBusinessworld: \"Tax Compliance is a big issue\" - urjitbhalla at the Round Table on \"Long &amp; Short Term Impact of Demonetization on\n",
            "\n",
            "110)Not fair at all seems Demonetization wave have claim  the rest  \n",
            "\n",
            "111)After Demonetization, Centre to bring in a Mental Bankruptcy bill in Parliament: Sources\r\n",
            "<U+0906><U+092A>_<U+092A><U+093E><U+0917><U+0932>_<U+0939><U+0948><U+0902>  \n",
            "\n",
            "112)aveeshbhalla: I reserve the right to seriously judge anyone who uses these stats to justify demonetization knowing how the survey is\n",
            "\n",
            "113)Demonetization  How does it impact the common man? \r\n",
            "Read our views here -    \n",
            "\n",
            "114)jaymaken elhiPCC sorry bro but we support demonetization\n",
            "\n",
            "115)enu_18: Bad thing is\r\n",
            "The position of Worthless Unpaid Hubbies surviving on wife's money remains same aftr demonetization &amp; r free to\n",
            "\n",
            "116)What I want to see is investigative journalism, governance of money trail after 50 day DeMonetization is over &amp; where India fail  as well\n",
            "\n",
            "117)nilkohli54: Absolutely hilarious corrupt protesting in the name of poor against. Demonetization\n",
            "\n",
            "118)axenask352: 95% sacrificing to cleanse 5%. Benefits of Demonetization should reach the common man in same ratio\n",
            "\n",
            "119)achitmathur5: rvindKejriwal deserves a tight slap on his face  demonetization BlackMoney KejriPappuDidiTypes <U+0938><U+093E><U+0930><U+0947>_<U+091A><U+094B><U+0930>_<U+092E><U+091A><U+093E><U+092F><U+0947>_<U+0936><U+094B><U+0930>\n",
            "\n",
            "120)yvotetoday: So CJIThakur says there will be riots due to DeMonetization Qs\r\n",
            ".\r\n",
            "No SpicesNSecrets \r\n",
            ".\r\n",
            "No riots due to citizens Waiting\n",
            "\n",
            "121)hashiTharoor effect of DeMonetization...liberal  ucat  mask slowly peeling off...too big a shock...starts showing his sadakchap thinkng\n",
            "\n",
            "122)yvotetoday: So CJIThakur says there will be riots due to DeMonetization Qs\r\n",
            ".\r\n",
            "No SpicesNSecrets \r\n",
            ".\r\n",
            "No riots due to citizens Waiting\n",
            "\n",
            "123)aveeshbhalla: I reserve the right to seriously judge anyone who uses these stats to justify demonetization knowing how the survey is\n",
            "\n",
            "124)haggyno1: rvindKejriwal go get a life! You &amp; all other black money holders are expos  by demonetization <U+0938><U+093E><U+0930><U+0947>_<U+091A><U+094B><U+0930>_<U+092E><U+091A><U+093E><U+092F><U+0947>_<U+0936><U+094B><U+0930> oppos\n",
            "\n",
            "125)Bandh politics start ! not sure how the Bandh will help the people who are (suppos ly) facing issues due to demonetization !!\n",
            "\n",
            "126)aveeshbhalla: I reserve the right to seriously judge anyone who uses these stats to justify demonetization knowing how the survey is\n",
            "\n",
            "127)upalijee: Over 90% of respondents feel govt's move to tackle black money is above four-star rating. demonetization survey via TOI @\n",
            "\n",
            "128)I'm not particularly against demonetization, but those survey results the Prime Minister shar  are such b.s! Heights of fudging polls! < ><U+ ><U+ >< ><U+ ><U+0082>< ><U+ ><U+ >< ><U+ ><U+0082>\n",
            "\n",
            "129)aveeshbhalla: I reserve the right to seriously judge anyone who uses these stats to justify demonetization knowing how the survey is\n",
            "\n",
            "130)aveeshbhalla: I reserve the right to seriously judge anyone who uses these stats to justify demonetization knowing how the survey is\n",
            "\n",
            "131)aveeshbhalla: I reserve the right to seriously judge anyone who uses these stats to justify demonetization knowing how the survey is\n",
            "\n",
            "132)aveeshbhalla: I reserve the right to seriously judge anyone who uses these stats to justify demonetization knowing how the survey is\n",
            "\n",
            "133)I reserve the right to seriously judge anyone who uses these stats to justify demonetization knowing how the surve  \n",
            "\n",
            "134)ashingtonpost trump shd learn from the stupid experiment of demonetization done in India.. Tackles black  money, terror &amp; counterfeit.\n",
            "\n",
            "135)animozhi: Why rvindKejriwal &amp; amataOfficial trying to instigate Indians 4 a Civil war in India against demonetization Arrest them\n",
            "\n",
            "136)Over 90% of respondents feel govt's move to tackle black money is above four-star rating. demonetization survey via TOI arendramodi\n",
            "\n",
            "137)animozhi: Why rvindKejriwal &amp; amataOfficial trying to instigate Indians 4 a Civil war in India against demonetization Arrest them\n",
            "\n",
            "138)animozhi: Why rvindKejriwal &amp; amataOfficial trying to instigate Indians 4 a Civil war in India against demonetization Arrest them\n",
            "\n",
            "139)animozhi: Why rvindKejriwal &amp; amataOfficial trying to instigate Indians 4 a Civil war in India against demonetization Arrest them\n",
            "\n",
            "140)animozhi: Why rvindKejriwal &amp; amataOfficial trying to instigate Indians 4 a Civil war in India against demonetization Arrest them\n",
            "\n",
            "141)animozhi: India will get windfall profit of whooping 4 Lakh crores in 30 days due to demonetization Why people like AK Pappu &amp; Mamata\n",
            "\n",
            "142)animozhi: India will get windfall profit of whooping 4 Lakh crores in 30 days due to demonetization Why people like AK Pappu &amp; Mamata\n",
            "\n",
            "143)animozhi: India will get windfall profit of whooping 4 Lakh crores in 30 days due to demonetization Why people like AK Pappu &amp; Mamata\n",
            "\n",
            "144)airajp: So this DeMonetization has been so Tragic in Implementation that modi govt is Flouting RBI rules for Banking License and Oper\n",
            "\n",
            "145)airajp: One cartoon that explains everything thats happening in DeMonetization Miss  Target; Bad Execution; Severe Collateral Dama\n",
            "\n",
            "146)ndiaFactsOrg: Demonetization: The Ultimate Weapon against Black economy   via ndiaFactsOrg\n",
            "\n",
            "147)Demonetization BI  arendramodi Bank officials can make monetization a failure. Stop the fraud and corruption going on in banks.\n",
            "\n",
            "148)ndiaFactsOrg: Demonetization: The Ultimate Weapon against Black economy   via ndiaFactsOrg\n",
            "\n",
            "149)93% support govt on demonetization move. Parties, pls take note. Your voters support this move. At least now, conduct parliament business\n",
            "\n",
            "150)How many parties opposing demonetization on d basis of inconvenience 2 poor has on record help  poor 2 come out of prob?amataOfficial\n",
            "\n",
            "151)animozhi: Everyone seems to hate the rich, even the rich hates richer and the richer hates the richest. Demonetization.\n",
            "\n",
            "152)udarsansand: My humble appeal to all to pl have patience and draw what they ne  from ATMs during this Demonetization phase. My SandA\n",
            "\n",
            "153)udarsansand: My humble appeal to all to pl have patience and draw what they ne  from ATMs during this Demonetization phase. My SandA\n",
            "\n",
            "154)aitreesh on demonetization \"ironically, this reform may even increase the stock of black money\"...  oadscholarz\n",
            "\n",
            "155)Currency Ban: Rs21000 Cr Deposit  in Jan Dhan Yojana A/c; Max frm West Bengal. Crazy stats DeMonetization impact.   \n",
            "\n",
            "156)yvotetoday: So CJIThakur says there will be riots due to DeMonetization Qs\r\n",
            ".\r\n",
            "No SpicesNSecrets \r\n",
            ".\r\n",
            "No riots due to citizens Waiting\n",
            "\n",
            "157)yvotetoday: So CJIThakur says there will be riots due to DeMonetization Qs\r\n",
            ".\r\n",
            "No SpicesNSecrets \r\n",
            ".\r\n",
            "No riots due to citizens Waiting\n",
            "\n",
            "158)unfaaya arekFatah or is he f***  by modi and gone mad after demonetization\n",
            "\n",
            "159)nandM25_TNIE: Shiva Sena and SAD fall in line with the government on Demonetization Say, we support the decision. ewIndianXpress\n",
            "\n",
            "160)70+ people dead because of Demonetization - Sources.\r\n",
            "\r\n",
            "Which is that Source?\n",
            "\n",
            "161)giittiikkaa first explain why Dumb Bhakt logic fail  ... that demonetization didn't stop terrorism ??\n",
            "\n",
            "162)sindia: Unable to withdraw money for exam fees, teen hangs himself Demonetization\r\n",
            "   \n",
            "\n",
            "163)Demonetization: The Ultimate Weapon against Black economy   via IndiaFactsOrg\n",
            "\n",
            "164)ndiaFactsOrg: Demonetization: The Ultimate Weapon against Black economy   via ndiaFactsOrg\n",
            "\n",
            "165)imuktaatma: And then there's this...\r\n",
            " \r\n",
            "So, if you really think that this Demonetization move has struck at fake\n",
            "\n",
            "166)ndiaFactsOrg: Demonetization: The Ultimate Weapon against Black economy   via ndiaFactsOrg\n",
            "\n",
            "167)Demonetization: The Ultimate Weapon against Black economy   via IndiaFactsOrg\n",
            "\n",
            "168)Yes ! If pink note can change to grey due to turbo-electric effect, I don't think it's difficult to solve these wit  \n",
            "\n",
            "169)ndiaFactsOrg: Demonetization: The Ultimate Weapon against Black economy   via ndiaFactsOrg\n",
            "\n",
            "170)Demonetization: The Ultimate Weapon against Black economy   via ndiaFactsOrg\n",
            "\n",
            "171)demonetization has hit at large-scale retrenchment of laboureres &amp; other daily wagers\r\n",
            " runjaitley MOIndia  \n",
            "\n",
            "172)Bharat Band has been call  on 28th November by combin  opposition parties to highlight the plight of common man due to demonetization .\n",
            "\n",
            "173)Demonetization show that JP4India is incompetent to lead India. A bunch of unprofessional with lack of experience &amp;  ucation.\n",
            "\n",
            "174)Wow! Demonetization Survey Response: 5 Lakh citizens in little over 24 hrs!\r\n",
            "Participate now!  \n",
            "\n",
            "175)animozhi: India will get windfall profit of whooping 4 Lakh crores in 30 days due to demonetization Why people like AK Pappu &amp; Mamata\n",
            "\n",
            "176)imuktaatma: The next issue is fake currency. And this is one area where Demonetization inde  does work wonders. (46/n)\n",
            "\n",
            "177)\"Tax Compliance is a big issue\" - urjitbhalla at the Round Table on \"Long &amp; Short Term Impact of Demonetization  \n",
            "\n",
            "178)Demonetization in India could actually mean less imports of sunfloweroil in India\n",
            "\n",
            "179)A Round Table on \"Long &amp; Short Term Impact of Demonetization on Indian Economy &amp; GDP\" organiz  by  \n",
            "\n",
            "180)Wholesale shops, Hotels, malls are all empty &amp; they are losing their daily business demonetization currencyban ublictvnews rajavani\n",
            "\n",
            "181)I think he means the poor people sitting in Antilia. \r\n",
            "\r\n",
            "Demonetization  \n",
            "\n",
            "182)WBusinessworld: Attend the round table session on effect of Demonetization today otel_MET WBusinessworld nuragbatrayo  \n",
            "\n",
            "183)WBusinessworld: A Round Table on \"Long &amp; Short Term Impact of Demonetization on Indian Economy &amp; GDP\" organiz  by WBusinessworld @\n",
            "\n",
            "184)PM is in dream land of cashless economy - ATMs in big IT companies are also not spar  from long serpentine queues for cash demonetization\n",
            "\n",
            "185)Street vendors are facing so much difficulties to sell. Boz their is lack of small denomination in the city demonetization currencyban\n",
            "\n",
            "186)So petrol pumps debunking old 500 notes as 'fake' and refusing! We had got them from bank atm Demonetization\n",
            "\n",
            "187)ajid_Yousuf_: Police men beats industrialists, Ambani groups, Black Money holders for standing in queue Demonetization. This cop des\n",
            "\n",
            "188)All the opposition which is protesting against demonetization, should be ask  to protest at LOC , let's see how many gathers, bloody swine\n",
            "\n",
            "189)NNnews18 For person with Chit Fund ShardaChitFund knowl ge in mind, it is difficult to explain how Demonetization helps.\n",
            "\n",
            "190)Have patience !. demonetization  will take time .It is really a tough decision and will have lot of consequences !\n",
            "\n",
            "191)M ia4: Where mitharnair tries to obfuscate Anna Hazare's views but he explains  demonetization with a rustic charm   \n",
            "\n",
            "192)WBusinessworld: A Round Table on \"Long &amp; Short Term Impact of Demonetization on Indian Economy &amp; GDP\" organiz  by WBusinessworld @\n",
            "\n",
            "193)WBusinessworld: Attend the round table session on effect of Demonetization today otel_MET WBusinessworld nuragbatrayo  \n",
            "\n",
            "194)A Round Table on \"Long &amp; Short Term Impact of Demonetization on Indian Economy &amp; GDP\" organiz  by  \n",
            "\n",
            "195)ewley: Indian online payment firm Paytm says it has add  8 million new users in the two weeks since demonetization  \n",
            "\n",
            "196)Indian online payment firm Paytm says it has add  8 million new users in the two weeks since demonetization  \n",
            "\n",
            "197)demonetization when its difficult to change rs. 2000 how can we expect arendramodi to change INDIA .....LOL\n",
            "\n",
            "198)ppalj: Demonetization. Lutyens M ia play  negative role in PM Modi 's crusade to unearth black money. Evident which side they'd lik\n",
            "\n",
            "199)ikramreuters: India demonetization &amp; markets: net foreign outflow $3B (stocks+bonds) since Nov 8, Nifty -6%, MSCI India 2017 EPS cut\n",
            "\n",
            "200)All the congressis are crying like babies because NarendraModi through his demonetization have given blow to them DeModitisation_March\n",
            "\n",
            "201)Attend the round table session on effect of Demonetization today otel_MET WBusinessworld nuragbatrayo  \n",
            "\n",
            "202)Round Table on Impact of Demonetization on Indian Economy &amp; GDP organiz   WBusinessworld otel_MET MOIndia  \n",
            "\n",
            "203)nilkohli54: It's Game Set &amp; Match to PM Modi Demonetization\n",
            "\n",
            "204)nilkohli54: Absolutely hilarious corrupt protesting in the name of poor against. Demonetization\n",
            "\n",
            "205)nilkohli54: going by the reaction which party seems to have suffer  max loss due to demonetization\n",
            "\n",
            "206)Useless things right now Rs. 500, Rs. 1000 &amp; Rs. 2000... No one is ready to accept it demonetization IMwithModi\n",
            "\n",
            "207)nilkohli54: Absolutely hilarious corrupt protesting in the name of poor against. Demonetization\n",
            "\n",
            "208)nilkohli54: It's Game Set &amp; Match to PM Modi Demonetization\n",
            "\n",
            "209)MOIndia arendramodi BI Dear Sir, Please do not rollback the Demonetization !Come whatever may. We will not bend to stupidity of oppn\n",
            "\n",
            "210)farmers are finding so much trouble to buy farming se s boz few se  sellers r not ready to accept old notes demonetization currencyban\n",
            "\n",
            "211)nilkohli54: Absolutely hilarious corrupt protesting in the name of poor against. Demonetization\n",
            "\n",
            "212)nilkohli54: It's Game Set &amp; Match to PM Modi Demonetization\n",
            "\n",
            "213)inhazMerchant: Is demonetization a gamechanging eco reform that'll hit terror funding, fake notes &amp; black economy?\n",
            "\n",
            "214)nilkohli54: It's Game Set &amp; Match to PM Modi Demonetization\n",
            "\n",
            "215)nilkohli54: It's Game Set &amp; Match to PM Modi Demonetization\n",
            "\n",
            "216)enterofright: DeMonetization - other than the usual suspects making usual noises - majority of Indians still trust arendramodi on a\n",
            "\n",
            "217)Still 40% of atms are out of order or cashless. We public are facing so much of trouble  demonetization tvnewslive  uvarnanewstv\n",
            "\n",
            "218)enterofright: DeMonetization - the new 500 notes are not yet coming out of majority of the recalibrat  ATMs. Ppl who had small amoun\n",
            "\n",
            "219)nilkohli54: It's Game Set &amp; Match to PM Modi Demonetization\n",
            "\n",
            "220)yvotetoday: So CJIThakur says there will be riots due to DeMonetization Qs\r\n",
            ".\r\n",
            "No SpicesNSecrets \r\n",
            ".\r\n",
            "No riots due to citizens Waiting\n",
            "\n",
            "221)Jan Dhan accs crditd wid 21K Crs aftr demonetization, n mor intrestng fact is dat d hiest amt of mny's bn depost  frm so-cld POOR state WB\n",
            "\n",
            "222)Watch today's debate on opposition stopping proce ings in parliament due to Demonetization only on TV9 Marathi to  \n",
            "\n",
            "223)nilkohli54: It's Game Set &amp; Match to PM Modi Demonetization\n",
            "\n",
            "224)It's Game Set &amp; Match to PM Modi Demonetization\n",
            "\n",
            "225)fficeOfRG rvindKejriwal etc, Indians can see through hypocrisy. Don't b blind in opposing you are embarrassing yourself. Demonetization\n",
            "\n",
            "226)This isn't as awful as the demonetization woes I hear from field partners in villages but I see a pattern here. 4/n\n",
            "\n",
            "227)nandM25: Shiva Sena and SAD fall in line with the government on Demonetization Say, we support the decision. ewIndianXpress\n",
            "\n",
            "228)nilkohli54: Absolutely hilarious corrupt protesting in the name of poor against. Demonetization\n",
            "\n",
            "229)nilkohli54: Absolutely hilarious corrupt protesting in the name of poor against. Demonetization\n",
            "\n",
            "230)PMO DEMONETIZATION SaveThePeople\r\n",
            "The innocent poor common people of India are victims of harassment by the...  \n",
            "\n",
            "231)Absolutely hilarious corrupt protesting in the name of poor against. Demonetization\n",
            "\n",
            "232)Yet another loss of life, a student suicide due to Modi's lunatic demonetization policy  \n",
            "\n",
            "233)enterofright: DeMonetization - other than the usual suspects making usual noises - majority of Indians still trust arendramodi on a\n",
            "\n",
            "234)rGPradhan: No Flag Large Enough\r\n",
            "\r\n",
            "What do u mean anaAyyub ? Seems ur bundles are raddi now or a message?\r\n",
            "\r\n",
            "demonetization  \n",
            "\n",
            "235)ajid_Yousuf_: Police men beats industrialists, Ambani groups, Black Money holders for standing in queue Demonetization. This cop des\n",
            "\n",
            "236)ohnstanly: Wow demonetization popularity keeps rising among the poor  \n",
            "\n",
            "237)ohnstanly: Wow demonetization popularity keeps rising among the poor  \n",
            "\n",
            "238)enterofright: DeMonetization - other than the usual suspects making usual noises - majority of Indians still trust arendramodi on a\n",
            "\n",
            "239)enterofright: DeMonetization - other than the usual suspects making usual noises - majority of Indians still trust arendramodi on a\n",
            "\n",
            "240)80% of people survey  say the inconvenience caus  by DeMonetization is worth the effort &amp; remaining 20% include corrupt politicians!\n",
            "\n",
            "241)hume: .hsummers raises serious questions about India's demonetization.     \n",
            "\n",
            "242)yvotetoday: So CJIThakur says there will be riots due to DeMonetization Qs\r\n",
            ".\r\n",
            "No SpicesNSecrets \r\n",
            ".\r\n",
            "No riots due to citizens Waiting\n",
            "\n",
            "243)enterofright: DeMonetization - other than the usual suspects making usual noises - majority of Indians still trust arendramodi on a\n",
            "\n",
            "244)enterofright: DeMonetization - other than the usual suspects making usual noises - majority of Indians still trust arendramodi on a\n",
            "\n",
            "245)enterofright: DeMonetization - other than the usual suspects making usual noises - majority of Indians still trust arendramodi on a\n",
            "\n",
            "246)ajid_Yousuf_: Police men beats industrialists, Ambani groups, Black Money holders for standing in queue Demonetization. This cop des\n",
            "\n",
            "247)enterofright: DeMonetization - other than the usual suspects making usual noises - majority of Indians still trust arendramodi on a\n",
            "\n",
            "248)ajid_Yousuf_: Police men beats industrialists, Ambani groups, Black Money holders for standing in queue Demonetization. This cop des\n",
            "\n",
            "249)Why is Service Guarantee Act not being implement  which would r uce corruption and help common ppl? Demonetization\n",
            "\n",
            "250)A well written article.\r\n",
            "DeMonetization\r\n",
            "Demonetisation: Are the poor really suffering?  \n",
            "\n",
            "251)enterofright: DeMonetization - other than the usual suspects making usual noises - majority of Indians still trust arendramodi on a\n",
            "\n",
            "252)gautier26: A little notic  consequence of demonetization drive of arendramodi  is that  valley of Kashmir has gone very quiet: no\n",
            "\n",
            "253)enterofright: DeMonetization - other than the usual suspects making usual noises - majority of Indians still trust arendramodi on a\n",
            "\n",
            "254)enterofright: DeMonetization - other than the usual suspects making usual noises - majority of Indians still trust arendramodi on a\n",
            "\n",
            "255)enterofright: DeMonetization - other than the usual suspects making usual noises - majority of Indians still trust arendramodi on a\n",
            "\n",
            "256)ajid_Yousuf_: Police men beats industrialists, Ambani groups, Black Money holders for standing in queue Demonetization. This cop des\n",
            "\n",
            "257)enterofright: DeMonetization - other than the usual suspects making usual noises - majority of Indians still trust arendramodi on a\n",
            "\n",
            "258)enterofright: DeMonetization - other than the usual suspects making usual noises - majority of Indians still trust arendramodi on a\n",
            "\n",
            "259)enterofright: DeMonetization - other than the usual suspects making usual noises - majority of Indians still trust arendramodi on a\n",
            "\n",
            "260)What will India's central bank do with 23 billion worthless banknotes?   demonetization\n",
            "\n",
            "261)enterofright: DeMonetization - other than the usual suspects making usual noises - majority of Indians still trust arendramodi on a\n",
            "\n",
            "262)Indirect benefit of demonetization?\r\n",
            "Air in New Delhi turn  cleaner? If one goes by time spent on TV News on the topic, it ought to be, Sad\n",
            "\n",
            "263)sindia: Where gory warnings fail, cash crunch prevails: Cigarette sales down 40% after Demonetization   hamee\n",
            "\n",
            "264)Due action must be taken against the politicians, journalists and judges who portray  Demonetization as Crisis just as false terror alerts\n",
            "\n",
            "265)MOIndia \r\n",
            "Demonetization \r\n",
            "Parallel economy @ black money\r\n",
            "Current rate of conversion 70%-30%, 65%-35%, 64%-40%.re generating black money.\n",
            "\n",
            "266)apsology: More than 5,00,000 Indians to lose job in next 6 months due to badly plann  demonetization by Modi govt.\n",
            "\n",
            "267)nandM25: Shiva Sena and SAD fall in line with the government on Demonetization Say, we support the decision. ewIndianXpress\n",
            "\n",
            "268)apsology: More than 5,00,000 Indians to lose job in next 6 months due to badly plann  demonetization by Modi govt.\n",
            "\n",
            "269)Opposition is crying for in both the houses for the people. Survey results are almost 85% people take things differ  \n",
            "\n",
            "270)These corrupt leaders were never unit  against all Corruption but now they are unit  against Demonetization -...  \n",
            "\n",
            "271)apsology: More than 5,00,000 Indians to lose job in next 6 months due to badly plann  demonetization by Modi govt.\n",
            "\n",
            "272)nSubtleDesi: Kejriwal posts pic of dead robber and claims it's demonetization relat  death? How shameless has this man become? https\n",
            "\n",
            "273)apsology: More than 5,00,000 Indians to lose job in next 6 months due to badly plann  demonetization by Modi govt.\n",
            "\n",
            "274)apsology: More than 5,00,000 Indians to lose job in next 6 months due to badly plann  demonetization by Modi govt.\n",
            "\n",
            "275)sindia: Where gory warnings fail, cash crunch prevails: Cigarette sales down 40% after Demonetization   hamee\n",
            "\n",
            "276)inhazMerchant: Difficult to verify but if true points to orchestrat  campaign to discr it demonetization with paid fear-mongers htt\n",
            "\n",
            "277)apsology: More than 5,00,000 Indians to lose job in next 6 months due to badly plann  demonetization by Modi govt.\n",
            "\n",
            "278)apsology: More than 5,00,000 Indians to lose job in next 6 months due to badly plann  demonetization by Modi govt.\n",
            "\n",
            "279)apsology: More than 5,00,000 Indians to lose job in next 6 months due to badly plann  demonetization by Modi govt.\n",
            "\n",
            "280)itubhaiyajgd: Have a look at what foreign m ia has to say on demonetization move of PM arendramodi  \n",
            "\n",
            "281)@<U+20B9>48k per JanDhanAccount, the capacity to transform black money in to clean money is <U+20B9>12 Lacs Crs. This demonetization is poor in logic.\n",
            "\n",
            "282)Political parties are the worst hit by demonetization &amp; now organising protest day. Public appears to be calm &amp; queuing silently at banks.\n",
            "\n",
            "283)sindia: Unable to withdraw money for exam fees, teen hangs himself Demonetization\r\n",
            "   \n",
            "\n",
            "284)inhazMerchant: Difficult to verify but if true points to orchestrat  campaign to discr it demonetization with paid fear-mongers htt\n",
            "\n",
            "285)The short-term impact of demonetization on stock broking &amp; insurance is Negative but positive in the long term.  \n",
            "\n",
            "286)When the common people are supporting Demonetization there is absolutely no reason for protest by opposition parties\n",
            "\n",
            "287)Whos Millions <U+20B9> turns raddi or scrap in few mins r observing AakroshDin <U+0906><U+0915><U+094D><U+0930><U+094B><U+0936><U+0926><U+093F><U+0928> \r\n",
            "Demonetization BlackMoney NoteBandi NoteBan\n",
            "\n",
            "288)Delhi High_Court has refus  to intervene in Demonetization debate at a stage when Supreme Court is hearing petitions on the subject.\n",
            "\n",
            "289)eter_vas: Per C-Voter on Demonetization, approximately:\r\n",
            "\r\n",
            "80% not inconvenienc \r\n",
            "25% good idea, poor implementation\r\n",
            "5% bad idea, poor\n",
            "\n",
            "290)Is hidden clarification on Demonetization RBI NABARD Cooperative Bank funding announcement: \r\n",
            "Banks won't accept old notes from farmers ?\n",
            "\n",
            "291)Another wastage of money &amp; time\r\n",
            " just an excuse ...first dont execute later think of survey..timepass govn BJP  \n",
            "\n",
            "292)heDarjChron: Demonetization NorthEast Reaction: Small businessman \"it is our duty to support this initiative.. by standing in line w\n",
            "\n",
            "293)heDarjChron: Demonetization NorthEast Reaction: Kurseong a student says, \"this is a historical step taken by MO_India, black mone\n",
            "\n",
            "294)heDarjChron: Demonetization NorthEast Reaction: Darjeeling small businessman has a message to opposition parties- Help the Govt ins\n",
            "\n",
            "295)sindia: Where gory warnings fail, cash crunch prevails: Cigarette sales down 40% after Demonetization   hamee\n",
            "\n",
            "296)Country is today moving cashless and saying no to black money, can't understand why opposition is against  \n",
            "\n",
            "297)ioandleader: Desperate times call for desperate measures? demonetization frugalinnovation jugaad  \n",
            "\n",
            "298)sindia: Where gory warnings fail, cash crunch prevails: Cigarette sales down 40% after Demonetization   hamee\n",
            "\n",
            "299)Govt  must assess impact of Demonetization on Agriculture to  arrest Production and Earnings loss -  \n",
            "\n",
            "300)Someone did a press conference for 34 minutes on demonetization. How much black money lost for this guy??? One Lakh Crore???\n",
            "\n",
            "301)oamingraghu: Busting some myths around demonetization . From   &amp;   (Please widely to c\n",
            "\n",
            "302)ewspatrolling: pm narendramodi people in trouble demonetization< ><U+ ><U+ >< ><U+00B2><U+ > bann  500 &amp; 500...  \n",
            "\n",
            "303)Where gory warnings fail, cash crunch prevails: Cigarette sales down 40% after Demonetization   hameenalauddin\n",
            "\n",
            "304)olnrkurup ajinderBagga \r\n",
            "People who believe in bearing small pains for building a nation will never complain of  \n",
            "\n",
            "305)sindia: Unable to withdraw money for exam fees, teen hangs himself Demonetization\r\n",
            "   \n",
            "\n",
            "306)rKumarVishwas artiTikoo u can't compare this to the fake notes racket that has been disabl  by demonetization\n",
            "\n",
            "307)Amitabh Bachchan doesn't like long queues. amitabhbachchan queue bank demonetization  \n",
            "\n",
            "308)Today farmers, housewives, poor are in distress after Govt's demonetization move: Shivpal Singh Yadav (SP)  \n",
            "\n",
            "309)s81539475 antaKaReporter my dad is a chief mgr in a regional rural bank so i know wat is being done to ease the trouble demonetization\n",
            "\n",
            "310)Demonetization is like the cash tsunami. In 15min Modi broke a delicate bond of an informal cash economy intertwin  with formal economy\n",
            "\n",
            "311)nandM25: Shiva Sena and SAD fall in line with the government on Demonetization Say, we support the decision. ewIndianXpress\n",
            "\n",
            "312)sindia: Unable to withdraw money for exam fees, teen hangs himself Demonetization\r\n",
            "   \n",
            "\n",
            "313)lunt_Tinku14: ineshR1511 they're under the wrong impression that Govt will roll back demonetization, by doing all these dramas.\n",
            "\n",
            "314)lunt_Tinku14: ineshR1511 they're under the wrong impression that Govt will roll back demonetization, by doing all these dramas.\n",
            "\n",
            "315)sindia: Unable to withdraw money for exam fees, teen hangs himself Demonetization\r\n",
            "   \n",
            "\n",
            "316)anjayRautUvach ji if you know black money holders Deposit  there money 15 days before demonetization than let us know the names of those\n",
            "\n",
            "317)sindia: Unable to withdraw money for exam fees, teen hangs himself Demonetization\r\n",
            "   \n",
            "\n",
            "318)nandM25: Shiva Sena and SAD fall in line with the government on Demonetization Say, we support the decision. ewIndianXpress\n",
            "\n",
            "319)itaramlamba: Cooperative banks shut down, sowing season completely disrupt , agri markets &amp; Farmers badly affect  demonetization\n",
            "\n",
            "320)eter_vas: Per C-Voter on Demonetization, approximately:\r\n",
            "\r\n",
            "80% not inconvenienc \r\n",
            "25% good idea, poor implementation\r\n",
            "5% bad idea, poor\n",
            "\n",
            "321)inhazMerchant: Difficult to verify but if true points to orchestrat  campaign to discr it demonetization with paid fear-mongers htt\n",
            "\n",
            "322)teendriyo: Everyone that disagrees with you is not your enemy. Before calling everyone unhappy with Demonetization corrupt and dalaal\n",
            "\n",
            "323)Demonetisation: Not worthwhile, said Finance Minister who impos  1978 note ban \r\n",
            "\r\n",
            "DeMonetisation demonetization \r\n",
            " \n",
            "\n",
            "324)Desperate times call for desperate measures? demonetization frugalinnovation jugaad  \n",
            "\n",
            "325)shish0108sheth: BI rjitPatelRBI we appreciate demonetization but what about our hard earn  legitimate money that NSEL scamsters\n",
            "\n",
            "326)eter_vas: Per C-Voter on Demonetization, approximately:\r\n",
            "\r\n",
            "80% not inconvenienc \r\n",
            "25% good idea, poor implementation\r\n",
            "5% bad idea, poor\n",
            "\n",
            "327)shish0108sheth: BI rjitPatelRBI we appreciate demonetization but what about our hard earn  legitimate money that NSEL scamsters\n",
            "\n",
            "328)rasannavishy: Dear Pratap Bhanu Mehta, You Disappoint  Us! Why PBM's critique on demonetization adds little to the discourse https:/\n",
            "\n",
            "329)teendriyo: Everyone that disagrees with you is not your enemy. Before calling everyone unhappy with Demonetization corrupt and dalaal\n",
            "\n",
            "330)demonetization is exclusively anti-dalit government policy\r\n",
            "Dalits ne  der own country rather relying on stupid uppercaste netas of india\n",
            "\n",
            "331)shish0108sheth: inMinIndia runjaitley  we appreciate demonetization but what about our hard earn  legitimate money that NSEL sc\n",
            "\n",
            "332)shish0108sheth: arendramodi MOIndia we appreciate demonetization but what about our hard earn  legitimate money that NSEL scams\n",
            "\n",
            "333)teendriyo: Everyone that disagrees with you is not your enemy. Before calling everyone unhappy with Demonetization corrupt and dalaal\n",
            "\n",
            "334)inhazMerchant: Anna Hazare tells NNnews18 demonetization is \"a historic decision by govt, those with black money against move.\" And\n",
            "\n",
            "335)avanaja: A request -instead of tweeting &amp; posting negative abt demonetization, pl post/tweet abt working ATMs, Banks in ur locality\n",
            "\n",
            "336)enterofright: DeMonetization - other than the usual suspects making usual noises - majority of Indians still trust arendramodi on a\n",
            "\n",
            "337)nandM25: Shiva Sena and SAD fall in line with the government on Demonetization Say, we support the decision. ewIndianXpress\n",
            "\n",
            "338)enterofright: DeMonetization - the new 500 notes are not yet coming out of majority of the recalibrat  ATMs. Ppl who had small amoun\n",
            "\n",
            "339)sindia: Unable to withdraw money for exam fees, teen hangs himself Demonetization\r\n",
            "   \n",
            "\n",
            "340)ivie: Hard to believe some justify deaths due to poor demonetization implementation as something a nation of 1.2b can overlook for gr\n",
            "\n",
            "341)teendriyo: Everyone that disagrees with you is not your enemy. Before calling everyone unhappy with Demonetization corrupt and dalaal\n",
            "\n",
            "342)The traders should stop trading in cash to block black money in the system. For every 100 rs purchase bill to be issu . demonetization\n",
            "\n",
            "343)nilkohli54: corrupt cowards ran away from Parliament, they will not debate demonetization, they have nothing to say other than person\n",
            "\n",
            "344)Everyone that disagrees with you is not your enemy. Before calling everyone unhappy with Demonetization corrupt and dalaal, think!\n",
            "\n",
            "345)enterofright: DeMonetization - other than the usual suspects making usual noises - majority of Indians still trust arendramodi on a\n",
            "\n",
            "346)sindia: Unable to withdraw money for exam fees, teen hangs himself Demonetization\r\n",
            "   \n",
            "\n",
            "347)irishkuber criticises govt everyday on Demonetization even though world knows long term benefits &amp; we ne  to believe he is economist\n",
            "\n",
            "348)nandM25: Shiva Sena and SAD fall in line with the government on Demonetization Say, we support the decision. ewIndianXpress\n",
            "\n",
            "349)apakhi: With the failure of Demonetization indians getting loss of trust in present government\r\n",
            "rvindKejriwal \r\n",
            "nkitLal \r\n",
            " \n",
            "\n",
            "350)sindia: Unable to withdraw money for exam fees, teen hangs himself Demonetization\r\n",
            "   \n",
            "\n",
            "351)DeMonetization :\r\n",
            "1946 - SardarPatel\r\n",
            "1978 - MorarjiDesai\r\n",
            "2016 - NarendraModi\r\n",
            "Common factor?!\r\n",
            "- Congress not in power\r\n",
            "- All 3 Gujjus\r\n",
            "think\n",
            "\n",
            "352)nandM25: Shiva Sena and SAD fall in line with the government on Demonetization Say, we support the decision. ewIndianXpress\n",
            "\n",
            "353)With the failure of Demonetization indians getting loss of trust in present government\r\n",
            "rvindKejriwal \r\n",
            "nkitLal \r\n",
            " \n",
            "\n",
            "354)nandM25: Shiva Sena and SAD fall in line with the government on Demonetization Say, we support the decision. ewIndianXpress\n",
            "\n",
            "355)enterofright: DeMonetization - other than the usual suspects making usual noises - majority of Indians still trust arendramodi on a\n",
            "\n",
            "356)Kolkatta being major center for recycling of blackmoney, we (arendramodi ) know why amataOfficial is opposing Demonetization.\n",
            "\n",
            "357)sindia: Unable to withdraw money for exam fees, teen hangs himself Demonetization\r\n",
            "   \n",
            "\n",
            "358)ivie: Hard to believe some justify deaths due to poor demonetization implementation as something a nation of 1.2b can overlook for gr\n",
            "\n",
            "359)enterofright: DeMonetization - other than the usual suspects making usual noises - majority of Indians still trust arendramodi on a\n",
            "\n",
            "360)enterofright: DeMonetization - the new 500 notes are not yet coming out of majority of the recalibrat  ATMs. Ppl who had small amoun\n",
            "\n",
            "361)sindia: Unable to withdraw money for exam fees, teen hangs himself Demonetization\r\n",
            "   \n",
            "\n",
            "362)inhazMerchant: Difficult to verify but if true points to orchestrat  campaign to discr it demonetization with paid fear-mongers htt\n",
            "\n",
            "363)sindia: Unable to withdraw money for exam fees, teen hangs himself Demonetization\r\n",
            "   \n",
            "\n",
            "364)shokChoudhaary fficeOfRG igvijaya_28 effect of Demonetization\r\n",
            "\r\n",
            "A black money holder waiting for his turn  \n",
            "\n",
            "365)sindia: Unable to withdraw money for exam fees, teen hangs himself Demonetization\r\n",
            "   \n",
            "\n",
            "366)sindia: Unable to withdraw money for exam fees, teen hangs himself Demonetization\r\n",
            "   \n",
            "\n",
            "367)Unable to withdraw money for exam fees, teen hangs himself Demonetization\r\n",
            "   \n",
            "\n",
            "368)enterofright: DeMonetization - other than the usual suspects making usual noises - majority of Indians still trust arendramodi on a\n",
            "\n",
            "369)When Airtel d ucts ur Rs.30 u go mad at them!\r\n",
            "\r\n",
            "Kejri &amp; Mamta has lost thousands of crores and u want then to keep calm? < ><U+ ><U+ >< ><U+ ><U+008B>< ><U+ ><U+ >< ><U+ ><U+0082>< ><U+ ><U+ >< ><U+ ><U+008B>\r\n",
            "Demonetization\n",
            "\n",
            "370)ineshR1511 they're under the wrong impression that Govt will roll back demonetization, by doing all these dramas.\n",
            "\n",
            "371)inimathur anaAyyub  TIGHT SLAP on these dynasty nourishers. C-Voter pulse poll on demonetization   \n",
            "\n",
            "372)enterofright: DeMonetization - other than the usual suspects making usual noises - majority of Indians still trust arendramodi on a\n",
            "\n",
            "373)enterofright: DeMonetization - the new 500 notes are not yet coming out of majority of the recalibrat  ATMs. Ppl who had small amoun\n",
            "\n",
            "374)ajid_Yousuf_: Police men beats industrialists, Ambani groups, Black Money holders for standing in queue Demonetization. This cop des\n",
            "\n",
            "375)wamy39 Why is New18 saying there are 70 deaths due to demonetization? Who investigat ?  \n",
            "\n",
            "376)nandM25: Shiva Sena and SAD fall in line with the government on Demonetization Say, we support the decision. ewIndianXpress\n",
            "\n",
            "377)enterofright: DeMonetization - other than the usual suspects making usual noises - majority of Indians still trust arendramodi on a\n",
            "\n",
            "378)enterofright: DeMonetization - other than the usual suspects making usual noises - majority of Indians still trust arendramodi on a\n",
            "\n",
            "379)enterofright: DeMonetization - other than the usual suspects making usual noises - majority of Indians still trust arendramodi on a\n",
            "\n",
            "380)nandM25: Shiva Sena and SAD fall in line with the government on Demonetization Say, we support the decision. ewIndianXpress\n",
            "\n",
            "381)Due to Demonetization people are facing problems in bank queues. They are frustrat . Anger congress out. Watch th  \n",
            "\n",
            "382)hananter_singh: Only the dishonest and the corrupt leader.rvindKejriwal ejri420 Demonetization  \n",
            "\n",
            "383)anaAyyub  sm twitter empty vessels dare not to tweet. C-Voter pulse poll on demonetization  \n",
            "\n",
            "384)enterofright: DeMonetization - the new 500 notes are not yet coming out of majority of the recalibrat  ATMs. Ppl who had small amoun\n",
            "\n",
            "385)enterofright: DeMonetization - other than the usual suspects making usual noises - majority of Indians still trust arendramodi on a\n",
            "\n",
            "386)enterofright: DeMonetization - other than the usual suspects making usual noises - majority of Indians still trust arendramodi on a\n",
            "\n",
            "387)enterofright: DeMonetization - other than the usual suspects making usual noises - majority of Indians still trust arendramodi on a\n",
            "\n",
            "388)enterofright: DeMonetization - other than the usual suspects making usual noises - majority of Indians still trust arendramodi on a\n",
            "\n",
            "389)enterofright: DeMonetization - other than the usual suspects making usual noises - majority of Indians still trust arendramodi on a\n",
            "\n",
            "390)DeMonetization - other than the usual suspects making usual noises - majority of Indians still trust arendramodi on action taken\n",
            "\n",
            "391)enterofright: DeMonetization - the new 500 notes are not yet coming out of majority of the recalibrat  ATMs. Ppl who had small amoun\n",
            "\n",
            "392)enterofright: DeMonetization - the new 500 notes are not yet coming out of majority of the recalibrat  ATMs. Ppl who had small amoun\n",
            "\n",
            "393)We Indians ve always found an excuse to curse the system to hide our weak Morale strengths.Demonetization of Moral  \n",
            "\n",
            "394)enterofright: DeMonetization - the new 500 notes are not yet coming out of majority of the recalibrat  ATMs. Ppl who had small amoun\n",
            "\n",
            "395)eter_vas: Per C-Voter on Demonetization, approximately:\r\n",
            "\r\n",
            "80% not inconvenienc \r\n",
            "25% good idea, poor implementation\r\n",
            "5% bad idea, poor\n",
            "\n",
            "396)eter_vas: Per C-Voter on Demonetization, approximately:\r\n",
            "\r\n",
            "80% not inconvenienc \r\n",
            "25% good idea, poor implementation\r\n",
            "5% bad idea, poor\n",
            "\n",
            "397)eter_vas: Per C-Voter on Demonetization, approximately:\r\n",
            "\r\n",
            "80% not inconvenienc \r\n",
            "25% good idea, poor implementation\r\n",
            "5% bad idea, poor\n",
            "\n",
            "398)enterofright: DeMonetization - the new 500 notes are not yet coming out of majority of the recalibrat  ATMs. Ppl who had small amoun\n",
            "\n",
            "399)Per C-Voter on Demonetization, approximately:\r\n",
            "\r\n",
            "80% not inconvenienc \r\n",
            "25% good idea, poor implementation\r\n",
            "5% bad idea, poor implementation\n",
            "\n",
            "400)arbarindian: demonetization bulletin \r\n",
            "Severe liquidity crisis continues. Dire shortage of 500. Reconfigur  ATMs useless bcoz - 2000\n",
            "\n",
            "401)bhic_1983: When everybody was busy with Demonetization and Bypolls,it is highly unlikely that the news regarding Reangs caught anybo\n",
            "\n",
            "402)nilkohli54: corrupt cowards ran away from Parliament, they will not debate demonetization, they have nothing to say other than person\n",
            "\n",
            "403)nandM25: Shiva Sena and SAD fall in line with the government on Demonetization Say, we support the decision. ewIndianXpress\n",
            "\n",
            "404)DeMonetization - malls and markets are getting back to life with purchases and folks are getting their change to 2K notes when being spent\n",
            "\n",
            "405)Demonetization has hit hard even on opposition protests as it's hard to buy crowd for paid protests < ><U+ ><U+ >< ><U+ ><U+0082>Demonetization\n",
            "\n",
            "406)enu_18: Bad thing is\r\n",
            "The position of Worthless Unpaid Hubbies surviving on wife's money remains same aftr demonetization &amp; r free to\n",
            "\n",
            "407)enterofright: DeMonetization - the new 500 notes are not yet coming out of majority of the recalibrat  ATMs. Ppl who had small amoun\n",
            "\n",
            "408)nandM25: Shiva Sena and SAD fall in line with the government on Demonetization Say, we support the decision. ewIndianXpress\n",
            "\n",
            "409)udarsansand: My humble appeal to all to pl have patience and draw what they ne  from ATMs during this Demonetization phase. My SandA\n",
            "\n",
            "410)enterofright: DeMonetization - the new 500 notes are not yet coming out of majority of the recalibrat  ATMs. Ppl who had small amoun\n",
            "\n",
            "411)PM Mukt Parliament? Not a good idea.  The council of ministers including PM is accountable to people  via Parliament.  demonetization\n",
            "\n",
            "412)DeMonetization - the new 500 notes are not yet coming out of majority of the recalibrat  ATMs. Ppl who had small amounts of cash deposit \n",
            "\n",
            "413)nandM25: Shiva Sena and SAD fall in line with the government on Demonetization Say, we support the decision. ewIndianXpress\n",
            "\n",
            "414)nandM25: Shiva Sena and SAD fall in line with the government on Demonetization Say, we support the decision. ewIndianXpress\n",
            "\n",
            "415)Demonetization a pre-plann  step for the benefit of Adani's &amp; Ambani's while hard earners be in Bank &amp; ATMs queue.. AcheDinJaateHiNahi\n",
            "\n",
            "416)hockBlain: Indias Demonetization: Cash is Not Holy Cow, in Bitcoin Blockchain We Trust   technology Fintec\n",
            "\n",
            "417)Shiva Sena and SAD fall in line with the government on Demonetization Say, we support the decision. ewIndianXpress\n",
            "\n",
            "418)animozhi: Why rvindKejriwal &amp; amataOfficial trying to instigate Indians 4 a Civil war in India against demonetization Arrest them\n",
            "\n",
            "419)Sad for democracy PM refuses to attend parliament/ans qstns/make statement on demonetization has time for  \n",
            "\n",
            "420)When everybody was busy with Demonetization and Bypolls,it is highly unlikely that the news regarding Reangs caught anybody's attention\n",
            "\n",
            "421)nilkohli54: corrupt cowards ran away from Parliament, they will not debate demonetization, they have nothing to say other than person\n",
            "\n",
            "422)itaramlamba: Cooperative banks shut down, sowing season completely disrupt , agri markets &amp; Farmers badly affect  demonetization\n",
            "\n",
            "423)corrupt cowards ran away from Parliament, they will not debate demonetization, they have nothing to say other than personal loss.\n",
            "\n",
            "424)Demonetization. Lutyens M ia play  negative role in PM Modi 's crusade to unearth black money. Evident which side they'd like to butter .\n",
            "\n",
            "425)nilkohli54: corrupt cowards ran away from Parliament, they will not debate demonetization, they have nothing to say other than person\n",
            "\n",
            "426)nilkohli54: corrupt cowards ran away from Parliament, they will not debate demonetization, they have nothing to say other than person\n",
            "\n",
            "427)common man was in trouble before modi ji also so what modi ji has done for common men is not some thing new  demonetization\n",
            "\n",
            "428)nilkohli54: corrupt cowards ran away from Parliament, they will not debate demonetization, they have nothing to say other than person\n",
            "\n",
            "429)nilkohli54: Indians will condole the death political parties due to demonetization we dont ne  to be in Pa we will do it openly in f\n",
            "\n",
            "430)nilkohli54: corrupt cowards ran away from Parliament, they will not debate demonetization, they have nothing to say other than person\n",
            "\n",
            "431)nilkohli54: corrupt cowards ran away from Parliament, they will not debate demonetization, they have nothing to say other than person\n",
            "\n",
            "432)nilkohli54: corrupt cowards ran away from Parliament, they will not debate demonetization, they have nothing to say other than person\n",
            "\n",
            "433)Receiv  my first 2000 rs note but unable to use it? No one has enough change. demonetization\n",
            "\n",
            "434)corrupt cowards ran away from Parliament, they will not debate demonetization, they have nothing to say other than personal loss.\n",
            "\n",
            "435)Modi Ji is the only politician who think about common mans life and work hard to change in his standard  of living  demonetization\n",
            "\n",
            "436)All political parties play  the game of cast    demonetization have they done any thing about corruption\n",
            "\n",
            "437)What could go wrong for Fintech post demonetization windfall?    anvai lackstoneVG  \n",
            "\n",
            "438)arendramodi  sir i cant download the app to put my view that t i support u on demonetization  .....any other way?\n",
            "\n",
            "439)Demonetization: Unable to withdraw money for exam fees, UP teen hangs self  \n",
            "\n",
            "440)Rajvansh while I understand ur dislike for kejriwal, but what is ur logic behind supporting Demonetization. I seriously want to know.\n",
            "\n",
            "441)enu_18: Bad thing is\r\n",
            "The position of Worthless Unpaid Hubbies surviving on wife's money remains same aftr demonetization &amp; r free to\n",
            "\n",
            "442)hockBlain: Indias Demonetization: Cash is Not Holy Cow, in Bitcoin Blockchain We Trust   technology Fintec\n",
            "\n",
            "443)airajp: 2 Weeks into Tragic DeMonetization, just 8% of Withdrawn currency has been replac . So much for Planning &amp; Execution by Fai\n",
            "\n",
            "444)hockBlain: Indias Demonetization: Cash is Not Holy Cow, in Bitcoin Blockchain We Trust   technology Fintec\n",
            "\n",
            "445)Uproar in parliament is due to opposition parties ?\r\n",
            "\r\n",
            "demonetization DeMonetisationSavesLife Demonetizationeffect\n",
            "\n",
            "446)nilkohli54: Indians will condole the death political parties due to demonetization we dont ne  to be in Pa we will do it openly in f\n",
            "\n",
            "447)hockBlain: Indias Demonetization: Cash is Not Holy Cow, in Bitcoin Blockchain We Trust   technology Fintec\n",
            "\n",
            "448)animozhi: India will get windfall profit of whooping 4 Lakh crores in 30 days due to demonetization Why people like AK Pappu &amp; Mamata\n",
            "\n",
            "449)ay_ambadi: That awkward moment when even Swarajya find it necessary to point out Modi's mistakes on Demonetization \r\n",
            " \n",
            "\n",
            "450)Seriously! where are we going with this demonetization!! Bad planning, no homework and even worse implementation!  \n",
            "\n",
            "451)Indias Demonetization: Cash is Not Holy Cow, in Bitcoin Blockchain We Trust   technology Fintech Cryptocurrency\n",
            "\n",
            "452)The ugly face of India's demonetization: Dozens of deaths   via ashable\n",
            "\n",
            "453)enu_18: Bad thing is\r\n",
            "The position of Worthless Unpaid Hubbies surviving on wife's money remains same aftr demonetization &amp; r free to\n",
            "\n",
            "454)oneranger9 arendramodi PM Modi at helm of this demonetization scheme, should take responsibility.< ><U+ ><U+00BC>< ><U+00BE><U+00AF>< ><U+ ><U+00BC>< ><U+00BE><U+00AF>\r\n",
            "Why no tweet about 80 dead <U+2753>\n",
            "\n",
            "455)animozhi: India will get windfall profit of whooping 4 Lakh crores in 30 days due to demonetization Why people like AK Pappu &amp; Mamata\n",
            "\n",
            "456)I thought CBI publish  that people in delhi die only because of standing in queue for demonetization, cant be cold  \n",
            "\n",
            "457)enu_18: Bad thing is\r\n",
            "The position of Worthless Unpaid Hubbies surviving on wife's money remains same aftr demonetization &amp; r free to\n",
            "\n",
            "458)enu_18: Bad thing is\r\n",
            "The position of Worthless Unpaid Hubbies surviving on wife's money remains same aftr demonetization &amp; r free to\n",
            "\n",
            "459)enu_18: Bad thing is\r\n",
            "The position of Worthless Unpaid Hubbies surviving on wife's money remains same aftr demonetization &amp; r free to\n",
            "\n",
            "460)enu_18: Bad thing is\r\n",
            "The position of Worthless Unpaid Hubbies surviving on wife's money remains same aftr demonetization &amp; r free to\n",
            "\n",
            "461)enu_18: Bad thing is\r\n",
            "The position of Worthless Unpaid Hubbies surviving on wife's money remains same aftr demonetization &amp; r free to\n",
            "\n",
            "462)enu_18: Bad thing is\r\n",
            "The position of Worthless Unpaid Hubbies surviving on wife's money remains same aftr demonetization &amp; r free to\n",
            "\n",
            "463)enu_18: Bad thing is\r\n",
            "The position of Worthless Unpaid Hubbies surviving on wife's money remains same aftr demonetization &amp; r free to\n",
            "\n",
            "464)enu_18: Bad thing is\r\n",
            "The position of Worthless Unpaid Hubbies surviving on wife's money remains same aftr demonetization &amp; r free to\n",
            "\n",
            "465)animozhi: India will get windfall profit of whooping 4 Lakh crores in 30 days due to demonetization Why people like AK Pappu &amp; Mamata\n",
            "\n",
            "466)rvindKejriwal Today he is in parliament but still u morons dont want parliament to function. demonetization\n",
            "\n",
            "467)nilkohli54: going by the reaction which party seems to have suffer  max loss due to demonetization\n",
            "\n",
            "468)animozhi: India will get windfall profit of whooping 4 Lakh crores in 30 days due to demonetization Why people like AK Pappu &amp; Mamata\n",
            "\n",
            "469)animozhi: India will get windfall profit of whooping 4 Lakh crores in 30 days due to demonetization Why people like AK Pappu &amp; Mamata\n",
            "\n",
            "470)animozhi: India will get windfall profit of whooping 4 Lakh crores in 30 days due to demonetization Why people like AK Pappu &amp; Mamata\n",
            "\n",
            "471)animozhi: India will get windfall profit of whooping 4 Lakh crores in 30 days due to demonetization Why people like AK Pappu &amp; Mamata\n",
            "\n",
            "472)animozhi: India will get windfall profit of whooping 4 Lakh crores in 30 days due to demonetization Why people like AK Pappu &amp; Mamata\n",
            "\n",
            "473)animozhi: India will get windfall profit of whooping 4 Lakh crores in 30 days due to demonetization Why people like AK Pappu &amp; Mamata\n",
            "\n",
            "474)Hey arendramodi - is there saffronmoney and BlackMoney? Double standards, as usual - runjaitley  \n",
            "\n",
            "475)animozhi: India will get windfall profit of whooping 4 Lakh crores in 30 days due to demonetization Why people like AK Pappu &amp; Mamata\n",
            "\n",
            "476)ajid_Yousuf_: Police men beats industrialists, Ambani groups, Black Money holders for standing in queue Demonetization. This cop des\n",
            "\n",
            "477)animozhi: India will get windfall profit of whooping 4 Lakh crores in 30 days due to demonetization Why people like AK Pappu &amp; Mamata\n",
            "\n",
            "478)animozhi: India will get windfall profit of whooping 4 Lakh crores in 30 days due to demonetization Why people like AK Pappu &amp; Mamata\n",
            "\n",
            "479)The demonetisation might have seem  positive but the cash crunch and long queues are really frustrating! arendramodi Demonetization\n",
            "\n",
            "480)ajid_Yousuf_: Police men beats industrialists, Ambani groups, Black Money holders for standing in queue Demonetization. This cop des\n",
            "\n",
            "481)NNnews18 fficeOfRG please ask mr.vadera to give his worthless views on the Demonetization. It would be fun to listen to him too.\n",
            "\n",
            "482)ohitthatte: Please stop with the \"X di  due to demonetization\" posts. Correlation does not imply causation. demonetization\n",
            "\n",
            "483)ajid_Yousuf_: Police men beats industrialists, Ambani groups, Black Money holders for standing in queue Demonetization. This cop des\n",
            "\n",
            "484)ohitthatte: Please stop with the \"X di  due to demonetization\" posts. Correlation does not imply causation. demonetization\n",
            "\n",
            "485)ajid_Yousuf_: Police men beats industrialists, Ambani groups, Black Money holders for standing in queue Demonetization. This cop des\n",
            "\n",
            "486)amShivaNaidu: Demonetization: Paan shop owner gets 'fake' Rs 2,000 note in Ahm abad -    \n",
            "\n",
            "487)arendramodi when a GLOBAL visa application comoany FSGlobal - does not accept cards we know we are not ready for demonetization\n",
            "\n",
            "488)It Is the extensive use of black money in elections that abets and facilitates creation of black money in the country demonetization\n",
            "\n",
            "489)Police men beats industrialists, Ambani groups, Black Money holders for standing in queue Demonetization. This co  \n",
            "\n",
            "490)Demonetization: Paan shop owner gets 'fake' Rs 2,000 note in Ahm abad -    \n",
            "\n",
            "491)nnnews18 Hey SitaramYechury Fuck off man.Sulk in pain.We the people support Demonetization BlackMoneyFlushOut\n",
            "\n",
            "492)Generation of black money will not stop unless we change our methods of working in the government and business demonetization\n",
            "\n",
            "493)Modi ji gave shock to common people by Demonetization but 3 years for Swissbank account holders. TransformingIndia rvindKejriwal\n",
            "\n",
            "494)nilkohli54: Indians will condole the death political parties due to demonetization we dont ne  to be in Pa we will do it openly in f\n",
            "\n",
            "495)ragya_bhushan: Demonetization of high value currency is just beginning of governments deep and continuous struggle against black mon\n",
            "\n",
            "496)Modi ji gave shock to common people by Demonetization but 3 years for Swissbank account holders. TransformingIndia\n",
            "\n",
            "497)nilkohli54: going by the reaction which party seems to have suffer  max loss due to demonetization\n",
            "\n",
            "498)animozhi: Everyone seems to hate the rich, even the rich hates richer and the richer hates the richest. Demonetization.\n",
            "\n",
            "499)animozhi: Everyone seems to hate the rich, even the rich hates richer and the richer hates the richest. Demonetization.\n",
            "\n",
            "500)nilkohli54: Indians will condole the death political parties due to demonetization we dont ne  to be in Pa we will do it openly in f\n",
            "\n",
            "501)Demonetization has sav  the lives of the people, who would have definitely di , due to the terrorists activities  \n",
            "\n",
            "502)No opposition leader talking (forget condemning) about beheading of our soldier. Too Worri  about lost black money, demonetization\n",
            "\n",
            "503)cquest: Demonetization: A Nightmare for the Common Populace    \n",
            "\n",
            "504)arendramodi demonetization Human chain at Parliament only confirms black money in politics! ModiFightsCorruption\n",
            "\n",
            "505)ragya_bhushan: Demonetization of high value currency is just beginning of governments deep and continuous struggle against black mon\n",
            "\n",
            "506). NCIndia VP RahulGandhi says, Opposition is firm on its demand for a JPC probe into Demonetization issue\n",
            "\n",
            "507)udarsansand: My humble appeal to all to pl have patience and draw what they ne  from ATMs during this Demonetization phase. My SandA\n",
            "\n",
            "508)ragya_bhushan: Demonetization of high value currency is just beginning of governments deep and continuous struggle against black mon\n",
            "\n",
            "509)Wow demonetization popularity keeps rising among the poor  \n",
            "\n",
            "510)nilkohli54: going by the reaction which party seems to have suffer  max loss due to demonetization\n",
            "\n",
            "511)shit.. most of the cash in circulation is useless. Shops will refuse Rs.2000 as they will be strand   \n",
            "\n",
            "512)nilkohli54: while the corrupt protest personal loss of black money due demonetization Public celebrates their loss.\n",
            "\n",
            "513)These are the blackmoney hoarders that JP4India is after to give loans to a few Gujarati billionaires!  \n",
            "\n",
            "514)udarsansand: My humble appeal to all to pl have patience and draw what they ne  from ATMs during this Demonetization phase. My SandA\n",
            "\n",
            "515)Centre hints in SC that 'lending rates would come down as banks are flush  with money due to demonetization '\n",
            "\n",
            "516)udarsansand: My humble appeal to all to pl have patience and draw what they ne  from ATMs during this Demonetization phase. My SandA\n",
            "\n",
            "517)nilkohli54: while the corrupt protest personal loss of black money due demonetization Public celebrates their loss.\n",
            "\n",
            "518)itishKumar supports DeMonetisation \r\n",
            "haradYadavMP Opposes demonetization \r\n",
            "What is the real Game of JDU ?  \n",
            "\n",
            "519)while the corrupt protest personal loss of black money due demonetization Public celebrates their loss.\n",
            "\n",
            "520)enu_18: Bad thing is\r\n",
            "The position of Worthless Unpaid Hubbies surviving on wife's money remains same aftr demonetization &amp; r free to\n",
            "\n",
            "521)No kidding, the line stretches up until the bend, all other banks out of cash. demonetization and to think this is  \n",
            "\n",
            "522)aiveerShergill: Its turning out to be a Winter of Discontent thanks to the demonetization scheme &amp; BJP everyday spraying cold blast\n",
            "\n",
            "523)aiveerShergill: Its turning out to be a Winter of Discontent thanks to the demonetization scheme &amp; BJP everyday spraying cold blast\n",
            "\n",
            "524)aiveerShergill: Its turning out to be a Winter of Discontent thanks to the demonetization scheme &amp; BJP everyday spraying cold blast\n",
            "\n",
            "525)aiveerShergill: Its turning out to be a Winter of Discontent thanks to the demonetization scheme &amp; BJP everyday spraying cold blast\n",
            "\n",
            "526)aiveerShergill: Its turning out to be a Winter of Discontent thanks to the demonetization scheme &amp; BJP everyday spraying cold blast\n",
            "\n",
            "527)aiveerShergill: Its turning out to be a Winter of Discontent thanks to the demonetization scheme &amp; BJP everyday spraying cold blast\n",
            "\n",
            "528)aiveerShergill: Its turning out to be a Winter of Discontent thanks to the demonetization scheme &amp; BJP everyday spraying cold blast\n",
            "\n",
            "529)aiveerShergill: Its turning out to be a Winter of Discontent thanks to the demonetization scheme &amp; BJP everyday spraying cold blast\n",
            "\n",
            "530)aiveerShergill: Its turning out to be a Winter of Discontent thanks to the demonetization scheme &amp; BJP everyday spraying cold blast\n",
            "\n",
            "531)aiveerShergill: Its turning out to be a Winter of Discontent thanks to the demonetization scheme &amp; BJP everyday spraying cold blast\n",
            "\n",
            "532)aiveerShergill: Its turning out to be a Winter of Discontent thanks to the demonetization scheme &amp; BJP everyday spraying cold blast\n",
            "\n",
            "533)aiveerShergill: Its turning out to be a Winter of Discontent thanks to the demonetization scheme &amp; BJP everyday spraying cold blast\n",
            "\n",
            "534)aiveerShergill: Its turning out to be a Winter of Discontent thanks to the demonetization scheme &amp; BJP everyday spraying cold blast\n",
            "\n",
            "535)aiveerShergill: Its turning out to be a Winter of Discontent thanks to the demonetization scheme &amp; BJP everyday spraying cold blast\n",
            "\n",
            "536)aiveerShergill: Its turning out to be a Winter of Discontent thanks to the demonetization scheme &amp; BJP everyday spraying cold blast\n",
            "\n",
            "537)aiveerShergill: Its turning out to be a Winter of Discontent thanks to the demonetization scheme &amp; BJP everyday spraying cold blast\n",
            "\n",
            "538)aiveerShergill: Its turning out to be a Winter of Discontent thanks to the demonetization scheme &amp; BJP everyday spraying cold blast\n",
            "\n",
            "539)aiveerShergill: Its turning out to be a Winter of Discontent thanks to the demonetization scheme &amp; BJP everyday spraying cold blast\n",
            "\n",
            "540)udarsansand: My humble appeal to all to pl have patience and draw what they ne  from ATMs during this Demonetization phase. My SandA\n",
            "\n",
            "541)esIamSaffron: Must Watch\r\n",
            ".\r\n",
            "Delhities Standing in Long Bank Que's Praising PM Modi's Demonetization &amp; Cursing Thug rvindKejriwal\r\n",
            "htt\n",
            "\n",
            "542)Kejru's stand  \r\n",
            "1st:revoke demonetization \r\n",
            "then : err not sure and wild allegation\r\n",
            "Now: if it works I will chant PM's name\n",
            "\n",
            "543)Is there an expect  drop in advertising spends by consumer brands due to demonetization. Will m ia houses see a slump next quarter\n",
            "\n",
            "544)theist_Krishna \r\n",
            "My Friend suffering from loose motion because of Demonetization,  he was in ATM line and took 600 seconds to get money.\n",
            "\n",
            "545)iraPokhrel: irapokhrel at least they could provide some sitting arrangements for senior citizens in the line!\r\n",
            "demonetization\r\n",
            "peopl\n",
            "\n",
            "546)ay_ambadi: That awkward moment when even Swarajya find it necessary to point out Modi's mistakes on Demonetization \r\n",
            " \n",
            "\n",
            "547)Demonetization: A Nightmare for the Common Populace    \n",
            "\n",
            "548)ay_ambadi: That awkward moment when even Swarajya find it necessary to point out Modi's mistakes on Demonetization \r\n",
            " \n",
            "\n",
            "549)animozhi: India will get windfall profit of whooping 4 Lakh crores in 30 days due to demonetization Why people like AK Pappu &amp; Mamata\n",
            "\n",
            "550)ay_ambadi: That awkward moment when even Swarajya find it necessary to point out Modi's mistakes on Demonetization \r\n",
            " \n",
            "\n",
            "551)ay_ambadi: That awkward moment when even Swarajya find it necessary to point out Modi's mistakes on Demonetization \r\n",
            " \n",
            "\n",
            "552)That awkward moment when even Swarajya find it necessary to point out Modi's mistakes on Demonetization \r\n",
            " \n",
            "\n",
            "553)yvotetoday: So CJIThakur says there will be riots due to DeMonetization Qs\r\n",
            ".\r\n",
            "No SpicesNSecrets \r\n",
            ".\r\n",
            "No riots due to citizens Waiting\n",
            "\n",
            "554)demonetization  Are the poor really suffering? ISB profs ponder over the question.  \n",
            "\n",
            "555)esIamSaffron: Must Watch\r\n",
            ".\r\n",
            "Delhities Standing in Long Bank Que's Praising PM Modi's Demonetization &amp; Cursing Thug rvindKejriwal\r\n",
            "htt\n",
            "\n",
            "556)Demonetization Mr Nalin Kohli you dont have to stand in queues to withdraw cash Ask the dead's relatives about the hardship they are facing\n",
            "\n",
            "557)enu_18: Bad thing is\r\n",
            "The position of Worthless Unpaid Hubbies surviving on wife's money remains same aftr demonetization &amp; r free to\n",
            "\n",
            "558)enu_18: Bad thing is\r\n",
            "The position of Worthless Unpaid Hubbies surviving on wife's money remains same aftr demonetization &amp; r free to\n",
            "\n",
            "559)nilkohli54: going by the reaction which party seems to have suffer  max loss due to demonetization\n",
            "\n",
            "560)avita_krishnan: Modi cracks joke re common citizens' w dings hit by demonetization - corrupt R dy bro hosts multicrore w ding http\n",
            "\n",
            "561)when union Minister family facing such trouble imagine the situation of common man arendramodi Demonetization  \n",
            "\n",
            "562)enu_18: Bad thing is\r\n",
            "The position of Worthless Unpaid Hubbies surviving on wife's money remains same aftr demonetization &amp; r free to\n",
            "\n",
            "563)PM's office must release funds to the families of people di  due to demonetization policy. CashCleanUp CashCrisis blackmoneydrama\n",
            "\n",
            "564)animozhi: Everyone seems to hate the rich, even the rich hates richer and the richer hates the richest. Demonetization.\n",
            "\n",
            "565)irapokhrel at least they could provide some sitting arrangements for senior citizens in the line!\r\n",
            "demonetization\r\n",
            "peoplesuffer\n",
            "\n",
            "566)ragya_bhushan: Demonetization of high value currency is just beginning of governments deep and continuous struggle against black mon\n",
            "\n",
            "567)PM's office must release funds to the families of people di  due to demonetization policy. CashCleanUp CashCrisis\n",
            "\n",
            "568)Demonetization lets shorten long queues at ATM, by limiting our ATM withdrawals to Rs.1000/- only WithdrawUpto1000FromATM\n",
            "\n",
            "569)arbarindian: demonetization bulletin \r\n",
            "Severe liquidity crisis continues. Dire shortage of 500. Reconfigur  ATMs useless bcoz - 2000\n",
            "\n",
            "570)Demonetization You can solve No-Cash, Long Queue Issues, so please limit your ATM withdrawals up to Rs.1000/- only WithdrawUpto1000FromATM\n",
            "\n",
            "571)aidehisachin This is reason why we ne  demonetization \r\n",
            "All hard earn  money of Parents taken by Engg Colleges  \n",
            "\n",
            "572)(Worthless notes) Laid down to form a pathway, itd be long enough to reach the moon and back five times. . demonetization\n",
            "\n",
            "573)nuragbhateja: inimathur  Demonetization is just like those days when teacher was unable to spot the culprit and punish  whole clas\n",
            "\n",
            "574)ohitthatte: Please stop with the \"X di  due to demonetization\" posts. Correlation does not imply causation. demonetization\n",
            "\n",
            "575)ohitthatte: Please stop with the \"X di  due to demonetization\" posts. Correlation does not imply causation. demonetization\n",
            "\n",
            "576)HIRU_NEWS: All other celebrities who spoke on demonetization till now did for their selfushness.\r\n",
            "Only Pawan Kalyan spoke for the peop\n",
            "\n",
            "577)animozhi: India will get windfall profit of whooping 4 Lakh crores in 30 days due to demonetization Why people like AK Pappu &amp; Mamata\n",
            "\n",
            "578)DSez: Another bad thing abt demonetization : ppl with legit but large amount of cash at home wr frighten  that they wr doing sumthng\n",
            "\n",
            "579)airajp: So this DeMonetization has been so Tragic in Implementation that modi govt is Flouting RBI rules for Banking License and Oper\n",
            "\n",
            "580)ohitthatte: Please stop with the \"X di  due to demonetization\" posts. Correlation does not imply causation. demonetization\n",
            "\n",
            "581)ragya_bhushan: Demonetization of high value currency is just beginning of governments deep and continuous struggle against black mon\n",
            "\n",
            "582)Another bad thing abt demonetization : ppl with legit but large amount of cash at home wr frighten  that they wr doing sumthng illegal\r\n",
            "1/\n",
            "\n",
            "583)k3010Neha Way this demonetization failing miserably, 80 people dead. \r\n",
            "Whose responsibility <U+2753>\n",
            "\n",
            "584)95% sacrificing to cleanse 5%. Benefits of Demonetization should reach the common man in same ratio\n",
            "\n",
            "585)inimathur  Demonetization is just like those days when teacher was unable to spot the culprit and punish  whole class.\n",
            "\n",
            "586)nilkohli54: going by the reaction which party seems to have suffer  max loss due to demonetization\n",
            "\n",
            "587)ragya_bhushan: Demonetization of high value currency is just beginning of governments deep and continuous struggle against black mon\n",
            "\n",
            "588)gurumurthy poor always suffer, irrespective of demonetization..\n",
            "\n",
            "589)ragya_bhushan: Demonetization of high value currency is just beginning of governments deep and continuous struggle against black mon\n",
            "\n",
            "590)inimathur It is a fact that people are facing problem and may be this demonetization will only bring 4%-10% of the black money out. 2/n\n",
            "\n",
            "591)Please stop with the \"X di  due to demonetization\" posts. Correlation does not imply causation. demonetization\n",
            "\n",
            "592)bA K Bhattacharyab Its the politics stupid   Demonetization\n",
            "\n",
            "593)The way rvindKejriwal is linking all poor enterprises with demonetization day is not far when he would find a link with PM's innerwear 2\n",
            "\n",
            "594)animozhi: Everyone seems to hate the rich, even the rich hates richer and the richer hates the richest. Demonetization.\n",
            "\n",
            "595)opposition stop yelling stalling Parliament in  name of poor pple, wake up smell your coffee. you guys way behind  \n",
            "\n",
            "596)ragya_bhushan: Demonetization of high value currency is just beginning of governments deep and continuous struggle against black mon\n",
            "\n",
            "597)animozhi: India will get windfall profit of whooping 4 Lakh crores in 30 days due to demonetization Why people like AK Pappu &amp; Mamata\n",
            "\n",
            "598)ragya_bhushan: Demonetization of high value currency is just beginning of governments deep and continuous struggle against black mon\n",
            "\n",
            "599)ragya_bhushan: Demonetization of high value currency is just beginning of governments deep and continuous struggle against black mon\n",
            "\n",
            "600)ragya_bhushan: Demonetization of high value currency is just beginning of governments deep and continuous struggle against black mon\n",
            "\n",
            "601)Another indication of black money horses having bolt , well before.....Demonetization?\r\n",
            "  \n",
            "\n",
            "602)gautier26: A little notic  consequence of demonetization drive of arendramodi  is that  valley of Kashmir has gone very quiet: no\n",
            "\n",
            "603)Demonetization is like pissing on pants on a very cold day 2 keep warm - India's Modi Didn't Do His Homeworkorbes  \n",
            "\n",
            "604)Really something is wrong with Indian Politicians in handling Economy. Raghuram Rajan would have handl   \n",
            "\n",
            "605)mitgupta0310: 1/n One can have a cynical view on demonetization but one should not loose the faith in the adaptability of fellow Indi\n",
            "\n",
            "606)nilkohli54: going by the reaction which party seems to have suffer  max loss due to demonetization\n",
            "\n",
            "607)ragya_bhushan: Demonetization of high value currency is just beginning of governments deep and continuous struggle against black mon\n",
            "\n",
            "608)itaramlamba: Cooperative banks shut down, sowing season completely disrupt , agri markets &amp; Farmers badly affect  demonetization\n",
            "\n",
            "609)animozhi: India will get windfall profit of whooping 4 Lakh crores in 30 days due to demonetization Why people like AK Pappu &amp; Mamata\n",
            "\n",
            "610)itaramlamba: Cooperative banks shut down, sowing season completely disrupt , agri markets &amp; Farmers badly affect  demonetization\n",
            "\n",
            "611)nilkohli54: going by the reaction which party seems to have suffer  max loss due to demonetization\n",
            "\n",
            "612)itaramlamba: Cooperative banks shut down, sowing season completely disrupt , agri markets &amp; Farmers badly affect  demonetization\n",
            "\n",
            "613)mitgupta0310: 1/n One can have a cynical view on demonetization but one should not loose the faith in the adaptability of fellow Indi\n",
            "\n",
            "614)This demonetization thing is a mess.\n",
            "\n",
            "615)nilkohli54: going by the reaction which party seems to have suffer  max loss due to demonetization\n",
            "\n",
            "616)Trying to escape from responsibility of poor implementation of demonetization \r\n",
            "\r\n",
            " \n",
            "\n",
            "617)Demonetization if rich feel so panick  over a day or 2 cash crunch,think of d poor who must be facing this on daily basis!Stop CORRUPTION\n",
            "\n",
            "618)na: Demonetization: 5 effects of note ban on the common man  \n",
            "\n",
            "619)na: Demonetization: 5 effects of note ban on the common man  \n",
            "\n",
            "620)ragya_bhushan: Demonetization of high value currency is just beginning of governments deep and continuous struggle against black mon\n",
            "\n",
            "621)ashingtonpost they should learn from the lab experiment of demonetization done with Indian economy. Tables black, terror &amp; counterfeit.\n",
            "\n",
            "622)\"na: Demonetization: 5 effects of note ban on the common man  \n",
            "\n",
            "623)oviezAdda: eingSalmanKhan The SAVIOUR - Gives money To Farmhouse Poor Peoples In Demonetization\r\n",
            "Check Out < ><U+ ><U+ >< ><U+00B1><U+0089> \n",
            "\n",
            "624)itaramlamba: Cooperative banks shut down, sowing season completely disrupt , agri markets &amp; Farmers badly affect  demonetization\n",
            "\n",
            "625)Demonetization: 5 effects of note ban on the common man  \n",
            "\n",
            "626)tsBollyLive: SalmanKhan Comes In RESCUE Of Poor Peoples Near His Farmhouse | Gives MONEY During Demonetization  \n",
            "\n",
            "627)ragya_bhushan: Demonetization of high value currency is just beginning of governments deep and continuous struggle against black mon\n",
            "\n",
            "628)nilkohli54: going by the reaction which party seems to have suffer  max loss due to demonetization\n",
            "\n",
            "629)yvotetoday: So CJIThakur says there will be riots due to DeMonetization Qs\r\n",
            ".\r\n",
            "No SpicesNSecrets \r\n",
            ".\r\n",
            "No riots due to citizens Waiting\n",
            "\n",
            "630)  : Demonetization: Are the poor really suffering?\n",
            "\n",
            "631)folks we cant be so cruel, we will have to empathize with opposition who have been crippl  financially &amp; politically due to demonetization\n",
            "\n",
            "632)nilkohli54: going by the reaction which party seems to have suffer  max loss due to demonetization\n",
            "\n",
            "633)nilkohli54: going by the reaction which party seems to have suffer  max loss due to demonetization\n",
            "\n",
            "634)Swiss Bank a/c details to b receiv  from Sep 2018. Why d hell so late! Oh elections r in May 2019, gr8 timing. DeMonetization BlackMoney\n",
            "\n",
            "635)folks we cant be so cruel, we will have to empathize with opposition who have been crippl  financially &amp; politically due to demonetization\n",
            "\n",
            "636)esIamSaffron: Must Watch\r\n",
            ".\r\n",
            "Delhities Standing in Long Bank Que's Praising PM Modi's Demonetization &amp; Cursing Thug rvindKejriwal\r\n",
            "htt\n",
            "\n",
            "637)nilkohli54: going by the reaction which party seems to have suffer  max loss due to demonetization\n",
            "\n",
            "638)animozhi: Everyone seems to hate the rich, even the rich hates richer and the richer hates the richest. Demonetization.\n",
            "\n",
            "639)going by the reaction which party seems to have suffer  max loss due to demonetization\n",
            "\n",
            "640)shwan yup. I am shit scar . This demonetization is projecting banks as the ultimate havens for depositing all our monies.\n",
            "\n",
            "641)avanaja: A request -instead of tweeting &amp; posting negative abt demonetization, pl post/tweet abt working ATMs, Banks in ur locality\n",
            "\n",
            "642)avanaja: A request -instead of tweeting &amp; posting negative abt demonetization, pl post/tweet abt working ATMs, Banks in ur locality\n",
            "\n",
            "643)esIamSaffron: Must Watch\r\n",
            ".\r\n",
            "Delhities Standing in Long Bank Que's Praising PM Modi's Demonetization &amp; Cursing Thug rvindKejriwal\r\n",
            "htt\n",
            "\n",
            "644)rvindKejriwal did you have a deal with uber or ola cabs when you launch  your stupid odd-even drama in Delhi? demonetization\n",
            "\n",
            "645)animozhi: Everyone seems to hate the rich, even the rich hates richer and the richer hates the richest. Demonetization.\n",
            "\n",
            "646)rvindKejriwal In Demonetization only small businessman are loosing, corporates(Airlines) r still looting us wid mkng white transactions.\n",
            "\n",
            "647)Demonetization\r\n",
            "Past 15 days HOUNDS with unrat  POUNDS have been so UNSOUND.\n",
            "\n",
            "648)gautier26: A little notic  consequence of demonetization drive of arendramodi  is that  valley of Kashmir has gone very quiet: no\n",
            "\n",
            "649)oviezAdda: eingSalmanKhan The SAVIOUR - Gives money To Farmhouse Poor Peoples In Demonetization\r\n",
            "Check Out < ><U+ ><U+ >< ><U+00B1><U+0089> \n",
            "\n",
            "650)esIamSaffron: Must Watch\r\n",
            ".\r\n",
            "Delhities Standing in Long Bank Que's Praising PM Modi's Demonetization &amp; Cursing Thug rvindKejriwal\r\n",
            "htt\n",
            "\n",
            "651)esIamSaffron: Must Watch\r\n",
            ".\r\n",
            "Delhities Standing in Long Bank Que's Praising PM Modi's Demonetization &amp; Cursing Thug rvindKejriwal\r\n",
            "htt\n",
            "\n",
            "652)esIamSaffron: Must Watch\r\n",
            ".\r\n",
            "Delhities Standing in Long Bank Que's Praising PM Modi's Demonetization &amp; Cursing Thug rvindKejriwal\r\n",
            "htt\n",
            "\n",
            "653)esIamSaffron: Must Watch\r\n",
            ".\r\n",
            "Delhities Standing in Long Bank Que's Praising PM Modi's Demonetization &amp; Cursing Thug rvindKejriwal\r\n",
            "htt\n",
            "\n",
            "654)avanaja: A request -instead of tweeting &amp; posting negative abt demonetization, pl post/tweet abt working ATMs, Banks in ur locality\n",
            "\n",
            "655)nSubtleDesi: Kejriwal posts pic of dead robber and claims it's demonetization relat  death? How shameless has this man become? https\n",
            "\n",
            "656)avanaja: A request -instead of tweeting &amp; posting negative abt demonetization, pl post/tweet abt working ATMs, Banks in ur locality\n",
            "\n",
            "657)esIamSaffron: Must Watch\r\n",
            ".\r\n",
            "Delhities Standing in Long Bank Que's Praising PM Modi's Demonetization &amp; Cursing Thug rvindKejriwal\r\n",
            "htt\n",
            "\n",
            "658)gautier26: A little notic  consequence of demonetization drive of arendramodi  is that  valley of Kashmir has gone very quiet: no\n",
            "\n",
            "659)Demonetization of high value currency is just beginning of governments deep and continuous struggle against black  \n",
            "\n",
            "660)A request -instead of tweeting &amp; posting negative abt demonetization, pl post/tweet abt working ATMs, Banks in ur locality\n",
            "\n",
            "661)gautier26: A little notic  consequence of demonetization drive of arendramodi  is that  valley of Kashmir has gone very quiet: no\n",
            "\n",
            "662)inhazMerchant: Is demonetization a gamechanging eco reform that'll hit terror funding, fake notes &amp; black economy?\n",
            "\n",
            "663)inhazMerchant: Difficult to verify but if true points to orchestrat  campaign to discr it demonetization with paid fear-mongers htt\n",
            "\n",
            "664)inhazMerchant: Is demonetization a gamechanging eco reform that'll hit terror funding, fake notes &amp; black economy?\n",
            "\n",
            "665)inhazMerchant: Anna Hazare tells NNnews18 demonetization is \"a historic decision by govt, those with black money against move.\" And\n",
            "\n",
            "666)shu3page: Demonetization : Paan shop owner gets 'fake' Rs 2,000 note in Ahm abad.\r\n",
            " \n",
            "\n",
            "667)animozhi: India will get windfall profit of whooping 4 Lakh crores in 30 days due to demonetization Why people like AK Pappu &amp; Mamata\n",
            "\n",
            "668)Govt shud start giving free grocery for poor without work due to Demonetization @ places like BigBazaar etc MOIndia runjaitley Help no?\n",
            "\n",
            "669)heDarjChron: Demonetization NorthEast Reaction: Darjeeling small businessman has a message to opposition parties- Help the Govt ins\n",
            "\n",
            "670)Thorough and balanc  explanation on the Demonetization effort happening in India as a crusade against black money  \n",
            "\n",
            "671)animozhi: Everyone seems to hate the rich, even the rich hates richer and the richer hates the richest. Demonetization.\n",
            "\n",
            "672)hipraSuri: Sensible and eloquent as usual: Jean Dreze on Modi's DeMonetization policy. Do read.  \n",
            "\n",
            "673)shu3page: Demonetization : Paan shop owner gets 'fake' Rs 2,000 note in Ahm abad.\r\n",
            " \n",
            "\n",
            "674)airajp: So this DeMonetization has been so Tragic in Implementation that modi govt is Flouting RBI rules for Banking License and Oper\n",
            "\n",
            "675)animozhi: Everyone seems to hate the rich, even the rich hates richer and the richer hates the richest. Demonetization.\n",
            "\n",
            "676)airajp: So this DeMonetization has been so Tragic in Implementation that modi govt is Flouting RBI rules for Banking License and Oper\n",
            "\n",
            "677)airajp: So this DeMonetization has been so Tragic in Implementation that modi govt is Flouting RBI rules for Banking License and Oper\n",
            "\n",
            "678)demonetization -   Demonetization: Are the poor really suffering?\n",
            "\n",
            "679)demonetization -   Demonetization ka side effect: Illegal opium trade in West Bengal's Malda goes up in smoke\n",
            "\n",
            "680)demonetization -   Demonetization: Are the poor really suffering?\n",
            "\n",
            "681)demonetization -   Demonetization: Are the poor really suffering?\n",
            "\n",
            "682)demonetization -   Demonetization ka side effect: Illegal opium trade in West Bengal's Malda goes up in smoke\n",
            "\n",
            "683)demonetization -   Demonetization ka side effect: Illegal opium trade in West Bengal's Malda goes up in smoke\n",
            "\n",
            "684)demonetization -   Demonetization ka side effect: Illegal opium trade in West Bengal's Malda goes up in smoke\n",
            "\n",
            "685)demonetization -   Demonetization: Are the poor really suffering?\n",
            "\n",
            "686)demonetization -   Demonetization: Are the poor really suffering?\n",
            "\n",
            "687)Demonetization let public deposit the money in their Bank a/c. and pay taxes , rather being a victim in the hands of unscrupulous   Modi\n",
            "\n",
            "688)inhazMerchant: Anna Hazare tells NNnews18 demonetization is \"a historic decision by govt, those with black money against move.\" And\n",
            "\n",
            "689)inhazMerchant: Anna Hazare tells NNnews18 demonetization is \"a historic decision by govt, those with black money against move.\" And\n",
            "\n",
            "690)animozhi: Everyone seems to hate the rich, even the rich hates richer and the richer hates the richest. Demonetization.\n",
            "\n",
            "691)animozhi: Everyone seems to hate the rich, even the rich hates richer and the richer hates the richest. Demonetization.\n",
            "\n",
            "692)animozhi: Everyone seems to hate the rich, even the rich hates richer and the richer hates the richest. Demonetization.\n",
            "\n",
            "693)animozhi: Everyone seems to hate the rich, even the rich hates richer and the richer hates the richest. Demonetization.\n",
            "\n",
            "694)HIRU_NEWS: All other celebrities who spoke on demonetization till now did for their selfushness.\r\n",
            "Only Pawan Kalyan spoke for the peop\n",
            "\n",
            "695)animozhi: Everyone seems to hate the rich, even the rich hates richer and the richer hates the richest. Demonetization.\n",
            "\n",
            "696)homaChaudhury: demonetization Mayhem, suffering terrifying: Surat textile down by 80%; Chennai Koyamb u perishable mkt down by half;\n",
            "\n",
            "697)animozhi: India will get windfall profit of whooping 4 Lakh crores in 30 days due to demonetization Why people like AK Pappu &amp; Mamata\n",
            "\n",
            "698)you know everyone is suffering due to the foolish plan of demonetization ; even the MOIndia is crying over it daily!  crocodiletears\n",
            "\n",
            "699)uzzammilAap: Demonetization: Paan shop owner gets 'fake' Rs 2,000 note in Ahm abad   rvindKejriwal reetiSM\n",
            "\n",
            "700)Guy's help inimathur her. She is poor now due to demonetization . All her black money now gone. Help her please !!!\n",
            "\n",
            "701)oviezAdda: eingSalmanKhan The SAVIOUR - Gives money To Farmhouse Poor Peoples In Demonetization\r\n",
            "Check Out < ><U+ ><U+ >< ><U+00B1><U+0089> \n",
            "\n",
            "702)anjaynirupam is Dr fficeOfRG is certifying these 70 deaths are due to Demonetization ? PNadda MOIndia  \n",
            "\n",
            "703)Philosophy < ><U+ ><U+ >< ><U+ ><U+008D> \r\n",
            "animozhi: Everyone seems to hate the rich, even the rich hates richer and the richer hates the richest. Demonetization\n",
            "\n",
            "704)animozhi: India will get windfall profit of whooping 4 Lakh crores in 30 days due to demonetization Why people like AK Pappu &amp; Mamata\n",
            "\n",
            "705)animozhi: Everyone seems to hate the rich, even the rich hates richer and the richer hates the richest. Demonetization.\n",
            "\n",
            "706)animozhi: Everyone seems to hate the rich, even the rich hates richer and the richer hates the richest. Demonetization.\n",
            "\n",
            "707)animozhi: India will get windfall profit of whooping 4 Lakh crores in 30 days due to demonetization Why people like AK Pappu &amp; Mamata\n",
            "\n",
            "708)Sad that v9kannada is losing its cr ibility by reporting the bias  news on demonetization and se ing negativity in people's mind!\n",
            "\n",
            "709)animozhi: Everyone seems to hate the rich, even the rich hates richer and the richer hates the richest. Demonetization.\n",
            "\n",
            "710)ainjal: if you agree that MOIndia creat  an artificial crisis fav if you think this will hurt black money.\r\n",
            "demonetization\n",
            "\n",
            "711)inhazMerchant: Anna Hazare tells NNnews18 demonetization is \"a historic decision by govt, those with black money against move.\" And\n",
            "\n",
            "712)inhazMerchant: Anna Hazare tells NNnews18 demonetization is \"a historic decision by govt, those with black money against move.\" And\n",
            "\n",
            "713)inhazMerchant: Anna Hazare tells NNnews18 demonetization is \"a historic decision by govt, those with black money against move.\" And\n",
            "\n",
            "714)nSubtleDesi: Kejriwal posts pic of dead robber and claims it's demonetization relat  death? How shameless has this man become? https\n",
            "\n",
            "715)Rs 2000 notes recover  from terrorists gunn  down by Army in Bandipora(J&amp;K) demonetization  \n",
            "\n",
            "716)airajp: So this DeMonetization has been so Tragic in Implementation that modi govt is Flouting RBI rules for Banking License and Oper\n",
            "\n",
            "717)Forget blackmoney, I am unable to withdraw my Whitemoney, my hard earn  money!!! \n",
            "\n",
            "Demonetization\n",
            "\n",
            "718)inhazMerchant: Anna Hazare tells NNnews18 demonetization is \"a historic decision by govt, those with black money against move.\" And\n",
            "\n",
            "719)animozhi: Everyone seems to hate the rich, even the rich hates richer and the richer hates the richest. Demonetization.\n",
            "\n",
            "720)animozhi: India will get windfall profit of whooping 4 Lakh crores in 30 days due to demonetization Why people like AK Pappu &amp; Mamata\n",
            "\n",
            "721)almanSoz: Economy will suffer due to demonetization. How much is anybody's guess. kvenu1 brings some disturbing info.\n",
            "\n",
            " \n",
            "\n",
            "722)eeNews rGPradhan Do u feel that its a stage drama by SP to fail Demonetization\n",
            "\n",
            "723)inhazMerchant: Anna Hazare tells NNnews18 demonetization is \"a historic decision by govt, those with black money against move.\" And\n",
            "\n",
            "724)shokepandit: If this is true,then it's the biggest benefit of demonetization. Other trrsts &amp; political Ldrs will fall in the line. ht\n",
            "\n",
            "725)animozhi: Everyone seems to hate the rich, even the rich hates richer and the richer hates the richest. Demonetization.\n",
            "\n",
            "726)udarsansand: My humble appeal to all to pl have patience and draw what they ne  from ATMs during this Demonetization phase. My SandA\n",
            "\n",
            "727)Demonetization  \n",
            "Time will tell whether it's a big though not flawless kick to push the country out of its comfort zone\n",
            "rBachchan\n",
            "\n",
            "728)There goes the claim that demonetization will stop fake notes and/or cripple terrorist funding.  \n",
            "\n",
            "729)anuragthakur: Long winding lines will continue to decrease,GOI hs taken numerous steps to ease demonetization issues:  \n",
            "\n",
            "730)NTata2000 demonetization had honest objective with terrible terrible planning and execution.\n",
            "\n",
            "731)Demonetization  \n",
            "Time will tell whether it's a big though not flawless kick to push the country out of its comfort zone\n",
            "am_Guha\n",
            "\n",
            "732)inhazMerchant: Difficult to verify but if true points to orchestrat  campaign to discr it demonetization with paid fear-mongers htt\n",
            "\n",
            "733)Demonetization  \n",
            "Time will tell whether it's a big though not flawless kick to push the country out of its comfort zone\n",
            "hekharkapur\n",
            "\n",
            "734)@_MiteshPatel: Demonetization is NOT blunder.\n",
            "\n",
            "It's deliberate drama being done for PR propaganda.\n",
            "Don't down play this.  \n",
            "\n",
            "735)Am getting signals that RSS not happy with Demonetization .Any info in this regard ?\n",
            "\n",
            "736)Demonetization will not be able to end corruption @ black money because the corrupt people are still running the show.\n",
            "\n",
            "737)This is a terrible implementation. Every ATM runs out of cash pretty early and is only able to serve 40-50 people. Horrific Demonetization\n",
            "\n",
            "738)animozhi: India will get windfall profit of whooping 4 Lakh crores in 30 days due to demonetization Why people like AK Pappu &amp; Mamata\n",
            "\n",
            "739)You either die a hungry man or stand in line long enough to see the cash run out. demonetization\n",
            "\n",
            "740)animozhi: Everyone seems to hate the rich, even the rich hates richer and the richer hates the richest. Demonetization.\n",
            "\n",
            "741)@_MiteshPatel: Demonetization is NOT blunder.\n",
            "\n",
            "It's deliberate drama being done for PR propaganda.\n",
            "Don't down play this.  \n",
            "\n",
            "742)animozhi: Everyone seems to hate the rich, even the rich hates richer and the richer hates the richest. Demonetization.\n",
            "\n",
            "743)mitgupta0310: 1/n One can have a cynical view on demonetization but one should not loose the faith in the adaptability of fellow Indi\n",
            "\n",
            "744)animozhi: Everyone seems to hate the rich, even the rich hates richer and the richer hates the richest. Demonetization.\n",
            "\n",
            "745)@_MiteshPatel: Demonetization is NOT blunder.\n",
            "\n",
            "It's deliberate drama being done for PR propaganda.\n",
            "Don't down play this.  \n",
            "\n",
            "746)@_MiteshPatel: Demonetization is NOT blunder.\n",
            "\n",
            "It's deliberate drama being done for PR propaganda.\n",
            "Don't down play this.  \n",
            "\n",
            "747)This show the real motive behind the so-call  survey on demonetization.\n",
            "Modi assumes all poor have smartphones! \n",
            "  \n",
            "\n",
            "748)animozhi: Everyone seems to hate the rich, even the rich hates richer and the richer hates the richest. Demonetization.\n",
            "\n",
            "749)Everyone seems to hate the rich, even the rich hates richer and the richer hates the richest. Demonetization.\n",
            "\n",
            "750)@_MiteshPatel: Demonetization is NOT blunder.\n",
            "\n",
            "It's deliberate drama being done for PR propaganda.\n",
            "Don't down play this.  \n",
            "\n",
            "751)@_MiteshPatel: Demonetization is NOT blunder.\n",
            "\n",
            "It's deliberate drama being done for PR propaganda.\n",
            "Don't down play this.  \n",
            "\n",
            "752)Demonetization  \n",
            "Time will tell whether it's a big though not flawless kick to push the country out of its comfort zone\n",
            "KabirB i\n",
            "\n",
            "753)Demonetization  \n",
            "Time will tell whether it's a big though not flawless kick to push the country out of its comfort zone\n",
            "achikarkaria\n",
            "\n",
            "754)heDarjChron: Mainstream m ia suffers from \"Tyranny of Distance\" so we r reporting what people in NorthEast think of Demonetization\n",
            "\n",
            "755)Demonetization  \n",
            "Time will tell whether it's a big though not flawless kick to push the country out of its comfort zone\n",
            "iranshaw\n",
            "\n",
            "756)@_MiteshPatel: Demonetization is NOT blunder.\n",
            "\n",
            "It's deliberate drama being done for PR propaganda.\n",
            "Don't down play this.  \n",
            "\n",
            "757)@_MiteshPatel: Demonetization is NOT blunder.\n",
            "\n",
            "It's deliberate drama being done for PR propaganda.\n",
            "Don't down play this.  \n",
            "\n",
            "758)@_MiteshPatel: Demonetization is NOT blunder.\n",
            "\n",
            "It's deliberate drama being done for PR propaganda.\n",
            "Don't down play this.  \n",
            "\n",
            "759)@_MiteshPatel: Demonetization is NOT blunder.\n",
            "\n",
            "It's deliberate drama being done for PR propaganda.\n",
            "Don't down play this.  \n",
            "\n",
            "760)anuragthakur: Long winding lines will continue to decrease,GOI hs taken numerous steps to ease demonetization issues:  \n",
            "\n",
            "761)@_MiteshPatel: Demonetization is NOT blunder.\n",
            "\n",
            "It's deliberate drama being done for PR propaganda.\n",
            "Don't down play this.  \n",
            "\n",
            "762)airajp: So this DeMonetization has been so Tragic in Implementation that modi govt is Flouting RBI rules for Banking License and Oper\n",
            "\n",
            "763)@_MiteshPatel: Demonetization is NOT blunder.\n",
            "\n",
            "It's deliberate drama being done for PR propaganda.\n",
            "Don't down play this.  \n",
            "\n",
            "764)@_MiteshPatel: Demonetization is NOT blunder.\n",
            "\n",
            "It's deliberate drama being done for PR propaganda.\n",
            "Don't down play this.  \n",
            "\n",
            "765)@_MiteshPatel: Demonetization is NOT blunder.\n",
            "\n",
            "It's deliberate drama being done for PR propaganda.\n",
            "Don't down play this.  \n",
            "\n",
            "766)@_MiteshPatel: Demonetization is NOT blunder.\n",
            "\n",
            "It's deliberate drama being done for PR propaganda.\n",
            "Don't down play this.  \n",
            "\n",
            "767)ops333: Experts believe the Demonetization will impact negative on India's GDP . Unplann  misadventure will cost the Economy for a\n",
            "\n",
            "768)@_MiteshPatel: Demonetization is NOT blunder.\n",
            "\n",
            "It's deliberate drama being done for PR propaganda.\n",
            "Don't down play this.  \n",
            "\n",
            "769)Demonetization  \n",
            "Time will tell whether it's a big though not flawless kick to push the country out of its comfort zone\n",
            "hashiTharoor\n",
            "\n",
            "770)Demonetization  \n",
            "Time will tell whether it's a big though not flawless kick to push the country out of its comfort zone\n",
            "hekharGupta\n",
            "\n",
            "771)@_MiteshPatel: Demonetization is NOT blunder.\n",
            "\n",
            "It's deliberate drama being done for PR propaganda.\n",
            "Don't down play this.  \n",
            "\n",
            "772)@_MiteshPatel: Demonetization is NOT blunder.\n",
            "\n",
            "It's deliberate drama being done for PR propaganda.\n",
            "Don't down play this.  \n",
            "\n",
            "773)@_MiteshPatel: Demonetization is NOT blunder.\n",
            "\n",
            "It's deliberate drama being done for PR propaganda.\n",
            "Don't down play this.  \n",
            "\n",
            "774)animozhi: India will get windfall profit of whooping 4 Lakh crores in 30 days due to demonetization Why people like AK Pappu &amp; Mamata\n",
            "\n",
            "775)Demonetization  \n",
            "Time will tell whether it's a big though not flawless kick to push the country out of its comfort zone\n",
            "hoshAmitav\n",
            "\n",
            "776)Demonetization  \n",
            "Time will tell whether it's a big though not flawless kick to push the country out of its comfort zone\n",
            "andanNilekani\n",
            "\n",
            "777)animozhi: India will get windfall profit of whooping 4 Lakh crores in 30 days due to demonetization Why people like AK Pappu &amp; Mamata\n",
            "\n",
            "778)@_MiteshPatel: Demonetization is NOT blunder.\n",
            "\n",
            "It's deliberate drama being done for PR propaganda.\n",
            "Don't down play this.  \n",
            "\n",
            "779)airajp: So this DeMonetization has been so Tragic in Implementation that modi govt is Flouting RBI rules for Banking License and Oper\n",
            "\n",
            "780)airajp: So this DeMonetization has been so Tragic in Implementation that modi govt is Flouting RBI rules for Banking License and Oper\n",
            "\n",
            "781)esoron: Arun Sathe,  has been wishy-washy in his stance regarding DeMonetization. Jumps from one point to the other, swinging bet ext\n",
            "\n",
            "782)@_MiteshPatel: Demonetization is NOT blunder.\n",
            "\n",
            "It's deliberate drama being done for PR propaganda.\n",
            "Don't down play this.  \n",
            "\n",
            "783)anichandra2010: If Tripura  is bench mark, Demonetization had positive impact. BJP gains 20% vote. Congress  loses  41%. Other seats\n",
            "\n",
            "784)airajp: So this DeMonetization has been so Tragic in Implementation that modi govt is Flouting RBI rules for Banking License and Oper\n",
            "\n",
            "785)NNnews18 demonetization against black money not cash   cannot become dirty money .Threats means blackmailing.\n",
            "\n",
            "786)itaramlamba: Cooperative banks shut down, sowing season completely disrupt , agri markets &amp; Farmers badly affect  demonetization\n",
            "\n",
            "787)Level of CM &amp; Dy CM of Delhi SAD\n",
            "Modi India ModiFightsCorruption demonetization BlackMoney noteban  \n",
            "\n",
            "788)adhukishwar Demonetization decision may benefit in the long run but without any doubt it has creat  inconvenience to common people..\n",
            "\n",
            "789)JVatsal: TRUTH (Modi BJP India malaya kingfisher IndiaFightsBlackMoney IndiaFirst  ModiFightsCorruption demonetization Black\n",
            "\n",
            "790)esIamSaffron: Must Watch\n",
            ".\n",
            "Delhities Standing in Long Bank Que's Praising PM Modi's Demonetization &amp; Cursing Thug rvindKejriwal\n",
            "htt\n",
            "\n",
            "791)evathiRajeevan: These Kerala women are least bother  about demonetization. Because they hardly ever see 500 and 1000 notes. (1/12)\n",
            "\n",
            "792)shu3page: Demonetization : Paan shop owner gets 'fake' Rs 2,000 note in Ahm abad.\n",
            " \n",
            "\n",
            "793)esIamSaffron: Must Watch\n",
            ".\n",
            "Delhities Standing in Long Bank Que's Praising PM Modi's Demonetization &amp; Cursing Thug rvindKejriwal\n",
            "htt\n",
            "\n",
            "794)esIamSaffron: Must Watch\n",
            ".\n",
            "Delhities Standing in Long Bank Que's Praising PM Modi's Demonetization &amp; Cursing Thug rvindKejriwal\n",
            "htt\n",
            "\n",
            "795)arbarindian: demonetization bulletin \n",
            "Severe liquidity crisis continues. Dire shortage of 500. Reconfigur  ATMs useless bcoz - 2000\n",
            "\n",
            "796)animozhi: India will get windfall profit of whooping 4 Lakh crores in 30 days due to demonetization Why people like AK Pappu &amp; Mamata\n",
            "\n",
            "797)If this doesn't invite the criticism for the governmen't step, then what will? Demonetization was a risky Idea, very poorly implement  9/9\n",
            "\n",
            "798)rShobha moindia Not affect  individually, but d brute show of money and its power has definitely come down in society Demonetization\n",
            "\n",
            "799)esoron: Arun Sathe,  has been wishy-washy in his stance regarding DeMonetization. Jumps from one point to the other, swinging bet ext\n",
            "\n",
            "800)arbarindian: demonetization bulletin \n",
            "Severe liquidity crisis continues. Dire shortage of 500. Reconfigur  ATMs useless bcoz - 2000\n",
            "\n",
            "801)airajp: So this DeMonetization has been so Tragic in Implementation that modi govt is Flouting RBI rules for Banking License and Oper\n",
            "\n",
            "802)airajp: So this DeMonetization has been so Tragic in Implementation that modi govt is Flouting RBI rules for Banking License and Oper\n",
            "\n",
            "803)Demonetization Cash Crunch in Andaman Banks Causing Endless Troubles to Customers, Banks Helpless  \n",
            "\n",
            "804)Arun Sathe,  has been wishy-washy in his stance regarding DeMonetization. Jumps from one point to the other, swing  \n",
            "\n",
            "805)Support from common mass of India to Demonetization  \n",
            "\n",
            "806)Demonetization  \n",
            "Time will tell whether it's a big though not flawless kick to push the country out of its comfort zone\n",
            "rsfunnybones\n",
            "\n",
            "807)Demonetization  \n",
            "Time will tell whether it's a big though not flawless kick to push the country out of its comfort zone\n",
            "hikisarkar\n",
            "\n",
            "808)arbarindian: demonetization bulletin \n",
            "Severe liquidity crisis continues. Dire shortage of 500. Reconfigur  ATMs useless bcoz - 2000\n",
            "\n",
            "809)Demonetization  \n",
            "Time will tell whether it's a big though not flawless kick to push the country out of its comfort zone\n",
            "eShobhaa\n",
            "\n",
            "810)Qpk India PM Modi shoots pakistani foot. Pakistan fake currency factory has been clos  demonetization plan will increase India GDP 25%\n",
            "\n",
            "811)Big Bazaar....Big Queues....Big time consumption....Big Mess. Yeah. Chutta toh bhi milega ya nahi? :(\n",
            "\n",
            "bigbazaar demonetization\n",
            "\n",
            "812)Demonetization  \n",
            "Time will tell whether it's a big though not flawless kick to push the country out of its comfort zone\n",
            "ravirmani\n",
            "\n",
            "813)Demonetization  \n",
            "Time will tell whether it's a big though not flawless kick to push the country out of its comfort zone\n",
            "irsanghvi\n",
            "\n",
            "814)evathiRajeevan: These Kerala women are least bother  about demonetization. Because they hardly ever see 500 and 1000 notes. (1/12)\n",
            "\n",
            "815)upasubramanya 's scathing, logical, and articulate take down of Larry Summer's blog post on DeMonetization\n",
            " \n",
            "\n",
            "816)Demonetization  \n",
            "Time will tell whether it's a big though not flawless kick to push the country out of its comfort zone.\n",
            "ritishNandy\n",
            "\n",
            "817)Demonetization  \n",
            "Time will tell whether it's a big though not flawless kick to push the country out of its comfort zone.\n",
            "nupamPkher\n",
            "\n",
            "818)NewsDog Analysis Demonetization EconomicsBehind \n",
            "Economics behind demonetization of Rs 1000 &amp; 500 notes in India. \n",
            "\n",
            "819)Demonetization  \n",
            "Time will tell whether it's a big though not flawless kick to push the country out of its comfort zone.\n",
            "agarikaghose\n",
            "\n",
            "820)na: Demonetization: Paan shop owner gets 'fake' Rs 2,000 note in Ahm abad  \n",
            "\n",
            "821)airajp: One cartoon that explains everything thats happening in DeMonetization Miss  Target; Bad Execution; Severe Collateral Dama\n",
            "\n",
            "822)gautier26: A little notic  consequence of demonetization drive of arendramodi  is that  valley of Kashmir has gone very quiet: no\n",
            "\n",
            "823)airajp: So this DeMonetization has been so Tragic in Implementation that modi govt is Flouting RBI rules for Banking License and Oper\n",
            "\n",
            "824)shu3page: Demonetization : Paan shop owner gets 'fake' Rs 2,000 note in Ahm abad.\n",
            " \n",
            "\n",
            "825)shu3page: Demonetization : Paan shop owner gets 'fake' Rs 2,000 note in Ahm abad.\n",
            " \n",
            "\n",
            "826)People with lots of BlackMoney , shouting more against demonetization . NarendraModi m ia is dividing people in poor and rich. sad\n",
            "\n",
            "827)ishalvkumar: aibhav_CFA History tells that demonetization fail  every where globally. Its like burning down your house to get rid\n",
            "\n",
            "828)ssurjewala: ModiJi,47 dead tragically post over hyp  Demonetization drive!Do u feel the pain of these families?Then, apologize.https\n",
            "\n",
            "829)rishnara eing_Humor unetrac on 12th nov, i had a seizure a few yards away frm ATM... can i blame Demonetization\n",
            "\n",
            "830)Demonetization DeMonetisation RaGa withdrew Rs4000 from ATM &amp; dead terrorists had Rs4000 requires .. eera_26  \n",
            "\n",
            "831)airajp: One cartoon that explains everything thats happening in DeMonetization Miss  Target; Bad Execution; Severe Collateral Dama\n",
            "\n",
            "832)Even the periods of liberals is happening due to demonetization\n",
            "\n",
            "833)shu3page: Demonetization : Paan shop owner gets 'fake' Rs 2,000 note in Ahm abad.\n",
            " \n",
            "\n",
            "834)arendramodi We should have at least 30 minutes to 1 hour session on news channels for what a CommonMan should do in this demonetization.\n",
            "\n",
            "835)arbarindian: demonetization bulletin \n",
            "Severe liquidity crisis continues. Dire shortage of 500. Reconfigur  ATMs useless bcoz - 2000\n",
            "\n",
            "836)airajp: So this DeMonetization has been so Tragic in Implementation that modi govt is Flouting RBI rules for Banking License and Oper\n",
            "\n",
            "837)airajp: So this DeMonetization has been so Tragic in Implementation that modi govt is Flouting RBI rules for Banking License and Oper\n",
            "\n",
            "838)airajp: So this DeMonetization has been so Tragic in Implementation that modi govt is Flouting RBI rules for Banking License and Oper\n",
            "\n",
            "839)BJP haa pass  litmus test as it has perform  well in Bypolls, therby watering down the dreams of Khangress &amp; Aaptards Demonetization\n",
            "\n",
            "840)ikramreuters: India demonetization &amp; markets: net foreign outflow $3B (stocks+bonds) since Nov 8, Nifty -6%, MSCI India 2017 EPS cut\n",
            "\n",
            "841)ikramreuters: India demonetization &amp; markets: net foreign outflow $3B (stocks+bonds) since Nov 8, Nifty -6%, MSCI India 2017 EPS cut\n",
            "\n",
            "842)rvindKejriwal fficeOfRG amataOfficial ne pics of ur party workers helping poor n ordinary pple standing in long qs ? demonetization\n",
            "\n",
            "843)LonerTwiner:   world will see demonetization as big initiative &amp; Indians as change India was looking for long time \n",
            "\n",
            "844)  world will see demonetization as big initiative &amp; Indians as change India was looking for long time LionHeartPM\n",
            "\n",
            "845)airajp: One cartoon that explains everything thats happening in DeMonetization Miss  Target; Bad Execution; Severe Collateral Dama\n",
            "\n",
            "846)animozhi: India will get windfall profit of whooping 4 Lakh crores in 30 days due to demonetization Why people like AK Pappu &amp; Mamata\n",
            "\n",
            "847)Airtel DTH has chang   every channel's number without enough prior notice !! This is more painful than  demonetization 's side effects.\n",
            "\n",
            "848)ikramreuters: India demonetization &amp; markets: net foreign outflow $3B (stocks+bonds) since Nov 8, Nifty -6%, MSCI India 2017 EPS cut\n",
            "\n",
            "849)na: Demonetization: Paan shop owner gets 'fake' Rs 2,000 note in Ahm abad  \n",
            "\n",
            "850)ikramreuters: India demonetization &amp; markets: net foreign outflow $3B (stocks+bonds) since Nov 8, Nifty -6%, MSCI India 2017 EPS cut\n",
            "\n",
            "851)ikramreuters: India demonetization &amp; markets: net foreign outflow $3B (stocks+bonds) since Nov 8, Nifty -6%, MSCI India 2017 EPS cut\n",
            "\n",
            "852)India demonetization &amp; markets: net foreign outflow $3B (stocks+bonds) since Nov 8, Nifty -6%, MSCI India 2017 EPS  \n",
            "\n",
            "853)One cartoon that explains everything thats happening in DeMonetization Miss  Target; Bad Execution; Severe Coll  \n",
            "\n",
            "854)Demonetization of high value currency is just beginning of governments deep and continuous struggle against black money: PM Narendra Modi\n",
            "\n",
            "855)airajp: So this DeMonetization has been so Tragic in Implementation that modi govt is Flouting RBI rules for Banking License and Oper\n",
            "\n",
            "856)esIamSaffron: Must Watch\n",
            ".\n",
            "Delhities Standing in Long Bank Que's Praising PM Modi's Demonetization &amp; Cursing Thug rvindKejriwal\n",
            "htt\n",
            "\n",
            "857)airajp: So this DeMonetization has been so Tragic in Implementation that modi govt is Flouting RBI rules for Banking License and Oper\n",
            "\n",
            "858)airajp: So this DeMonetization has been so Tragic in Implementation that modi govt is Flouting RBI rules for Banking License and Oper\n",
            "\n",
            "859)udarsansand: My humble appeal to all to pl have patience and draw what they ne  from ATMs during this Demonetization phase. My SandA\n",
            "\n",
            "860)airajp: So this DeMonetization has been so Tragic in Implementation that modi govt is Flouting RBI rules for Banking License and Oper\n",
            "\n",
            "861)inhazMerchant: Difficult to verify but if true points to orchestrat  campaign to discr it demonetization with paid fear-mongers htt\n",
            "\n",
            "862)airajp: So this DeMonetization has been so Tragic in Implementation that modi govt is Flouting RBI rules for Banking License and Oper\n",
            "\n",
            "863)arbarindian: demonetization bulletin \n",
            "Severe liquidity crisis continues. Dire shortage of 500. Reconfigur  ATMs useless bcoz - 2000\n",
            "\n",
            "864)bsolutethinker PRE_Official even I thought that builders always dealt in black money &amp; rates will go down soon bcoz of demonetization\n",
            "\n",
            "865)airajp: So this DeMonetization has been so Tragic in Implementation that modi govt is Flouting RBI rules for Banking License and Oper\n",
            "\n",
            "866)What about 70 who di  due to ur Mindless Demonetization.Shameless Pigs concern  abt BJPlamgirizvi  \n",
            "\n",
            "867)ssurjewala: ModiJi,47 dead tragically post over hyp  Demonetization drive!Do u feel the pain of these families?Then, apologize.https\n",
            "\n",
            "868)airajp: So this DeMonetization has been so Tragic in Implementation that modi govt is Flouting RBI rules for Banking License and Oper\n",
            "\n",
            "869)Indian Opposition fail  to understand arendramodi skills before attacking him on demonetization \n",
            " \n",
            "\n",
            "870)evathiRajeevan: These Kerala women are least bother  about demonetization. Because they hardly ever see 500 and 1000 notes. (1/12)\n",
            "\n",
            "871)animozhi: India will get windfall profit of whooping 4 Lakh crores in 30 days due to demonetization Why people like AK Pappu &amp; Mamata\n",
            "\n",
            "872)airajp: So this DeMonetization has been so Tragic in Implementation that modi govt is Flouting RBI rules for Banking License and Oper\n",
            "\n",
            "873)wachhPolitics: Demonetization: It's just the beginning, says PM Modi as BJP MPs endorse his crusade. Worst is yet to come\n",
            "  \n",
            "\n",
            "874)wachhPolitics: Demonetization: It's just the beginning, says PM Modi as BJP MPs endorse his crusade. Worst is yet to come\n",
            "  \n",
            "\n",
            "875)gogoi: Blow to Modi, bypolls election result - all seats won by Cogress &amp; AAP. Modi's demonetization fail . BTW where is Khujli  <U+0915><U+092A>\n",
            "\n",
            "876)tsBollyLive: SalmanKhan Comes In RESCUE Of Poor Peoples Near His Farmhouse | Gives MONEY During Demonetization  \n",
            "\n",
            "877)Blow to Modi, bypolls election result - all seats won by Cogress &amp; AAP. Modi's demonetization fail . BTW where is Khujli  <U+0915><U+092A><U+091F><U+0940>_<U+0915><U+0947><U+091C><U+0930><U+0940>?\n",
            "\n",
            "878)My Cartoon on long queues at banks due to demonetization.  \n",
            "\n",
            "879)Wish to convert black money into white despite demonetization? Here are 10 ways. \n",
            "\n",
            "Disclaimer: Please do not...  \n",
            "\n",
            "880)wachhPolitics: Demonetization: It's just the beginning, says PM Modi as BJP MPs endorse his crusade. Worst is yet to come\n",
            "  \n",
            "\n",
            "881)ardesairajdeep arendramodi, Demonetization typical of Rajdeep working for which party, putting words in poor man's mouth against Modi.\n",
            "\n",
            "882)airajp: Proving again that DeMonetization has no adverse impact on Terrorism or Terror Funding as claim  by modi ji &amp; his Propaganda\n",
            "\n",
            "883)animozhi: India will get windfall profit of whooping 4 Lakh crores in 30 days due to demonetization Why people like AK Pappu &amp; Mamata\n",
            "\n",
            "884)So this DeMonetization has been so Tragic in Implementation that modi govt is Flouting RBI rules for Banking Licen  \n",
            "\n",
            "885)finally liningup at the ATM couldnthelpit  demonetization  notcomplaining ach in round the corner!\n",
            "\n",
            "886)airajp: Proving again that DeMonetization has no adverse impact on Terrorism or Terror Funding as claim  by modi ji &amp; his Propaganda\n",
            "\n",
            "887)yvotetoday: So CJIThakur says there will be riots due to DeMonetization Qs\n",
            ".\n",
            "No SpicesNSecrets \n",
            ".\n",
            "No riots due to citizens Waiting\n",
            "\n",
            "888)shu3page: Demonetization : Paan shop owner gets 'fake' Rs 2,000 note in Ahm abad.\n",
            " \n",
            "\n",
            "889)This is like... Blaming each other for Demonetization\n",
            "\n",
            "~ Kejriwal  \n",
            "\n",
            "890)dehejia: Ambit Capital's much tout  pr iction of a sharp drop in GDP growth, due to demonetization, is bunk, as I explain. https://\n",
            "\n",
            "891)hume: .hsummers raises serious questions about India's demonetization.     \n",
            "\n",
            "892)Demonetization 1000-500 <U+20B9> ke note Chang karne Wale Jo log bank line mei Lage hain unme se mostly black money walo ke rental admi hain.\n",
            "\n",
            "893)tsBollyLive: SalmanKhan Comes In RESCUE Of Poor Peoples Near His Farmhouse | Gives MONEY During Demonetization  \n",
            "\n",
            "894)shu3page: Demonetization : Paan shop owner gets 'fake' Rs 2,000 note in Ahm abad.\n",
            " \n",
            "\n",
            "895)arbarindian: demonetization bulletin \n",
            "Severe liquidity crisis continues. Dire shortage of 500. Reconfigur  ATMs useless bcoz - 2000\n",
            "\n",
            "896)Demonetization: It's just the beginning, says PM Modi as BJP MPs endorse his crusade. Worst is yet to come\n",
            "  \n",
            "\n",
            "897)shu3page: Demonetization : Paan shop owner gets 'fake' Rs 2,000 note in Ahm abad.\n",
            " \n",
            "\n",
            "898)shu3page: Demonetization : Paan shop owner gets 'fake' Rs 2,000 note in Ahm abad.\n",
            " \n",
            "\n",
            "899)Post  today: alumna Mitali Nikore discusses how negative of effects of demonetization on women can be mitigat   \n",
            "\n",
            "900)eetuGarg6: Do check what I was saying demonetization end  fake currency and even end  violence in Kashmir valley! \n",
            "< ><U+ ><U+ >< ><U+00B1><U+0087> \n",
            " \n",
            "\n",
            "901)roundDIndia: Indians know who is corrupt. Corruption to go nil with demonetization in india   demonetizeKEJRIW\n",
            "\n",
            "902)roundDIndia: Indians know who is corrupt. Corruption to go nil with demonetization in india   demonetizeKEJRIW\n",
            "\n",
            "903)shu3page: Demonetization : Paan shop owner gets 'fake' Rs 2,000 note in Ahm abad.\n",
            " \n",
            "\n",
            "904)Indians know who is corrupt. Corruption to go nil with demonetization in india   demonetizeKEJRIWAL\n",
            "\n",
            "905)tulEkIndian every single economist (not bought) is against demonetization &amp; cashless economy yet these fools are treating him like kuber\n",
            "\n",
            "906)shu3page: Demonetization : Paan shop owner gets 'fake' Rs 2,000 note in Ahm abad.\n",
            " \n",
            "\n",
            "907)na: Demonetization: Paan shop owner gets 'fake' Rs 2,000 note in Ahm abad  \n",
            "\n",
            "908)airajp: 2 Weeks into Tragic DeMonetization, just 8% of Withdrawn currency has been replac . So much for Planning &amp; Execution by Fai\n",
            "\n",
            "909)animozhi: India will get windfall profit of whooping 4 Lakh crores in 30 days due to demonetization Why people like AK Pappu &amp; Mamata\n",
            "\n",
            "910)@_Narad: Basically, evil Moodi made people comfortable standing in queues as a result of demonetization. Same people stood in queues to\n",
            "\n",
            "911)animozhi: India will get windfall profit of whooping 4 Lakh crores in 30 days due to demonetization Why people like AK Pappu &amp; Mamata\n",
            "\n",
            "912)shu3page: Demonetization : Paan shop owner gets 'fake' Rs 2,000 note in Ahm abad.\n",
            " \n",
            "\n",
            "913)Basically, evil Moodi made people comfortable standing in queues as a result of demonetization. Same people stood in queues to vote BJP < ><U+ ><U+ >< ><U+ ><U+00B2>\n",
            "\n",
            "914)arbarindian: demonetization bulletin \n",
            "Severe liquidity crisis continues. Dire shortage of 500. Reconfigur  ATMs useless bcoz - 2000\n",
            "\n",
            "915)evathiRajeevan: These Kerala women are least bother  about demonetization. Because they hardly ever see 500 and 1000 notes. (1/12)\n",
            "\n",
            "916)evathiRajeevan: These Kerala women are least bother  about demonetization. Because they hardly ever see 500 and 1000 notes. (1/12)\n",
            "\n",
            "917)airajp: 2 Weeks into Tragic DeMonetization, just 8% of Withdrawn currency has been replac . So much for Planning &amp; Execution by Fai\n",
            "\n",
            "918)evathiRajeevan: These Kerala women are least bother  about demonetization. Because they hardly ever see 500 and 1000 notes. (1/12)\n",
            "\n",
            "919)shu3page: Demonetization : Paan shop owner gets 'fake' Rs 2,000 note in Ahm abad.\n",
            " \n",
            "\n",
            "920)oviezAdda: eingSalmanKhan The SAVIOUR - Gives money To Farmhouse Poor Peoples In Demonetization\n",
            "Check Out < ><U+ ><U+ >< ><U+00B1><U+0089> \n",
            "\n",
            "921)shu3page: Demonetization : Paan shop owner gets 'fake' Rs 2,000 note in Ahm abad.\n",
            " \n",
            "\n",
            "922)na: Demonetization: Paan shop owner gets 'fake' Rs 2,000 note in Ahm abad  \n",
            "\n",
            "923)airajp: 2 Weeks into Tragic DeMonetization, just 8% of Withdrawn currency has been replac . So much for Planning &amp; Execution by Fai\n",
            "\n",
            "924)animozhi: India will get windfall profit of whooping 4 Lakh crores in 30 days due to demonetization Why people like AK Pappu &amp; Mamata\n",
            "\n",
            "925)irnewsalerts: Demonetization of high value currency is just beginning of governments deep and continuous struggle against black mone\n",
            "\n",
            "926)shu3page: Demonetization : Paan shop owner gets 'fake' Rs 2,000 note in Ahm abad.\n",
            " \n",
            "\n",
            "927)arbarindian: demonetization bulletin \n",
            "Severe liquidity crisis continues. Dire shortage of 500. Reconfigur  ATMs useless bcoz - 2000\n",
            "\n",
            "928)na: Demonetization: Paan shop owner gets 'fake' Rs 2,000 note in Ahm abad  \n",
            "\n",
            "929)arbarindian: demonetization bulletin \n",
            "Severe liquidity crisis continues. Dire shortage of 500. Reconfigur  ATMs useless bcoz - 2000\n",
            "\n",
            "930)evathiRajeevan: These Kerala women are least bother  about demonetization. Because they hardly ever see 500 and 1000 notes. (1/12)\n",
            "\n",
            "931)animozhi: India will get windfall profit of whooping 4 Lakh crores in 30 days due to demonetization Why people like AK Pappu &amp; Mamata\n",
            "\n",
            "932)animozhi: India will get windfall profit of whooping 4 Lakh crores in 30 days due to demonetization Why people like AK Pappu &amp; Mamata\n",
            "\n",
            "933)shu3page: Demonetization : Paan shop owner gets 'fake' Rs 2,000 note in Ahm abad.\n",
            " \n",
            "\n",
            "934)animozhi: India will get windfall profit of whooping 4 Lakh crores in 30 days due to demonetization Why people like AK Pappu &amp; Mamata\n",
            "\n",
            "935)hefVaidya: If ppl are so angry wth DeMonetization that they wd NEVER vote for Modi again, rvindKejriwal amataOfficial fficeOfRG\n",
            "\n",
            "936)animozhi: India will get windfall profit of whooping 4 Lakh crores in 30 days due to demonetization Why people like AK Pappu &amp; Mamata\n",
            "\n",
            "937)na: Demonetization: Paan shop owner gets 'fake' Rs 2,000 note in Ahm abad  \n",
            "\n",
            "938)na: Demonetization: Paan shop owner gets 'fake' Rs 2,000 note in Ahm abad  \n",
            "\n",
            "939)arbarindian: demonetization bulletin \n",
            "Severe liquidity crisis continues. Dire shortage of 500. Reconfigur  ATMs useless bcoz - 2000\n",
            "\n",
            "940)shu3page: Demonetization : Paan shop owner gets 'fake' Rs 2,000 note in Ahm abad.\n",
            " \n",
            "\n",
            "941)arbarindian: demonetization bulletin \n",
            "Severe liquidity crisis continues. Dire shortage of 500. Reconfigur  ATMs useless bcoz - 2000\n",
            "\n",
            "942)shu3page: Demonetization : Paan shop owner gets 'fake' Rs 2,000 note in Ahm abad.\n",
            " \n",
            "\n",
            "943)ona2905: When I explain  Demonetization to myself and tri  to put it down in my words which are not lac  with any heavy technical\n",
            "\n",
            "944)na: Demonetization: Paan shop owner gets 'fake' Rs 2,000 note in Ahm abad  \n",
            "\n",
            "945)Demonetization : Paan shop owner gets 'fake' Rs 2,000 note in Ahm abad.\n",
            " \n",
            "\n",
            "946)2 Weeks into Tragic DeMonetization, just 8% of Withdrawn currency has been replac . So much for Planning &amp; Execut  \n",
            "\n",
            "947)anjayuvacha why is demonetization not being taken up seriously in the courts? Why the delay? Help us non-law people understand.\n",
            "\n",
            "948)esIamSaffron: Must Watch\n",
            ".\n",
            "Delhities Standing in Long Bank Que's Praising PM Modi's Demonetization &amp; Cursing Thug rvindKejriwal\n",
            "htt\n",
            "\n",
            "949)na: Demonetization: Paan shop owner gets 'fake' Rs 2,000 note in Ahm abad  \n",
            "\n",
            "950)mitgupta0310: 1/n One can have a cynical view on demonetization but one should not loose the faith in the adaptability of fellow Indi\n",
            "\n",
            "951)nupamdeb775: Jaitley declar  Rs72L cash-in-hand this year.Then why hound ordinary ppl who deposits Rs2L in2a/c DeMonetization   http\n",
            "\n",
            "952)evathiRajeevan: These Kerala women are least bother  about demonetization. Because they hardly ever see 500 and 1000 notes. (1/12)\n",
            "\n",
            "953)uzzammilAap: Demonetization: Paan shop owner gets 'fake' Rs 2,000 note in Ahm abad   rvindKejriwal reetiSM\n",
            "\n",
            "954)na: Demonetization: Paan shop owner gets 'fake' Rs 2,000 note in Ahm abad  \n",
            "\n",
            "955)na: Demonetization: Paan shop owner gets 'fake' Rs 2,000 note in Ahm abad  \n",
            "\n",
            "956)\"19 kill  in Uri Attacks\"\n",
            "\"Attack Pakistan, Destroy Pakistan, Nuke Pakistan\"\n",
            "\"60+ dead due to demonetization\"...  \n",
            "\n",
            "957)na: Demonetization: Paan shop owner gets 'fake' Rs 2,000 note in Ahm abad  \n",
            "\n",
            "958)animozhi: India will get windfall profit of whooping 4 Lakh crores in 30 days due to demonetization Why people like AK Pappu &amp; Mamata\n",
            "\n",
            "959)These Kerala women are least bother  about demonetization. Because they hardly ever see 500 and 1000 notes. (1/12)\n",
            "weavers\n",
            "\n",
            "960)animozhi: India will get windfall profit of whooping 4 Lakh crores in 30 days due to demonetization Why people like AK Pappu &amp; Mamata\n",
            "\n",
            "961)1/n One can have a cynical view on demonetization but one should not loose the faith in the adaptability of fellow Indians in any situation\n",
            "\n",
            "962)ndianInterest: ~BCJustinR says India is through the worst of Demonetization; things should start to improve quite rapidly.\n",
            "\n",
            "https:/\n",
            "\n",
            "963)arbarindian: demonetization bulletin \n",
            "Severe liquidity crisis continues. Dire shortage of 500. Reconfigur  ATMs useless bcoz - 2000\n",
            "\n",
            "964)arbarindian: demonetization bulletin \n",
            "Severe liquidity crisis continues. Dire shortage of 500. Reconfigur  ATMs useless bcoz - 2000\n",
            "\n",
            "965)_smita Me too walk  into ATMs twice since demonetization, cud withdraw cash in less than 5 mins. Nothing out of the world hilpitewari\n",
            "\n",
            "966)By jst sending voice msg or texting msg even a common man would've shar  his opinion on demonetization thr mobile phone\n",
            "\n",
            "967)airajp: Proving again that DeMonetization has no adverse impact on Terrorism or Terror Funding as claim  by modi ji &amp; his Propaganda\n",
            "\n",
            "968)ops333: Experts believe the Demonetization will impact negative on India's GDP . Unplann  misadventure will cost the Economy for a\n",
            "\n",
            "969)ops333: Experts believe the Demonetization will impact negative on India's GDP . Unplann  misadventure will cost the Economy for a\n",
            "\n",
            "970)Mgr HDFCbank \"cash being pump  into nationalis  banks, none here.\"  Mgr PNB \"cash trunks are empty, RBI is not supplying\" demonetization\n",
            "\n",
            "971)arekFatah: ~ rvindKejriwal loses his temper at BBC reporter who questions AAP ldr's link between suicides &amp; demonetization.  https:\n",
            "\n",
            "972)uzzammilAap: Demonetization: Paan shop owner gets 'fake' Rs 2,000 note in Ahm abad   rvindKejriwal reetiSM\n",
            "\n",
            "973)nSubtleDesi: Kejriwal posts pic of dead robber and claims it's demonetization relat  death? How shameless has this man become? https\n",
            "\n",
            "974)animozhi: India will get windfall profit of whooping 4 Lakh crores in 30 days due to demonetization Why people like AK Pappu &amp; Mamata\n",
            "\n",
            "975)na: Demonetization: Paan shop owner gets 'fake' Rs 2,000 note in Ahm abad  \n",
            "\n",
            "976)na: Demonetization: Paan shop owner gets 'fake' Rs 2,000 note in Ahm abad  \n",
            "\n",
            "977)na: Demonetization: Paan shop owner gets 'fake' Rs 2,000 note in Ahm abad  \n",
            "\n",
            "978)@_SwarajIndia: Government's seriousness about black money: Reality or a Sham?\n",
            "nupamConnects speaks on demonetization  \n",
            "\n",
            "979)RBI Sets Firm Guidelines For Withdrawal Of Cash For W dings demonetization    \n",
            "\n",
            "980)na: Demonetization: Paan shop owner gets 'fake' Rs 2,000 note in Ahm abad  \n",
            "\n",
            "981)Demonetization: Paan shop owner gets 'fake' Rs 2,000 note in Ahm abad   rvindKejriwal reetiSMenon artic02\n",
            "\n",
            "982)na: Demonetization: Paan shop owner gets 'fake' Rs 2,000 note in Ahm abad  \n",
            "\n",
            "983)na: Demonetization: Paan shop owner gets 'fake' Rs 2,000 note in Ahm abad  \n",
            "\n",
            "984)oviezAdda: eingSalmanKhan The SAVIOUR - Gives money To Farmhouse Poor Peoples In Demonetization\n",
            "Check Out < ><U+ ><U+ >< ><U+00B1><U+0089> \n",
            "\n",
            "985)na: Demonetization: Paan shop owner gets 'fake' Rs 2,000 note in Ahm abad  \n",
            "\n",
            "986)animozhi: India will get windfall profit of whooping 4 Lakh crores in 30 days due to demonetization Why people like AK Pappu &amp; Mamata\n",
            "\n",
            "987)na: Demonetization: Paan shop owner gets 'fake' Rs 2,000 note in Ahm abad  \n",
            "\n",
            "988)na: Demonetization: Paan shop owner gets 'fake' Rs 2,000 note in Ahm abad  \n",
            "\n",
            "989)na: Demonetization: Paan shop owner gets 'fake' Rs 2,000 note in Ahm abad  \n",
            "\n",
            "990)*Random Thoughts*\n",
            "\n",
            "Enough jokes on Demonetization, also no more posts on politics or social affairs...\n",
            "Probably...  \n",
            "\n",
            "991)But THE FUCK we should PAY for corrupt people crimes, like what's the fucking point!? Demonetization ! Punish them, not us for God's sake\n",
            "\n",
            "992)na: Demonetization: Paan shop owner gets 'fake' Rs 2,000 note in Ahm abad  \n",
            "\n",
            "993)tsBollyLive: SalmanKhan Comes In RESCUE Of Poor Peoples Near His Farmhouse | Gives MONEY During Demonetization  \n",
            "\n",
            "994)Demonetization: Paan shop owner gets 'fake' Rs 2,000 note in Ahm abad  \n",
            "\n",
            "995)amsmithaa: Modiji kill  73 congressis outside banks blackmoney hoarders \n",
            "so not attending Parliament and crying \n",
            "demonetization htt\n",
            "\n",
            "996)esIamSaffron: Must Watch\n",
            ".\n",
            "Delhities Standing in Long Bank Que's Praising PM Modi's Demonetization &amp; Cursing Thug rvindKejriwal\n",
            "htt\n",
            "\n",
            "997)amsmithaa: Modiji kill  73 congressis outside banks blackmoney hoarders \n",
            "so not attending Parliament and crying \n",
            "demonetization htt\n",
            "\n",
            "998)Modiji kill  73 congressis outside banks blackmoney hoarders \n",
            "so not attending Parliament and crying  \n",
            "\n",
            "999)animozhi: India will get windfall profit of whooping 4 Lakh crores in 30 days due to demonetization Why people like AK Pappu &amp; Mamata\n",
            "\n",
            "1000)ata_ValueHomes: After Demonetization, HomeLoans are expect  to drop down to 7-8%. HappyHomes  \n",
            "\n",
            "1001)animozhi: India will get windfall profit of whooping 4 Lakh crores in 30 days due to demonetization Why people like AK Pappu &amp; Mamata\n",
            "\n",
            "1002)itaramlamba: Cooperative banks shut down, sowing season completely disrupt , agri markets &amp; Farmers badly affect  demonetization\n",
            "\n",
            "1003)arbarindian: demonetization bulletin \n",
            "Severe liquidity crisis continues. Dire shortage of 500. Reconfigur  ATMs useless bcoz - 2000\n",
            "\n",
            "1004)esIamSaffron: Must Watch\n",
            ".\n",
            "Delhities Standing in Long Bank Que's Praising PM Modi's Demonetization &amp; Cursing Thug rvindKejriwal\n",
            "htt\n",
            "\n",
            "1005)esIamSaffron: Must Watch\n",
            ".\n",
            "Delhities Standing in Long Bank Que's Praising PM Modi's Demonetization &amp; Cursing Thug rvindKejriwal\n",
            "htt\n",
            "\n",
            "1006)arbarindian: demonetization bulletin \n",
            "Severe liquidity crisis continues. Dire shortage of 500. Reconfigur  ATMs useless bcoz - 2000\n",
            "\n",
            "1007)oviezAdda: eingSalmanKhan The SAVIOUR - Gives money To Farmhouse Poor Peoples In Demonetization\n",
            "Check Out < ><U+ ><U+ >< ><U+00B1><U+0089> \n",
            "\n",
            "1008)arbarindian: demonetization bulletin \n",
            "Severe liquidity crisis continues. Dire shortage of 500. Reconfigur  ATMs useless bcoz - 2000\n",
            "\n",
            "1009)Bhakts at \"Indiarising\" circulating a fake letter to promote Modi's hasty, anti-poor demonetization drive! Just...  \n",
            "\n",
            "1010)esIamSaffron: Must Watch\n",
            ".\n",
            "Delhities Standing in Long Bank Que's Praising PM Modi's Demonetization &amp; Cursing Thug rvindKejriwal\n",
            "htt\n",
            "\n",
            "1011)esIamSaffron: Must Watch\n",
            ".\n",
            "Delhities Standing in Long Bank Que's Praising PM Modi's Demonetization &amp; Cursing Thug rvindKejriwal\n",
            "htt\n",
            "\n",
            "1012)arbarindian: demonetization bulletin \n",
            "Severe liquidity crisis continues. Dire shortage of 500. Reconfigur  ATMs useless bcoz - 2000\n",
            "\n",
            "1013)arbarindian: demonetization bulletin \n",
            "Severe liquidity crisis continues. Dire shortage of 500. Reconfigur  ATMs useless bcoz - 2000\n",
            "\n",
            "1014)tsBollyLive: SalmanKhan Comes In RESCUE Of Poor Peoples Near His Farmhouse | Gives MONEY During Demonetization  \n",
            "\n",
            "1015)animozhi: India will get windfall profit of whooping 4 Lakh crores in 30 days due to demonetization Why people like AK Pappu &amp; Mamata\n",
            "\n",
            "1016)esIamSaffron: Must Watch\n",
            ".\n",
            "Delhities Standing in Long Bank Que's Praising PM Modi's Demonetization &amp; Cursing Thug rvindKejriwal\n",
            "htt\n",
            "\n",
            "1017)nsubtl esi Demonetization Scam in UP buses : ...500/1000 notes to govt.Exchanging money of corrupt\n",
            "\n",
            "1018)animozhi: India will get windfall profit of whooping 4 Lakh crores in 30 days due to demonetization Why people like AK Pappu &amp; Mamata\n",
            "\n",
            "1019)esIamSaffron: Must Watch\n",
            ".\n",
            "Delhities Standing in Long Bank Que's Praising PM Modi's Demonetization &amp; Cursing Thug rvindKejriwal\n",
            "htt\n",
            "\n",
            "1020)animozhi: India will get windfall profit of whooping 4 Lakh crores in 30 days due to demonetization Why people like AK Pappu &amp; Mamata\n",
            "\n",
            "1021)esIamSaffron: Must Watch\n",
            ".\n",
            "Delhities Standing in Long Bank Que's Praising PM Modi's Demonetization &amp; Cursing Thug rvindKejriwal\n",
            "htt\n",
            "\n",
            "1022)Demonetization - what do you mean?\n",
            "\n",
            "It seems ki tere baapu ka Sara paisa is of no use now  \n",
            "\n",
            "1023)Slow claps for everyone speaking against Demonetization and finding people to park their BlackMoney. Yea this was  \n",
            "\n",
            "1024)irnewsalerts: Demonetization of high value currency is just beginning of governments deep and continuous struggle against black mone\n",
            "\n",
            "1025)udarsansand: My humble appeal to all to pl have patience and draw what they ne  from ATMs during this Demonetization phase. My SandA\n",
            "\n",
            "1026)esIamSaffron: Must Watch\n",
            ".\n",
            "Delhities Standing in Long Bank Que's Praising PM Modi's Demonetization &amp; Cursing Thug rvindKejriwal\n",
            "htt\n",
            "\n",
            "1027)esIamSaffron: Must Watch\n",
            ".\n",
            "Delhities Standing in Long Bank Que's Praising PM Modi's Demonetization &amp; Cursing Thug rvindKejriwal\n",
            "htt\n",
            "\n",
            "1028)esIamSaffron: Must Watch\n",
            ".\n",
            "Delhities Standing in Long Bank Que's Praising PM Modi's Demonetization &amp; Cursing Thug rvindKejriwal\n",
            "htt\n",
            "\n",
            "1029)A way to vent your anger? Demonetization\n",
            "\n",
            " \n",
            "\n",
            "1030)arbarindian: demonetization bulletin \n",
            "Severe liquidity crisis continues. Dire shortage of 500. Reconfigur  ATMs useless bcoz - 2000\n",
            "\n",
            "1031)animozhi: India will get windfall profit of whooping 4 Lakh crores in 30 days due to demonetization Why people like AK Pappu &amp; Mamata\n",
            "\n",
            "1032)animozhi: India will get windfall profit of whooping 4 Lakh crores in 30 days due to demonetization Why people like AK Pappu &amp; Mamata\n",
            "\n",
            "1033)arbarindian: demonetization bulletin \n",
            "Severe liquidity crisis continues. Dire shortage of 500. Reconfigur  ATMs useless bcoz - 2000\n",
            "\n",
            "1034)animozhi: India will get windfall profit of whooping 4 Lakh crores in 30 days due to demonetization Why people like AK Pappu &amp; Mamata\n",
            "\n",
            "1035)After Demonetization, HomeLoans are expect  to drop down to 7-8%. HappyHomes  \n",
            "\n",
            "1036)arendramodi MannKiBaat Sir I just want  to let u know that I a Common Man fully support ur Demonetization measure. Don't loose heart.\n",
            "\n",
            "1037)When entire nation is behind ATM centres, I lost my Wallet with all my cards and IDs. \n",
            "\n",
            "ATM Demonetization...  \n",
            "\n",
            "1038)animozhi: India will get windfall profit of whooping 4 Lakh crores in 30 days due to demonetization Why people like AK Pappu &amp; Mamata\n",
            "\n",
            "1039)shujoshi27: This is not at all sign on failure of Demonetization, its actually sign of local support to terrorist.  \n",
            "\n",
            "1040)arbarindian: demonetization bulletin \n",
            "Severe liquidity crisis continues. Dire shortage of 500. Reconfigur  ATMs useless bcoz - 2000\n",
            "\n",
            "1041)Black market guys charging ..for blackmoney 200, 100 against 500...\n",
            "all are making money demonetization  \n",
            "\n",
            "1042)This is not at all sign on failure of Demonetization, its actually sign of local support to terrorist.  \n",
            "\n",
            "1043)arbarindian: demonetization bulletin \n",
            "Severe liquidity crisis continues. Dire shortage of 500. Reconfigur  ATMs useless bcoz - 2000\n",
            "\n",
            "1044)Stupid socialist nations dont have foolproof right to property. Demonetization proves India is socialist Shameful\n",
            "\n",
            "1045)ndianInterest: ~BCJustinR says India is through the worst of Demonetization; things should start to improve quite rapidly.\n",
            "\n",
            "https:/\n",
            "\n",
            "1046)arbarindian: demonetization bulletin \n",
            "Severe liquidity crisis continues. Dire shortage of 500. Reconfigur  ATMs useless bcoz - 2000\n",
            "\n",
            "1047)arbarindian: demonetization bulletin \n",
            "Severe liquidity crisis continues. Dire shortage of 500. Reconfigur  ATMs useless bcoz - 2000\n",
            "\n",
            "1048)arbarindian: demonetization bulletin \n",
            "Severe liquidity crisis continues. Dire shortage of 500. Reconfigur  ATMs useless bcoz - 2000\n",
            "\n",
            "1049)anklechaD: By supporting Demonetization Anna Hajare Prov  that KejriKaJuth &amp; always spreads false Propaganda\n",
            "\n",
            "Rt if agree\n",
            "\n",
            "1050)arbarindian: demonetization bulletin \n",
            "Severe liquidity crisis continues. Dire shortage of 500. Reconfigur  ATMs useless bcoz - 2000\n",
            "\n",
            "1051)arbarindian: demonetization bulletin \n",
            "Severe liquidity crisis continues. Dire shortage of 500. Reconfigur  ATMs useless bcoz - 2000\n",
            "\n",
            "1052)By supporting Demonetization Anna Hajare Prov  that KejriKaJuth &amp; always spreads false Propaganda\n",
            "\n",
            "Rt if agree\n",
            "\n",
            "1053)irnewsalerts: Demonetization of high value currency is just beginning of governments deep and continuous struggle against black mone\n",
            "\n",
            "1054)arbarindian: demonetization bulletin \n",
            "Severe liquidity crisis continues. Dire shortage of 500. Reconfigur  ATMs useless bcoz - 2000\n",
            "\n",
            "1055)arbarindian: demonetization bulletin \n",
            "Severe liquidity crisis continues. Dire shortage of 500. Reconfigur  ATMs useless bcoz - 2000\n",
            "\n",
            "1056)arbarindian: demonetization bulletin \n",
            "Severe liquidity crisis continues. Dire shortage of 500. Reconfigur  ATMs useless bcoz - 2000\n",
            "\n",
            "1057)corrupt once is corrupt always.demonetization\n",
            "\n",
            "1058)oviezAdda: eingSalmanKhan The SAVIOUR - Gives money To Farmhouse Poor Peoples In Demonetization\n",
            "Check Out < ><U+ ><U+ >< ><U+00B1><U+0089> \n",
            "\n",
            "1059)arbarindian: demonetization bulletin \n",
            "Severe liquidity crisis continues. Dire shortage of 500. Reconfigur  ATMs useless bcoz - 2000\n",
            "\n",
            "1060)arekFatah: ~ rvindKejriwal loses his temper at BBC reporter who questions AAP ldr's link between suicides &amp; demonetization.  https:\n",
            "\n",
            "1061)anichandra2010: If Tripura  is bench mark, Demonetization had positive impact. BJP gains 20% vote. Congress  loses  41%. Other seats\n",
            "\n",
            "1062)ndianInterest: ~BCJustinR says India is through the worst of Demonetization; things should start to improve quite rapidly.\n",
            "\n",
            "https:/\n",
            "\n",
            "1063)It is fact that unprepar  Demonetization has severely affect  common man and economy regardless to debate in favor or against it.\n",
            "\n",
            "1064)arbarindian: demonetization bulletin \n",
            "Severe liquidity crisis continues. Dire shortage of 500. Reconfigur  ATMs useless bcoz - 2000\n",
            "\n",
            "1065)heHapppySoul: Don't believe what you randomly read on SocialM ia about Demonetization. Give it some time! GoodThings take time!\n",
            "\n",
            "1066)Where advertising fail  to cut cigarette smoking, Demonetization creat  a cash crunch and cut cigarette sales by 40%\n",
            "\n",
            "1067)airajp: Proving again that DeMonetization has no adverse impact on Terrorism or Terror Funding as claim  by modi ji &amp; his Propaganda\n",
            "\n",
            "1068)arbarindian: demonetization bulletin \n",
            "Severe liquidity crisis continues. Dire shortage of 500. Reconfigur  ATMs useless bcoz - 2000\n",
            "\n",
            "1069)itaramlamba: Cooperative banks shut down, sowing season completely disrupt , agri markets &amp; Farmers badly affect  demonetization\n",
            "\n",
            "1070)arbarindian: demonetization bulletin \n",
            "Severe liquidity crisis continues. Dire shortage of 500. Reconfigur  ATMs useless bcoz - 2000\n",
            "\n",
            "1071)arbarindian: demonetization bulletin \n",
            "Severe liquidity crisis continues. Dire shortage of 500. Reconfigur  ATMs useless bcoz - 2000\n",
            "\n",
            "1072)arbarindian: demonetization bulletin \n",
            "Severe liquidity crisis continues. Dire shortage of 500. Reconfigur  ATMs useless bcoz - 2000\n",
            "\n",
            "1073)ndianInterest: ~BCJustinR says India is through the worst of Demonetization; things should start to improve quite rapidly.\n",
            "\n",
            "https:/\n",
            "\n",
            "1074)Chaos incit  to destabilize demonetization for ballot gain is country's ill luck. Help people if at risk. We are Gov not Modi. ugaYatri\n",
            "\n",
            "1075)arbarindian: demonetization bulletin \n",
            "Severe liquidity crisis continues. Dire shortage of 500. Reconfigur  ATMs useless bcoz - 2000\n",
            "\n",
            "1076)arbarindian: demonetization bulletin \n",
            "Severe liquidity crisis continues. Dire shortage of 500. Reconfigur  ATMs useless bcoz - 2000\n",
            "\n",
            "1077)arbarindian: demonetization bulletin \n",
            "Severe liquidity crisis continues. Dire shortage of 500. Reconfigur  ATMs useless bcoz - 2000\n",
            "\n",
            "1078)arbarindian: demonetization bulletin \n",
            "Severe liquidity crisis continues. Dire shortage of 500. Reconfigur  ATMs useless bcoz - 2000\n",
            "\n",
            "1079)arbarindian: demonetization bulletin \n",
            "Severe liquidity crisis continues. Dire shortage of 500. Reconfigur  ATMs useless bcoz - 2000\n",
            "\n",
            "1080)Chaos incit  to destabilize demonetization for ballot gain is country's ill luck. Help people if at risk. We are Gov not Modi. MOIndia\n",
            "\n",
            "1081)demonetization bulletin \n",
            "Severe liquidity crisis continues. Dire shortage of 500. Reconfigur  ATMs useless bcoz - 2000 only.\n",
            "\n",
            "1082)Don't believe what you randomly read on SocialM ia about Demonetization. Give it some time! GoodThings take time!\n",
            "\n",
            "1083)Don't believe what you randomly read on SocialM ia about Demonetization. Give it some time! GoodThings take time!\n",
            "\n",
            "1084)Don't believe what you randomly read on SocialM ia about Demonetization. Give it some time! GoodThings take time!\n",
            "\n",
            "1085)Don't believe what you randomly read on SocialM ia about Demonetization. Give it some time! GoodThings take time!\n",
            "\n",
            "1086)animozhi: India will get windfall profit of whooping 4 Lakh crores in 30 days due to demonetization Why people like AK Pappu &amp; Mamata\n",
            "\n",
            "1087)animozhi: India will get windfall profit of whooping 4 Lakh crores in 30 days due to demonetization Why people like AK Pappu &amp; Mamata\n",
            "\n",
            "1088)ndianInterest: ~BCJustinR says India is through the worst of Demonetization; things should start to improve quite rapidly.\n",
            "\n",
            "https:/\n",
            "\n",
            "1089)ndianInterest: ~BCJustinR says India is through the worst of Demonetization; things should start to improve quite rapidly.\n",
            "\n",
            "https:/\n",
            "\n",
            "1090)etter_delhincr: Two weeks since demonetization now cues slightly ease at Banks &amp; ATMs!! Still larger nos in patient cues than at thi\n",
            "\n",
            "1091)ndianInterest: ~BCJustinR says India is through the worst of Demonetization; things should start to improve quite rapidly.\n",
            "\n",
            "https:/\n",
            "\n",
            "1092)Just saw a guy who was standing in queue for 1 hour only to withdraw <U+20B9>100 to reach his home... Sad isn't it? NoteBan Demonetization\n",
            "\n",
            "1093)Demonetization\n",
            "Mamta=taking money away frm ppl\n",
            "Raul= giving money to rich\n",
            "Kejri=to save some BJPblack\n",
            "Sonia=??\n",
            "Yechuri=just sham\n",
            "!!!!\n",
            "\n",
            "1094)animozhi: India will get windfall profit of whooping 4 Lakh crores in 30 days due to demonetization Why people like AK Pappu &amp; Mamata\n",
            "\n",
            "1095)ndianInterest: ~BCJustinR says India is through the worst of Demonetization; things should start to improve quite rapidly.\n",
            "\n",
            "https:/\n",
            "\n",
            "1096)Coward is the name of Pakistan army unethically the worst army in the world, they are worse than terrorists! Bypolls Demonetization\n",
            "\n",
            "1097)oviezAdda: Salman Gives MONEY To POOR People In DEMONETIZATION, KareenaKapoor To Go SIZEZERO AGAIN  \n",
            "\n",
            "1098)anish847211: demonetization\n",
            "Gov is acting like genius brain of paralys  body\n",
            "Bank&amp;IT people are corrupt\n",
            "Really upset for you &amp; Ourse\n",
            "\n",
            "1099)demonetization\n",
            "Gov is acting like genius brain of paralys  body\n",
            "Bank&amp;IT people are corrupt\n",
            "Really upset for you &amp; Ourselves arendramodi\n",
            "\n",
            "1100)animozhi: India will get windfall profit of whooping 4 Lakh crores in 30 days due to demonetization Why people like AK Pappu &amp; Mamata\n",
            "\n",
            "1101)ssurjewala: ModiJi,47 dead tragically post over hyp  Demonetization drive!Do u feel the pain of these families?Then, apologize.https\n",
            "\n",
            "1102)ndianInterest: ~BCJustinR says India is through the worst of Demonetization; things should start to improve quite rapidly.\n",
            "\n",
            "https:/\n",
            "\n",
            "1103)Made me forget demonetization for a sec! I always fail to understand why we do not have such shitty examples relat  \n",
            "\n",
            "1104)ndianInterest: ~BCJustinR says India is through the worst of Demonetization; things should start to improve quite rapidly.\n",
            "\n",
            "https:/\n",
            "\n",
            "1105)  Did you say northeast? Come again, please. Fail Demonetization  \n",
            "\n",
            "1106)~BBCJustinR says India is through the worst of Demonetization; things should start to improve quite rapidly.\n",
            "\n",
            " \n",
            "\n",
            "1107)~BCJustinR says India is through the worst of Demonetization; things should start to improve quite rapidly.\n",
            "\n",
            " \n",
            "\n",
            "1108)animozhi: India will get windfall profit of whooping 4 Lakh crores in 30 days due to demonetization Why people like AK Pappu &amp; Mamata\n",
            "\n",
            "1109)oldenarcher:   In less than two weeks, it's business as usual. God save this country. Demonetization.\n",
            "\n",
            "1110)anjaybafna: Web link of \"Fake Story\" Publish  by Economic Times on IT Notice < ><U+ ><U+ >< ><U+00B1><U+0087> Demonetization \n",
            " \n",
            "\n",
            "1111)animozhi: India will get windfall profit of whooping 4 Lakh crores in 30 days due to demonetization Why people like AK Pappu &amp; Mamata\n",
            "\n",
            "1112)animozhi: India will get windfall profit of whooping 4 Lakh crores in 30 days due to demonetization Why people like AK Pappu &amp; Mamata\n",
            "\n",
            "1113)oldenarcher:   In less than two weeks, it's business as usual. God save this country. Demonetization.\n",
            "\n",
            "1114)oldenarcher:   In less than two weeks, it's business as usual. God save this country. Demonetization.\n",
            "\n",
            "1115)aytm had a windfall due to demonetization. Luck isnt enough to grab opportunities:They have work  hard,built the product,market &amp; trust\n",
            "\n",
            "1116)iv ithg: [Data] Social M ia reactions to Demonetization    \n",
            "\n",
            "1117)animozhi: India will get windfall profit of whooping 4 Lakh crores in 30 days due to demonetization Why people like AK Pappu &amp; Mamata\n",
            "\n",
            "1118)animozhi: India will get windfall profit of whooping 4 Lakh crores in 30 days due to demonetization Why people like AK Pappu &amp; Mamata\n",
            "\n",
            "1119)animozhi: India will get windfall profit of whooping 4 Lakh crores in 30 days due to demonetization Why people like AK Pappu &amp; Mamata\n",
            "\n",
            "1120)  In less than two weeks, it's business as usual. God save this country. Demonetization.\n",
            "\n",
            "1121)ayKay074: This is absolute humiliation for arendramodi 's poor demonetization execution\n",
            "\n",
            " \n",
            "\n",
            "1122)This is absolute humiliation for arendramodi 's poor demonetization execution\n",
            "\n",
            " \n",
            "\n",
            "1123)animozhi: India will get windfall profit of whooping 4 Lakh crores in 30 days due to demonetization Why people like AK Pappu &amp; Mamata\n",
            "\n",
            "1124)fficeChai: Outside of your thoughts on demonetization you have to give it to MOindia for having its digital game on point  \n",
            "\n",
            "1125)animozhi: India will get windfall profit of whooping 4 Lakh crores in 30 days due to demonetization Why people like AK Pappu &amp; Mamata\n",
            "\n",
            "1126)animozhi: India will get windfall profit of whooping 4 Lakh crores in 30 days due to demonetization Why people like AK Pappu &amp; Mamata\n",
            "\n",
            "1127)iv ithg: [Data] Social M ia reactions to Demonetization    \n",
            "\n",
            "1128)animozhi: India will get windfall profit of whooping 4 Lakh crores in 30 days due to demonetization Why people like AK Pappu &amp; Mamata\n",
            "\n",
            "1129)Ek aur minor inconvenience! Demonetization BlackMoney NoteNahiPMBadlo  \n",
            "\n",
            "1130)animozhi: India will get windfall profit of whooping 4 Lakh crores in 30 days due to demonetization Why people like AK Pappu &amp; Mamata\n",
            "\n",
            "1131)iv ithg: [Data] Social M ia reactions to Demonetization    \n",
            "\n",
            "1132)hume: .hsummers raises serious questions about India's demonetization.     \n",
            "\n",
            "1133)irnewsalerts: Demonetization of high value currency is just beginning of governments deep and continuous struggle against black mone\n",
            "\n",
            "1134)iv ithg: [Data] Social M ia reactions to Demonetization    \n",
            "\n",
            "1135)iv ithg: [Data] Social M ia reactions to Demonetization    \n",
            "\n",
            "1136)iv ithg: [Data] Social M ia reactions to Demonetization    \n",
            "\n",
            "1137)iv ithg: [Data] Social M ia reactions to Demonetization    \n",
            "\n",
            "1138)Outside of your thoughts on demonetization you have to give it to MOindia for having its digital game on point  \n",
            "\n",
            "1139)irnewsalerts: Demonetization of high value currency is just beginning of governments deep and continuous struggle against black mone\n",
            "\n",
            "1140)@_SwarajIndia: Government's seriousness about black money: Reality or a Sham?\n",
            "nupamConnects speaks on demonetization  \n",
            "\n",
            "1141)animozhi: India will get windfall profit of whooping 4 Lakh crores in 30 days due to demonetization Why people like AK Pappu &amp; Mamata\n",
            "\n",
            "1142)tsBollyLive: SalmanKhan Comes In RESCUE Of Poor Peoples Near His Farmhouse | Gives MONEY During Demonetization  \n",
            "\n",
            "1143)inhazMerchant: Difficult to verify but if true points to orchestrat  campaign to discr it demonetization with paid fear-mongers htt\n",
            "\n",
            "1144)oshan_INC: Leader of AamAadmi Shri Rahul Gandhiji meets people outside ATM, talks to them abt problems fac  due to Demonetization \n",
            "\n",
            "1145)anjaybafna: Web link of \"Fake Story\" Publish  by Economic Times on IT Notice < ><U+ ><U+ >< ><U+00B1><U+0087> Demonetization \n",
            " \n",
            "\n",
            "1146)animozhi: India will get windfall profit of whooping 4 Lakh crores in 30 days due to demonetization Why people like AK Pappu &amp; Mamata\n",
            "\n",
            "1147)animozhi: India will get windfall profit of whooping 4 Lakh crores in 30 days due to demonetization Why people like AK Pappu &amp; Mamata\n",
            "\n",
            "1148)ona2905: When I explain  Demonetization to myself and tri  to put it down in my words which are not lac  with any heavy technical\n",
            "\n",
            "1149)esIamSaffron: Must Watch\n",
            ".\n",
            "Delhities Standing in Long Bank Que's Praising PM Modi's Demonetization &amp; Cursing Thug rvindKejriwal\n",
            "htt\n",
            "\n",
            "1150)shokepandit: If this is true,then it's the biggest benefit of demonetization. Other trrsts &amp; political Ldrs will fall in the line. ht\n",
            "\n",
            "1151)oviezAdda: eingSalmanKhan The SAVIOUR - Gives money To Farmhouse Poor Peoples In Demonetization\n",
            "Check Out < ><U+ ><U+ >< ><U+00B1><U+0089> \n",
            "\n",
            "1152)esIamSaffron: Must Watch\n",
            ".\n",
            "Delhities Standing in Long Bank Que's Praising PM Modi's Demonetization &amp; Cursing Thug rvindKejriwal\n",
            "htt\n",
            "\n",
            "1153)airajp: Proving again that DeMonetization has no adverse impact on Terrorism or Terror Funding as claim  by modi ji &amp; his Propaganda\n",
            "\n",
            "1154)airajp: Proving again that DeMonetization has no adverse impact on Terrorism or Terror Funding as claim  by modi ji &amp; his Propaganda\n",
            "\n",
            "1155)animozhi: India will get windfall profit of whooping 4 Lakh crores in 30 days due to demonetization Why people like AK Pappu &amp; Mamata\n",
            "\n",
            "1156)oviezAdda: eingSalmanKhan The SAVIOUR - Gives money To Farmhouse Poor Peoples In Demonetization\n",
            "Check Out < ><U+ ><U+ >< ><U+00B1><U+0089> \n",
            "\n",
            "1157)animozhi: India will get windfall profit of whooping 4 Lakh crores in 30 days due to demonetization Why people like AK Pappu &amp; Mamata\n",
            "\n",
            "1158)kshaysinghel: BJP Parliamentary arendramodi Ji says that Demonetization not end but beginning of struggle against black money mit\n",
            "\n",
            "1159).eing_Humor Ma'am unetrac my friend whose name is 'Arvind Banerjee' couldn't poop for 5 days due to ATM queues after DeMonetization.\n",
            "\n",
            "1160)animozhi: India will get windfall profit of whooping 4 Lakh crores in 30 days due to demonetization Why people like AK Pappu &amp; Mamata\n",
            "\n",
            "1161)irnewsalerts: Demonetization of high value currency is just beginning of governments deep and continuous struggle against black mone\n",
            "\n",
            "1162)animozhi: India will get windfall profit of whooping 4 Lakh crores in 30 days due to demonetization Why people like AK Pappu &amp; Mamata\n",
            "\n",
            "1163)airajp: Proving again that DeMonetization has no adverse impact on Terrorism or Terror Funding as claim  by modi ji &amp; his Propaganda\n",
            "\n",
            "1164)animozhi: India will get windfall profit of whooping 4 Lakh crores in 30 days due to demonetization Why people like AK Pappu &amp; Mamata\n",
            "\n",
            "1165)animozhi: India will get windfall profit of whooping 4 Lakh crores in 30 days due to demonetization Why people like AK Pappu &amp; Mamata\n",
            "\n",
            "1166)nSubtleDesi: Kejriwal posts pic of dead robber and claims it's demonetization relat  death? How shameless has this man become? https\n",
            "\n",
            "1167)A few 'Experts' derid  demonetization, claiming black money isn't stor  as cash!\n",
            "yogiadityanath govt means busi  \n",
            "\n",
            "1168)amewils: emeghnad And finally.. If Government seriously believe that PAN is compromis  in the manner AG is vocal, please do a demon\n",
            "\n",
            "1169)amewils: emeghnad And finally.. If Government seriously believe that PAN is compromis  in the manner AG is vocal, please do a demon\n",
            "\n",
            "1170)amewils: emeghnad And finally.. If Government seriously believe that PAN is compromis  in the manner AG is vocal, please do a demon\n",
            "\n",
            "1171)amewils: emeghnad And finally.. If Government seriously believe that PAN is compromis  in the manner AG is vocal, please do a demon\n",
            "\n",
            "1172)amewils: emeghnad And finally.. If Government seriously believe that PAN is compromis  in the manner AG is vocal, please do a demon\n",
            "\n",
            "1173)riyavarshini10 dtv Demonetization was brought again black money....So I hope there's no black money left in cou  \n",
            "\n",
            "1174)opalee67: enkatN_Tss NNnews18 Failure of demonetization?\n",
            "\n",
            "1175)enkatN_Tss NNnews18 Failure of demonetization?\n",
            "\n",
            "1176)Indian Silver Imports Fail To Improve Post Demonetization   podcasts\n",
            "\n",
            "1177)Former RBI governor YV R dy says note ban had almost no impact on black money, graft   Demonetization SayNotoModi\n",
            "\n",
            "1178)amewils: emeghnad And finally.. If Government seriously believe that PAN is compromis  in the manner AG is vocal, please do a demon\n",
            "\n",
            "1179)Black money:Demonetization::Pan card fraud:mandatory Aadhar\n",
            "\n",
            "1180)CICIBank Demonetization help  u this much that hav start  d ucting fake service charges.Is this digital India. arendramodi sprasad\n",
            "\n",
            "1181)amewils: emeghnad And finally.. If Government seriously believe that PAN is compromis  in the manner AG is vocal, please do a demon\n",
            "\n",
            "1182)amewils: emeghnad And finally.. If Government seriously believe that PAN is compromis  in the manner AG is vocal, please do a demon\n",
            "\n",
            "1183)amewils: emeghnad And finally.. If Government seriously believe that PAN is compromis  in the manner AG is vocal, please do a demon\n",
            "\n",
            "1184)amewils: emeghnad And finally.. If Government seriously believe that PAN is compromis  in the manner AG is vocal, please do a demon\n",
            "\n",
            "1185)amewils: emeghnad And finally.. If Government seriously believe that PAN is compromis  in the manner AG is vocal, please do a demon\n",
            "\n",
            "1186)rankieMendonca: Farzirashtrawadh\n",
            "\n",
            "VoteCongElectBJP \n",
            "\n",
            "BJP specialist @\n",
            "\n",
            "Dr Saab \n",
            "Demonetization corruption,\n",
            "Fake pension in MCD, \n",
            "< ><U+ ><U+ >< ><U+00B9><U+0088>< ><U+ ><U+ >< ><U+00B9><U+0089>< ><U+ ><U+ >< ><U+00B9><U+008A>\n",
            "\n",
            "1187)Farzirashtrawadh\n",
            "\n",
            "VoteCongElectBJP \n",
            "\n",
            "BJP specialist @\n",
            "\n",
            "Dr Saab \n",
            "Demonetization corruption,\n",
            "Fake pension in MCD,  \n",
            "\n",
            "1188)amewils: emeghnad And finally.. If Government seriously believe that PAN is compromis  in the manner AG is vocal, please do a demon\n",
            "\n",
            "1189)amewils: emeghnad And finally.. If Government seriously believe that PAN is compromis  in the manner AG is vocal, please do a demon\n",
            "\n",
            "1190)amewils: emeghnad And finally.. If Government seriously believe that PAN is compromis  in the manner AG is vocal, please do a demon\n",
            "\n",
            "1191)How will you control your beaurucracy arendramodi ji. Folks are back in Business. Common ppl bearing brunt of Dem  \n",
            "\n",
            "1192)8/To compensate for fail  demonetization GOVT budgets on health,  ucation etc have been cut, taxes increas , PPF, FD rates r uc !\n",
            "\n",
            "1193)emeghnad And finally.. If Government seriously believe that PAN is compromis  in the manner AG is vocal, please  \n",
            "\n",
            "1194)oonLiberal Modi BJP are covering up demonetization disaster.In fact Indian economy is badly crippl  by this.Stil  \n",
            "\n",
            "1195)5/It is said d parliamentary committee report terms d decision making in implementation of demonetization as arbitrary, with poor planning\n",
            "\n",
            "1196)AJUPAUNIKAR Never seen such a dumb leader, he brought a disaster like demonetization resulting massive unemployment and crash economy\n",
            "\n",
            "1197)arendramodi Demonetization - common man finding difficulty in paying cash at small stores as they dont have swiping machines\n",
            "\n",
            "1198)arendramodi : Demonetization  - ppl have start  making black money with 2000/- notes, pls ban them ASAP\n",
            "\n",
            "1199)unnyLeone ewelsoukin This jewellery sec loot  India on demonetization.\n",
            "\n",
            "1200)Netizen arrest  for telling the truth about NaraPayyan NaraLokesh. Eppdi da Rs 14 crore becomes Rs 330 crore in one month? demonetization\n",
            "\n",
            "1201)s_rana: Demonetization is the 2nd biggest jumla after \"EVMs are tamper-proof\" jumla in history of India! Un ucat  &amp; corrupt PM is a\n",
            "\n",
            "1202)s_rana: Demonetization is the 2nd biggest jumla after \"EVMs are tamper-proof\" jumla in history of India! Un ucat  &amp; corrupt PM is a\n",
            "\n",
            "1203)s_rana: Demonetization is the 2nd biggest jumla after \"EVMs are tamper-proof\" jumla in history of India! Un ucat  &amp; corrupt PM is a\n",
            "\n",
            "1204)s_rana: Demonetization is the 2nd biggest jumla after \"EVMs are tamper-proof\" jumla in history of India! Un ucat  &amp; corrupt PM is a\n",
            "\n",
            "1205)s_rana: Demonetization is the 2nd biggest jumla after \"EVMs are tamper-proof\" jumla in history of India! Un ucat  &amp; corrupt PM is a\n",
            "\n",
            "1206)s_rana: Demonetization is the 2nd biggest jumla after \"EVMs are tamper-proof\" jumla in history of India! Un ucat  &amp; corrupt PM is a\n",
            "\n",
            "1207)s_rana: Demonetization is the 2nd biggest jumla after \"EVMs are tamper-proof\" jumla in history of India! Un ucat  &amp; corrupt PM is a\n",
            "\n",
            "1208)dil14384: This makes me wonder, was Demonetization done to end black money or was it actually done to benefit Corporates?\n",
            "\n",
            "1209)s_rana: Demonetization is the 2nd biggest jumla after \"EVMs are tamper-proof\" jumla in history of India! Un ucat  &amp; corrupt PM is a\n",
            "\n",
            "1210)s_rana: Demonetization is the 2nd biggest jumla after \"EVMs are tamper-proof\" jumla in history of India! Un ucat  &amp; corrupt PM is a\n",
            "\n",
            "1211)s_rana: Demonetization is the 2nd biggest jumla after \"EVMs are tamper-proof\" jumla in history of India! Un ucat  &amp; corrupt PM is a\n",
            "\n",
            "1212)s_rana: Demonetization is the 2nd biggest jumla after \"EVMs are tamper-proof\" jumla in history of India! Un ucat  &amp; corrupt PM is a\n",
            "\n",
            "1213)s_rana: Demonetization is the 2nd biggest jumla after \"EVMs are tamper-proof\" jumla in history of India! Un ucat  &amp; corrupt PM is a\n",
            "\n",
            "1214)In India, ecommerce is still a relatively small proportion of total retail sales, about 3% to 4%.  \n",
            "\n",
            "1215)iteshEconomist: 70% of excise collection comes from oil &amp; gas so it's up 25% doesn't mean demonetization has no effect\n",
            "jit_ranade h\n",
            "\n",
            "1216)s_rana: Demonetization is the 2nd biggest jumla after \"EVMs are tamper-proof\" jumla in history of India! Un ucat  &amp; corrupt PM is a\n",
            "\n",
            "1217)halinigAAP: atish_char: halinigAAP ayurpanghaal 150 DEAD in Demonetization Pathankkot incident after CAKE Eating VYAP https:\n",
            "\n",
            "1218)atish_char: halinigAAP ayurpanghaal 150 DEAD in Demonetization Pathankkot incident after CAKE Eating VYAP  \n",
            "\n",
            "1219)s_rana: Demonetization is the 2nd biggest jumla after \"EVMs are tamper-proof\" jumla in history of India! Un ucat  &amp; corrupt PM is a\n",
            "\n",
            "1220)atish_char: halinigAAP ayurpanghaal 150 DEAD in Demonetization\n",
            "Pathankkot incident after CAKE Eating\n",
            "VYAPAM SCAM\n",
            "60 DEATHS in VYAP\n",
            "\n",
            "1221)halinigAAP ayurpanghaal 150 DEAD in Demonetization\n",
            "Pathankkot incident after CAKE Eating\n",
            "VYAPAM SCAM\n",
            "60 DEATHS  \n",
            "\n",
            "1222)overnancenow: Cooperative banks are flush with funds following demonetization, yet suffers from trust deficit | eeminhas  \n",
            "\n",
            "1223)mmU_MaanU: 3/ If that had happen , it would have been a windfall, ALAS, it never happen . demonetization had 2 be consign  2 histo\n",
            "\n",
            "1224)3/ If that had happen , it would have been a windfall, ALAS, it never happen . demonetization had 2 be consign  2 history as a disaster\n",
            "\n",
            "1225)idyadharana: terIndia harat_builder  If True, it means Banks are in Bad Shape, Demonetization fail . Now Desperate to make Money\n",
            "\n",
            "1226)Demonetization: is it an illegal move by Modi government?   LawSikho\n",
            "\n",
            "1227)Demonetization will cut growth by less than half a percentage point in 2017: IMF  \n",
            "\n",
            "1228)  Congress beaten on Demonetization but not ready to learn, continu  opposition looks like support for black money\n",
            "\n",
            "1229)This makes me wonder, was Demonetization done to end black money or was it actually done to benefit Corporates?\n",
            "\n",
            "1230)amjaw 65 Pay tm was a well known name prior to demonetization coz of Uber / Ola etc. write ups are really poor\n",
            "\n",
            "1231)upasubramanya: Jagdish Bhagwati, dehejia ,Pravin Krishna tell demonetization critics: You got it plain wrong and we got it right. ht\n",
            "\n",
            "1232)upasubramanya: Jagdish Bhagwati, dehejia ,Pravin Krishna tell demonetization critics: You got it plain wrong and we got it right. ht\n",
            "\n",
            "1233)Forty3 so demonetization was only for digitisation, not for fighting black money\n",
            "\n",
            "1234)sudden declaration of demonetization has effect  common man life.\n",
            "\n",
            "1235)terIndia harat_builder  If True, it means Banks are in Bad Shape, Demonetization fail . Now Desperate to make Money in transactions.\n",
            "\n",
            "1236) \n",
            "AFTER THE DEMONETIZATION MOVEMENT OF YOUTUBE INDEPENDENT ACCOUNTS, GOOGLE WILL CUT INDIE'S OTHER REVENUES ALTOGETHER\n",
            "\n",
            "1237)upasubramanya: Jagdish Bhagwati, dehejia ,Pravin Krishna tell demonetization critics: You got it plain wrong and we got it right. ht\n",
            "\n",
            "1238)usanWojcicki earEvanHansen enSPLATT Try ending the fucking youtubeocalypse &amp; mass demonetization you sheltere  \n",
            "\n",
            "1239)heTir Hippo Learn < ><U+ ><U+ >< ><U+00B1><U+008F> to < ><U+ ><U+ >< ><U+00B1><U+008F> spell < ><U+ ><U+ >< ><U+00B1><U+008F> demonetization < ><U+ ><U+ >< ><U+00B1><U+008F> you < ><U+ ><U+ >< ><U+00B1><U+008F> knob < ><U+ ><U+ >< ><U+00B1><U+008F> and < ><U+ ><U+ >< ><U+00B1><U+008F> fuck < ><U+ ><U+ >< ><U+00B1><U+008F> right < ><U+ ><U+ >< ><U+00B1><U+008F> off < ><U+ ><U+ >< ><U+00B1><U+008F>\n",
            "\n",
            "1240)With confidence building foreign tours, Land Bill, Repealing of some laws, Demonetization and GST, PM creat  conducive atmosphere for FDIs.\n",
            "\n",
            "1241)TI_News MOIndia it's time to make single system  ucation all over India. But not like demonetization. Student  \n",
            "\n",
            "1242)upasubramanya: Jagdish Bhagwati, dehejia ,Pravin Krishna tell demonetization critics: You got it plain wrong and we got it right. ht\n",
            "\n",
            "1243)ouTube almost as fucking painful as the demonetization requirements\n",
            "\n",
            "1244)CS: In the wake of demonetization in India, here's how NBFCs are filling the void left behind by the informal lenders.  \n",
            "\n",
            "1245)upasubramanya: Jagdish Bhagwati, dehejia ,Pravin Krishna tell demonetization critics: You got it plain wrong and we got it right. ht\n",
            "\n",
            "1246)SchoolFeeLoot MOIndia arendramodi We're with u on demonetization, why r u silent on school fee loot. Stop advisory and guidelines game.\n",
            "\n",
            "1247)and Black Money stands kill  by Demonetization. ....  \n",
            "\n",
            "1248)tupidosaur: irkamu Absolutely! Just make useless noise for everything in demonetization EVM etc but nothing real 'at least doing som\n",
            "\n",
            "1249)irkamu Absolutely! Just make useless noise for everything in demonetization EVM etc but nothing real 'at least doing something' ;)\n",
            "\n",
            "1250)Rapaport: MartinRapaport: Large Indian manufacturers raising production, while small factories still acclimatizing to demonetization and\n",
            "\n",
            "1251)artinRapaport: Large Indian manufacturers raising production, while small factories still acclimatizing to demonetization and low leve\n",
            "\n",
            "1252)MartinRapaport: Large Indian manufacturers raising production, while small factories still acclimatizing to demonetization and low levels o\n",
            "\n",
            "1253)We are picking up cash from banks, using cheques because withdrawal slips are not always an option. demonetization is going on for so long.\n",
            "\n",
            "1254)Large Indian manufacturers raising production, while small factories still acclimatizing to demonetization and low levels of demand.\n",
            "\n",
            "1255)Demonetization has hit women head  small enterprises in India.   \n",
            "\n",
            "1256)Mitron, demonetization has wip  out black money! It's raining achhe din! Rejoice!! BanPepsiDrinkGaumutra   \n",
            "\n",
            " \n",
            "\n",
            "1257)Investigate Google antitrust! YouTube's cynical demonetization scheme against independent m ia. Don't be evil! InvestigateGoogleAntitrust\n",
            "\n",
            "1258)ravirmani: (Table shows)Demonetization had least effect (on r ucing prices) in (1) SP rul  UP, (2) LDF rul  Kerala. Mumbai,Calcutta\n",
            "\n",
            "1259)(Table shows)Demonetization had least effect (on r ucing prices) in (1) SP rul  UP, (2) LDF rul  Kerala. Mumbai,  \n",
            "\n",
            "1260)arendramodi I think he should address hidden agendas behind the demonetization, to quieten all those politicians who oppose our PM!!!\n",
            "\n",
            "1261)Cooperative banks are flush with funds following demonetization, yet suffers from trust deficit | eeminhas  \n",
            "\n",
            "1262)ash_Tweetwani: earOfRat Too late, had this happen  earlier the Pic could have been us  to show Demonetization queues\n",
            "\n",
            "1263)ash_Tweetwani: earOfRat Too late, had this happen  earlier the Pic could have been us  to show Demonetization queues\n",
            "\n",
            "1264)ash_Tweetwani: earOfRat Too late, had this happen  earlier the Pic could have been us  to show Demonetization queues\n",
            "\n",
            "1265)earOfRat Too late, had this happen  earlier the Pic could have been us  to show Demonetization queues\n",
            "\n",
            "1266)Politicat Cashless was just a diversion of failure of demonetization\n",
            "\n",
            "1267) \n",
            "Will Property Get Cheaper Due to Demonetization?\n",
            "realestate realestateinvesting  \n",
            "\n",
            "1268)oraDaExplora: tupidosaur witter One dude is actively into politics. Grassroots volunteer. One had no idea but said it all \"click\n",
            "\n",
            "1269)Indian Silver Imports Fail To Improve Post Demonetization   podcasts\n",
            "\n",
            "1270).. Its an effing shame that cashforvotes happen  in RKNagarByPoll. Demonetization my foot. 2x2000/- Notes for each vote. shocking\n",
            "\n",
            "1271)oraDaExplora: tupidosaur witter One dude is actively into politics. Grassroots volunteer. One had no idea but said it all \"click\n",
            "\n",
            "1272)tupidosaur witter One dude is actively into politics. Grassroots volunteer. One had no idea but said it all \"cl  \n",
            "\n",
            "1273)Wonder if ouTube's idiotic demonetization of pro wrestling content includes WWE2K17 LPs?\n",
            "\n",
            "1274)olmes2491: All those who say demonetization was not a good move,just look at proactive ED n income tax raids right now.Major crackdown\n",
            "\n",
            "1275)ufailelif PM Modi's demonetization drive was a clever move to get Public to 'fund' Banks in bad shape after huge  \n",
            "\n",
            "1276)All those who say demonetization was not a good move,just look at proactive ED n income tax raids right now.Major crackdown on black money\n",
            "\n",
            "1277)acrodidact: Weird thought but Amazon is a stealth accelerant towards demonetization  \n",
            "\n",
            "1278)Weird thought but Amazon is a stealth accelerant towards demonetization  \n",
            "\n",
            "1279)siatimesonline: Mallyas arrest is the second strike against corruption after demonetization in November last year India  \n",
            "\n",
            "1280)Mallyas arrest is the second strike against corruption after demonetization in November last year India  \n",
            "\n",
            "1281)NBCi: Post-demonetization, India slowly returning to 'normalcy': SBI chair    \n",
            "\n",
            "1282)NBCi: Post-demonetization, India slowly returning to 'normalcy': SBI chair    \n",
            "\n",
            "1283)Lots of people I enjoy watching on Youtube are quitting series a few episodes in due to the rampant demonetization on the platform.  :(\n",
            "\n",
            "1284)yanward87: Notice how YouTube&amp;Google are coming down hard on anyone bringing up real topics?\n",
            "Rampant demonetization?\n",
            "Etc?\n",
            "\n",
            "No accident\n",
            "\n",
            "1285)Notice how YouTube&amp;Google are coming down hard on anyone bringing up real topics?\n",
            "Rampant demonetization?\n",
            "Etc?\n",
            "\n",
            "No  \n",
            "\n",
            "1286)auravPandhi: PM Modi upset, expresses displeasure as people began protesting in his rally in Kannauj. There is a lot of dissent due to\n",
            "\n",
            "1287)aizaskari: I wish the official GDP Data after Demonetization can get endorsement of common entrepreneurs SMEs manufacturing expo\n",
            "\n",
            "1288)ryptKeeperBTT: Bitcoin Booming in India Due to 'Underlying Benefits' - Not Demonetization    \n",
            "\n",
            "1289)Bitcoin Booming in India Due to 'Underlying Benefits' - Not Demonetization    \n",
            "\n",
            "1290)anLokPaal O ho demonetization problem still you have back money I'm so sorry about your back money Save Delhi fro  \n",
            "\n",
            "1291)After  demonetization, the central government had said that there will be no problems to common man, but still common man facing problems\n",
            "\n",
            "1292)Prayers request .  We have the money we ne  for the revival meetings.  But we cant ACCESS it due to demonetization!  thisisindia\n",
            "\n",
            "1293)ubavinash Well apart from being that <U+261D><U+FE0F>...i think he is a victim of demonetization. < ><U+ ><U+ >< ><U+ ><U+0089>< ><U+ ><U+ >< ><U+ ><U+0089>< ><U+ ><U+ >< ><U+ ><U+0082>< ><U+ ><U+ >< ><U+ ><U+0082>\n",
            "\n",
            "1294)tupidosaur: grg7 rvindKejriwal amAadmiParty Also Kejri just did useless bhashanbaaji on TV for demonetization when a legal solut\n",
            "\n",
            "1295)grg7 rvindKejriwal amAadmiParty Also Kejri just did useless bhashanbaaji on TV for demonetization when a lega  \n",
            "\n",
            "1296).arendramodi Vishwas will come not from Demonetization but from action against corrupt n solution to core Hindu i  \n",
            "\n",
            "1297)riyotamo: epubIicofIndia Mr. Goswami tell Mr. sonunigam how these Maulavies can afford 10 lacs after Demonetization. Black money to\n",
            "\n",
            "1298)epubIicofIndia Mr. Goswami tell Mr. sonunigam how these Maulavies can afford 10 lacs after Demonetization. Black  \n",
            "\n",
            "1299)nishesh: arendramodi - re:demonetization no further clarification for foreign (passport) nationals of Indian origin re: currency\n",
            "\n",
            "1300)anaSecurities: Opportunities from demonetization in the long term   via anasecurities\n",
            "\n",
            "1301)unil131415: oga_Uncle vi41968490 onunigam after demonetization \n",
            "Quaderi unable to pay 10lakh.\n",
            "He's try to getting die in <U+0915><U+092E><U+094B><U+0921><U+0964>\n",
            "\n",
            "1302)heOfficialSBI pathetic condition at SBI morena tiraha, ambah branch. ATM and demonetization like rush inside the  \n",
            "\n",
            "1303)unil131415: oga_Uncle vi41968490 onunigam after demonetization \n",
            "Quaderi unable to pay 10lakh.\n",
            "He's try to getting die in <U+0915><U+092E><U+094B><U+0921><U+0964>\n",
            "\n",
            "1304)oga_Uncle vi41968490 onunigam after demonetization \n",
            "Quaderi unable to pay 10lakh.\n",
            "He's try to getting die in <U+0915><U+092E><U+094B><U+0921><U+0964>\n",
            "\n",
            "1305)CS: In the wake of demonetization in India, here's how NBFCs are filling the void left behind by the informal lenders.  \n",
            "\n",
            "1306)anamejayan: 13. Demonetization had no impact on those vast black monies turn  into commodities.\n",
            "\n",
            "1307)anamejayan: 14. Menwhile the PM and his droolers claim those opposing demonetization were political worshippers of graft &amp; black money.\n",
            "\n",
            "1308)anamejayan: 5. Demonetization drew these people's money into banks vaults as deposits with which vast bad loans were written off.\n",
            "\n",
            "1309)Reason Behind Indias Demonetization | largest denomination -     via ouTube\n",
            "\n",
            "1310)I add  a video to a ouTube playlist   Reason Behind Indias Demonetization | largest denomination -\n",
            "\n",
            "1311)arendramodi : Demonetization - common finding difficulty in paying cash at small stores as they dont have swiping machines\n",
            "\n",
            "1312)onaliranade Demonetization was Modi's one-trick pony to solve it all and, in a Trumpesque manner, he fail  rema  \n",
            "\n",
            "1313)yogiadityanath Ecotech G Noida industrial plot completion date 31 march could not complete due 2 demonetization SME affect  4 fund extend\n",
            "\n",
            "1314)anamejayan: 5. Demonetization drew these people's money into banks vaults as deposits with which vast bad loans were written off.\n",
            "\n",
            "1315)CS: In the wake of demonetization in India, here's how NBFCs are filling the void left behind by the informal lenders.  \n",
            "\n",
            "1316)The recent scenario with tight liquidity and RBI cuts can have an adverse effect on employeebenefits liabilities-  \n",
            "\n",
            "1317)CS: In the wake of demonetization in India, here's how NBFCs are filling the void left behind by the informal lenders.  \n",
            "\n",
            "1318)auravvns So you mean same thuggery as demonetization scam by USA goons. Screw ByUnit States\n",
            "\n",
            "1319)anamejayan: 14. Menwhile the PM and his droolers claim those opposing demonetization were political worshippers of graft &amp; black money.\n",
            "\n",
            "1320)anamejayan: 13. Demonetization had no impact on those vast black monies turn  into commodities.\n",
            "\n",
            "1321)anamejayan: 5. Demonetization drew these people's money into banks vaults as deposits with which vast bad loans were written off.\n",
            "\n",
            "1322)CS: In the wake of demonetization in India, here's how NBFCs are filling the void left behind by the informal lenders.  \n",
            "\n",
            "1323)In the wake of demonetization in India, here's how NBFCs are filling the void left behind by the informal lenders  \n",
            "\n",
            "1324)auravPandhi: When India queu  up outside Banks during demonetization, BJP Govt waiv -off Mallya's bad debts amounting <U+20B9>1200 crores.\n",
            "\n",
            "1325)At 44 degree Celsius -- admire the discipline and not a single complaint - Press too quite b'cause it's not demonet  \n",
            "\n",
            "1326)adhu_gopalan nowsnotmuch Communication breakdown during demonetization was both terrible &amp; eye opening (to see  \n",
            "\n",
            "1327)na He is too depress  due to demonetization!\n",
            "\n",
            "1328)okinjey: _Rvignesh arupalaniappan Anna university VC post auction base price 60 Cr.. If you know anyone , tell them to bid. Thanks\n",
            "\n",
            "1329)hronesis_inc: As Indias wholesale price index falls steeply last month, is it the aftermath of demonetization or merely a season\n",
            "\n",
            "1330)anaSecurities: Opportunities from demonetization in the long term   via anasecurities\n",
            "\n",
            "1331)Reminder Re: complaints of demonetization, YouTube is a criminal racket.  Google is the biggest lobbyist in DC for a reason.\n",
            "\n",
            "1332)A Well-Kept Open Secret: Washington Is Behind Indias Brutal Demonetization Project | Asia-Pacific Research  \n",
            "\n",
            "1333)emRaps: - EXTREME demonetization\n",
            "- No realtime analytics\n",
            "- Now disappearing comments?\n",
            "\n",
            "Is YouTube is slowly trying to kill my channel?\n",
            "\n",
            "1334)okinjey: _Rvignesh arupalaniappan Anna university VC post auction base price 60 Cr.. If you know anyone , tell them to bid. Thanks\n",
            "\n",
            "1335)_Rvignesh arupalaniappan Anna university VC post auction base price 60 Cr.. If you know anyone , tell them to b  \n",
            "\n",
            "1336)itchute effereyJaxen No I Don't think they will and I support itchute too, but its a bad comparison to say 'd  \n",
            "\n",
            "1337)auravPandhi: When India queu  up outside Banks during demonetization, BJP Govt waiv -off Mallya's bad debts amounting <U+20B9>1200 crores.\n",
            "\n",
            "1338)anamejayan: 5. Demonetization drew these people's money into banks vaults as deposits with which vast bad loans were written off.\n",
            "\n",
            "1339)anamejayan: 13. Demonetization had no impact on those vast black monies turn  into commodities.\n",
            "\n",
            "1340)anamejayan: 14. Menwhile the PM and his droolers claim those opposing demonetization were political worshippers of graft &amp; black money.\n",
            "\n",
            "1341)anamejayan: 13. Demonetization had no impact on those vast black monies turn  into commodities.\n",
            "\n",
            "1342)14. Menwhile the PM and his droolers claim those opposing demonetization were political worshippers of graft &amp; black money.\n",
            "\n",
            "1343)anamejayan: 13. Demonetization had no impact on those vast black monies turn  into commodities.\n",
            "\n",
            "1344)13. Demonetization had no impact on those vast black monies turn  into commodities.\n",
            "\n",
            "1345)undanematt I hate how much this youtube demonetization shit is changing everything. I mean, you do what you gotta  \n",
            "\n",
            "1346)ivingOnChi: 1/21/17 Demonetization: The Sinister Agenda Behind Washingtons War On Cash\n",
            " \n",
            "\n",
            "1347)Even Snapchat feel for our status after demonetization. Modi made everyone poor. Our belov  black money. :(\n",
            "\n",
            "1348)I'm upset about the whole demonetization thing that has been happening on youtube for the past few months, so I will be making videos(1/2)\n",
            "\n",
            "1349)Indian Silver Imports Fail To Improve Post Demonetization   podcasts\n",
            "\n",
            "1350)1/3/17 A Well-Kept Open Secret: Washington Is Behind Indias Brutal Demonetization Project\n",
            " \n",
            "\n",
            "1351)elhiPolice After demonetization my humble request is to take corrective actions on local police stations and thei  \n",
            "\n",
            "1352)1/21/17 Demonetization: The Sinister Agenda Behind Washingtons War On Cash\n",
            " \n",
            "\n",
            "1353)arendramodi poor  ppl sleeping with hungry stomach coz nly source of income is nrega, they did nt paid since demonetization, tripura state\n",
            "\n",
            "1354)TCTN That is totally false news. This article pertains to the period when demonetization happen .\n",
            "No Cash problem; No rise in demand.\n",
            "\n",
            "1355)auravPandhi: When India queu  up outside Banks during demonetization, BJP Govt waiv -off Mallya's bad debts amounting <U+20B9>1200 crores.\n",
            "\n",
            "1356)auravPandhi: When India queu  up outside Banks during demonetization, BJP Govt waiv -off Mallya's bad debts amounting <U+20B9>1200 crores.\n",
            "\n",
            "1357)JKolhe havanarnath idyut Common man! Mass murders,haren pandya's murder, demonetization disaster, lynchings o  \n",
            "\n",
            "1358)pencerKarter: usanWojcicki Loves Censorship. She loves to censor YouTubers on YouTube w/ Demonetization crap! EnoughIsEnough! Yo\n",
            "\n",
            "1359)treetBuzzApp: India to grow at 7.2%, says World Bank!\n",
            "Demonetization effects have wan !\n",
            "\n",
            " \n",
            "\n",
            "1360)ingchiru15: It's been 5 months after the demonetization announcement, why still the fucking ATMs aren't working? What is the reason?\n",
            "\n",
            "1361)anaSecurities: Opportunities from demonetization in the long term   via anasecurities\n",
            "\n",
            "1362)r_Shiralkar: India is so rich bc Modi had to do the demonetization to see who actually was poor. < ><U+ ><U+ >< ><U+ ><U+0082>< ><U+ ><U+ >< ><U+ ><U+0082> boycottsnapchat\n",
            "\n",
            "1363)ationality1_ arendramodi Not true, IMF has r uc  the project  GDP for India which is a deep concern. India w  \n",
            "\n",
            "1364)NewsDog Analysis Demonetization EconomicsBehind \n",
            "Economics behind demonetization of Rs 1000 &amp; 500 notes in India. \n",
            "\n",
            "1365)ay_ambadi: Why complain about charging a fee on even small payments via cheque?\n",
            "Wasn't that the objective of demonetization?\n",
            "Black mon\n",
            "\n",
            "1366)auravPandhi: When India queu  up outside Banks during demonetization, BJP Govt waiv -off Mallya's bad debts amounting <U+20B9>1200 crores.\n",
            "\n",
            "1367)ay_ambadi: Why complain about charging a fee on even small payments via cheque?\n",
            "Wasn't that the objective of demonetization?\n",
            "Black mon\n",
            "\n",
            "1368)ay_ambadi: Why complain about charging a fee on even small payments via cheque?\n",
            "Wasn't that the objective of demonetization?\n",
            "Black mon\n",
            "\n",
            "1369)Why complain about charging a fee on even small payments via cheque?\n",
            "Wasn't that the objective of demonetization?\n",
            "Black money ek jumla tha!\n",
            "\n",
            "1370)What is your single strongest argument against demonetization? by Zeeshan Ali  \n",
            "\n",
            "1371)r_Shiralkar: India is so rich bc Modi had to do the demonetization to see who actually was poor. < ><U+ ><U+ >< ><U+ ><U+0082>< ><U+ ><U+ >< ><U+ ><U+0082> boycottsnapchat\n",
            "\n",
            "1372)auravPandhi: When India queu  up outside Banks during demonetization, BJP Govt waiv -off Mallya's bad debts amounting <U+20B9>1200 crores.\n",
            "\n",
            "1373)UBI ne  not be 0 sum game if tax compliance grows, demonetization works - cld be feasible to inc expenditure rvindsubraman CGDTAlks\n",
            "\n",
            "1374)auravPandhi: When India queu  up outside Banks during demonetization, BJP Govt waiv -off Mallya's bad debts amounting <U+20B9>1200 crores.\n",
            "\n",
            "1375)auravPandhi: When India queu  up outside Banks during demonetization, BJP Govt waiv -off Mallya's bad debts amounting <U+20B9>1200 crores.\n",
            "\n",
            "1376)lassmanamanda: India demonetization - how could effects on poor have been attenuat  asks nnieLowrey to rvindsubraman CGDTalks\n",
            "\n",
            "1377)anaSecurities: Opportunities from demonetization in the long term   via anasecurities\n",
            "\n",
            "1378)India demonetization - how could effects on poor have been attenuat  asks nnieLowrey to rvindsubraman CGDTalks\n",
            "\n",
            "1379)Opportunities from demonetization in the long term   via anasecurities\n",
            "\n",
            "1380)auravPandhi: When India queu  up outside Banks during demonetization, BJP Govt waiv -off Mallya's bad debts amounting <U+20B9>1200 crores.\n",
            "\n",
            "1381)auravPandhi: When India queu  up outside Banks during demonetization, BJP Govt waiv -off Mallya's bad debts amounting <U+20B9>1200 crores.\n",
            "\n",
            "1382)quareGas: MOAB is like Demonetization. Former kill  Indians in Achin and latter did same in Achche Din \n",
            "\n",
            "Minor inconveniences, you se\n",
            "\n",
            "1383)auravPandhi: When India queu  up outside Banks during demonetization, BJP Govt waiv -off Mallya's bad debts amounting <U+20B9>1200 crores.\n",
            "\n",
            "1384)auravPandhi: When India queu  up outside Banks during demonetization, BJP Govt waiv -off Mallya's bad debts amounting <U+20B9>1200 crores.\n",
            "\n",
            "1385)auravPandhi: When India queu  up outside Banks during demonetization, BJP Govt waiv -off Mallya's bad debts amounting <U+20B9>1200 crores.\n",
            "\n",
            "1386)auravPandhi: When India queu  up outside Banks during demonetization, BJP Govt waiv -off Mallya's bad debts amounting <U+20B9>1200 crores.\n",
            "\n",
            "1387)auravPandhi: When India queu  up outside Banks during demonetization, BJP Govt waiv -off Mallya's bad debts amounting <U+20B9>1200 crores.\n",
            "\n",
            "1388)When India queu  up outside Banks during demonetization, BJP Govt waiv -off Mallya's bad debts amounting <U+20B9>1200 crores. WHY? 8/12\n",
            "\n",
            "1389)handrusWeb hinkerks This asshole later paid 50 crore loan to banks during demonetization IT guys fuck  the shit out of him the next day\n",
            "\n",
            "1390)India oil demand shrinks 3rd month amid demonetization drag  \n",
            "\n",
            "1391)usanWojcicki Loves Censorship. She loves to censor YouTubers on YouTube w/ Demonetization crap! EnoughIsEnough! You ne  to be FIRED!\n",
            "\n",
            "1392)Its about DEMONETIZATION STOPPED STONE PELTERS,Demonetization stopp  terrorists,its about failure of MODI  \n",
            "\n",
            "1393)He caus  demonetization, false GDP &amp; stagnant job growth. Let's discuss how a think tanker is a \"Professor @ heart\"\n",
            " \n",
            "\n",
            "1394)rkaytimes: Vijay Mallya arrest . Scotland Yard takes cr it. But we all know it was Sherlock Holmes. Now put all his cash in our ATMs\n",
            "\n",
            "1395)rkaytimes: Vijay Mallya arrest . Scotland Yard takes cr it. But we all know it was Sherlock Holmes. Now put all his cash in our ATMs\n",
            "\n",
            "1396)Vijay Mallya arrest . Scotland Yard takes cr it. But we all know it was Sherlock Holmes. Now put all his cash in our ATMs. demonetization\n",
            "\n",
            "1397)awabjha JP4India anojTiwariMP chk him property he may drunk , he already make fun of poor during demonetization\n",
            "\n",
            "1398)amLingaa rAMSinghvi Uncle hain na power me, Aur demonetization ke bad black money aaya na to fund kar do. Just  \n",
            "\n",
            "1399)Ranganathan72 atleast demonetization was a one time pain and sold as a reform and end  in few months...dont see any such thing with azaan\n",
            "\n",
            "1400)MOAB is like Demonetization. Former kill  Indians in Achin and latter did same in Achche Din \n",
            "\n",
            "Minor inconvenience  \n",
            "\n",
            "1401)nchanLata vinashAnuragi amaalrkhan anjayJha Even Naxals hail  demonetization as helpful to poor. < ><U+ ><U+ >< ><U+ ><U+009C> \n",
            " \n",
            "\n",
            "1402)NNnews18 all the morons who bark \"how good Demonetization is \",get a life\n",
            "\n",
            "1403)demonetization is a part of preventive of which initiative ? \n",
            "black money\n",
            "corruption\n",
            "going towards cashless\n",
            "\n",
            "bhaja  \n",
            "\n",
            "1404)ingchiru15: It's been 5 months after the demonetization announcement, why still the fucking ATMs aren't working? What is the reason?\n",
            "\n",
            "1405)emRaps: - EXTREME demonetization\n",
            "- No realtime analytics\n",
            "- Now disappearing comments?\n",
            "\n",
            "Is YouTube is slowly trying to kill my channel?\n",
            "\n",
            "1406)RVChennai imesNow It was quite visible that Mr. Arnab was disturbing some vest  interests. Also not  how m i  \n",
            "\n",
            "1407)ncomeTaxIndia MOIndia arendramodi ajnathsingh Keep Kashmiris account on priority to track black money after demonetization.\n",
            "\n",
            "1408)rssrilu666: Prime minister Sri arendramodi hav no idea how common man suffering with cash  no ATMs working outside BI big flop of\n",
            "\n",
            "1409)Prime minister Sri arendramodi hav no idea how common man suffering with cash  no ATMs working outside BI big flop of demonetization\n",
            "\n",
            "1410)- EXTREME demonetization\n",
            "- No realtime analytics\n",
            "- Now disappearing comments?\n",
            "\n",
            "Is YouTube is slowly trying to kill my channel?\n",
            "\n",
            "1411)JP4India arendramodi Modi ji I fully support Demonetization and Digitalization; but Horrible Hospitals only tak  \n",
            "\n",
            "1412)  People are running after money and power at the cost of honesty.. Pity for future generations...\n",
            "\n",
            "1413)mazumdar2014 akka_Jacob Be it demonetization, border issue, foreign relations etc this may bring irrecoverable  \n",
            "\n",
            "1414)ingchiru15: It's been 5 months after the demonetization announcement, why still the fucking ATMs aren't working? What is the reason?\n",
            "\n",
            "1415)Rajiv Bajaj is a bad judge of politics &amp; business. He saw future of scooters as bleak &amp; idea of demonetization w  \n",
            "\n",
            "1416)umanthraman I'm not talking abt success or failure of demonetization here .AAP MLA news was reject  by BJP u cou  \n",
            "\n",
            "1417)I lik  a ouTube video   YouTube Demonetization is Completely F*cking Random\n",
            "\n",
            "1418)arendramodi Respect  Sir, after demonetization Don't you think this is the high time to bring back the black money from Swiss bank!!!!!!!\n",
            "\n",
            "1419)7th pay commission is the outcome of demonetization . After demonetization man take black money. It is continue nobody can stop it.\n",
            "\n",
            "1420)@_sickerthings On him, not anyone else. I haven't even seen him get hit hard by Demonetization like some small -act  \n",
            "\n",
            "1421)acLethal Rap about the demonetization of you tubers and how you hate risonPlanet even though his relivency makes you money.\n",
            "\n",
            "1422)sriksKatar: arendramodi MOIndia  appli  pancard through UTIITSL 2 mths back.Not got the pan. Saying are issue due to demonetizati\n",
            "\n",
            "1423)CS: In the wake of demonetization in India, here's how NBFCs are filling the void left behind by the informal lenders.  \n",
            "\n",
            "1424)\"the western states. The demonetization of silver empti  camps and ruin  miners who were previously doing well.James A. McKenna, a pioneer\n",
            "\n",
            "1425)anromir: eryAngryHobbit ddie_ebert hunderf00t The statement itself was a joke. Sargon never honestly complain  about the demone\n",
            "\n",
            "1426)amaalrkhan Like he pr ict  that Indian economy will go down by 2% after demonetization\n",
            "\n",
            "1427)esaihirvita: MOIndia  after demonetization for curbing black money; next social issue target  will be ?? Rapes may be ?? toomuchho\n",
            "\n",
            "1428)ronyOfIndia_ And Jawans still get humiliat . Sad but true. Demonetization done but pelting continues. Pak still  \n",
            "\n",
            "1429)rasannavishy VMohandasPai warajyaMag why is no one speaking about all those idiots who said demonetization has stopp  the J&amp;K FIRE\n",
            "\n",
            "1430)StonePelting in J&amp;K: Either demonetization is a failure or Government's Kashmir Policy. evinder_Sharma mthanvi\n",
            "\n",
            "1431)mNazriya: Dear napchat CEO, \n",
            "India is so rich that PM Narendra Modi had to implement demonetization to find out who is actually poor\n",
            "\n",
            "1432)ean_M_Esme effHollandaise emorie_holiday gtowAngry It's kinda why I plan on getting into the Youtube game,  \n",
            "\n",
            "1433)hronesis_inc: As Indias wholesale price index falls steeply last month, is it the aftermath of demonetization or merely a season\n",
            "\n",
            "1434)As Indias wholesale price index falls steeply last month, is it the aftermath of demonetization or merely a seasonal effect? economy\n",
            "\n",
            "1435)dtv Never, she herself is behind all these. Demonetization caus  her severe damage to the sarada money so she will try to make up.\n",
            "\n",
            "1436)@_HazirJawab: Another victim of Demonetization. Where are rvindKejriwal and fficeOfRG?  \n",
            "\n",
            "1437)Whole country stood in line during demonetization and you refus  to exchange the hard earn  money of POOR...so s  \n",
            "\n",
            "1438)Bitcoin Booming in India Due to 'Underlying Benefits' - Not Demonetization btc  \n",
            "\n",
            "1439)I feel so bad for everyone who has been affect  by this demonetization...\n",
            "\n",
            "1440)Another victim of Demonetization. Where are rvindKejriwal and fficeOfRG?  \n",
            "\n",
            "1441)RASHANTHHR reenivasanJain How difficult is it to declare Pakistan terror state. Demonetization possible, y not  \n",
            "\n",
            "1442)AskToModi\n",
            "Sir,\n",
            "Ithink if banks raise un justifi  charges ppl wl favour cash trnxs in turn black money up ?\n",
            "Demonetization wl be futile ?\n",
            "\n",
            "1443)8th .. ouTube get it together. < ><U+ ><U+ >< ><U+ ><U+00A1> unfair unnecessary demonetization youtube youtubetags youtubers wtf  \n",
            "\n",
            "1444)arthology: *Modi didn't check Snapchat accounts during Demonetization*\n",
            "\n",
            "Intelligentsia : Bad Implementation  \n",
            "\n",
            "1445)skAnshul: And, Border Security Force seizes fake notes worth Rs 7,00,000 in Bengal's Malda. You can understand why Mamata was against\n",
            "\n",
            "1446)arthavs: Cash no more King-Electronic&amp; Digital is!!Cash In Use26%Less Than November8 Levels FO_India Demonetization BI\n",
            " \n",
            "\n",
            "1447)Super annoying how fellow commoners aren't willing to help with change post demonetization. Esp. when the auto wala makes faces. India\n",
            "\n",
            "1448)India Oil Demand Shrinks 3rd Month Amid Demonetization Drag\n",
            "\n",
            "   \n",
            "\n",
            "1449)ameFieldmt \"India is a poor country and not everyone is literate. One can not force digitization on the public.\"  \n",
            "\n",
            "1450)skAnshul: And, Border Security Force seizes fake notes worth Rs 7,00,000 in Bengal's Malda. You can understand why Mamata was against\n",
            "\n",
            "1451)MOIndia Sir demonetization kill  150+ poor Indian within 50 days not a single powerful person got arrest !! Y t  \n",
            "\n",
            "1452)Increasing economic performance is pointless, if it puts the lives of the poorest at risk.\n",
            "demonetization\n",
            " \n",
            "\n",
            "1453)undeepgummadi: NDTV report  drop in revenue due to Demonetization ?? < ><U+ ><U+ >< ><U+ ><U+00B1>< ><U+ ><U+ >< ><U+ ><U+00B1> Didn't know they are also in running  Circus...  \n",
            "\n",
            "1454)undeepgummadi: NDTV report  drop in revenue due to Demonetization ?? < ><U+ ><U+ >< ><U+ ><U+00B1>< ><U+ ><U+ >< ><U+ ><U+00B1> Didn't know they are also in running  Circus...  \n",
            "\n",
            "1455)NDTV report  drop in revenue due to Demonetization ?? < ><U+ ><U+ >< ><U+ ><U+00B1>< ><U+ ><U+ >< ><U+ ><U+00B1> Didn't know they are also in running  Circus...  \n",
            "\n",
            "1456)arendramodi MOIndia  appli  pancard through UTIITSL 2 mths back.Not got the pan. Saying are issue due to demonetization. Can u help?\n",
            "\n",
            "1457)idvee: Okay man. Mut  trump, clinton, election, demonetization, modi, congress, kejriwal etc. Now how to mute the hate?\n",
            "\n",
            "1458)The former chief statistician of India, Pronab Sen tells me that Demonetization  has creat  new bad loans for...  \n",
            "\n",
            "1459)The former chief statistician of India, Pronab Sen tells me that Demonetization  has creat  new bad loans for  \n",
            "\n",
            "1460)nanodayam money spent on farm loan comes back into economy imm iately as spending.. what is it with 2%.. even fo  \n",
            "\n",
            "1461)iniromet Has Shri420 really become this poor after demonetization? This is pea nuts!\n",
            "\n",
            "1462)nuraggemini ainjal Demonetization as bold wrong move result  in no good. Surgical strike was not the 1 ever by Army, hope u know that!!\n",
            "\n",
            "1463)CJIndia: Highlights from the Panel Discussion on \"Demonetization and Black Money  by CJIndia\n",
            "\n",
            " \n",
            "\n",
            "1464)all those who forward  you messages on WA that Realty rates will fall down due to demonetization \n",
            "Slap them with Ready Reckoner 2017 book\n",
            "\n",
            "1465)agnuRex going by state election trends slum &amp; poor voters may shift BJP as well but then demonetization wasn't se  \n",
            "\n",
            "1466)NarendraModi has made the demonetization to know who is actually the ''poor'' apart from that Snapchat  is a shit who is judging us < ><U+ ><U+ >< ><U+ ><U+00A1>< ><U+ ><U+ >< ><U+ ><U+00A1>< ><U+ ><U+ >< ><U+00B2><U+00B0>< ><U+ ><U+ >< ><U+00B2><U+00B0>\n",
            "\n",
            "1467)India to grow at 7.2%, says World Bank!\n",
            "Demonetization effects have wan !\n",
            "\n",
            " \n",
            "\n",
            "1468)na: GST | Demonetization was just a salivating trailer. The pounding of black money hoarders about to begin   @\n",
            "\n",
            "1469)Snapchat CEO said India is poor\n",
            "We are so rich that PM NarendraModi had to implement demonetization to find out  \n",
            "\n",
            "1470)aulasset: Demonetization  Harsh truth that nobody will explain you    \n",
            "\n",
            "1471)na: GST | Demonetization was just a salivating trailer. The pounding of black money hoarders about to begin   @\n",
            "\n",
            "1472)na: GST | Demonetization was just a salivating trailer. The pounding of black money hoarders about to begin   @\n",
            "\n",
            "1473)na: GST | Demonetization was just a salivating trailer. The pounding of black money hoarders about to begin   @\n",
            "\n",
            "1474)na: GST | Demonetization was just a salivating trailer. The pounding of black money hoarders about to begin   @\n",
            "\n",
            "1475)na: GST | Demonetization was just a salivating trailer. The pounding of black money hoarders about to begin   @\n",
            "\n",
            "1476)GST | Demonetization was just a salivating trailer. The pounding of black money hoarders about to begin  \n",
            "\n",
            "1477)eriousfunnyguy rGPradhan enukaJain6 same m ia at the time of demonetization went overboard questioning the p  \n",
            "\n",
            "1478)ithCongress: Due to drop in price of tomatoes after DemonetizationDisaster , angry farmers throw away tomatoes in Sanand  \n",
            "\n",
            "1479)skAnshul: And, Border Security Force seizes fake notes worth Rs 7,00,000 in Bengal's Malda. You can understand why Mamata was against\n",
            "\n",
            "1480)India Oil Demand Shrinks 3rd Month Amid Demonetization Drag\n",
            "\n",
            "   \n",
            "\n",
            "1481)vidyasagar: 50 crore in hard currency.. even after demonetization this guy has this much money.. ArrestTTVDhinakaran  \n",
            "\n",
            "1482)50 crore in hard currency.. even after demonetization this guy has this much money.. ArrestTTVDhinakaran  \n",
            "\n",
            "1483)Dear Evan Spiegel Snapchat.\n",
            "India s so rich that PM Narendra Modi had to implement demonetization to find out who s actually poor!\n",
            "Snapchat\n",
            "\n",
            "1484)iyalovezu: teve_hanke demonetization didn't serve any purpose what it was meant to do like 1) end black money, 2) end terror fund 3\n",
            "\n",
            "1485)Dear vanspiegel India is so rich that PM arendramodi had to implement demonetization to find out who is actually poor boycottsnapchat\n",
            "\n",
            "1486)@_asif: Hi vanspiegel! India is so rich that PM arendramodi had to implement demonetization to find out who is actually poor!   boy\n",
            "\n",
            "1487)ncomeTaxIndia: The opportunities creat  by demonetization are being us  by the ITD for widening and deepening of the tax base and cr\n",
            "\n",
            "1488)@_asif: Hi vanspiegel! India is so rich that PM arendramodi had to implement demonetization to find out who is actually poor!   boy\n",
            "\n",
            "1489)Hi vanspiegel! India is so rich that PM arendramodi had to implement demonetization to find out who is actually poor!   boycottsnapchat\n",
            "\n",
            "1490)pencerKarter: I hate Susan Wojcicki and her damn Advertiser Friendly Demonetization Censorship with a passion. MakeYouTubeGreatAgain\n",
            "\n",
            "1491)r_Shiralkar: India is so rich bc Modi had to do the demonetization to see who actually was poor. < ><U+ ><U+ >< ><U+ ><U+0082>< ><U+ ><U+ >< ><U+ ><U+0082> boycottsnapchat\n",
            "\n",
            "1492)onicaDubey: Govt claim  that demonetization will end Black Money, Terrorism &amp; Fake Currency.All 3 are still here and thriving.Only ca\n",
            "\n",
            "1493)I was told that stone pelting in Kashmir had stopp  due to demonetization! DeMonetisation Demonetization\n",
            "\n",
            "1494)mNazriya: Dear napchat CEO, \n",
            "India is so rich that PM Narendra Modi had to implement demonetization to find out who is actually poor\n",
            "\n",
            "1495)skAnshul: And, Border Security Force seizes fake notes worth Rs 7,00,000 in Bengal's Malda. You can understand why Mamata was against\n",
            "\n",
            "1496)India Oil Demand Shrinks for Third Month Amid Demonetization Drag\n",
            "\n",
            "1497)India Oil Demand Shrinks for Third Month Amid Demonetization Drag\n",
            "\n",
            "1498)India Oil Demand Shrinks for Third Month Amid Demonetization Drag - Oil Industry News - Oil and Gas News  \n",
            "\n",
            "1499)arthology: *Modi didn't check Snapchat accounts during Demonetization*\n",
            "\n",
            "Intelligentsia : Bad Implementation  \n",
            "\n",
            "1500)GujaratWelcomesPMModi where are the m ia folks who said Angry diamond city will hurt bjp for demonetization.\n",
            "\n",
            "1501)arthology: *Modi didn't check Snapchat accounts during Demonetization*\n",
            "\n",
            "Intelligentsia : Bad Implementation  \n",
            "\n",
            "1502)pencerKarter: I hate Susan Wojcicki and her damn Advertiser Friendly Demonetization Censorship with a passion. MakeYouTubeGreatAgain\n",
            "\n",
            "1503)I hate Susan Wojcicki and her damn Advertiser Friendly Demonetization Censorship with a passion. MakeYouTubeGreatAgain YouTube PROTEST\n",
            "\n",
            "1504)< ><U+ ><U+ >< ><U+00B9><U+008A> The Truth About YouTube Demonetization, AdSense Boycott &amp; Censorship   censorship fakenews youtubesucks unfair\n",
            "\n",
            "1505)ivingOnChi: 1/3/17 A Well-Kept Open Secret: Washington Is Behind Indias Brutal Demonetization Project\n",
            " \n",
            "\n",
            "1506)skAnshul: And, Border Security Force seizes fake notes worth Rs 7,00,000 in Bengal's Malda. You can understand why Mamata was against\n",
            "\n",
            "1507)ivingOnChi: 1/3/17 A Well-Kept Open Secret: Washington Is Behind Indias Brutal Demonetization Project\n",
            " \n",
            "\n",
            "1508)ivingOnChi: 1/3/17 A Well-Kept Open Secret: Washington Is Behind Indias Brutal Demonetization Project\n",
            " \n",
            "\n",
            "1509)ivingOnChi: 1/3/17 A Well-Kept Open Secret: Washington Is Behind Indias Brutal Demonetization Project\n",
            " \n",
            "\n",
            "1510)ivingOnChi: 1/3/17 A Well-Kept Open Secret: Washington Is Behind Indias Brutal Demonetization Project\n",
            " \n",
            "\n",
            "1511)1/3/17 A Well-Kept Open Secret: Washington Is Behind Indias Brutal Demonetization Project\n",
            " \n",
            "\n",
            "1512)*Modi didn't check Snapchat accounts during Demonetization*\n",
            "\n",
            "Intelligentsia : Bad Implementation  \n",
            "\n",
            "1513)What! Demonetization did not solve all our problems. See told ya total failure.  \n",
            "\n",
            "1514)skAnshul: And, Border Security Force seizes fake notes worth Rs 7,00,000 in Bengal's Malda. You can understand why Mamata was against\n",
            "\n",
            "1515)icha_singh uttch_Wala price of stones went down after demonetization.\n",
            "\n",
            "1516)anjivbhatt the fools even believ  that Kashmiri youth risk life and limb to go stone pelting for a few rupees...  \n",
            "\n",
            "1517)eeBusiness BI only modi&amp;demonetization is responsible for all gapps?this is the worst condom position of market  \n",
            "\n",
            "1518)ivingOnChi: .eroh ge 1/21/17 Demonetization: The Sinister Agenda Behind Washingtons War On Cash\n",
            " \n",
            "\n",
            "1519)Evan Spiegel Snapchat.\n",
            "India is so rich that PM Narendra Modi had to implement demonetization to find out who is actually poor!\n",
            "\n",
            "Snapchat\n",
            "\n",
            "1520)ivingOnChi: .eroh ge 1/21/17 Demonetization: The Sinister Agenda Behind Washingtons War On Cash\n",
            " \n",
            "\n",
            "1521)ivingOnChi: .eroh ge 1/3/17 A Well-Kept Open Secret: Washington Is Behind Indias Brutal Demonetization Project\n",
            " \n",
            "\n",
            "1522)ivingOnChi: .eroh ge 1/21/17 Demonetization: The Sinister Agenda Behind Washingtons War On Cash\n",
            " \n",
            "\n",
            "1523)ivingOnChi: .eroh ge 1/3/17 A Well-Kept Open Secret: Washington Is Behind Indias Brutal Demonetization Project\n",
            " \n",
            "\n",
            "1524)ivingOnChi: .eroh ge 1/3/17 A Well-Kept Open Secret: Washington Is Behind Indias Brutal Demonetization Project\n",
            " \n",
            "\n",
            "1525).eroh ge 1/3/17 A Well-Kept Open Secret: Washington Is Behind Indias Brutal Demonetization Project\n",
            " \n",
            "\n",
            "1526).eroh ge 1/21/17 Demonetization: The Sinister Agenda Behind Washingtons War On Cash\n",
            " \n",
            "\n",
            "1527)-and makes it more about unfair beauty standards plac  upon women and the demonetization of women consider  not attractive.\n",
            "\n",
            "1528)Age-restriction I can understand, but the demonetization is dangerous.  \n",
            "\n",
            "1529)India is so rich that PM Narendra Modi had to implement demonetization to find out who is actually poor! \n",
            "Indians evanspiegal \n",
            "Snapchat\n",
            "\n",
            "1530)r_Shiralkar: India is so rich bc Modi had to do the demonetization to see who actually was poor. < ><U+ ><U+ >< ><U+ ><U+0082>< ><U+ ><U+ >< ><U+ ><U+0082> boycottsnapchat\n",
            "\n",
            "1531)skAnshul: And, Border Security Force seizes fake notes worth Rs 7,00,000 in Bengal's Malda. You can understand why Mamata was against\n",
            "\n",
            "1532)skAnshul: And, Border Security Force seizes fake notes worth Rs 7,00,000 in Bengal's Malda. You can understand why Mamata was against\n",
            "\n",
            "1533)skAnshul: And, Border Security Force seizes fake notes worth Rs 7,00,000 in Bengal's Malda. You can understand why Mamata was against\n",
            "\n",
            "1534)skAnshul: And, Border Security Force seizes fake notes worth Rs 7,00,000 in Bengal's Malda. You can understand why Mamata was against\n",
            "\n",
            "1535)skAnshul: And, Border Security Force seizes fake notes worth Rs 7,00,000 in Bengal's Malda. You can understand why Mamata was against\n",
            "\n",
            "1536)skAnshul: And, Border Security Force seizes fake notes worth Rs 7,00,000 in Bengal's Malda. You can understand why Mamata was against\n",
            "\n",
            "1537)skAnshul: And, Border Security Force seizes fake notes worth Rs 7,00,000 in Bengal's Malda. You can understand why Mamata was against\n",
            "\n",
            "1538)skAnshul: And, Border Security Force seizes fake notes worth Rs 7,00,000 in Bengal's Malda. You can understand why Mamata was against\n",
            "\n",
            "1539)skAnshul: And, Border Security Force seizes fake notes worth Rs 7,00,000 in Bengal's Malda. You can understand why Mamata was against\n",
            "\n",
            "1540)skAnshul: And, Border Security Force seizes fake notes worth Rs 7,00,000 in Bengal's Malda. You can understand why Mamata was against\n",
            "\n",
            "1541)skAnshul: And, Border Security Force seizes fake notes worth Rs 7,00,000 in Bengal's Malda. You can understand why Mamata was against\n",
            "\n",
            "1542)skAnshul: And, Border Security Force seizes fake notes worth Rs 7,00,000 in Bengal's Malda. You can understand why Mamata was against\n",
            "\n",
            "1543)skAnshul: And, Border Security Force seizes fake notes worth Rs 7,00,000 in Bengal's Malda. You can understand why Mamata was against\n",
            "\n",
            "1544)skAnshul: And, Border Security Force seizes fake notes worth Rs 7,00,000 in Bengal's Malda. You can understand why Mamata was against\n",
            "\n",
            "1545)skAnshul: And, Border Security Force seizes fake notes worth Rs 7,00,000 in Bengal's Malda. You can understand why Mamata was against\n",
            "\n",
            "1546)skAnshul: And, Border Security Force seizes fake notes worth Rs 7,00,000 in Bengal's Malda. You can understand why Mamata was against\n",
            "\n",
            "1547)skAnshul: And, Border Security Force seizes fake notes worth Rs 7,00,000 in Bengal's Malda. You can understand why Mamata was against\n",
            "\n",
            "1548)skAnshul: And, Border Security Force seizes fake notes worth Rs 7,00,000 in Bengal's Malda. You can understand why Mamata was against\n",
            "\n",
            "1549)skAnshul: And, Border Security Force seizes fake notes worth Rs 7,00,000 in Bengal's Malda. You can understand why Mamata was against\n",
            "\n",
            "1550)skAnshul: And, Border Security Force seizes fake notes worth Rs 7,00,000 in Bengal's Malda. You can understand why Mamata was against\n",
            "\n",
            "1551)skAnshul: And, Border Security Force seizes fake notes worth Rs 7,00,000 in Bengal's Malda. You can understand why Mamata was against\n",
            "\n",
            "1552)skAnshul: And, Border Security Force seizes fake notes worth Rs 7,00,000 in Bengal's Malda. You can understand why Mamata was against\n",
            "\n",
            "1553)skAnshul: And, Border Security Force seizes fake notes worth Rs 7,00,000 in Bengal's Malda. You can understand why Mamata was against\n",
            "\n",
            "1554)Um.. fuck.\n",
            "I just realiz  that \"Modi Ji\" will be using this demonetization thing as a way to increase public surveillance\n",
            "\n",
            "1555)napchat India is so rich that Our pm arendramodi  ji had to demonetization to find who is actually poor\n",
            "vanspiegel\n",
            "\n",
            "1556)pencerKarter: In protest over YouTube's AdsenseGate aka Demonetization and other issues. I've start  to BoycottYouTube once again\n",
            "\n",
            "1557)skAnshul: And, Border Security Force seizes fake notes worth Rs 7,00,000 in Bengal's Malda. You can understand why Mamata was against\n",
            "\n",
            "1558)r_Shiralkar: India is so rich bc Modi had to do the demonetization to see who actually was poor. < ><U+ ><U+ >< ><U+ ><U+0082>< ><U+ ><U+ >< ><U+ ><U+0082> boycottsnapchat\n",
            "\n",
            "1559)skAnshul: And, Border Security Force seizes fake notes worth Rs 7,00,000 in Bengal's Malda. You can understand why Mamata was against\n",
            "\n",
            "1560)r_Shiralkar: India is so rich bc Modi had to do the demonetization to see who actually was poor. < ><U+ ><U+ >< ><U+ ><U+0082>< ><U+ ><U+ >< ><U+ ><U+0082> boycottsnapchat\n",
            "\n",
            "1561)skAnshul: And, Border Security Force seizes fake notes worth Rs 7,00,000 in Bengal's Malda. You can understand why Mamata was against\n",
            "\n",
            "1562)r_Shiralkar: India is so rich bc Modi had to do the demonetization to see who actually was poor. < ><U+ ><U+ >< ><U+ ><U+0082>< ><U+ ><U+ >< ><U+ ><U+0082> boycottsnapchat\n",
            "\n",
            "1563)ardesairajdeep After Demonetization Common Man was made to believe That All Black Money has been wip  out and he  \n",
            "\n",
            "1564)ilanV: JP Morgan notes that economic data has begun to revert to mean, post-demonetization  \n",
            "\n",
            "1565)Demonetization of currency - Time Pass and Real Solution of Black Wealth. Sorry for...    \n",
            "\n",
            "1566)ilanV: JP Morgan notes that economic data has begun to revert to mean, post-demonetization  \n",
            "\n",
            "1567)Dear vanspiegel\n",
            "Indiaa is so rich that PM Narendra Modi had to implement demonetization to find out who is actually poor..!\n",
            "snapchat< ><U+ ><U+ >< ><U+00B6><U+0095>< ><U+ ><U+00BC>< ><U+00BF><U+00BF>< ><U+ ><U+ >< ><U+00B6><U+0095>< ><U+ ><U+00BC>< ><U+00BF><U+00BF>\n",
            "\n",
            "1568)ilent_budhha: ndia_Policy Wat wnet wrong.. loss of AAP? Separatist industry dying down? Demonetization? Stopping of arms lobbying? W\n",
            "\n",
            "1569)teve_hanke demonetization didn't serve any purpose what it was meant to do like 1) end black money, 2) end terro  \n",
            "\n",
            "1570)skAnshul: And, Border Security Force seizes fake notes worth Rs 7,00,000 in Bengal's Malda. You can understand why Mamata was against\n",
            "\n",
            "1571)skAnshul: And, Border Security Force seizes fake notes worth Rs 7,00,000 in Bengal's Malda. You can understand why Mamata was against\n",
            "\n",
            "1572)Stop hating Snapchat's CEO. \n",
            "Think of d money recover  frm Demonetization &amp; its status.His cmnt ws bad bt v deserve it under PM Modi's rule\n",
            "\n",
            "1573)r_Shiralkar: India is so rich bc Modi had to do the demonetization to see who actually was poor. < ><U+ ><U+ >< ><U+ ><U+0082>< ><U+ ><U+ >< ><U+ ><U+0082> boycottsnapchat\n",
            "\n",
            "1574)In protest over YouTube's AdsenseGate aka Demonetization and other issues. I've start  to BoycottYouTube once again. SaveYouTube\n",
            "\n",
            "1575)r_Shiralkar: India is so rich bc Modi had to do the demonetization to see who actually was poor. < ><U+ ><U+ >< ><U+ ><U+0082>< ><U+ ><U+ >< ><U+ ><U+0082> boycottsnapchat\n",
            "\n",
            "1576)ndia_Policy Wat wnet wrong.. loss of AAP? Separatist industry dying down? Demonetization? Stopping of arms lobbyi  \n",
            "\n",
            "1577)skAnshul: And, Border Security Force seizes fake notes worth Rs 7,00,000 in Bengal's Malda. You can understand why Mamata was against\n",
            "\n",
            "1578)Dear evanspiegal India is so rich that PM NarendraModi has to implement demonetization to find out  who is actually poor\n",
            "\n",
            "1579)Internet got the confidence of all the journalists whose accounts were suddenly getting hack  during demonetization period. bloody frauds\n",
            "\n",
            "1580)evanspiegel india is so rich that pm narendramodi  had tO implement demonetization to find out is actually poor!\n",
            "\n",
            "1581)nision Demonetization is not the same thing as intolerance. Due to the unreliability of the internet it's likely  \n",
            "\n",
            "1582)skAnshul: And, Border Security Force seizes fake notes worth Rs 7,00,000 in Bengal's Malda. You can understand why Mamata was against\n",
            "\n",
            "1583)SMlive Products are made and market  to certain sectors. People outrage for small things. But mute on demonetization,aadhar.\n",
            "\n",
            "1584)hume avleen_singh Tavleen is getting it all wrong for sometime..Demonetization to anti-Romeo squard..Criticism ne s to be objective\n",
            "\n",
            "1585)skAnshul: And, Border Security Force seizes fake notes worth Rs 7,00,000 in Bengal's Malda. You can understand why Mamata was against\n",
            "\n",
            "1586)skAnshul: And, Border Security Force seizes fake notes worth Rs 7,00,000 in Bengal's Malda. You can understand why Mamata was against\n",
            "\n",
            "1587)We are so gareeb that PM Modi had to implement Demonetization to find out who is actually poor < ><U+ ><U+ >< ><U+00B9><U+008C>< ><U+ ><U+ >< ><U+ ><U+008A>\n",
            "\n",
            "1588)India is so rich that PM Narendra Modi had to implement demonetization to find out who is actually poor!\n",
            "\n",
            "BoycottSnapchat\n",
            "\n",
            "1589)skAnshul: And, Border Security Force seizes fake notes worth Rs 7,00,000 in Bengal's Malda. You can understand why Mamata was against\n",
            "\n",
            "1590)skAnshul: And, Border Security Force seizes fake notes worth Rs 7,00,000 in Bengal's Malda. You can understand why Mamata was against\n",
            "\n",
            "1591)skAnshul: And, Border Security Force seizes fake notes worth Rs 7,00,000 in Bengal's Malda. You can understand why Mamata was against\n",
            "\n",
            "1592)skAnshul: And, Border Security Force seizes fake notes worth Rs 7,00,000 in Bengal's Malda. You can understand why Mamata was against\n",
            "\n",
            "1593)skAnshul: And, Border Security Force seizes fake notes worth Rs 7,00,000 in Bengal's Malda. You can understand why Mamata was against\n",
            "\n",
            "1594)skAnshul: And, Border Security Force seizes fake notes worth Rs 7,00,000 in Bengal's Malda. You can understand why Mamata was against\n",
            "\n",
            "1595)skAnshul: And, Border Security Force seizes fake notes worth Rs 7,00,000 in Bengal's Malda. You can understand why Mamata was against\n",
            "\n",
            "1596)skAnshul: And, Border Security Force seizes fake notes worth Rs 7,00,000 in Bengal's Malda. You can understand why Mamata was against\n",
            "\n",
            "1597)skAnshul: And, Border Security Force seizes fake notes worth Rs 7,00,000 in Bengal's Malda. You can understand why Mamata was against\n",
            "\n",
            "1598)skAnshul: And, Border Security Force seizes fake notes worth Rs 7,00,000 in Bengal's Malda. You can understand why Mamata was against\n",
            "\n",
            "1599)Another proof of complete failure of demonetization. Its from 1 Bank's 1 branch. Imagine the scale of total scam.\n",
            "\n",
            "  \n",
            "\n",
            "1600)skAnshul: And, Border Security Force seizes fake notes worth Rs 7,00,000 in Bengal's Malda. You can understand why Mamata was against\n",
            "\n",
            "1601)skAnshul: And, Border Security Force seizes fake notes worth Rs 7,00,000 in Bengal's Malda. You can understand why Mamata was against\n",
            "\n",
            "1602)skAnshul: And, Border Security Force seizes fake notes worth Rs 7,00,000 in Bengal's Malda. You can understand why Mamata was against\n",
            "\n",
            "1603)skAnshul: And, Border Security Force seizes fake notes worth Rs 7,00,000 in Bengal's Malda. You can understand why Mamata was against\n",
            "\n",
            "1604)skAnshul: And, Border Security Force seizes fake notes worth Rs 7,00,000 in Bengal's Malda. You can understand why Mamata was against\n",
            "\n",
            "1605)skAnshul: And, Border Security Force seizes fake notes worth Rs 7,00,000 in Bengal's Malda. You can understand why Mamata was against\n",
            "\n",
            "1606)India is so rich that Our PM has to implement demonetization to find out the poor.\n",
            "Copi \n",
            "\n",
            "1607)skAnshul: And, Border Security Force seizes fake notes worth Rs 7,00,000 in Bengal's Malda. You can understand why Mamata was against\n",
            "\n",
            "1608)skAnshul: And, Border Security Force seizes fake notes worth Rs 7,00,000 in Bengal's Malda. You can understand why Mamata was against\n",
            "\n",
            "1609)skAnshul: And, Border Security Force seizes fake notes worth Rs 7,00,000 in Bengal's Malda. You can understand why Mamata was against\n",
            "\n",
            "1610)skAnshul: And, Border Security Force seizes fake notes worth Rs 7,00,000 in Bengal's Malda. You can understand why Mamata was against\n",
            "\n",
            "1611)skAnshul: And, Border Security Force seizes fake notes worth Rs 7,00,000 in Bengal's Malda. You can understand why Mamata was against\n",
            "\n",
            "1612)skAnshul: And, Border Security Force seizes fake notes worth Rs 7,00,000 in Bengal's Malda. You can understand why Mamata was against\n",
            "\n",
            "1613)skAnshul: And, Border Security Force seizes fake notes worth Rs 7,00,000 in Bengal's Malda. You can understand why Mamata was against\n",
            "\n",
            "1614)skAnshul: And, Border Security Force seizes fake notes worth Rs 7,00,000 in Bengal's Malda. You can understand why Mamata was against\n",
            "\n",
            "1615)skAnshul: And, Border Security Force seizes fake notes worth Rs 7,00,000 in Bengal's Malda. You can understand why Mamata was against\n",
            "\n",
            "1616)skAnshul: And, Border Security Force seizes fake notes worth Rs 7,00,000 in Bengal's Malda. You can understand why Mamata was against\n",
            "\n",
            "1617)skAnshul: And, Border Security Force seizes fake notes worth Rs 7,00,000 in Bengal's Malda. You can understand why Mamata was against\n",
            "\n",
            "1618)skAnshul: And, Border Security Force seizes fake notes worth Rs 7,00,000 in Bengal's Malda. You can understand why Mamata was against\n",
            "\n",
            "1619)skAnshul: And, Border Security Force seizes fake notes worth Rs 7,00,000 in Bengal's Malda. You can understand why Mamata was against\n",
            "\n",
            "1620)skAnshul: And, Border Security Force seizes fake notes worth Rs 7,00,000 in Bengal's Malda. You can understand why Mamata was against\n",
            "\n",
            "1621)skAnshul: And, Border Security Force seizes fake notes worth Rs 7,00,000 in Bengal's Malda. You can understand why Mamata was against\n",
            "\n",
            "1622)skAnshul: And, Border Security Force seizes fake notes worth Rs 7,00,000 in Bengal's Malda. You can understand why Mamata was against\n",
            "\n",
            "1623)skAnshul: And, Border Security Force seizes fake notes worth Rs 7,00,000 in Bengal's Malda. You can understand why Mamata was against\n",
            "\n",
            "1624)And, Border Security Force seizes fake notes worth Rs 7,00,000 in Bengal's Malda. You can understand why Mamata was  \n",
            "\n",
            "1625)Dear vanspiegel India is so rich that PM arendramodi had to implement demonetization to find out who is actually poor < ><U+ ><U+ >< ><U+00B1><U+008D> \n",
            "snapchatceo\n",
            "\n",
            "1626)uvigyaP admanweb Dumb brain if DeMonetization dri  up terrorists funds then how come they are growing fast in  \n",
            "\n",
            "1627)Demonetization: Do you want poor illiterate ppl to use digitalpayments ?\n",
            "Stray Comment from unknown person: We are not poor. Snapchat\n",
            "\n",
            "1628)vanspiegel India is so rich tht  Shri arendramodi had to implement demonetization to find out who is actually poor!    buycottsnapchat\n",
            "\n",
            "1629)Dear vanspiegel napchat \n",
            "India is so rich that PM Modi had to implement demonetization to find out who is actually poor!\n",
            "\n",
            "1630)imesofindia Stone pelting and inflow of fake currency start  again. From cash less to less cash. Moto of demonetization has chang \n",
            "\n",
            "1631)YouTube Demonetization is Completely F*cking Random  \n",
            "\n",
            "1632)evinder_ps VMohandasPai Same idiots profess  demonetization has got rid of stone pelting in Kashmir and terror  \n",
            "\n",
            "1633)Dear Snapchat, India is so Rich that our PMmodi appli  demonetization to find out who is actually Poor.\n",
            "boycottsnapchat snapchatceo\n",
            "\n",
            "1634)r_Shiralkar: India is so rich bc Modi had to do the demonetization to see who actually was poor. < ><U+ ><U+ >< ><U+ ><U+0082>< ><U+ ><U+ >< ><U+ ><U+0082> boycottsnapchat\n",
            "\n",
            "1635)Today I went to 15 shops to do transaction card basis but no one having this swipe machines all want cash  waste of demonetization MOIndia\n",
            "\n",
            "1636)roud_AAPians uru9899 eetasengupta Nation have seen this in Demonetization and repli  you...still not getting. Deaf and dumb\n",
            "\n",
            "1637)it doesn't mean anything other than demonetization and i don't make money anyway, jus the email notifs are long\n",
            "\n",
            "1638)Dramatic video after demonetization also recall ....anojTiwariMP  \n",
            "\n",
            "1639)The same Ambit that pr ict  0 GDP growth due to demonetization?  \n",
            "\n",
            "1640)The rumors of demonetization had also l  to a spike in forex remittances a few month before.  \n",
            "\n",
            "1641)Dear Evan Spiegel India is so rich that Pm Modi had to implement Demonetization  to find out who is actually poor\n",
            "\n",
            "1642)vanspiegel  Dear Evan Spiegel India is so rich that Pm Modi had to implement Demonetization  to find out who is actually poor.\n",
            "\n",
            "1643)r_Shiralkar: India is so rich bc Modi had to do the demonetization to see who actually was poor. < ><U+ ><U+ >< ><U+ ><U+0082>< ><U+ ><U+ >< ><U+ ><U+0082> boycottsnapchat\n",
            "\n",
            "1644)r_Shiralkar: India is so rich bc Modi had to do the demonetization to see who actually was poor. < ><U+ ><U+ >< ><U+ ><U+0082>< ><U+ ><U+ >< ><U+ ><U+0082> boycottsnapchat\n",
            "\n",
            "1645)r_Shiralkar: India is so rich bc Modi had to do the demonetization to see who actually was poor. < ><U+ ><U+ >< ><U+ ><U+0082>< ><U+ ><U+ >< ><U+ ><U+0082> boycottsnapchat\n",
            "\n",
            "1646)r_Shiralkar: India is so rich bc Modi had to do the demonetization to see who actually was poor. < ><U+ ><U+ >< ><U+ ><U+0082>< ><U+ ><U+ >< ><U+ ><U+0082> boycottsnapchat\n",
            "\n",
            "1647)Dear vanspigel\n",
            "India is so rich that arendramodi had to implement demonetization to find out who is actually poor.!\n",
            "uninstallsnapchat\n",
            "\n",
            "1648)r_Shiralkar: India is so rich bc Modi had to do the demonetization to see who actually was poor. < ><U+ ><U+ >< ><U+ ><U+0082>< ><U+ ><U+ >< ><U+ ><U+0082> boycottsnapchat\n",
            "\n",
            "1649)arendramodi mitShah ajnathsingh irenRijiju \n",
            "\n",
            "Address to Nation like Demonetization on Kashmir. Take Harsh Steps on Separatist &amp; Pak\n",
            "\n",
            "1650)r_Shiralkar: India is so rich bc Modi had to do the demonetization to see who actually was poor. < ><U+ ><U+ >< ><U+ ><U+0082>< ><U+ ><U+ >< ><U+ ><U+0082> boycottsnapchat\n",
            "\n",
            "1651)r_Shiralkar: India is so rich bc Modi had to do the demonetization to see who actually was poor. < ><U+ ><U+ >< ><U+ ><U+0082>< ><U+ ><U+ >< ><U+ ><U+0082> boycottsnapchat\n",
            "\n",
            "1652)r_Shiralkar: India is so rich bc Modi had to do the demonetization to see who actually was poor. < ><U+ ><U+ >< ><U+ ><U+0082>< ><U+ ><U+ >< ><U+ ><U+0082> boycottsnapchat\n",
            "\n",
            "1653)r_Shiralkar: India is so rich bc Modi had to do the demonetization to see who actually was poor. < ><U+ ><U+ >< ><U+ ><U+0082>< ><U+ ><U+ >< ><U+ ><U+0082> boycottsnapchat\n",
            "\n",
            "1654)r_Shiralkar: India is so rich bc Modi had to do the demonetization to see who actually was poor. < ><U+ ><U+ >< ><U+ ><U+0082>< ><U+ ><U+ >< ><U+ ><U+0082> boycottsnapchat\n",
            "\n",
            "1655)r_Shiralkar: India is so rich bc Modi had to do the demonetization to see who actually was poor. < ><U+ ><U+ >< ><U+ ><U+0082>< ><U+ ><U+ >< ><U+ ><U+0082> boycottsnapchat\n",
            "\n",
            "1656)r_Shiralkar: India is so rich bc Modi had to do the demonetization to see who actually was poor. < ><U+ ><U+ >< ><U+ ><U+0082>< ><U+ ><U+ >< ><U+ ><U+0082> boycottsnapchat\n",
            "\n",
            "1657)r_Shiralkar: India is so rich bc Modi had to do the demonetization to see who actually was poor. < ><U+ ><U+ >< ><U+ ><U+0082>< ><U+ ><U+ >< ><U+ ><U+0082> boycottsnapchat\n",
            "\n",
            "1658)r_Shiralkar: India is so rich bc Modi had to do the demonetization to see who actually was poor. < ><U+ ><U+ >< ><U+ ><U+0082>< ><U+ ><U+ >< ><U+ ><U+0082> boycottsnapchat\n",
            "\n",
            "1659)r_Shiralkar: India is so rich bc Modi had to do the demonetization to see who actually was poor. < ><U+ ><U+ >< ><U+ ><U+0082>< ><U+ ><U+ >< ><U+ ><U+0082> boycottsnapchat\n",
            "\n",
            "1660)r_Shiralkar: India is so rich bc Modi had to do the demonetization to see who actually was poor. < ><U+ ><U+ >< ><U+ ><U+0082>< ><U+ ><U+ >< ><U+ ><U+0082> boycottsnapchat\n",
            "\n",
            "1661)r_Shiralkar: India is so rich bc Modi had to do the demonetization to see who actually was poor. < ><U+ ><U+ >< ><U+ ><U+0082>< ><U+ ><U+ >< ><U+ ><U+0082> boycottsnapchat\n",
            "\n",
            "1662)r_Shiralkar: India is so rich bc Modi had to do the demonetization to see who actually was poor. < ><U+ ><U+ >< ><U+ ><U+0082>< ><U+ ><U+ >< ><U+ ><U+0082> boycottsnapchat\n",
            "\n",
            "1663)r_Shiralkar: India is so rich bc Modi had to do the demonetization to see who actually was poor. < ><U+ ><U+ >< ><U+ ><U+0082>< ><U+ ><U+ >< ><U+ ><U+0082> boycottsnapchat\n",
            "\n",
            "1664)Our respect  PM,pls do smthng like demonetization for such Pvt schools,whose are already made us pauper n thrown towards serious subject pl\n",
            "\n",
            "1665)r_Shiralkar: India is so rich bc Modi had to do the demonetization to see who actually was poor. < ><U+ ><U+ >< ><U+ ><U+0082>< ><U+ ><U+ >< ><U+ ><U+0082> boycottsnapchat\n",
            "\n",
            "1666)r_Shiralkar: India is so rich bc Modi had to do the demonetization to see who actually was poor. < ><U+ ><U+ >< ><U+ ><U+0082>< ><U+ ><U+ >< ><U+ ><U+0082> boycottsnapchat\n",
            "\n",
            "1667)r_Shiralkar: India is so rich bc Modi had to do the demonetization to see who actually was poor. < ><U+ ><U+ >< ><U+ ><U+0082>< ><U+ ><U+ >< ><U+ ><U+0082> boycottsnapchat\n",
            "\n",
            "1668)r_Shiralkar: India is so rich bc Modi had to do the demonetization to see who actually was poor. < ><U+ ><U+ >< ><U+ ><U+0082>< ><U+ ><U+ >< ><U+ ><U+0082> boycottsnapchat\n",
            "\n",
            "1669)r_Shiralkar: India is so rich bc Modi had to do the demonetization to see who actually was poor. < ><U+ ><U+ >< ><U+ ><U+0082>< ><U+ ><U+ >< ><U+ ><U+0082> boycottsnapchat\n",
            "\n",
            "1670)r_Shiralkar: India is so rich bc Modi had to do the demonetization to see who actually was poor. < ><U+ ><U+ >< ><U+ ><U+0082>< ><U+ ><U+ >< ><U+ ><U+0082> boycottsnapchat\n",
            "\n",
            "1671)r_Shiralkar: India is so rich bc Modi had to do the demonetization to see who actually was poor. < ><U+ ><U+ >< ><U+ ><U+0082>< ><U+ ><U+ >< ><U+ ><U+0082> boycottsnapchat\n",
            "\n",
            "1672)India is so rich bc Modi had to do the demonetization to see who actually was poor. < ><U+ ><U+ >< ><U+ ><U+0082>< ><U+ ><U+ >< ><U+ ><U+0082> boycottsnapchat\n",
            "\n",
            "1673)mNazriya: Dear napchat CEO, \n",
            "India is so rich that PM Narendra Modi had to implement demonetization to find out who is actually poor\n",
            "\n",
            "1674)hefVaidya Another misfire from sold m ia after JNU , demonetization and UP election.\n",
            "\n",
            "1675)I lik  a ouTube video   YouTube Demonetization is Completely F*cking Random\n",
            "\n",
            "1676)ncomeTaxIndia: The opportunities creat  by demonetization are being us  by the ITD for widening and deepening of the tax base and cr\n",
            "\n",
            "1677)admanweb Demonetization effect was temporary, not that hard to figure out\n",
            "\n",
            "1678)anungosubrat3 separatist are on house arrest &amp; I thought demonetization stopp  stone pelting\n",
            "\n",
            "1679)yingConsciousn: I thought demonetization had solv  the Kashmir problem in 50 days flat ! NO.\n",
            "\n",
            "Cc hopsyturvey ajorgauravarya https\n",
            "\n",
            "1680)I lik  a ouTube video   YouTube Demonetization is Completely F*cking Random\n",
            "\n",
            "1681)emeghnad Demonetization was declar  to cr it banks who were burden  with NPAs. Banks cannot recover this bad loans anymore.\n",
            "\n",
            "1682)I'm being told by uncle Google that India's demonitization fail .  \n",
            "\n",
            "1683)ptayu: Dear vanspiegel \n",
            "India is so rich that PM arendramodi ji had to implement demonetization to find out who is actually poor!\n",
            "\n",
            "1684)Dear vanspiegel \n",
            "India is so rich that PM Narendra Modi had to implement demonetization to find out who is actually poor!\n",
            "\n",
            "Snapchat\n",
            "\n",
            "1685)admanweb anjona Demonetization was stupid and every reason given was totally juvenile. This government wants re  \n",
            "\n",
            "1686)Dear vanspiegel \n",
            "India is so rich that PM Narendra Modi arendramodi  had to implement demonetization to find out who is actually poor!\n",
            "\n",
            "1687)abirTaneja unjakapoor Someone tell me hardly any Kashmir news during UP Poll. Demonetization was suppose to stop all this.\n",
            "\n",
            "Snapchat\n",
            "\n",
            "1689)And WTF means \"had to implement demonetization to find out who is actually poor\" ??\n",
            "\n",
            "1690)Dear vanspiegel \n",
            "India is so rich that PM Narendra Modi had to implement demonetization to find out who is actually poor\n",
            "napchat\n",
            "\n",
            "1691)appy_1989 we hv a govt which thinks demonetization will solve Kashmir issue.Don't u think Kashmiri's anger deserve little more respect?\n",
            "\n",
            "1692)Dear napchat Ceo EvanSpiegel India is so rich that PM arendermodi had to implement demonetization to find out who is actually poor!\n",
            "\n",
            "1693)I lik  a ouTube video   YouTube Demonetization is Completely F*cking Random\n",
            "\n",
            "1694)arendramodi if u serious bout Benami Prop Acts then 1st BAN RENT or Sale CASH Transactions as this will automatically help Demonetization!\n",
            "\n",
            "1695)I lik  a ouTube video   YouTube Demonetization is Completely F*cking Random\n",
            "\n",
            "1696)Dear napchat CEO, \n",
            "India is so rich that PM Narendra Modi had to implement demonetization to find out who is actually poor.\n",
            "vanspiegel\n",
            "\n",
            "1697)I lik  a ouTube video   YouTube Demonetization is Completely F*cking Random\n",
            "\n",
            "1698)[Dr Shaym (uploads) on YouTube] YouTube Demonetization is Completely F*cking Random  \n",
            "\n",
            "1699)I lik  a ouTube video   YouTube Demonetization is Completely F*cking Random\n",
            "\n",
            "1700)ameer_polonium arsh02251420 isssoniaahm  ardarsikh1 hribuddha Collapse of small-m ium business due to demonetization. Wah < ><U+ ><U+ >< ><U+ ><U+0084>\n",
            "\n",
            "1701)If you think India is poor, try demonetization once in your country. Snapchat \n",
            "vanspiegel\n",
            "\n",
            "1702)idyut .. On ur question of cashless &amp; demonetization. I am a CA and I know ground realities. Just have a casual chat with ur CA.\n",
            "\n",
            "1703)eryAngryHobbit ddie_ebert hunderf00t The statement itself was a joke. Sargon never honestly complain  about  \n",
            "\n",
            "1704)Dear vanspiegel \n",
            "India is so rich that PM arendramodi ji had to implement demonetization to find out who is actually poor!\n",
            "\n",
            "Snapchat\n",
            "\n",
            "1705)Just witness  my first demonetization < ><U+ ><U+ >< ><U+ ><U+00AB>< ><U+ ><U+ >< ><U+ ><U+00AB>< ><U+ ><U+ >< ><U+ ><U+00AB>. WTF\n",
            "\n",
            "1706)Dear vanspiegel \n",
            "India is so rich that PM Narendra Modi had to implement demonetization to find out who is actually poor!\n",
            "\n",
            "Snapchat\n",
            "\n",
            "1707)If government treasury increas  at the time of demonetization, then idiots like CEO of Snapchat wouldn't have us  such words. Snapchat\n",
            "\n",
            "1708)ilanV: JP Morgan notes that economic data has begun to revert to mean, post-demonetization  \n",
            "\n",
            "1709)ardesairajdeep And we were told Demonetization has neutraliz  all the Black Money in Politics.\n",
            "Then are this ele  \n",
            "\n",
            "1710)94Seven money flow restart  after initial setback due to demonetization.Good Friend pushing in 'strategic assets  \n",
            "\n",
            "1711)avita_krishnan if so then, where were these stone pelters, made due to AFSPA, per ur reason, post 8th December when demonetization happnd?\n",
            "\n",
            "1712)ahaanify: Demonetization was a terrible idea btw.\n",
            "\n",
            "1713)YINAAA ngryJoeShow TCreators it seems stupid for him to complain about just a demonetization claim. He should  \n",
            "\n",
            "1714)Demonetization was a terrible idea btw.\n",
            "\n",
            "1715)I thought demonetization had solv  the Kashmir problem in 50 days flat ! NO.\n",
            "\n",
            "Cc hopsyturvey ajorgauravarya  \n",
            "\n",
            "1716)Breaking News : Joe Vargas aka  Angry Joe is whining about demonetization...  give him bitts on his shitty reacts videos and patreon.\n",
            "\n",
            "1717)atnofact I don't think Phil gets the joke, he also thinks the Kekistani flag is due to low adverts &amp; demonetizati  \n",
            "\n",
            "1718)rongDoc Proof that demonetization did'nt cure naturally born commie retard  brainless parasites\n",
            "\n",
            "1719)hunderf00t: holy crap! just found out 'bout the 'skeptical youtubers' response to YT demonetization was -a hastag campaign. kekistan\n",
            "\n",
            "1720)avita_krishnan Naxals must be running like crazy after demonetization < ><U+ ><U+00BE>< ><U+00B4><U+00A1>< ><U+ ><U+00BE>< ><U+00B4><U+00A3>\n",
            "\n",
            "1721)irbhadrasingh: Aamaadmi was expecting some respite after experiencing bad phase of demonetization but Budget2017 fail  to come up t\n",
            "\n",
            "1722)irbhadrasingh: Demonetization l  to slow growth rate of the state economy and it has badly effect  agriculture and other sectors B\n",
            "\n",
            "1723)AAP &amp; AK hv consistently voic  on national issues be it Farmer, CrossBorderTerrorism, Demonetization, EVM, Corruption\n",
            "Lets not be insecure!\n",
            "\n",
            "1724)avindranayakn apsology U mean Modi li < ><U+ ><U+ >< ><U+ ><U+00B2> didn't he say surgical strikes wip  off terrorism, demonetization fin  \n",
            "\n",
            "1725)ardesairajdeep Money for those ad,bannerd paid cashless Or it is the black money that BJP convert  to white just  \n",
            "\n",
            "1726)Demonetization hardly had  any affect on the corrupt < ><U+ ><U+ >< ><U+ ><U+0082>< ><U+ ><U+ >< ><U+ ><U+0082>  \n",
            "\n",
            "1727)ilanV: JP Morgan notes that economic data has begun to revert to mean, post-demonetization  \n",
            "\n",
            "1728)Those in power can make huge money these days by selling stocks short and taking crazy decisions like demonetization to make billions.\n",
            "\n",
            "1729)CICIBank ATMs still running dry. Not sure if this still an impact of demonetization\n",
            "\n",
            "1730)ncomeTaxIndia: The opportunities creat  by demonetization are being us  by the ITD for widening and deepening of the tax base and cr\n",
            "\n",
            "1731)CS: In the wake of demonetization in India, here's how NBFCs are filling the void left behind by the informal lenders.  \n",
            "\n",
            "1732)Didn't demonetization end stone pelting? Or another of the long series of non existent achievements coupl  with an economy that is tanking.\n",
            "\n",
            "1733)Big kick to banks due to demonetization !\n",
            "Anti common man banking !@  \n",
            "\n",
            "1734)Glorifying Indian economic reforms after the horror of demonetization - is ECRI a pale horseman of the apocalypse?  \n",
            "\n",
            "1735)Gold imports gain since demonetization: Black money turn  white, then yellow   via ordpressdotcom\n",
            "\n",
            "1736)nsachinnandu So you accept that demonetization is fail .\n",
            "\n",
            "1737)tupidosaur: nterceptor4h agg tag Useless Kejri also didn't speak up correct thing which would have defeat  demonetization.I told\n",
            "\n",
            "1738)nterceptor4h agg tag Useless Kejri also didn't speak up correct thing which would have defeat  demonetization  \n",
            "\n",
            "1739)arendramodi hi modiji..i want to share my experience which i was felt today. im not able to understand what is purpose of Demonetization\n",
            "\n",
            "1740)ardesairajdeep that's y BJPeee did a demonetization. To break the money power of rest of the parties.but poor bhakt think it's to curb BM< ><U+ ><U+ >< ><U+ ><U+0082>\n",
            "\n",
            "1741)arendramodi demonetization was a blunder mistake.but for fool's u become a HERO.\n",
            "AM I WRONG ?\n",
            "IF YES- I AM READY FOR DEBATE\n",
            "\n",
            "1742)arthavs: Cash no more King-Electronic&amp; Digital is!!Cash In Use26%Less Than November8 Levels FO_India Demonetization BI\n",
            " \n",
            "\n",
            "1743)ngryJoeShow 1? Can't prove that, but heavily hit!? Whoa boy, you are on a UNITED flight to demonetization!\n",
            "\n",
            "1744)kron_88: Had pr ict  demonetization will be a failure with asShaktikanta at helm. The guy who alleg  reports 2 chidu first. nse\n",
            "\n",
            "1745)Another round of stone pelting at SF in Kashmir.  SC oppos  to pellet guns. So we hv another round of demonetization?\n",
            "\n",
            "1746)rdyt article seems tailor  to touch every single nerve of the anti-demonetization brigade...\n",
            "\n",
            "1747)nalyseasia: [Weekend Recap] Everything you want to know about smartphone coverage &amp; demonetization in India with avkendar_IDC  https\n",
            "\n",
            "1748)_kodali: Now poor are with Modi because of demonetization and his Pro- poor policies.  \n",
            "\n",
            "1749)rvindKejriwal amAadmiParty They are now starting facing business slow down aftr demonetization and politely acc  \n",
            "\n",
            "1750)ilanV: JP Morgan notes that economic data has begun to revert to mean, post-demonetization  \n",
            "\n",
            "1751)NINewsUP NI_news Again grt initiative with worst implementation like demonetization,students may b told abt grt  \n",
            "\n",
            "1752)For all who had doubt   demonetization,this is 1 such example of d impact it had on black < ><U+ ><U+ >< ><U+00B2><U+00B0> hoarding.But..An ostri  \n",
            "\n",
            "1753)argon_of_Akkad That was the point of this demonetization bullshit. To shut down the hate speech mongers. Stop acting like it's a surprise.\n",
            "\n",
            "1754)heFre om2Live ouTube ouTube is dirty for demonetization of anyone non liberal or non democrat\n",
            "\n",
            "1755)zomer: Lessons for other countries? Print the bills before! \"Baffl \" by the level of implementation - demonetization in India PAL\n",
            "\n",
            "1756)avinkhaitan People of UP are morons who vot  for BJP as they think Demonetization made big impact on richs !!\n",
            "\n",
            "1757)What a shame that the two things I watch on ouTube are being target  by advertisers and being kill  off due to  \n",
            "\n",
            "1758)Dear Indian m ia which was very active at the time of Demonetization., why don't you show the news of India...  \n",
            "\n",
            "1759)amana1729 Karnataka and Tamilnadu appear to have Topp  in the Black Money holding Levels before Demonetization.\n",
            "\n",
            "1760)riyansh2106 NI_news ainjal and Chidambaram_IN to say demonetization didnt help detect black money\n",
            "\n",
            "1761)enukaJain6: ingmanoj1 arendramodi rGPradhan ivekagnihotri DFCBank_Cares CICIBank_Care check blog I wrote long back \n",
            "\n",
            "https\n",
            "\n",
            "1762)ilanV: JP Morgan notes that economic data has begun to revert to mean, post-demonetization  \n",
            "\n",
            "1763)heSandreGuy Yup. BTW saw the livestream with Kraut and Sargon on YT's \"fuck w/ it all for the sake of fucking w/  \n",
            "\n",
            "1764)ncomeTaxIndia: The opportunities creat  by demonetization are being us  by the ITD for widening and deepening of the tax base and cr\n",
            "\n",
            "1765)ncomeTaxIndia: The opportunities creat  by demonetization are being us  by the ITD for widening and deepening of the tax base and cr\n",
            "\n",
            "1766)amaaaa6 mountain of black money&amp;laundering?scam demonetization?\n",
            "\n",
            "1767)ilanV: JP Morgan notes that economic data has begun to revert to mean, post-demonetization  \n",
            "\n",
            "1768)ilanV: JP Morgan notes that economic data has begun to revert to mean, post-demonetization  \n",
            "\n",
            "1769)ilanV: JP Morgan notes that economic data has begun to revert to mean, post-demonetization  \n",
            "\n",
            "1770)Demonetization to benefit India in long term: Experts oneycontrolcom   hi\n",
            "\n",
            "1771)The Demonetization Effect: Indian Startups Cutting Jobs Amid Uncertainty via orbes  \n",
            "\n",
            "1772)ilanV: JP Morgan notes that economic data has begun to revert to mean, post-demonetization  \n",
            "\n",
            "1773)ehapant19 Modi did a big scam which ppl not aware of fe ing jewellery sector on demonetization not to ne y..\n",
            "\n",
            "1774)ilanV: JP Morgan notes that economic data has begun to revert to mean, post-demonetization  \n",
            "\n",
            "1775)ilanV: JP Morgan notes that economic data has begun to revert to mean, post-demonetization  \n",
            "\n",
            "1776)ilanV: JP Morgan notes that economic data has begun to revert to mean, post-demonetization  \n",
            "\n",
            "1777)people who have gloat    failure of demonetization exercise have to eat crow   \n",
            "\n",
            "1778)Now poor are with Modi because of demonetization and his Pro- poor policies.  \n",
            "\n",
            "1779)NI_news Demonetization is failure. < ><U+ ><U+ >< ><U+ ><U+0082>< ><U+ ><U+ >< ><U+ ><U+0082>< ><U+ ><U+ >< ><U+ ><U+0082>< ><U+ ><U+ >< ><U+ ><U+0082>< ><U+ ><U+ >< ><U+ ><U+0082>< ><U+ ><U+ >< ><U+ ><U+0082>\n",
            "\n",
            "1780)Wow... NPR is running a story on YouTube demonetization.  It's even affecting Social Justice Warriors!  Brutal...\n",
            "\n",
            "1781)ncomeTaxIndia: The opportunities creat  by demonetization are being us  by the ITD for widening and deepening of the tax base and cr\n",
            "\n",
            "1782)MonkeyHumanist: ocaCola Sorry, not buying a product from a company that help  destroy my favorite YouTubers from demonetization.\n",
            "\n",
            "1783)I hate paying tips... especially post demonetization! Now restaurants cannot add service charges to your bill  \n",
            "\n",
            "1784)MonkeyHumanist: ocaCola Sorry, not buying a product from a company that help  destroy my favorite YouTubers from demonetization.\n",
            "\n",
            "1785)MonkeyHumanist: ocaCola Sorry, not buying a product from a company that help  destroy my favorite YouTubers from demonetization.\n",
            "\n",
            "1786)ncomeTaxIndia: The opportunities creat  by demonetization are being us  by the ITD for widening and deepening of the tax base and cr\n",
            "\n",
            "1787)MonkeyHumanist: ocaCola Sorry, not buying a product from a company that help  destroy my favorite YouTubers from demonetization.\n",
            "\n",
            "1788)MonkeyHumanist: ocaCola Sorry, not buying a product from a company that help  destroy my favorite YouTubers from demonetization.\n",
            "\n",
            "1789)agasudar issFurioso rujanaDeva ham Ansar What are achievements? Dont tell me Demonetization mess is one, d  \n",
            "\n",
            "1790)ncomeTaxIndia: The opportunities creat  by demonetization are being us  by the ITD for widening and deepening of the tax base and cr\n",
            "\n",
            "1791)ncomeTaxIndia: The opportunities creat  by demonetization are being us  by the ITD for widening and deepening of the tax base and cr\n",
            "\n",
            "1792)ncomeTaxIndia: The opportunities creat  by demonetization are being us  by the ITD for widening and deepening of the tax base and cr\n",
            "\n",
            "1793)bpnewshindi arendramodi Means demonetization was a stupid decision\n",
            "\n",
            "1794)ncomeTaxIndia: The opportunities creat  by demonetization are being us  by the ITD for widening and deepening of the tax base and cr\n",
            "\n",
            "1795)ncomeTaxIndia: The opportunities creat  by demonetization are being us  by the ITD for widening and deepening of the tax base and cr\n",
            "\n",
            "1796)ncomeTaxIndia: The opportunities creat  by demonetization are being us  by the ITD for widening and deepening of the tax base and cr\n",
            "\n",
            "1797)ncomeTaxIndia: The opportunities creat  by demonetization are being us  by the ITD for widening and deepening of the tax base and cr\n",
            "\n",
            "1798)ncomeTaxIndia: The opportunities creat  by demonetization are being us  by the ITD for widening and deepening of the tax base and cr\n",
            "\n",
            "1799)ncomeTaxIndia: The opportunities creat  by demonetization are being us  by the ITD for widening and deepening of the tax base and cr\n",
            "\n",
            "1800)ncomeTaxIndia: The opportunities creat  by demonetization are being us  by the ITD for widening and deepening of the tax base and cr\n",
            "\n",
            "1801)The opportunities creat  by demonetization are being us  by the ITD for widening and deepening of the tax base and create deterrence.\n",
            "\n",
            "1802)ndia_Policy Is this apart from what has been declar  due to demonetization condition?\n",
            "\n",
            "1803)zomer: Lessons for other countries? Print the bills before! \"Baffl \" by the level of implementation - demonetization in India PAL\n",
            "\n",
            "1804)arthavs: Cash no more King-Electronic&amp; Digital is!!Cash In Use26%Less Than November8 Levels FO_India Demonetization BI\n",
            " \n",
            "\n",
            "1805)He has already collect  black money during demonetization.  \n",
            "\n",
            "1806)ocaCola Sorry, not buying a product from a company that help  destroy my favorite YouTubers from demonetization.\n",
            "\n",
            "1807)1st demonetization and now demoralization of indian forces.... arendramodi_in arendramodi MOIndia MOIndia very sad, unacceptable\n",
            "\n",
            "1808)stockmarket its time to be more caucious. earning session may be disappointing. we will see impact of  \n",
            "\n",
            "1809)Is there any projects which start  and inaugurat  by pradhan sevak ??? Please don't tell about bloody demonetization..\n",
            "\n",
            "1810)Which means less than 5000 crore of revenue to Govt. Not even covering demonetization cost. All big fishes got thei  \n",
            "\n",
            "1811)Don't you think its little too coincidental that the biggest events in 2016 happen  simultaneously?\n",
            "Demonetization and Jio\n",
            "hashiTharoor\n",
            "\n",
            "1812)bhisingh0003 And that's also a fact that maximum have support  the initiative of demonetization.\n",
            "Small vendor wh  \n",
            "\n",
            "1813)The exact point behind demonetization of Rs 1000 and Rs 500 notes  \n",
            "\n",
            "1814)news summary:  india  oil  demand  shrinks for third  month amid  demonetization  drag  \n",
            "\n",
            "1815)news summary:  india  oil  demand  shrinks for third  month amid  demonetization  drag  \n",
            "\n",
            "1816)AKOU future - YouTube Demonetization... NEVER go full retard (Tropic Thunder ref)  \n",
            "\n",
            "1817)igvijaya_28 You can't be serious igvijaya_28! You're still frothing over demonetization. People have mov  on and gone digital!\n",
            "\n",
            "1818)A journalist spoke against demonetization, was remov , ardesairajdeep look  other way, history will not forgive nor forget ndiaToday\n",
            "\n",
            "1819)ttomeybharti: Headline blames demonetization, report says lack of supply due to staff shortage and year-end closing. < ><U+ ><U+00BE>< ><U+00B4><U+00B7>< ><U+ ><U+00BC>< ><U+00BF><U+00BB><U+200D><U+2642><U+FE0F>  \n",
            "\n",
            "1820)indOfMicahC ouTube Yeah, they said even talking about war without showing anything violent is grounds for demon  \n",
            "\n",
            "1821)zomer: Lessons for other countries? Print the bills before! \"Baffl \" by the level of implementation - demonetization in India PAL\n",
            "\n",
            "1822)Lessons for other countries? Print the bills before! \"Baffl \" by the level of implementation - demonetization in India PAL_Global\n",
            "\n",
            "1823)Wrestling hit by YouTube demonetization, another JBL story, KurtAngle talks RAW -   WWE\n",
            "\n",
            "1824)54 rule changes in 52 days - demonetization in India. Hard to plan for a w ding or regular life under these conditions PAL_Global d2p2\n",
            "\n",
            "1825)PAL_Global: Banerjee: Our surveys of market sellers in India found ave. 23% less sales after demonetization.  \n",
            "\n",
            "1826)PAL_Global: Banerjee: Our surveys of market sellers in India found ave. 23% less sales after demonetization.  \n",
            "\n",
            "1827)Banerjee: Our surveys of market sellers in India found ave. 23% less sales after demonetization.   d2p2 ITEcon\n",
            "\n",
            "1828)The 2 k rupees notes could enhance the chance of someone doing something illegal - d2p2 demonetization in India  \n",
            "\n",
            "1829)zomer: Arguments for demonetization in India for security, corruption and formal economy \"not water tight\" - PAL_Global ITEcon h\n",
            "\n",
            "1830)zomer: Arguments for demonetization in India for security, corruption and formal economy \"not water tight\" - PAL_Global ITEcon h\n",
            "\n",
            "1831)Arguments for demonetization in India for security, corruption and formal economy \"not water tight\" -  \n",
            "\n",
            "1832)lectionCmsn: AapKaDepositGaya in our accounts. Demonetization had hit us hard as well. We ne   money to buy EVMs and then again to\n",
            "\n",
            "1833)ttomeybharti: Headline blames demonetization, report says lack of supply due to staff shortage and year-end closing. < ><U+ ><U+00BE>< ><U+00B4><U+00B7>< ><U+ ><U+00BC>< ><U+00BF><U+00BB><U+200D><U+2642><U+FE0F>  \n",
            "\n",
            "1834)atheeshVgopal: Dear Modiji,we want to know how much black money this criminal convert   during demonetization? MOIndia  DreamzGKFr\n",
            "\n",
            "1835)enukaJain6: ingmanoj1 arendramodi rGPradhan ivekagnihotri DFCBank_Cares CICIBank_Care check blog I wrote long back \n",
            "\n",
            "https\n",
            "\n",
            "1836)arthavs: Cash no more King-Electronic&amp; Digital is!!Cash In Use26%Less Than November8 Levels FO_India Demonetization BI\n",
            " \n",
            "\n",
            "1837)umanthraman When NDTV first us  Jumla during demonetization someone ask  me  'Does that mean idea?'. It all co  \n",
            "\n",
            "1838)ilanV: JP Morgan notes that economic data has begun to revert to mean, post-demonetization  \n",
            "\n",
            "1839)ilanV: JP Morgan notes that economic data has begun to revert to mean, post-demonetization  \n",
            "\n",
            "1840)shutosh83B Major blunders by AAP : Questioning surgical strikes, criticizing demonetization, foreign jaunts, publ  \n",
            "\n",
            "1841)ilanV: JP Morgan notes that economic data has begun to revert to mean, post-demonetization  \n",
            "\n",
            "1842)ershwin93: Demonetization made little impact,with money being flung around for votes in the recently conclud  Assembly polls. ACJLiv\n",
            "\n",
            "1843)ingmanoj1 arendramodi rGPradhan ivekagnihotri DFCBank_Cares CICIBank_Care check blog I wrote long back \n",
            "\n",
            " \n",
            "\n",
            "1844)My version:\n",
            "Saffron : Anger by Romeo squad, trolls, bhakts\n",
            "White : Fairness cream, demonetization \n",
            "Green : Land gif  \n",
            "\n",
            "1845)OIIndiaNews  Industrial output dips 1.2% in February mainly due to decline in manufacturing sector after demonetization.\n",
            "\n",
            "1846)ilanV: JP Morgan notes that economic data has begun to revert to mean, post-demonetization  \n",
            "\n",
            "1847)I don't understand by Demonetization what the Govt has achiev   neither Black money nor corruption. on the other side entire country fac \n",
            "\n",
            "1848)Demonetization &amp; the Fight Against Black Money! Will it work?  \n",
            "\n",
            "1849)ilanV: JP Morgan notes that economic data has begun to revert to mean, post-demonetization  \n",
            "\n",
            "1850)It has gone down bef demonetization also. Inflation marginal.. just wondering whether your brain also undergone dem  \n",
            "\n",
            "1851)SBI denies black money channelisation at Bareilly branch   The Indian jugaad at work again  \n",
            "\n",
            "1852)ilanV: JP Morgan notes that economic data has begun to revert to mean, post-demonetization  \n",
            "\n",
            "1853)ealitybytes51: What m ia has fail  to highlight is that apart from UP Shamshan victory. Demonetization hurt BJP in Goa and Punjab ht\n",
            "\n",
            "1854)ilanV: JP Morgan notes that economic data has begun to revert to mean, post-demonetization  \n",
            "\n",
            "1855)ouTube i gave you a break with the RT. but i am back. LET'S FIX THIS PLEASE?!?! unnecessary unfair  \n",
            "\n",
            "1856)What m ia has fail  to highlight is that apart from UP Shamshan victory. Demonetization hurt BJP in Goa and Punjab  \n",
            "\n",
            "1857)ilanV: JP Morgan notes that economic data has begun to revert to mean, post-demonetization  \n",
            "\n",
            "1858)arthavs: Cash no more King-Electronic&amp; Digital is!!Cash In Use26%Less Than November8 Levels FO_India Demonetization BI\n",
            " \n",
            "\n",
            "1859)JP Morgan notes that economic data has begun to revert to mean, post-demonetization  \n",
            "\n",
            "1860)rrbpatil arendramodi PM only had said in his speech after demonetization that banks will charge 100 rental not more Bhakts\n",
            "\n",
            "1861)hefVaidya Wasn't your guy suppos  to come in front of the public to accept slaps after the historical failure of Demonetization?!!\n",
            "\n",
            "1862)ri50: PuthanPanam 2.5/5.Ranjith's earlier IR was solid but PP set against backdrop of demonetization has a half back  script. 2nd ha\n",
            "\n",
            "1863)ershwin93: A non-partisan approach to combating black money is the ne  of the hour. Demonetization was a unilateral and  miscalculate\n",
            "\n",
            "1864)A non-partisan approach to combating black money is the ne  of the hour. Demonetization was a unilateral and  miscalculat  move.ACJLive\n",
            "\n",
            "1865)hunderf00t: holy crap! just found out 'bout the 'skeptical youtubers' response to YT demonetization was -a hastag campaign. kekistan\n",
            "\n",
            "1866)ershwin93: The public discussion on 'Demonetization and Black Money' is underway at Kasturi Srinivasan Hall, Chennai. ACJlive https:/\n",
            "\n",
            "1867)arthavs: Cash no more King-Electronic&amp; Digital is!!Cash In Use26%Less Than November8 Levels FO_India Demonetization BI\n",
            " \n",
            "\n",
            "1868)Demonetization made little impact,with money being flung around for votes in the recently conclud  Assembly polls.  \n",
            "\n",
            "1869)s_rana: antaKaReporter But Modi govt told us that Demonetization has finish  corruption in India?! Weird ... another round of demon\n",
            "\n",
            "1870)arendramodi built street cr  as a fighter of black money with demonetization, there were no protests: Raghavan Srinivasan ACJLive\n",
            "\n",
            "1871)ershwin93: The public discussion on 'Demonetization and Black Money' is underway at Kasturi Srinivasan Hall, Chennai. ACJlive https:/\n",
            "\n",
            "1872)antaKaReporter But Modi govt told us that Demonetization has finish  corruption in India?! Weird ... another rou  \n",
            "\n",
            "1873)Demonetization has creat  immense anger among the masses against the evil Modi  \n",
            "\n",
            "1874)ershwin93: The public discussion on 'Demonetization and Black Money' is underway at Kasturi Srinivasan Hall, Chennai. ACJlive https:/\n",
            "\n",
            "1875)arthavs: Cash no more King-Electronic&amp; Digital is!!Cash In Use26%Less Than November8 Levels FO_India Demonetization BI\n",
            " \n",
            "\n",
            "1876)Cash no more King-Electronic&amp; Digital is!!Cash In Use26%Less Than November8 Levels FO_India Demonetization BI\n",
            " \n",
            "\n",
            "1877)Was the primary motive behind demonetization actually to flush funds into public banks beleaguer  by bad loans? ACJLive\n",
            "\n",
            "1878)tupidosaur: anishonline IDAI So just like demonetization (but worse) you will be lock  out of everything in life. You die. No Tyt\n",
            "\n",
            "1879)tupidosaur: anishonline IDAI So just like demonetization (but worse) you will be lock  out of everything in life. You die. No Tyt\n",
            "\n",
            "1880)anishonline IDAI So just like demonetization (but worse) you will be lock  out of everything in life. You die.  \n",
            "\n",
            "1881)The public discussion on 'Demonetization and Black Money' is underway at Kasturi Srinivasan Hall, Chennai. ACJlive  \n",
            "\n",
            "1882)unnyLeone Demonetization suck my job sorry m unable to purchase\n",
            "\n",
            "1883)ri50: PuthanPanam 2.5/5.Ranjith's earlier IR was solid but PP set against backdrop of demonetization has a half back  script. 2nd ha\n",
            "\n",
            "1884)A Well-Kept Open Secret: Washington Is Behind Indias Brutal Demonetization Project   via rtvnews\n",
            "\n",
            "1885)apsology Aap lost Due 2EVM,HONESTY,Corrupt voter,LG FALSE SURGICAL STRIKE SWEING MACHINE2RAPIST DEMONETIZATION No DEY LOST BECOZ OF Kejru\n",
            "\n",
            "1886)i_paresh: Last goalpost of demonetization was \"less cash economy\". Going for a royal toss. CAG should audit.\n",
            "ndiaExplain  anjayuv\n",
            "\n",
            "1887)asBolshevik Exactly..been saying this since long, demonetization or no jobs or fuckd up economy, Sanghis will vot  \n",
            "\n",
            "1888)ri50: PuthanPanam 2.5/5.Ranjith's earlier IR was solid but PP set against backdrop of demonetization has a half back  script. 2nd ha\n",
            "\n",
            "1889)ri50: PuthanPanam 2.5/5.Ranjith's earlier IR was solid but PP set against backdrop of demonetization has a half back  script. 2nd ha\n",
            "\n",
            "1890)ri50: PuthanPanam 2.5/5.Ranjith's earlier IR was solid but PP set against backdrop of demonetization has a half back  script. 2nd ha\n",
            "\n",
            "1891)ri50: PuthanPanam 2.5/5.Ranjith's earlier IR was solid but PP set against backdrop of demonetization has a half back  script. 2nd ha\n",
            "\n",
            "1892)ri50: PuthanPanam 2.5/5.Ranjith's earlier IR was solid but PP set against backdrop of demonetization has a half back  script. 2nd ha\n",
            "\n",
            "1893)ri50: PuthanPanam 2.5/5.Ranjith's earlier IR was solid but PP set against backdrop of demonetization has a half back  script. 2nd ha\n",
            "\n",
            "1894)ri50: PuthanPanam 2.5/5.Ranjith's earlier IR was solid but PP set against backdrop of demonetization has a half back  script. 2nd ha\n",
            "\n",
            "1895)ri50: PuthanPanam 2.5/5.Ranjith's earlier IR was solid but PP set against backdrop of demonetization has a half back  script. 2nd ha\n",
            "\n",
            "1896)ri50: PuthanPanam 2.5/5.Ranjith's earlier IR was solid but PP set against backdrop of demonetization has a half back  script. 2nd ha\n",
            "\n",
            "1897)PuthanPanam 2.5/5.Ranjith's earlier IR was solid but PP set against backdrop of demonetization has a half back  script. 2nd half stretches\n",
            "\n",
            "1898)Cong spokie PC Chako says we spent minimum money in Delhi by election campaign. Demonetization trouble?? All cash gone up in smoke?\n",
            "\n",
            "1899)GWodeMouse Exactly. A day before the demonetization announcement, I had withdrawn 8 Rs.500 notes. :( dejavu\n",
            "\n",
            "1900)ahulroushan: Demonetization was failure  \n",
            "\n",
            "1901)Do you think The demonetisation shock has now di  down?   .okaHub  \n",
            "\n",
            "1902)Demonetization Not to End Black Money But Imp e Economy  \n",
            "\n",
            "1903)ttomeybharti: Headline blames demonetization, report says lack of supply due to staff shortage and year-end closing. < ><U+ ><U+00BE>< ><U+00B4><U+00B7>< ><U+ ><U+00BC>< ><U+00BF><U+00BB><U+200D><U+2642><U+FE0F>  \n",
            "\n",
            "1904)ongViewer Demonetization's bad, eh? Read this story in WSJ, which appear  before India's demonetization. India's  \n",
            "\n",
            "1905)ahulroushan: Demonetization was failure  \n",
            "\n",
            "1906)ahulroushan: Demonetization was failure  \n",
            "\n",
            "1907)MISHDEVGAN mamta has gone crazy after demonetization\n",
            "\n",
            "1908)ahulroushan: Demonetization was failure  \n",
            "\n",
            "1909)ahulroushan: Demonetization was failure  \n",
            "\n",
            "1910)The only serious news ever deliver  at 8 PM was by our belov  PM regarding demonetization everything else is thea  \n",
            "\n",
            "1911)ahulroushan: Demonetization was failure  \n",
            "\n",
            "1912)ahulroushan: Demonetization was failure  \n",
            "\n",
            "1913)ahulroushan: Demonetization was failure  \n",
            "\n",
            "1914)ahulroushan: Demonetization was failure  \n",
            "\n",
            "1915)ahulroushan: Demonetization was failure  \n",
            "\n",
            "1916)ahulroushan: Demonetization was failure  \n",
            "\n",
            "1917)ahulroushan: Demonetization was failure  \n",
            "\n",
            "1918)ahulroushan: Demonetization was failure  \n",
            "\n",
            "1919)ahulroushan: Demonetization was failure  \n",
            "\n",
            "1920)ahulroushan: Demonetization was failure  \n",
            "\n",
            "1921)ahulroushan: Demonetization was failure  \n",
            "\n",
            "1922)ahulroushan: Demonetization was failure  \n",
            "\n",
            "1923)ahulroushan: Demonetization was failure  \n",
            "\n",
            "1924)ahulroushan: Demonetization was failure  \n",
            "\n",
            "1925)oshenoy Finance Minister doesn't give a damn to these plights. Be it demonetization's implementation failure, or  \n",
            "\n",
            "1926)Indian Silver Imports Fail To Improve Post Demonetization   podcasts\n",
            "\n",
            "1927)ttomeybharti: Headline blames demonetization, report says lack of supply due to staff shortage and year-end closing. < ><U+ ><U+00BE>< ><U+00B4><U+00B7>< ><U+ ><U+00BC>< ><U+00BF><U+00BB><U+200D><U+2642><U+FE0F>  \n",
            "\n",
            "1928)ttomeybharti: Headline blames demonetization, report says lack of supply due to staff shortage and year-end closing. < ><U+ ><U+00BE>< ><U+00B4><U+00B7>< ><U+ ><U+00BC>< ><U+00BF><U+00BB><U+200D><U+2642><U+FE0F>  \n",
            "\n",
            "1929)_seaman They are funneling ad revenue back to MSM corporations, it seems fairly obvious, demonetization of small  \n",
            "\n",
            "1930)ttomeybharti: Headline blames demonetization, report says lack of supply due to staff shortage and year-end closing. < ><U+ ><U+00BE>< ><U+00B4><U+00B7>< ><U+ ><U+00BC>< ><U+00BF><U+00BB><U+200D><U+2642><U+FE0F>  \n",
            "\n",
            "1931)ttomeybharti: Headline blames demonetization, report says lack of supply due to staff shortage and year-end closing. < ><U+ ><U+00BE>< ><U+00B4><U+00B7>< ><U+ ><U+00BC>< ><U+00BF><U+00BB><U+200D><U+2642><U+FE0F>  \n",
            "\n",
            "1932)India Oil Demand Shrinks for Third Month Amid Demonetization Drag\n",
            "\n",
            "1933)India Oil Demand Shrinks for Third Month Amid Demonetization Drag\n",
            "\n",
            "1934)India Oil Demand Shrinks for Third Month Amid Demonetization Drag - Oil Industry News - Oil and Gas News  \n",
            "\n",
            "1935)ttomeybharti: Headline blames demonetization, report says lack of supply due to staff shortage and year-end closing. < ><U+ ><U+00BE>< ><U+00B4><U+00B7>< ><U+ ><U+00BC>< ><U+00BF><U+00BB><U+200D><U+2642><U+FE0F>  \n",
            "\n",
            "1936)ttomeybharti: Headline blames demonetization, report says lack of supply due to staff shortage and year-end closing. < ><U+ ><U+00BE>< ><U+00B4><U+00B7>< ><U+ ><U+00BC>< ><U+00BF><U+00BB><U+200D><U+2642><U+FE0F>  \n",
            "\n",
            "1937)ince1989_11_1 imesofindia VenkaiahNaidu Sorry bro, but how, even i serve a job in a company but demonetizatio  \n",
            "\n",
            "1938)i_paresh: Last goalpost of demonetization was \"less cash economy\". Going for a royal toss. CAG should audit.\n",
            "ndiaExplain  anjayuv\n",
            "\n",
            "1939)i_paresh: Last goalpost of demonetization was \"less cash economy\". Going for a royal toss. CAG should audit.\n",
            "ndiaExplain  anjayuv\n",
            "\n",
            "1940)TMachinima WHAAAT?? That's mess  up ouTube - don't go after musicians with that demonetization crap < ><U+ ><U+ >< ><U+ ><U+00A4>\n",
            "\n",
            "1941)imesofindia \n",
            "Today Oil prices got \"Demonetization\" effect: Prices changes Everyday just like rules kept changing in that era\n",
            "\n",
            "oshankar\n",
            "\n",
            "1942)ttomeybharti: Headline blames demonetization, report says lack of supply due to staff shortage and year-end closing. < ><U+ ><U+00BE>< ><U+00B4><U+00B7>< ><U+ ><U+00BC>< ><U+00BF><U+00BB><U+200D><U+2642><U+FE0F>  \n",
            "\n",
            "1943)imesofindia VenkaiahNaidu BJP did Demonetization scam fe   Rich jewellery brands by making fool to public proof if m wrong..\n",
            "\n",
            "1944)ttomeybharti: Headline blames demonetization, report says lack of supply due to staff shortage and year-end closing. < ><U+ ><U+00BE>< ><U+00B4><U+00B7>< ><U+ ><U+00BC>< ><U+00BF><U+00BB><U+200D><U+2642><U+FE0F>  \n",
            "\n",
            "1945)ttomeybharti: Headline blames demonetization, report says lack of supply due to staff shortage and year-end closing. < ><U+ ><U+00BE>< ><U+00B4><U+00B7>< ><U+ ><U+00BC>< ><U+00BF><U+00BB><U+200D><U+2642><U+FE0F>  \n",
            "\n",
            "1946)ttomeybharti: Headline blames demonetization, report says lack of supply due to staff shortage and year-end closing. < ><U+ ><U+00BE>< ><U+00B4><U+00B7>< ><U+ ><U+00BC>< ><U+00BF><U+00BB><U+200D><U+2642><U+FE0F>  \n",
            "\n",
            "1947)ttomeybharti: Headline blames demonetization, report says lack of supply due to staff shortage and year-end closing. < ><U+ ><U+00BE>< ><U+00B4><U+00B7>< ><U+ ><U+00BC>< ><U+00BF><U+00BB><U+200D><U+2642><U+FE0F>  \n",
            "\n",
            "1948)eaLeydier: Interesting event for the cutting  ge uindiaink team hatSSR    via gdev\n",
            "\n",
            "1949)Why have Kejriwal and Mamata fail  to draw public mood against demonetization?\n",
            "\n",
            "1950)There is heavy cash crunch @ ATMs in HYDERABAD. Its worst than demonetization phase..\n",
            "\n",
            "1951)arendramodi \n",
            "Sir\n",
            "If 89 crores was spent in RK nagar constituency in a illegal manner , then demonetization is failure or success? ..\n",
            "\n",
            "1952)ishal98865 ukeshrai881 May b u don't want to see, how black money has been convert  to white.125 people di  c  \n",
            "\n",
            "1953)ttomeybharti: Headline blames demonetization, report says lack of supply due to staff shortage and year-end closing. < ><U+ ><U+00BE>< ><U+00B4><U+00B7>< ><U+ ><U+00BC>< ><U+00BF><U+00BB><U+200D><U+2642><U+FE0F>  \n",
            "\n",
            "1954)i_paresh: Last goalpost of demonetization was \"less cash economy\". Going for a royal toss. CAG should audit.\n",
            "ndiaExplain  anjayuv\n",
            "\n",
            "1955)ttomeybharti: Headline blames demonetization, report says lack of supply due to staff shortage and year-end closing. < ><U+ ><U+00BE>< ><U+00B4><U+00B7>< ><U+ ><U+00BC>< ><U+00BF><U+00BB><U+200D><U+2642><U+FE0F>  \n",
            "\n",
            "1956)ttomeybharti: Headline blames demonetization, report says lack of supply due to staff shortage and year-end closing. < ><U+ ><U+00BE>< ><U+00B4><U+00B7>< ><U+ ><U+00BC>< ><U+00BF><U+00BB><U+200D><U+2642><U+FE0F>  \n",
            "\n",
            "1957)Demonetization Not to End Black Money But Imp e Economy  \n",
            "\n",
            "1958)ayments_source: India's experiencing a mobile POS boom following its dramatic cash swapout.  \n",
            "\n",
            "1959)Interesting event for the cutting  ge uindiaink team hatSSR    via gdev\n",
            "\n",
            "1960)ayments_source: India's experiencing a mobile POS boom following its dramatic cash swapout.  \n",
            "\n",
            "1961)ahultheroxtar: I had unfollow   him few months back when he went with his all guns blazing against demonetization period. He's a troj\n",
            "\n",
            "1962)news summary:  india  oil  demand shrinks 3rd  month amid  demonetization drag  \n",
            "\n",
            "1963)India's experiencing a mobile POS boom following its dramatic cash swapout.  \n",
            "\n",
            "1964)news summary:  india  oil  demand shrinks 3rd  month amid  demonetization drag  \n",
            "\n",
            "1965)hutupkristen on the weird things happening on youtube with demonetization and ads and controversies, defintely a very weird time\n",
            "\n",
            "1966)MISHDEVGAN \n",
            "U hv right to expose d fake gurus who abuse live ,in last debate also abuses maulana ansar raza during demonetization debate\n",
            "\n",
            "1967)ttomeybharti: Headline blames demonetization, report says lack of supply due to staff shortage and year-end closing. < ><U+ ><U+00BE>< ><U+00B4><U+00B7>< ><U+ ><U+00BC>< ><U+00BF><U+00BB><U+200D><U+2642><U+FE0F>  \n",
            "\n",
            "1968)The only death\n",
            "due to demonetization\n",
            "is\n",
            " that of Arvind Kejriwals\n",
            "political career...!!!< ><U+ ><U+ >< ><U+ ><U+00A2>\n",
            "\n",
            "1969)ttomeybharti: Headline blames demonetization, report says lack of supply due to staff shortage and year-end closing. < ><U+ ><U+00BE>< ><U+00B4><U+00B7>< ><U+ ><U+00BC>< ><U+00BF><U+00BB><U+200D><U+2642><U+FE0F>  \n",
            "\n",
            "1970)I lik  a ouTube video   WOW! The Youtube Demonetization Fallout is Ridiculous, Bias , And Lazy\n",
            "\n",
            "1971)ttomeybharti: Headline blames demonetization, report says lack of supply due to staff shortage and year-end closing. < ><U+ ><U+00BE>< ><U+00B4><U+00B7>< ><U+ ><U+00BC>< ><U+00BF><U+00BB><U+200D><U+2642><U+FE0F>  \n",
            "\n",
            "1972)ttomeybharti: Headline blames demonetization, report says lack of supply due to staff shortage and year-end closing. < ><U+ ><U+00BE>< ><U+00B4><U+00B7>< ><U+ ><U+00BC>< ><U+00BF><U+00BB><U+200D><U+2642><U+FE0F>  \n",
            "\n",
            "1973)avierBlas2: The biggest engine of global oil demand growth in 2016 (India) is slowing down in 2017   OOTT OPE\n",
            "\n",
            "1974)ttomeybharti: Headline blames demonetization, report says lack of supply due to staff shortage and year-end closing. < ><U+ ><U+00BE>< ><U+00B4><U+00B7>< ><U+ ><U+00BC>< ><U+00BF><U+00BB><U+200D><U+2642><U+FE0F>  \n",
            "\n",
            "1975)ttomeybharti: Headline blames demonetization, report says lack of supply due to staff shortage and year-end closing. < ><U+ ><U+00BE>< ><U+00B4><U+00B7>< ><U+ ><U+00BC>< ><U+00BF><U+00BB><U+200D><U+2642><U+FE0F>  \n",
            "\n",
            "1976)ttomeybharti: Headline blames demonetization, report says lack of supply due to staff shortage and year-end closing. < ><U+ ><U+00BE>< ><U+00B4><U+00B7>< ><U+ ><U+00BC>< ><U+00BF><U+00BB><U+200D><U+2642><U+FE0F>  \n",
            "\n",
            "1977)ttomeybharti: Headline blames demonetization, report says lack of supply due to staff shortage and year-end closing. < ><U+ ><U+00BE>< ><U+00B4><U+00B7>< ><U+ ><U+00BC>< ><U+00BF><U+00BB><U+200D><U+2642><U+FE0F>  \n",
            "\n",
            "1978)ttomeybharti: Headline blames demonetization, report says lack of supply due to staff shortage and year-end closing. < ><U+ ><U+00BE>< ><U+00B4><U+00B7>< ><U+ ><U+00BC>< ><U+00BF><U+00BB><U+200D><U+2642><U+FE0F>  \n",
            "\n",
            "1979)ttomeybharti: Headline blames demonetization, report says lack of supply due to staff shortage and year-end closing. < ><U+ ><U+00BE>< ><U+00B4><U+00B7>< ><U+ ><U+00BC>< ><U+00BF><U+00BB><U+200D><U+2642><U+FE0F>  \n",
            "\n",
            "1980)avleen_singh For example, I ask  your view in demonetization as things stand today.I am not sure of its effectiv  \n",
            "\n",
            "1981)nanodayam N the rules for withdrawal/deposit and charges for transactions all coz of that utter failure of Demonetization  ommu_lr\n",
            "\n",
            "1982)nanodayam Demonetization neither black money or corruption..Had MMS done it , ppl would have ripp  him apart but since it's ommu_lr\n",
            "\n",
            "1983)ttomeybharti: Headline blames demonetization, report says lack of supply due to staff shortage and year-end closing. < ><U+ ><U+00BE>< ><U+00B4><U+00B7>< ><U+ ><U+00BC>< ><U+00BF><U+00BB><U+200D><U+2642><U+FE0F>  \n",
            "\n",
            "1984)ttomeybharti: Headline blames demonetization, report says lack of supply due to staff shortage and year-end closing. < ><U+ ><U+00BE>< ><U+00B4><U+00B7>< ><U+ ><U+00BC>< ><U+00BF><U+00BB><U+200D><U+2642><U+FE0F>  \n",
            "\n",
            "1985)ttomeybharti: Headline blames demonetization, report says lack of supply due to staff shortage and year-end closing. < ><U+ ><U+00BE>< ><U+00B4><U+00B7>< ><U+ ><U+00BC>< ><U+00BF><U+00BB><U+200D><U+2642><U+FE0F>  \n",
            "\n",
            "1986)ttomeybharti: Headline blames demonetization, report says lack of supply due to staff shortage and year-end closing. < ><U+ ><U+00BE>< ><U+00B4><U+00B7>< ><U+ ><U+00BC>< ><U+00BF><U+00BB><U+200D><U+2642><U+FE0F>  \n",
            "\n",
            "1987)ttomeybharti: Headline blames demonetization, report says lack of supply due to staff shortage and year-end closing. < ><U+ ><U+00BE>< ><U+00B4><U+00B7>< ><U+ ><U+00BC>< ><U+00BF><U+00BB><U+200D><U+2642><U+FE0F>  \n",
            "\n",
            "1988)jjuns ushTrance ffs didnt read the demonetization article I us  to link :(\n",
            "\n",
            "1989)risonPlanet Also, I would not doubt that the video that caus  the demonetization, was and is a false flag to pro  \n",
            "\n",
            "1990)<U+0915><U+0947><U+091C><U+0930><U+0940><U+0935><U+093E><U+0932>_<U+0915><U+093E><U+0902><U+0917><U+094D><U+0930><U+0947><U+0938>_<U+0938><U+093E><U+0925>_<U+0938><U+093E><U+0925>\n",
            "they are together on Vemula,JNU, Dadri,demonetization,SurgicalStrike,fak Intolerance\n",
            "Now again for dirty politics\n",
            "\n",
            "1991)Vivaan Shah: Laali Ki Shaadi Mein Laaddoo Deewana Release Was Postpon  Due To Demonetization  \n",
            "\n",
            "1992)ttomeybharti: Headline blames demonetization, report says lack of supply due to staff shortage and year-end closing. < ><U+ ><U+00BE>< ><U+00B4><U+00B7>< ><U+ ><U+00BC>< ><U+00BF><U+00BB><U+200D><U+2642><U+FE0F>  \n",
            "\n",
            "1993)ttomeybharti: Headline blames demonetization, report says lack of supply due to staff shortage and year-end closing. < ><U+ ><U+00BE>< ><U+00B4><U+00B7>< ><U+ ><U+00BC>< ><U+00BF><U+00BB><U+200D><U+2642><U+FE0F>  \n",
            "\n",
            "1994)This seller is out of his mind < ><U+ ><U+ >< ><U+ ><U+0082> crazy ebay demonetization india money  \n",
            "\n",
            "1995)CS: In the wake of demonetization in India, here's how NBFCs are filling the void left behind by the informal lenders.  \n",
            "\n",
            "1996)shu3page: As ATMs dry up despite 5 months post Demonetization, bankers hopefully the normalcy will return soon &amp; cash will be made ava\n",
            "\n",
            "1997)ttomeybharti: Headline blames demonetization, report says lack of supply due to staff shortage and year-end closing. < ><U+ ><U+00BE>< ><U+00B4><U+00B7>< ><U+ ><U+00BC>< ><U+00BF><U+00BB><U+200D><U+2642><U+FE0F>  \n",
            "\n",
            "1998)CS: In the wake of demonetization in India, here's how NBFCs are filling the void left behind by the informal lenders.  \n",
            "\n",
            "1999)ttomeybharti: Headline blames demonetization, report says lack of supply due to staff shortage and year-end closing. < ><U+ ><U+00BE>< ><U+00B4><U+00B7>< ><U+ ><U+00BC>< ><U+00BF><U+00BB><U+200D><U+2642><U+FE0F>  \n",
            "\n",
            "2000)ttomeybharti: Headline blames demonetization, report says lack of supply due to staff shortage and year-end closing. < ><U+ ><U+00BE>< ><U+00B4><U+00B7>< ><U+ ><U+00BC>< ><U+00BF><U+00BB><U+200D><U+2642><U+FE0F>  \n",
            "\n",
            "2001)i_paresh: Last goalpost of demonetization was \"less cash economy\". Going for a royal toss. CAG should audit.\n",
            "ndiaExplain  anjayuv\n",
            "\n",
            "2002)YC When you do half heart  attempt, Results will not come as in the case of Demonetization. Modi expect  someth  \n",
            "\n",
            "2003)abing28: hashiTharoor Sir respect u for highltng an imp issue fac  by weakersections, impact on thm due to demonetization https://\n",
            "\n",
            "2004)ttomeybharti: Headline blames demonetization, report says lack of supply due to staff shortage and year-end closing. < ><U+ ><U+00BE>< ><U+00B4><U+00B7>< ><U+ ><U+00BC>< ><U+00BF><U+00BB><U+200D><U+2642><U+FE0F>  \n",
            "\n",
            "2005)ttomeybharti: Headline blames demonetization, report says lack of supply due to staff shortage and year-end closing. < ><U+ ><U+00BE>< ><U+00B4><U+00B7>< ><U+ ><U+00BC>< ><U+00BF><U+00BB><U+200D><U+2642><U+FE0F>  \n",
            "\n",
            "2006)ttomeybharti: Headline blames demonetization, report says lack of supply due to staff shortage and year-end closing. < ><U+ ><U+00BE>< ><U+00B4><U+00B7>< ><U+ ><U+00BC>< ><U+00BF><U+00BB><U+200D><U+2642><U+FE0F>  \n",
            "\n",
            "2007)ttomeybharti: Headline blames demonetization, report says lack of supply due to staff shortage and year-end closing. < ><U+ ><U+00BE>< ><U+00B4><U+00B7>< ><U+ ><U+00BC>< ><U+00BF><U+00BB><U+200D><U+2642><U+FE0F>  \n",
            "\n",
            "2008)abing28: hashiTharoor Sir respect u for highltng an imp issue fac  by weakersections, impact on thm due to demonetization https://\n",
            "\n",
            "2009)abing28: hashiTharoor Sir respect u for highltng an imp issue fac  by weakersections, impact on thm due to demonetization https://\n",
            "\n",
            "2010)ttomeybharti: Headline blames demonetization, report says lack of supply due to staff shortage and year-end closing. < ><U+ ><U+00BE>< ><U+00B4><U+00B7>< ><U+ ><U+00BC>< ><U+00BF><U+00BB><U+200D><U+2642><U+FE0F>  \n",
            "\n",
            "2011)i_paresh: Last goalpost of demonetization was \"less cash economy\". Going for a royal toss. CAG should audit.\n",
            "ndiaExplain  anjayuv\n",
            "\n",
            "2012)ttomeybharti: Headline blames demonetization, report says lack of supply due to staff shortage and year-end closing. < ><U+ ><U+00BE>< ><U+00B4><U+00B7>< ><U+ ><U+00BC>< ><U+00BF><U+00BB><U+200D><U+2642><U+FE0F>  \n",
            "\n",
            "2013)i_paresh: Last goalpost of demonetization was \"less cash economy\". Going for a royal toss. CAG should audit.\n",
            "ndiaExplain  anjayuv\n",
            "\n",
            "2014)ttomeybharti: Headline blames demonetization, report says lack of supply due to staff shortage and year-end closing. < ><U+ ><U+00BE>< ><U+00B4><U+00B7>< ><U+ ><U+00BC>< ><U+00BF><U+00BB><U+200D><U+2642><U+FE0F>  \n",
            "\n",
            "2015)i_paresh: Last goalpost of demonetization was \"less cash economy\". Going for a royal toss. CAG should audit.\n",
            "ndiaExplain  anjayuv\n",
            "\n",
            "2016)I had unfollow   him few months back when he went with his all guns blazing against demonetization period. He's a  \n",
            "\n",
            "2017)ttomeybharti: Headline blames demonetization, report says lack of supply due to staff shortage and year-end closing. < ><U+ ><U+00BE>< ><U+00B4><U+00B7>< ><U+ ><U+00BC>< ><U+00BF><U+00BB><U+200D><U+2642><U+FE0F>  \n",
            "\n",
            "2018)ttomeybharti: Headline blames demonetization, report says lack of supply due to staff shortage and year-end closing. < ><U+ ><U+00BE>< ><U+00B4><U+00B7>< ><U+ ><U+00BC>< ><U+00BF><U+00BB><U+200D><U+2642><U+FE0F>  \n",
            "\n",
            "2019)hashiTharoor Sir respect u for highltng an imp issue fac  by weakersections, impact on thm due to demonetization  \n",
            "\n",
            "2020)ttomeybharti: Headline blames demonetization, report says lack of supply due to staff shortage and year-end closing. < ><U+ ><U+00BE>< ><U+00B4><U+00B7>< ><U+ ><U+00BC>< ><U+00BF><U+00BB><U+200D><U+2642><U+FE0F>  \n",
            "\n",
            "2021)ttomeybharti: Headline blames demonetization, report says lack of supply due to staff shortage and year-end closing. < ><U+ ><U+00BE>< ><U+00B4><U+00B7>< ><U+ ><U+00BC>< ><U+00BF><U+00BB><U+200D><U+2642><U+FE0F>  \n",
            "\n",
            "2022)If the common people could see the truth of demonetization :(  \n",
            "\n",
            "2023)ttomeybharti: Headline blames demonetization, report says lack of supply due to staff shortage and year-end closing. < ><U+ ><U+00BE>< ><U+00B4><U+00B7>< ><U+ ><U+00BC>< ><U+00BF><U+00BB><U+200D><U+2642><U+FE0F>  \n",
            "\n",
            "2024)ttomeybharti: Headline blames demonetization, report says lack of supply due to staff shortage and year-end closing. < ><U+ ><U+00BE>< ><U+00B4><U+00B7>< ><U+ ><U+00BC>< ><U+00BF><U+00BB><U+200D><U+2642><U+FE0F>  \n",
            "\n",
            "2025)ttomeybharti: Headline blames demonetization, report says lack of supply due to staff shortage and year-end closing. < ><U+ ><U+00BE>< ><U+00B4><U+00B7>< ><U+ ><U+00BC>< ><U+00BF><U+00BB><U+200D><U+2642><U+FE0F>  \n",
            "\n",
            "2026)tupidosaur: ruvPeace Closer at home, demonetization was just a glimps of helplessness and death USA thugs have plann  after destroy\n",
            "\n",
            "2027)ttomeybharti: Headline blames demonetization, report says lack of supply due to staff shortage and year-end closing. < ><U+ ><U+00BE>< ><U+00B4><U+00B7>< ><U+ ><U+00BC>< ><U+00BF><U+00BB><U+200D><U+2642><U+FE0F>  \n",
            "\n",
            "2028)ttomeybharti: Headline blames demonetization, report says lack of supply due to staff shortage and year-end closing. < ><U+ ><U+00BE>< ><U+00B4><U+00B7>< ><U+ ><U+00BC>< ><U+00BF><U+00BB><U+200D><U+2642><U+FE0F>  \n",
            "\n",
            "2029)ttomeybharti: Headline blames demonetization, report says lack of supply due to staff shortage and year-end closing. < ><U+ ><U+00BE>< ><U+00B4><U+00B7>< ><U+ ><U+00BC>< ><U+00BF><U+00BB><U+200D><U+2642><U+FE0F>  \n",
            "\n",
            "2030)ttomeybharti: Headline blames demonetization, report says lack of supply due to staff shortage and year-end closing. < ><U+ ><U+00BE>< ><U+00B4><U+00B7>< ><U+ ><U+00BC>< ><U+00BF><U+00BB><U+200D><U+2642><U+FE0F>  \n",
            "\n",
            "2031)ttomeybharti: Headline blames demonetization, report says lack of supply due to staff shortage and year-end closing. < ><U+ ><U+00BE>< ><U+00B4><U+00B7>< ><U+ ><U+00BC>< ><U+00BF><U+00BB><U+200D><U+2642><U+FE0F>  \n",
            "\n",
            "2032)ttomeybharti: Headline blames demonetization, report says lack of supply due to staff shortage and year-end closing. < ><U+ ><U+00BE>< ><U+00B4><U+00B7>< ><U+ ><U+00BC>< ><U+00BF><U+00BB><U+200D><U+2642><U+FE0F>  \n",
            "\n",
            "2033)ttomeybharti: Headline blames demonetization, report says lack of supply due to staff shortage and year-end closing. < ><U+ ><U+00BE>< ><U+00B4><U+00B7>< ><U+ ><U+00BC>< ><U+00BF><U+00BB><U+200D><U+2642><U+FE0F>  \n",
            "\n",
            "2034)ttomeybharti: Headline blames demonetization, report says lack of supply due to staff shortage and year-end closing. < ><U+ ><U+00BE>< ><U+00B4><U+00B7>< ><U+ ><U+00BC>< ><U+00BF><U+00BB><U+200D><U+2642><U+FE0F>  \n",
            "\n",
            "2035)tupidosaur: ruvPeace Closer at home, demonetization was just a glimps of helplessness and death USA thugs have plann  after destroy\n",
            "\n",
            "2036)ttomeybharti: Headline blames demonetization, report says lack of supply due to staff shortage and year-end closing. < ><U+ ><U+00BE>< ><U+00B4><U+00B7>< ><U+ ><U+00BC>< ><U+00BF><U+00BB><U+200D><U+2642><U+FE0F>  \n",
            "\n",
            "2037)ttomeybharti: Headline blames demonetization, report says lack of supply due to staff shortage and year-end closing. < ><U+ ><U+00BE>< ><U+00B4><U+00B7>< ><U+ ><U+00BC>< ><U+00BF><U+00BB><U+200D><U+2642><U+FE0F>  \n",
            "\n",
            "2038)ttomeybharti: Headline blames demonetization, report says lack of supply due to staff shortage and year-end closing. < ><U+ ><U+00BE>< ><U+00B4><U+00B7>< ><U+ ><U+00BC>< ><U+00BF><U+00BB><U+200D><U+2642><U+FE0F>  \n",
            "\n",
            "2039)ttomeybharti: Headline blames demonetization, report says lack of supply due to staff shortage and year-end closing. < ><U+ ><U+00BE>< ><U+00B4><U+00B7>< ><U+ ><U+00BC>< ><U+00BF><U+00BB><U+200D><U+2642><U+FE0F>  \n",
            "\n",
            "2040)ttomeybharti: Headline blames demonetization, report says lack of supply due to staff shortage and year-end closing. < ><U+ ><U+00BE>< ><U+00B4><U+00B7>< ><U+ ><U+00BC>< ><U+00BF><U+00BB><U+200D><U+2642><U+FE0F>  \n",
            "\n",
            "2041)ttomeybharti: Headline blames demonetization, report says lack of supply due to staff shortage and year-end closing. < ><U+ ><U+00BE>< ><U+00B4><U+00B7>< ><U+ ><U+00BC>< ><U+00BF><U+00BB><U+200D><U+2642><U+FE0F>  \n",
            "\n",
            "2042)ttomeybharti: Headline blames demonetization, report says lack of supply due to staff shortage and year-end closing. < ><U+ ><U+00BE>< ><U+00B4><U+00B7>< ><U+ ><U+00BC>< ><U+00BF><U+00BB><U+200D><U+2642><U+FE0F>  \n",
            "\n",
            "2043)ttomeybharti: Headline blames demonetization, report says lack of supply due to staff shortage and year-end closing. < ><U+ ><U+00BE>< ><U+00B4><U+00B7>< ><U+ ><U+00BC>< ><U+00BF><U+00BB><U+200D><U+2642><U+FE0F>  \n",
            "\n",
            "2044)ttomeybharti: Headline blames demonetization, report says lack of supply due to staff shortage and year-end closing. < ><U+ ><U+00BE>< ><U+00B4><U+00B7>< ><U+ ><U+00BC>< ><U+00BF><U+00BB><U+200D><U+2642><U+FE0F>  \n",
            "\n",
            "2045)ttomeybharti: Headline blames demonetization, report says lack of supply due to staff shortage and year-end closing. < ><U+ ><U+00BE>< ><U+00B4><U+00B7>< ><U+ ><U+00BC>< ><U+00BF><U+00BB><U+200D><U+2642><U+FE0F>  \n",
            "\n",
            "2046)ttomeybharti: Headline blames demonetization, report says lack of supply due to staff shortage and year-end closing. < ><U+ ><U+00BE>< ><U+00B4><U+00B7>< ><U+ ><U+00BC>< ><U+00BF><U+00BB><U+200D><U+2642><U+FE0F>  \n",
            "\n",
            "2047)shu3page: As ATMs dry up despite 5 months post Demonetization, bankers hopefully the normalcy will return soon &amp; cash will be made ava\n",
            "\n",
            "2048)shu3page: As ATMs dry up despite 5 months post Demonetization, bankers hopefully the normalcy will return soon &amp; cash will be made ava\n",
            "\n",
            "2049)ttomeybharti: Headline blames demonetization, report says lack of supply due to staff shortage and year-end closing. < ><U+ ><U+00BE>< ><U+00B4><U+00B7>< ><U+ ><U+00BC>< ><U+00BF><U+00BB><U+200D><U+2642><U+FE0F>  \n",
            "\n",
            "2050)ttomeybharti: Headline blames demonetization, report says lack of supply due to staff shortage and year-end closing. < ><U+ ><U+00BE>< ><U+00B4><U+00B7>< ><U+ ><U+00BC>< ><U+00BF><U+00BB><U+200D><U+2642><U+FE0F>  \n",
            "\n",
            "2051)ttomeybharti: Headline blames demonetization, report says lack of supply due to staff shortage and year-end closing. < ><U+ ><U+00BE>< ><U+00B4><U+00B7>< ><U+ ><U+00BC>< ><U+00BF><U+00BB><U+200D><U+2642><U+FE0F>  \n",
            "\n",
            "2052)ttomeybharti: Headline blames demonetization, report says lack of supply due to staff shortage and year-end closing. < ><U+ ><U+00BE>< ><U+00B4><U+00B7>< ><U+ ><U+00BC>< ><U+00BF><U+00BB><U+200D><U+2642><U+FE0F>  \n",
            "\n",
            "2053)ttomeybharti: Headline blames demonetization, report says lack of supply due to staff shortage and year-end closing. < ><U+ ><U+00BE>< ><U+00B4><U+00B7>< ><U+ ><U+00BC>< ><U+00BF><U+00BB><U+200D><U+2642><U+FE0F>  \n",
            "\n",
            "2054)ttomeybharti: Headline blames demonetization, report says lack of supply due to staff shortage and year-end closing. < ><U+ ><U+00BE>< ><U+00B4><U+00B7>< ><U+ ><U+00BC>< ><U+00BF><U+00BB><U+200D><U+2642><U+FE0F>  \n",
            "\n",
            "2055)arghospitality: Very less impact of demonetization on the travel plans as 90% are planning a summer vacation as oppos  to 86% in 2016\n",
            "\n",
            "2056)ttomeybharti: Headline blames demonetization, report says lack of supply due to staff shortage and year-end closing. < ><U+ ><U+00BE>< ><U+00B4><U+00B7>< ><U+ ><U+00BC>< ><U+00BF><U+00BB><U+200D><U+2642><U+FE0F>  \n",
            "\n",
            "2057)ttomeybharti: Headline blames demonetization, report says lack of supply due to staff shortage and year-end closing. < ><U+ ><U+00BE>< ><U+00B4><U+00B7>< ><U+ ><U+00BC>< ><U+00BF><U+00BB><U+200D><U+2642><U+FE0F>  \n",
            "\n",
            "2058)ttomeybharti: Headline blames demonetization, report says lack of supply due to staff shortage and year-end closing. < ><U+ ><U+00BE>< ><U+00B4><U+00B7>< ><U+ ><U+00BC>< ><U+00BF><U+00BB><U+200D><U+2642><U+FE0F>  \n",
            "\n",
            "2059)ttomeybharti: Headline blames demonetization, report says lack of supply due to staff shortage and year-end closing. < ><U+ ><U+00BE>< ><U+00B4><U+00B7>< ><U+ ><U+00BC>< ><U+00BF><U+00BB><U+200D><U+2642><U+FE0F>  \n",
            "\n",
            "2060)mms28: Use of black money convert  before demonetization.(2017)  \n",
            "\n",
            "2061)ttomeybharti: Headline blames demonetization, report says lack of supply due to staff shortage and year-end closing. < ><U+ ><U+00BE>< ><U+00B4><U+00B7>< ><U+ ><U+00BC>< ><U+00BF><U+00BB><U+200D><U+2642><U+FE0F>  \n",
            "\n",
            "2062)ttomeybharti: Headline blames demonetization, report says lack of supply due to staff shortage and year-end closing. < ><U+ ><U+00BE>< ><U+00B4><U+00B7>< ><U+ ><U+00BC>< ><U+00BF><U+00BB><U+200D><U+2642><U+FE0F>  \n",
            "\n",
            "2063)ttomeybharti: Headline blames demonetization, report says lack of supply due to staff shortage and year-end closing. < ><U+ ><U+00BE>< ><U+00B4><U+00B7>< ><U+ ><U+00BC>< ><U+00BF><U+00BB><U+200D><U+2642><U+FE0F>  \n",
            "\n",
            "2064)ttomeybharti: Headline blames demonetization, report says lack of supply due to staff shortage and year-end closing. < ><U+ ><U+00BE>< ><U+00B4><U+00B7>< ><U+ ><U+00BC>< ><U+00BF><U+00BB><U+200D><U+2642><U+FE0F>  \n",
            "\n",
            "2065)ttomeybharti: Headline blames demonetization, report says lack of supply due to staff shortage and year-end closing. < ><U+ ><U+00BE>< ><U+00B4><U+00B7>< ><U+ ><U+00BC>< ><U+00BF><U+00BB><U+200D><U+2642><U+FE0F>  \n",
            "\n",
            "2066)ttomeybharti: Headline blames demonetization, report says lack of supply due to staff shortage and year-end closing. < ><U+ ><U+00BE>< ><U+00B4><U+00B7>< ><U+ ><U+00BC>< ><U+00BF><U+00BB><U+200D><U+2642><U+FE0F>  \n",
            "\n",
            "2067)ttomeybharti: Headline blames demonetization, report says lack of supply due to staff shortage and year-end closing. < ><U+ ><U+00BE>< ><U+00B4><U+00B7>< ><U+ ><U+00BC>< ><U+00BF><U+00BB><U+200D><U+2642><U+FE0F>  \n",
            "\n",
            "2068)ttomeybharti: Headline blames demonetization, report says lack of supply due to staff shortage and year-end closing. < ><U+ ><U+00BE>< ><U+00B4><U+00B7>< ><U+ ><U+00BC>< ><U+00BF><U+00BB><U+200D><U+2642><U+FE0F>  \n",
            "\n",
            "2069)ttomeybharti: Headline blames demonetization, report says lack of supply due to staff shortage and year-end closing. < ><U+ ><U+00BE>< ><U+00B4><U+00B7>< ><U+ ><U+00BC>< ><U+00BF><U+00BB><U+200D><U+2642><U+FE0F>  \n",
            "\n",
            "2070)ttomeybharti: Headline blames demonetization, report says lack of supply due to staff shortage and year-end closing. < ><U+ ><U+00BE>< ><U+00B4><U+00B7>< ><U+ ><U+00BC>< ><U+00BF><U+00BB><U+200D><U+2642><U+FE0F>  \n",
            "\n",
            "2071)ttomeybharti: Headline blames demonetization, report says lack of supply due to staff shortage and year-end closing. < ><U+ ><U+00BE>< ><U+00B4><U+00B7>< ><U+ ><U+00BC>< ><U+00BF><U+00BB><U+200D><U+2642><U+FE0F>  \n",
            "\n",
            "2072)ttomeybharti: Headline blames demonetization, report says lack of supply due to staff shortage and year-end closing. < ><U+ ><U+00BE>< ><U+00B4><U+00B7>< ><U+ ><U+00BC>< ><U+00BF><U+00BB><U+200D><U+2642><U+FE0F>  \n",
            "\n",
            "2073)ttomeybharti: Headline blames demonetization, report says lack of supply due to staff shortage and year-end closing. < ><U+ ><U+00BE>< ><U+00B4><U+00B7>< ><U+ ><U+00BC>< ><U+00BF><U+00BB><U+200D><U+2642><U+FE0F>  \n",
            "\n",
            "2074)ttomeybharti: Headline blames demonetization, report says lack of supply due to staff shortage and year-end closing. < ><U+ ><U+00BE>< ><U+00B4><U+00B7>< ><U+ ><U+00BC>< ><U+00BF><U+00BB><U+200D><U+2642><U+FE0F>  \n",
            "\n",
            "2075)ttomeybharti: Headline blames demonetization, report says lack of supply due to staff shortage and year-end closing. < ><U+ ><U+00BE>< ><U+00B4><U+00B7>< ><U+ ><U+00BC>< ><U+00BF><U+00BB><U+200D><U+2642><U+FE0F>  \n",
            "\n",
            "2076)shu3page: As ATMs dry up despite 5 months post Demonetization, bankers hopefully the normalcy will return soon &amp; cash will be made ava\n",
            "\n",
            "2077)ttomeybharti: Headline blames demonetization, report says lack of supply due to staff shortage and year-end closing. < ><U+ ><U+00BE>< ><U+00B4><U+00B7>< ><U+ ><U+00BC>< ><U+00BF><U+00BB><U+200D><U+2642><U+FE0F>  \n",
            "\n",
            "2078)ttomeybharti: Headline blames demonetization, report says lack of supply due to staff shortage and year-end closing. < ><U+ ><U+00BE>< ><U+00B4><U+00B7>< ><U+ ><U+00BC>< ><U+00BF><U+00BB><U+200D><U+2642><U+FE0F>  \n",
            "\n",
            "2079)ttomeybharti: Headline blames demonetization, report says lack of supply due to staff shortage and year-end closing. < ><U+ ><U+00BE>< ><U+00B4><U+00B7>< ><U+ ><U+00BC>< ><U+00BF><U+00BB><U+200D><U+2642><U+FE0F>  \n",
            "\n",
            "2080)ttomeybharti: Headline blames demonetization, report says lack of supply due to staff shortage and year-end closing. < ><U+ ><U+00BE>< ><U+00B4><U+00B7>< ><U+ ><U+00BC>< ><U+00BF><U+00BB><U+200D><U+2642><U+FE0F>  \n",
            "\n",
            "2081)ttomeybharti: Headline blames demonetization, report says lack of supply due to staff shortage and year-end closing. < ><U+ ><U+00BE>< ><U+00B4><U+00B7>< ><U+ ><U+00BC>< ><U+00BF><U+00BB><U+200D><U+2642><U+FE0F>  \n",
            "\n",
            "2082)ttomeybharti: Headline blames demonetization, report says lack of supply due to staff shortage and year-end closing. < ><U+ ><U+00BE>< ><U+00B4><U+00B7>< ><U+ ><U+00BC>< ><U+00BF><U+00BB><U+200D><U+2642><U+FE0F>  \n",
            "\n",
            "2083)Headline blames demonetization, report says lack of supply due to staff shortage and year-end closing. < ><U+ ><U+00BE>< ><U+00B4><U+00B7>< ><U+ ><U+00BC>< ><U+00BF><U+00BB><U+200D><U+2642><U+FE0F>  \n",
            "\n",
            "2084)shu3page: As ATMs dry up despite 5 months post Demonetization, bankers hopefully the normalcy will return soon &amp; cash will be made ava\n",
            "\n",
            "2085)igvijaya_28 nshorts I strongly hope that you fight the next general election too on the premise of fail  demonetization exercise.\n",
            "\n",
            "2086)shu3page: As ATMs dry up despite 5 months post Demonetization, bankers hopefully the normalcy will return soon &amp; cash will be made ava\n",
            "\n",
            "2087)i_paresh: Last goalpost of demonetization was \"less cash economy\". Going for a royal toss. CAG should audit.\n",
            "ndiaExplain  anjayuv\n",
            "\n",
            "2088)These ppl had no idea about demonetization &amp; its effects. All their suggestions are useless, as they know nothing a  \n",
            "\n",
            "2089)shu3page: As ATMs dry up despite 5 months post Demonetization, bankers hopefully the normalcy will return soon &amp; cash will be made ava\n",
            "\n",
            "2090)i_paresh: Last goalpost of demonetization was \"less cash economy\". Going for a royal toss. CAG should audit.\n",
            "ndiaExplain  anjayuv\n",
            "\n",
            "2091)shu3page: As ATMs dry up despite 5 months post Demonetization, bankers hopefully the normalcy will return soon &amp; cash will be made ava\n",
            "\n",
            "2092)chilles_sri SDLeGovernance Most pathetic service. CC executives said that delay is cos of demonetization and FY  \n",
            "\n",
            "2093)Very less impact of demonetization on the travel plans as 90% are planning a summer vacation as oppos  to 86% in 2  \n",
            "\n",
            "2094)amaalrkhan Yes people like u should be bann  like the demonetization u r face is like an ugly pig\n",
            "\n",
            "2095)The small fry in the RSS must be hopping mad Modi warn  only Ambani .Adani &amp; top BJP ppl about demonetization \n",
            " \n",
            "\n",
            "2096)OffendEveryoneIn4Words the demonetization was useless.\n",
            "\n",
            "2097)i_paresh: Last goalpost of demonetization was \"less cash economy\". Going for a royal toss. CAG should audit.\n",
            "ndiaExplain  anjayuv\n",
            "\n",
            "2098)i_paresh: Last goalpost of demonetization was \"less cash economy\". Going for a royal toss. CAG should audit.\n",
            "ndiaExplain  anjayuv\n",
            "\n",
            "2099)CS: In the wake of demonetization in India, here's how NBFCs are filling the void left behind by the informal lenders.  \n",
            "\n",
            "2100)runjaitley inMinIndia MOIndia No machine working in heOfficialSBI Wale estate thane branch no withdrawal. Demonetization fail .\n",
            "\n",
            "2101)runjaitley inMinIndia MOIndia No money in orpBanking ATm in thane and Bhiwandi. Demonetization fail \n",
            "\n",
            "2102)shu3page: As ATMs dry up despite 5 months post Demonetization, bankers hopefully the normalcy will return soon &amp; cash will be made ava\n",
            "\n",
            "2103)i_paresh: Last goalpost of demonetization was \"less cash economy\". Going for a royal toss. CAG should audit.\n",
            "ndiaExplain  anjayuv\n",
            "\n",
            "2104)shu3page: As ATMs dry up despite 5 months post Demonetization, bankers hopefully the normalcy will return soon &amp; cash will be made ava\n",
            "\n",
            "2105)shu3page: As ATMs dry up despite 5 months post Demonetization, bankers hopefully the normalcy will return soon &amp; cash will be made ava\n",
            "\n",
            "2106)shu3page: As ATMs dry up despite 5 months post Demonetization, bankers hopefully the normalcy will return soon &amp; cash will be made ava\n",
            "\n",
            "2107)na Bias  govt.We were forc  to celebrate Christmas2016 festival during the difficult time of demonetization.Not  \n",
            "\n",
            "2108)i_paresh: Last goalpost of demonetization was \"less cash economy\". Going for a royal toss. CAG should audit.\n",
            "ndiaExplain  anjayuv\n",
            "\n",
            "2109)i_paresh: Last goalpost of demonetization was \"less cash economy\". Going for a royal toss. CAG should audit.\n",
            "ndiaExplain  anjayuv\n",
            "\n",
            "2110)oneycontrolcom runjaitley So d lower rate would hit the income of poor &amp; enhance the profit of riche,richer&amp;d r  \n",
            "\n",
            "2111)i_paresh: Last goalpost of demonetization was \"less cash economy\". Going for a royal toss. CAG should audit.\n",
            "ndiaExplain  anjayuv\n",
            "\n",
            "2112)racybeanz immysllama Twitter ne s < ><U+ ><U+ >< ><U+ ><U+00A1>next to the <U+2764>- This demonetization is ridiculous.\n",
            "\n",
            "2113)i_paresh: Last goalpost of demonetization was \"less cash economy\". Going for a royal toss. CAG should audit.\n",
            "ndiaExplain  anjayuv\n",
            "\n",
            "2114)i_paresh: Last goalpost of demonetization was \"less cash economy\". Going for a royal toss. CAG should audit.\n",
            "ndiaExplain  anjayuv\n",
            "\n",
            "2115)i_paresh: Last goalpost of demonetization was \"less cash economy\". Going for a royal toss. CAG should audit.\n",
            "ndiaExplain  anjayuv\n",
            "\n",
            "2116)lusions4: YouTube hit pieces, demonetization, ads being pull \n",
            "Pepsi, Syria, Unit , Dina Ali\n",
            "These last few weeks have been a fucking\n",
            "\n",
            "2117)Wow....! Those protesting demonetization were black money holder, those worri  about citizen rights are anti-natio  \n",
            "\n",
            "2118)i_paresh: Last goalpost of demonetization was \"less cash economy\". Going for a royal toss. CAG should audit.\n",
            "ndiaExplain  anjayuv\n",
            "\n",
            "2119)beachcomber: rvindKejriwal Another farcical allegations. No1 bought ur demonetization crap &amp; no1 will buy EVM. Cry a river for all w\n",
            "\n",
            "2120)i_paresh: Last goalpost of demonetization was \"less cash economy\". Going for a royal toss. CAG should audit.\n",
            "ndiaExplain  anjayuv\n",
            "\n",
            "2121)i_paresh: Last goalpost of demonetization was \"less cash economy\". Going for a royal toss. CAG should audit.\n",
            "ndiaExplain  anjayuv\n",
            "\n",
            "2122)i_paresh: Last goalpost of demonetization was \"less cash economy\". Going for a royal toss. CAG should audit.\n",
            "ndiaExplain  anjayuv\n",
            "\n",
            "2123)i_paresh: Last goalpost of demonetization was \"less cash economy\". Going for a royal toss. CAG should audit.\n",
            "ndiaExplain  anjayuv\n",
            "\n",
            "2124)i_paresh: Last goalpost of demonetization was \"less cash economy\". Going for a royal toss. CAG should audit.\n",
            "ndiaExplain  anjayuv\n",
            "\n",
            "2125)i_paresh: Last goalpost of demonetization was \"less cash economy\". Going for a royal toss. CAG should audit.\n",
            "ndiaExplain  anjayuv\n",
            "\n",
            "2126)i_paresh: Last goalpost of demonetization was \"less cash economy\". Going for a royal toss. CAG should audit.\n",
            "ndiaExplain  anjayuv\n",
            "\n",
            "2127)i_paresh: Last goalpost of demonetization was \"less cash economy\". Going for a royal toss. CAG should audit.\n",
            "ndiaExplain  anjayuv\n",
            "\n",
            "2128)i_paresh: Last goalpost of demonetization was \"less cash economy\". Going for a royal toss. CAG should audit.\n",
            "ndiaExplain  anjayuv\n",
            "\n",
            "2129)i_paresh: Last goalpost of demonetization was \"less cash economy\". Going for a royal toss. CAG should audit.\n",
            "ndiaExplain  anjayuv\n",
            "\n",
            "2130)CS: In the wake of demonetization in India, here's how NBFCs are filling the void left behind by the informal lenders.  \n",
            "\n",
            "2131)In the wake of demonetization in India, here's how NBFCs are filling the void left behind by the informal lenders  \n",
            "\n",
            "2132)Last goalpost of demonetization was \"less cash economy\". Going for a royal toss. CAG should audit.\n",
            "ndiaExplain   \n",
            "\n",
            "2133)rvindKejriwal Another farcical allegations. No1 bought ur demonetization crap &amp; no1 will buy EVM. Cry a river for  \n",
            "\n",
            "2134)aj11117 ogical2indian kbaylan haradsharma1 6) nw since that idea fail  bcoz of demonetization, booth capturing is d nw idea\n",
            "\n",
            "2135)U r right. people find ways out and govt loses revenue. demonetization, prohibition,GST implementation are spe  br  \n",
            "\n",
            "2136)as OCI with foreign passports should we not be or contribute to  the India economy. We should also be allow  the demonetization benefits\n",
            "\n",
            "2137)tupidosaur: ocalteaparty BTW USA's other EVM rigg  thug is doing the same thing in Venezuela. Aadhaar, demonetization, bread &amp; flou\n",
            "\n",
            "2138)DFCBank_Cares The issue is not shortage but the charge for withdrawal from other ATM. Paid charges during demonet  \n",
            "\n",
            "2139)If it wasn't for YouTuber PhilipDeFranco, I wouldn't know about YouTube's Demonetization PRnightmare long time ago. AdsenseGate\n",
            "\n",
            "2140)As someone who is trying to break into internet m ia, this whole YouTube demonetization controversy is unsettling.\n",
            "\n",
            "2141)N d modi fans-d true nationalists of the country stil think demonetization ws d bst way 2 curb black mony n fake no  \n",
            "\n"
          ],
          "name": "stdout"
        }
      ]
    },
    {
      "cell_type": "code",
      "metadata": {
        "id": "uiBg3FmNZoxk",
        "colab_type": "code",
        "outputId": "ad9ce917-9fca-4d33-9d56-7ba15f0a04c0",
        "colab": {
          "base_uri": "https://localhost:8080/",
          "height": 404
        }
      },
      "source": [
        "plt.figure(figsize=(8,6))\n",
        "for i in range(0, df.shape[0]):\n",
        " plt.scatter(df[\"polarity\"][i], df[\"subjectivity\"][i], color='Blue')\n",
        " \n",
        "plt.title('Sentiment Analysis')\n",
        "plt.xlabel('Polarity')\n",
        "plt.ylabel('Subjectivity')\n",
        "plt.show()"
      ],
      "execution_count": 46,
      "outputs": [
        {
          "output_type": "display_data",
          "data": {
            "image/png": "[encoded data removed]",
            "text/plain": [
              "<Figure size 576x432 with 1 Axes>"
            ]
          },
          "metadata": {
            "tags": []
          }
        }
      ]
    },
    {
      "cell_type": "code",
      "metadata": {
        "id": "Fy1kbQZxnq_B",
        "colab_type": "code",
        "colab": {}
      },
      "source": [
        "from bokeh.plotting import figure, output_file, show\n",
        "\n",
        "# output to static HTML file\n",
        "output_file(\"cling.html\")\n",
        "TOOLS=\"hover,crosshair,pan,wheel_zoom,zoom_in,zoom_out,box_zoom,undo,redo,reset,tap,save,box_select,poly_select,lasso_select,\"\n",
        "\n",
        "p = figure(plot_width=400, plot_height=400,tools=TOOLS)\n",
        "\n",
        "# add a circle renderer with a size, color, and alpha\n",
        "p.circle(df[\"polarity\"], df[\"subjectivity\"], size=10, color='navy', alpha=0.5)\n",
        "p.xaxis.axis_label ='Polarity'\n",
        "p.yaxis.axis_label ='Subjectivity'\n",
        "# show the results\n",
        "show(p)"
      ],
      "execution_count": 0,
      "outputs": []
    },
    {
      "cell_type": "code",
      "metadata": {
        "id": "qwr0oJrpmX8w",
        "colab_type": "code",
        "colab": {}
      },
      "source": [
        "ptweets = df[df.Analysis == 'Positive']\n",
        "ptweets = ptweets['text']\n",
        "\n",
        "round( (ptweets.shape[0] / df.shape[0]) * 100 , 1)\n",
        "\n",
        "# Print the percentage of negative tweets\n",
        "ntweets = df[df.Analysis == 'Negative']\n",
        "ntweets = ntweets['text']\n",
        "round( (ntweets.shape[0] / df.shape[0]) * 100, 1)\n",
        "\n",
        "neutweets=df[df.Analysis=='Neutral']\n",
        "neutweets=neutweets['text']"
      ],
      "execution_count": 0,
      "outputs": []
    },
    {
      "cell_type": "code",
      "metadata": {
        "id": "S6eYdVoWm2Vv",
        "colab_type": "code",
        "outputId": "6fe6b49a-ba44-4911-86f4-87c0987d7e04",
        "colab": {
          "base_uri": "https://localhost:8080/",
          "height": 330
        }
      },
      "source": [
        "df['Analysis'].value_counts()\n",
        "\n",
        "# Plotting and visualizing the counts\n",
        "plt.title('Sentiment Analysis')\n",
        "plt.xlabel('Sentiment')\n",
        "plt.ylabel('Counts')\n",
        "df['Analysis'].value_counts().plot(kind = 'bar')\n",
        "plt.show()"
      ],
      "execution_count": 49,
      "outputs": [
        {
          "output_type": "display_data",
          "data": {
            "image/png": "[encoded data removed]",
            "text/plain": [
              "<Figure size 432x288 with 1 Axes>"
            ]
          },
          "metadata": {
            "tags": []
          }
        }
      ]
    },
    {
      "cell_type": "code",
      "metadata": {
        "id": "gLjktyHpFdUi",
        "colab_type": "code",
        "colab": {}
      },
      "source": [
        "from bokeh.io import show, output_file\n",
        "from bokeh.models import ColumnDataSource\n",
        "from bokeh.palettes import Spectral6\n",
        "from bokeh.plotting import figure\n",
        "from bokeh.transform import factor_cmap\n",
        "\n",
        "output_file(\"bar.html\")\n",
        "\n",
        "fruits = ['Neutral','Negative','Positive']\n",
        "counts =df['Analysis'].value_counts()\n",
        "\n",
        "source = ColumnDataSource(data=dict(fruits=fruits, counts=counts))\n",
        "\n",
        "p = figure(x_range=fruits, plot_height=350, toolbar_location=None, title=\"Demonetization Sentiment Analysis\")\n",
        "p.vbar(x='fruits', top='counts', width=0.9, source=source, legend_field=\"fruits\",\n",
        "       line_color='red', fill_color=factor_cmap('fruits', palette=Spectral6, factors=fruits))\n",
        "p.xaxis.axis_label = \"Public Reactions\"\n",
        "p.yaxis.axis_label = \"Count\"\n",
        "p.xgrid.grid_line_color = 'red'\n",
        "p.y_range.start = 0\n",
        "p.y_range.end =8000\n",
        "p.legend.orientation = \"horizontal\"\n",
        "p.legend.location = \"top_center\"\n",
        "\n",
        "show(p)"
      ],
      "execution_count": 0,
      "outputs": []
    }
  ]
}